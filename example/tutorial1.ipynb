{
 "cells": [
  {
   "cell_type": "markdown",
   "metadata": {},
   "source": [
    "# ProcGA tutorial"
   ]
  },
  {
   "cell_type": "markdown",
   "metadata": {},
   "source": [
    "How to use ProcGA."
   ]
  },
  {
   "cell_type": "code",
   "execution_count": 22,
   "metadata": {},
   "outputs": [
    {
     "name": "stderr",
     "output_type": "stream",
     "text": [
      "WARNING: replacing module ProcGA.\n"
     ]
    },
    {
     "data": {
      "text/plain": [
       "Main.ProcGA"
      ]
     },
     "execution_count": 22,
     "metadata": {},
     "output_type": "execute_result"
    }
   ],
   "source": [
    "include(\"../src/ProcGA.jl\")"
   ]
  },
  {
   "cell_type": "markdown",
   "metadata": {},
   "source": [
    "## set basic table"
   ]
  },
  {
   "cell_type": "markdown",
   "metadata": {},
   "source": [
    "This module does genetic evolution based on given table(Array{Int,2}).\n",
    "\n",
    "You must give a source table to define as gene.\n",
    "\n",
    "A table must have sufficient 0 element to do enough mutation of shuffling."
   ]
  },
  {
   "cell_type": "code",
   "execution_count": 15,
   "metadata": {},
   "outputs": [
    {
     "data": {
      "text/plain": [
       "2×12 Array{Int64,2}:\n",
       " 0  0  0  0  0  0  1  2  1  2  1  2\n",
       " 0  0  0  0  0  0  2  1  2  1  2  1"
      ]
     },
     "execution_count": 15,
     "metadata": {},
     "output_type": "execute_result"
    }
   ],
   "source": [
    "g0 = reshape([repeat([0,0],6); repeat([1,2,2,1],3); ],(2,12))"
   ]
  },
  {
   "cell_type": "code",
   "execution_count": 16,
   "metadata": {},
   "outputs": [
    {
     "data": {
      "text/plain": [
       "2×12 Array{Int64,2}:\n",
       " 0  0  0  0  0  0  1  1  1  2  2  2\n",
       " 0  0  0  0  0  0  1  1  1  2  2  2"
      ]
     },
     "execution_count": 16,
     "metadata": {},
     "output_type": "execute_result"
    }
   ],
   "source": [
    "ProcGA.orderjob!(g0)"
   ]
  },
  {
   "cell_type": "markdown",
   "metadata": {},
   "source": [
    "## define penalty function"
   ]
  },
  {
   "cell_type": "markdown",
   "metadata": {},
   "source": [
    "Give a penalty so that it is smaller when each columns have one items only."
   ]
  },
  {
   "cell_type": "code",
   "execution_count": 18,
   "metadata": {},
   "outputs": [
    {
     "data": {
      "text/plain": [
       "24"
      ]
     },
     "execution_count": 18,
     "metadata": {},
     "output_type": "execute_result"
    }
   ],
   "source": [
    "length(g0)"
   ]
  },
  {
   "cell_type": "code",
   "execution_count": 79,
   "metadata": {},
   "outputs": [
    {
     "data": {
      "text/plain": [
       "mypenalty (generic function with 1 method)"
      ]
     },
     "execution_count": 79,
     "metadata": {},
     "output_type": "execute_result"
    }
   ],
   "source": [
    "function mypenalty(t::Array{Int,2})\n",
    "    p = 0\n",
    "    r,c = size(t)\n",
    "    for i in 1:c\n",
    "        v = t[:,i]\n",
    "        if sum(v) > 0\n",
    "            s = v[v.>0]\n",
    "            p += length(s)^2\n",
    "        end\n",
    "    end\n",
    "    # add paired product \n",
    "    for i in 1:r\n",
    "        for j in 1:c-1\n",
    "            p += t[i,j]*t[i,j+1]\n",
    "        end\n",
    "    end\n",
    "    p\n",
    "end"
   ]
  },
  {
   "cell_type": "code",
   "execution_count": 80,
   "metadata": {},
   "outputs": [],
   "source": [
    "ProcGA.penalty(t) = mypenalty(t)"
   ]
  },
  {
   "cell_type": "code",
   "execution_count": 81,
   "metadata": {},
   "outputs": [
    {
     "data": {
      "text/plain": [
       "48"
      ]
     },
     "execution_count": 81,
     "metadata": {},
     "output_type": "execute_result"
    }
   ],
   "source": [
    "ProcGA.penalty(g0)"
   ]
  },
  {
   "cell_type": "markdown",
   "metadata": {},
   "source": [
    "## make initial population"
   ]
  },
  {
   "cell_type": "markdown",
   "metadata": {},
   "source": [
    "There is 2 method to populate genes.\n",
    "One is `populatefrom` the other is `populateshuffle`.\n",
    "\n",
    "`populatefrom` uses a base table as a master and make a mutation from it to fill up population.\n",
    "\n",
    "`populateshuffle` uses a base table shuffling its contents rowwise."
   ]
  },
  {
   "cell_type": "code",
   "execution_count": 39,
   "metadata": {},
   "outputs": [
    {
     "data": {
      "text/plain": [
       "50-element Array{Array{Int64,2},1}:\n",
       " [0 0 … 2 2; 0 0 … 2 2]\n",
       " [0 0 … 2 2; 0 1 … 2 2]\n",
       " [0 0 … 2 2; 0 0 … 2 2]\n",
       " [0 0 … 2 1; 0 0 … 2 2]\n",
       " [0 0 … 2 2; 0 0 … 2 2]\n",
       " [0 0 … 2 2; 0 0 … 2 2]\n",
       " [0 0 … 2 2; 0 0 … 2 2]\n",
       " [0 0 … 2 2; 0 0 … 2 2]\n",
       " [0 0 … 1 2; 0 0 … 2 2]\n",
       " [0 0 … 2 2; 0 0 … 2 2]\n",
       " [0 0 … 2 2; 0 0 … 2 2]\n",
       " [0 0 … 2 2; 0 0 … 2 2]\n",
       " [0 0 … 2 2; 1 0 … 2 2]\n",
       " ⋮                     \n",
       " [0 0 … 1 2; 2 0 … 0 2]\n",
       " [0 2 … 2 0; 0 0 … 2 2]\n",
       " [0 0 … 2 2; 0 0 … 2 2]\n",
       " [0 0 … 2 2; 0 0 … 2 2]\n",
       " [0 0 … 2 2; 0 0 … 2 2]\n",
       " [0 0 … 2 2; 0 0 … 2 2]\n",
       " [0 0 … 2 2; 0 0 … 2 2]\n",
       " [0 0 … 2 2; 1 0 … 2 2]\n",
       " [0 0 … 2 2; 2 0 … 2 2]\n",
       " [0 0 … 1 2; 0 0 … 2 2]\n",
       " [0 0 … 2 2; 0 0 … 2 2]\n",
       " [0 0 … 2 2; 0 0 … 2 2]"
      ]
     },
     "execution_count": 39,
     "metadata": {},
     "output_type": "execute_result"
    }
   ],
   "source": [
    "pp1 = ProcGA.populatefrom(g0,50);"
   ]
  },
  {
   "cell_type": "code",
   "execution_count": 40,
   "metadata": {},
   "outputs": [
    {
     "data": {
      "text/plain": [
       "50-element Array{Array{Int64,2},1}:\n",
       " [0 0 … 2 2; 0 0 … 2 2]\n",
       " [2 1 … 0 1; 2 0 … 0 2]\n",
       " [0 0 … 0 1; 0 0 … 1 2]\n",
       " [2 2 … 1 1; 1 1 … 2 0]\n",
       " [2 0 … 0 2; 0 0 … 0 0]\n",
       " [1 2 … 1 0; 1 0 … 1 2]\n",
       " [2 0 … 0 0; 1 0 … 2 0]\n",
       " [2 0 … 1 0; 0 2 … 1 0]\n",
       " [1 0 … 0 0; 2 1 … 0 0]\n",
       " [0 1 … 0 0; 0 0 … 1 2]\n",
       " [1 2 … 0 2; 1 2 … 0 1]\n",
       " [0 0 … 2 0; 0 0 … 0 1]\n",
       " [0 0 … 0 0; 1 0 … 0 1]\n",
       " ⋮                     \n",
       " [0 0 … 2 0; 1 0 … 0 0]\n",
       " [1 1 … 0 0; 0 1 … 0 0]\n",
       " [1 0 … 1 2; 0 0 … 2 1]\n",
       " [2 0 … 2 0; 0 2 … 0 1]\n",
       " [2 2 … 0 0; 0 1 … 1 0]\n",
       " [0 2 … 2 2; 2 0 … 1 0]\n",
       " [2 1 … 1 2; 0 0 … 2 1]\n",
       " [2 0 … 0 2; 0 0 … 1 0]\n",
       " [0 0 … 0 1; 0 2 … 2 2]\n",
       " [0 0 … 1 0; 1 1 … 2 0]\n",
       " [2 0 … 0 0; 0 0 … 1 2]\n",
       " [0 0 … 1 0; 0 1 … 2 0]"
      ]
     },
     "execution_count": 40,
     "metadata": {},
     "output_type": "execute_result"
    }
   ],
   "source": [
    "pp2 = ProcGA.populateshuffle(g0,150);"
   ]
  },
  {
   "cell_type": "code",
   "execution_count": 84,
   "metadata": {},
   "outputs": [],
   "source": [
    "pp = vcat(pp1,pp2);"
   ]
  },
  {
   "cell_type": "markdown",
   "metadata": {},
   "source": [
    "## evolution"
   ]
  },
  {
   "cell_type": "markdown",
   "metadata": {},
   "source": [
    "Proceed generations by doing sort, die, birth, mutate cycles.\n",
    "\n",
    "Each time, population is sorted by their penalty order."
   ]
  },
  {
   "cell_type": "code",
   "execution_count": 101,
   "metadata": {},
   "outputs": [
    {
     "name": "stdout",
     "output_type": "stream",
     "text": [
      "i:10 => [14, 14, 30]\n",
      "i:20 => [14, 14, 32]\n",
      "i:30 => [14, 14, 30]\n",
      "i:40 => [14, 14, 34]\n",
      "i:50 => [14, 14, 34]\n",
      "i:60 => [14, 14, 35]\n",
      "i:70 => [14, 14, 32]\n",
      "i:80 => [14, 14, 34]\n",
      "i:90 => [14, 14, 31]\n",
      "i:100 => [14, 14, 29]\n",
      "i:110 => [14, 14, 34]\n",
      "i:120 => [14, 14, 30]\n",
      "i:130 => [14, 14, 27]\n",
      "i:140 => [12, 14, 32]\n",
      "i:150 => [12, 14, 28]\n",
      "i:160 => [12, 14, 31]\n",
      "i:170 => [12, 12, 32]\n",
      "i:180 => [12, 12, 31]\n",
      "i:190 => [12, 12, 31]\n",
      "i:200 => [12, 12, 28]\n"
     ]
    }
   ],
   "source": [
    "# population, generation, print interval, survive rate, elite rate, mutant rate.\n",
    "vl = ProcGA.evolution!(pp,1000,100,0.8,0.2,0.05);"
   ]
  },
  {
   "cell_type": "code",
   "execution_count": null,
   "metadata": {
    "scrolled": false
   },
   "outputs": [
    {
     "name": "stderr",
     "output_type": "stream",
     "text": [
      "┌ Info: Recompiling stale cache file C:\\Users\\hp\\.julia\\compiled\\v1.0\\PyPlot\\oatAj.ji for PyPlot [d330b81b-6aea-500a-939a-2ce795aea3ee]\n",
      "└ @ Base loading.jl:1190\n",
      "┌ Info: Installing matplotlib via the Conda matplotlib package...\n",
      "└ @ PyCall C:\\Users\\hp\\.julia\\packages\\PyCall\\0jMpb\\src\\PyCall.jl:653\n",
      "┌ Info: Running `conda install -y matplotlib` in root environment\n",
      "└ @ Conda C:\\Users\\hp\\.julia\\packages\\Conda\\uQitS\\src\\Conda.jl:112\n"
     ]
    },
    {
     "name": "stdout",
     "output_type": "stream",
     "text": [
      "Solving environment: ...working... done\n"
     ]
    },
    {
     "name": "stderr",
     "output_type": "stream",
     "text": [
      "six-1.11.0           | 21 KB     | ########## | 100% \n",
      "pip-18.1             | 1.8 MB    | ########## | 100% \n",
      "mkl_random-1.0.1     | 267 KB    | ########## | 100% \n",
      "pyparsing-2.3.0      | 102 KB    | ########## | 100% \n",
      "setuptools-40.5.0    | 630 KB    | ########## | 100% \n",
      "tornado-5.1.1        | 665 KB    | ########## | 100% \n",
      "pyqt-5.9.2           | 4.2 MB    | ########## | 100% \n",
      "matplotlib-3.0.1     | 6.5 MB    | ########## | 100% \n",
      "pytz-2018.7          | 257 KB    | ########## | 100% \n",
      "kiwisolver-1.0.1     | 61 KB     | ########## | 100% \n",
      "sip-4.19.8           | 281 KB    | ########## | 100% \n",
      "python-dateutil-2.7. | 276 KB    | ########## | 100% \n",
      "wincertstore-0.2     | 13 KB     | ########## | 100% \n",
      "freetype-2.9.1       | 470 KB    | ########## | 100% \n",
      "certifi-2018.10.15   | 138 KB    | ########## | 100% \n",
      "numpy-base-1.15.4    | 3.9 MB    | ########## | 100% \n",
      "numpy-1.15.4         | 36 KB     | ########## | 100% \n",
      "wheel-0.32.2         | 52 KB     | ########## | 100% \n",
      "python-3.7.1         | 19.4 MB   | ########## | 100% \n",
      "mkl_fft-1.0.6        | 120 KB    | ########## | 100% \n",
      "cycler-0.10.0        | 13 KB     | #######5   |  75% "
     ]
    },
    {
     "name": "stdout",
     "output_type": "stream",
     "text": [
      "\r\n",
      "## Package Plan ##\r\n",
      "\r\n",
      "  environment location: C:\\Users\\hp\\.julia\\conda\\3\r\n",
      "\r\n",
      "  added / updated specs: \r\n",
      "    - matplotlib\r\n",
      "\r\n",
      "\r\n",
      "The following packages will be downloaded:\r\n",
      "\r\n",
      "    package                    |            build\r\n",
      "    ---------------------------|-----------------\r\n",
      "    six-1.11.0                 |           py37_1          21 KB\r\n",
      "    pip-18.1                   |           py37_0         1.8 MB\r\n",
      "    mkl_random-1.0.1           |   py37h77b88f5_1         267 KB\r\n",
      "    pyparsing-2.3.0            |           py37_0         102 KB\r\n",
      "    setuptools-40.5.0          |           py37_0         630 KB\r\n",
      "    tornado-5.1.1              |   py37hfa6e2cd_0         665 KB\r\n",
      "    pyqt-5.9.2                 |   py37h6538335_2         4.2 MB\r\n",
      "    matplotlib-3.0.1           |   py37hc8f65d3_0         6.5 MB\r\n",
      "    pytz-2018.7                |           py37_0         257 KB\r\n",
      "    kiwisolver-1.0.1           |   py37h6538335_0          61 KB\r\n",
      "    sip-4.19.8                 |   py37h6538335_0         281 KB\r\n",
      "    python-dateutil-2.7.5      |           py37_0         276 KB\r\n",
      "    wincertstore-0.2           |           py37_0          13 KB\r\n",
      "    freetype-2.9.1             |       ha9979f8_1         470 KB\r\n",
      "    certifi-2018.10.15         |           py37_0         138 KB\r\n",
      "    numpy-base-1.15.4          |   py37h8128ebf_0         3.9 MB\r\n",
      "    numpy-1.15.4               |   py37ha559c80_0          36 KB\r\n",
      "    wheel-0.32.2               |           py37_0          52 KB\r\n",
      "    python-3.7.1               |       h33f27b4_4        19.4 MB\r\n",
      "    mkl_fft-1.0.6              |   py37hdbbee80_0         120 KB\r\n",
      "    cycler-0.10.0              |           py37_0          13 KB\r\n",
      "    ------------------------------------------------------------\r\n",
      "                                           Total:        39.1 MB\r\n",
      "\r\n",
      "The following NEW packages will be INSTALLED:\r\n",
      "\r\n",
      "    blas:            1.0-mkl               \r\n",
      "    ca-certificates: 2018.03.07-0          \r\n",
      "    certifi:         2018.10.15-py37_0     \r\n",
      "    cycler:          0.10.0-py37_0         \r\n",
      "    freetype:        2.9.1-ha9979f8_1      \r\n",
      "    icc_rt:          2017.0.4-h97af966_0   \r\n",
      "    icu:             58.2-ha66f8fd_1       \r\n",
      "    intel-openmp:    2019.0-118            \r\n",
      "    jpeg:            9b-hb83a4c4_2         \r\n",
      "    kiwisolver:      1.0.1-py37h6538335_0  \r\n",
      "    libpng:          1.6.35-h2a8f88b_0     \r\n",
      "    matplotlib:      3.0.1-py37hc8f65d3_0  \r\n",
      "    mkl:             2019.0-118            \r\n",
      "    mkl_fft:         1.0.6-py37hdbbee80_0  \r\n",
      "    mkl_random:      1.0.1-py37h77b88f5_1  \r\n",
      "    numpy:           1.15.4-py37ha559c80_0 \r\n",
      "    numpy-base:      1.15.4-py37h8128ebf_0 \r\n",
      "    openssl:         1.0.2p-hfa6e2cd_0     \r\n",
      "    pip:             18.1-py37_0           \r\n",
      "    pyparsing:       2.3.0-py37_0          \r\n",
      "    pyqt:            5.9.2-py37h6538335_2  \r\n",
      "    python:          3.7.1-h33f27b4_4      \r\n",
      "    python-dateutil: 2.7.5-py37_0          \r\n",
      "    pytz:            2018.7-py37_0         \r\n",
      "    qt:              5.9.6-vc14h1e9a669_2  \r\n",
      "    setuptools:      40.5.0-py37_0         \r\n",
      "    sip:             4.19.8-py37h6538335_0 \r\n",
      "    six:             1.11.0-py37_1         \r\n",
      "    sqlite:          3.25.2-hfa6e2cd_0     \r\n",
      "    tornado:         5.1.1-py37hfa6e2cd_0  \r\n",
      "    vc:              14.1-h0510ff6_4       \r\n",
      "    vs2015_runtime:  14.15.26706-h3a45250_0\r\n",
      "    wheel:           0.32.2-py37_0         \r\n",
      "    wincertstore:    0.2-py37_0            \r\n",
      "    zlib:            1.2.11-h8395fce_2     \r\n",
      "\r\n",
      "\r\n",
      "Downloading and Extracting Packages\r\n",
      "Preparing transaction: ...working... "
     ]
    },
    {
     "name": "stderr",
     "output_type": "stream",
     "text": [
      "\r",
      "cycler-0.10.0        | 13 KB     | ########## | 100% "
     ]
    },
    {
     "name": "stdout",
     "output_type": "stream",
     "text": [
      "done\r\n",
      "Verifying transaction: ...working... "
     ]
    }
   ],
   "source": [
    "using Plots, PyPlot"
   ]
  },
  {
   "cell_type": "code",
   "execution_count": null,
   "metadata": {},
   "outputs": [],
   "source": [
    "pyplot()"
   ]
  },
  {
   "cell_type": "code",
   "execution_count": null,
   "metadata": {},
   "outputs": [],
   "source": [
    "y = (x->x[1]).(vl)\n",
    "x = collect(1:length(y));"
   ]
  },
  {
   "cell_type": "code",
   "execution_count": 94,
   "metadata": {},
   "outputs": [
    {
     "ename": "ErrorException",
     "evalue": "error compiling _plot!: error compiling _display: could not load library \"libGR.dll\"\nThe specified module could not be found.\r\n",
     "output_type": "error",
     "traceback": [
      "error compiling _plot!: error compiling _display: could not load library \"libGR.dll\"\nThe specified module could not be found.\r\n",
      "",
      "Stacktrace:",
      " [1] #plot#132(::Base.Iterators.Pairs{Union{},Union{},Tuple{},NamedTuple{(),Tuple{}}}, ::Function, ::Array{Int64,1}, ::Vararg{Array{Int64,1},N} where N) at C:\\Users\\hp\\.julia\\packages\\Plots\\rmogG\\src\\plot.jl:57",
      " [2] plot(::Array{Int64,1}, ::Array{Int64,1}) at C:\\Users\\hp\\.julia\\packages\\Plots\\rmogG\\src\\plot.jl:51",
      " [3] top-level scope at In[94]:1"
     ]
    }
   ],
   "source": [
    "plot(x,y)"
   ]
  },
  {
   "cell_type": "markdown",
   "metadata": {},
   "source": [
    "## saving result, etc."
   ]
  },
  {
   "cell_type": "code",
   "execution_count": 95,
   "metadata": {},
   "outputs": [
    {
     "data": {
      "text/plain": [
       "2×12 Array{Int64,2}:\n",
       " 1  0  0  1  1  0  2  0  2  0  2  0\n",
       " 0  1  1  0  0  1  0  2  0  2  0  2"
      ]
     },
     "execution_count": 95,
     "metadata": {},
     "output_type": "execute_result"
    }
   ],
   "source": [
    "bst = pp[1]"
   ]
  },
  {
   "cell_type": "code",
   "execution_count": 54,
   "metadata": {},
   "outputs": [
    {
     "data": {
      "text/plain": [
       "2×12 Array{Int64,2}:\n",
       " 1  1  1  2  2  2  0  0  0  0  0  0\n",
       " 0  1  1  1  2  2  2  0  0  0  0  0"
      ]
     },
     "execution_count": 54,
     "metadata": {},
     "output_type": "execute_result"
    }
   ],
   "source": [
    "pp[1]"
   ]
  },
  {
   "cell_type": "code",
   "execution_count": null,
   "metadata": {},
   "outputs": [],
   "source": []
  }
 ],
 "metadata": {
  "kernelspec": {
   "display_name": "Julia 1.0.2",
   "language": "julia",
   "name": "julia-1.0"
  },
  "language_info": {
   "file_extension": ".jl",
   "mimetype": "application/julia",
   "name": "julia",
   "version": "1.0.2"
  },
  "toc": {
   "base_numbering": 1,
   "nav_menu": {},
   "number_sections": true,
   "sideBar": true,
   "skip_h1_title": true,
   "title_cell": "Table of Contents",
   "title_sidebar": "Contents",
   "toc_cell": false,
   "toc_position": {},
   "toc_section_display": true,
   "toc_window_display": true
  }
 },
 "nbformat": 4,
 "nbformat_minor": 2
}
