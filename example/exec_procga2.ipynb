{
 "cells": [
  {
   "cell_type": "markdown",
   "metadata": {},
   "source": [
    "# Process optimization by genetic algorithm"
   ]
  },
  {
   "cell_type": "markdown",
   "metadata": {},
   "source": [
    "Smaller size version"
   ]
  },
  {
   "cell_type": "code",
   "execution_count": 22,
   "metadata": {},
   "outputs": [
    {
     "name": "stderr",
     "output_type": "stream",
     "text": [
      "WARNING: replacing module ProcGA.\n"
     ]
    },
    {
     "data": {
      "text/plain": [
       "Main.ProcGA"
      ]
     },
     "execution_count": 22,
     "metadata": {},
     "output_type": "execute_result"
    }
   ],
   "source": [
    "include(\"../src/ProcGA.jl\")"
   ]
  },
  {
   "cell_type": "markdown",
   "metadata": {},
   "source": [
    "## reading data"
   ]
  },
  {
   "cell_type": "code",
   "execution_count": 5,
   "metadata": {},
   "outputs": [],
   "source": [
    "using CSV\n",
    "using DelimitedFiles\n",
    "using DataFrames\n",
    "using Missings"
   ]
  },
  {
   "cell_type": "code",
   "execution_count": 6,
   "metadata": {},
   "outputs": [],
   "source": [
    "ptbl = CSV.read(\"proctable.csv\",header = 1);"
   ]
  },
  {
   "cell_type": "code",
   "execution_count": 7,
   "metadata": {},
   "outputs": [],
   "source": [
    "# take smaller size \n",
    "ptbl = ptbl[1:6,:];"
   ]
  },
  {
   "cell_type": "code",
   "execution_count": 8,
   "metadata": {},
   "outputs": [
    {
     "name": "stderr",
     "output_type": "stream",
     "text": [
      "┌ Warning: indexing with colon as row will create a copy in the future use df[col_inds] to get the columns without copying\n",
      "│   caller = top-level scope at In[8]:1\n",
      "└ @ Core In[8]:1\n"
     ]
    },
    {
     "data": {
      "text/plain": [
       "6×2 Array{Any,2}:\n",
       " \"BB105 間管\"       50\n",
       " \"BB201-3 3補助管2\"  50\n",
       " \"BH301M 間管\"      50\n",
       " \"BH301M 枝管1\"     50\n",
       " \"BH301M 枝管2\"     50\n",
       " \"EP201 間管\"       50"
      ]
     },
     "execution_count": 8,
     "metadata": {},
     "output_type": "execute_result"
    }
   ],
   "source": [
    "mtbl = convert(Array, ptbl[1:2])"
   ]
  },
  {
   "cell_type": "code",
   "execution_count": 18,
   "metadata": {},
   "outputs": [
    {
     "data": {
      "text/plain": [
       "6×14 Array{Int64,2}:\n",
       " 1  0  0  0  0  0  3  0  2  0  0  2  2  2\n",
       " 1  0  0  0  0  0  3  0  2  0  0  2  2  2\n",
       " 1  0  0  0  0  0  3  0  2  0  0  2  2  2\n",
       " 1  0  0  0  0  0  3  0  2  0  0  2  2  2\n",
       " 1  0  0  0  0  0  3  0  2  0  0  2  2  2\n",
       " 1  0  0  0  0  0  3  0  2  0  0  2  2  2"
      ]
     },
     "execution_count": 18,
     "metadata": {},
     "output_type": "execute_result"
    }
   ],
   "source": [
    "ptbl2 = [coalesce.(x,0) for x in convert(Array, ptbl[3:end])]"
   ]
  },
  {
   "cell_type": "code",
   "execution_count": 10,
   "metadata": {},
   "outputs": [
    {
     "data": {
      "text/plain": [
       "14-element Array{String,1}:\n",
       " \"pipecut\"           \n",
       " \"anneal_bs_prebend\" \n",
       " \"anneal_ns_prebend\" \n",
       " \"icing\"             \n",
       " \"rotbend\"           \n",
       " \"pressbend\"         \n",
       " \"anneal_bs_precalib\"\n",
       " \"anneal_ns_precalib\"\n",
       " \"vcalib\"            \n",
       " \"hcalib\"            \n",
       " \"buff_precut\"       \n",
       " \"mc_cut\"            \n",
       " \"buff_postcut\"      \n",
       " \"qc_check\"          "
      ]
     },
     "execution_count": 10,
     "metadata": {},
     "output_type": "execute_result"
    }
   ],
   "source": [
    "s = string.(names(ptbl)[3:end])"
   ]
  },
  {
   "cell_type": "code",
   "execution_count": 11,
   "metadata": {},
   "outputs": [
    {
     "data": {
      "text/html": [
       "<table class=\"data-frame\"><thead><tr><th></th><th>id</th><th>nm</th></tr><tr><th></th><th>Int64</th><th>String</th></tr></thead><tbody><tr><th>1</th><td>1</td><td>pipecut</td></tr><tr><th>2</th><td>2</td><td>anneal_bs_prebend</td></tr><tr><th>3</th><td>3</td><td>anneal_ns_prebend</td></tr><tr><th>4</th><td>4</td><td>icing</td></tr><tr><th>5</th><td>5</td><td>rotbend</td></tr><tr><th>6</th><td>6</td><td>pressbend</td></tr><tr><th>7</th><td>7</td><td>anneal_bs_precalib</td></tr><tr><th>8</th><td>8</td><td>anneal_ns_precalib</td></tr><tr><th>9</th><td>9</td><td>vcalib</td></tr><tr><th>10</th><td>10</td><td>hcalib</td></tr><tr><th>11</th><td>11</td><td>buff_precut</td></tr><tr><th>12</th><td>12</td><td>mc_cut</td></tr><tr><th>13</th><td>13</td><td>buff_postcut</td></tr><tr><th>14</th><td>14</td><td>qc_check</td></tr></tbody></table>"
      ],
      "text/latex": [
       "\\begin{tabular}{r|cc}\n",
       "\t& id & nm\\\\\n",
       "\t\\hline\n",
       "\t1 & 1 & pipecut \\\\\n",
       "\t2 & 2 & anneal\\_bs\\_prebend \\\\\n",
       "\t3 & 3 & anneal\\_ns\\_prebend \\\\\n",
       "\t4 & 4 & icing \\\\\n",
       "\t5 & 5 & rotbend \\\\\n",
       "\t6 & 6 & pressbend \\\\\n",
       "\t7 & 7 & anneal\\_bs\\_precalib \\\\\n",
       "\t8 & 8 & anneal\\_ns\\_precalib \\\\\n",
       "\t9 & 9 & vcalib \\\\\n",
       "\t10 & 10 & hcalib \\\\\n",
       "\t11 & 11 & buff\\_precut \\\\\n",
       "\t12 & 12 & mc\\_cut \\\\\n",
       "\t13 & 13 & buff\\_postcut \\\\\n",
       "\t14 & 14 & qc\\_check \\\\\n",
       "\\end{tabular}\n"
      ],
      "text/plain": [
       "14×2 DataFrame\n",
       "│ Row │ id    │ nm                 │\n",
       "│     │ \u001b[90mInt64\u001b[39m │ \u001b[90mString\u001b[39m             │\n",
       "├─────┼───────┼────────────────────┤\n",
       "│ 1   │ 1     │ pipecut            │\n",
       "│ 2   │ 2     │ anneal_bs_prebend  │\n",
       "│ 3   │ 3     │ anneal_ns_prebend  │\n",
       "│ 4   │ 4     │ icing              │\n",
       "│ 5   │ 5     │ rotbend            │\n",
       "│ 6   │ 6     │ pressbend          │\n",
       "│ 7   │ 7     │ anneal_bs_precalib │\n",
       "│ 8   │ 8     │ anneal_ns_precalib │\n",
       "│ 9   │ 9     │ vcalib             │\n",
       "│ 10  │ 10    │ hcalib             │\n",
       "│ 11  │ 11    │ buff_precut        │\n",
       "│ 12  │ 12    │ mc_cut             │\n",
       "│ 13  │ 13    │ buff_postcut       │\n",
       "│ 14  │ 14    │ qc_check           │"
      ]
     },
     "execution_count": 11,
     "metadata": {},
     "output_type": "execute_result"
    }
   ],
   "source": [
    "nametable = DataFrame(id = 1:length(s), nm = s)"
   ]
  },
  {
   "cell_type": "markdown",
   "metadata": {},
   "source": [
    "Read grouping info."
   ]
  },
  {
   "cell_type": "code",
   "execution_count": 12,
   "metadata": {},
   "outputs": [
    {
     "data": {
      "text/plain": [
       "2×4 Array{Any,2}:\n",
       " \"anneal_bs\"  \"[2;7]\"  300  3\n",
       " \"anneal_ns\"  \"[3;8]\"  300  3"
      ]
     },
     "execution_count": 12,
     "metadata": {},
     "output_type": "execute_result"
    }
   ],
   "source": [
    "gtbl = readdlm(\"grouping.csv\",',', skipstart = 1)"
   ]
  },
  {
   "cell_type": "code",
   "execution_count": 13,
   "metadata": {},
   "outputs": [],
   "source": [
    "gtbl2=[]\n",
    "for k in 1:size(gtbl)[1]\n",
    "    x = gtbl[k, 2:end]\n",
    "    push!(gtbl2,Dict(:id=>eval(Meta.parse(x[1])),:cnt=>x[2],:timespan=>x[3]))\n",
    "end"
   ]
  },
  {
   "cell_type": "code",
   "execution_count": 14,
   "metadata": {},
   "outputs": [
    {
     "data": {
      "text/plain": [
       "2-element Array{Any,1}:\n",
       " Dict{Symbol,Any}(:timespan=>3,:id=>[2, 7],:cnt=>300)\n",
       " Dict{Symbol,Any}(:timespan=>3,:id=>[3, 8],:cnt=>300)"
      ]
     },
     "execution_count": 14,
     "metadata": {},
     "output_type": "execute_result"
    }
   ],
   "source": [
    "gtbl2"
   ]
  },
  {
   "cell_type": "markdown",
   "metadata": {},
   "source": [
    "## Initialize ProcGA tables."
   ]
  },
  {
   "cell_type": "code",
   "execution_count": 23,
   "metadata": {},
   "outputs": [
    {
     "data": {
      "text/plain": [
       "true"
      ]
     },
     "execution_count": 23,
     "metadata": {},
     "output_type": "execute_result"
    }
   ],
   "source": [
    "ProcGA.settable(ptbl2, gtbl2, mtbl)"
   ]
  },
  {
   "cell_type": "markdown",
   "metadata": {},
   "source": [
    "## Initialize population"
   ]
  },
  {
   "cell_type": "code",
   "execution_count": 27,
   "metadata": {},
   "outputs": [
    {
     "data": {
      "text/plain": [
       "6×72 Array{Int64,2}:\n",
       " 1  7  7  7  9  9  12  12  13  13  14  …  0  0  0  0  0  0  0  0  0  0  0  0\n",
       " 1  7  7  7  9  9  12  12  13  13  14     0  0  0  0  0  0  0  0  0  0  0  0\n",
       " 1  7  7  7  9  9  12  12  13  13  14     0  0  0  0  0  0  0  0  0  0  0  0\n",
       " 1  7  7  7  9  9  12  12  13  13  14     0  0  0  0  0  0  0  0  0  0  0  0\n",
       " 1  7  7  7  9  9  12  12  13  13  14     0  0  0  0  0  0  0  0  0  0  0  0\n",
       " 1  7  7  7  9  9  12  12  13  13  14  …  0  0  0  0  0  0  0  0  0  0  0  0"
      ]
     },
     "execution_count": 27,
     "metadata": {},
     "output_type": "execute_result"
    }
   ],
   "source": [
    "g1 = ProcGA.jobtablebase()"
   ]
  },
  {
   "cell_type": "code",
   "execution_count": 29,
   "metadata": {
    "scrolled": true
   },
   "outputs": [
    {
     "data": {
      "text/plain": [
       "6×72 Array{Int64,2}:\n",
       " 1  7  7  7  9  9  12  12  13  13  14  …  0   0  0   0  0  0  0   0  0   0\n",
       " 0  1  7  7  7  0   9   9  12  12  13     0   0  0   0  0  0  0   0  0   0\n",
       " 0  0  0  0  0  1   0   0   0   0   7     0   0  0   0  0  0  0   0  0   0\n",
       " 0  0  0  0  0  0   0   0   1   0   0     0   0  0   0  0  0  0  14  0  14\n",
       " 0  0  0  0  1  0   7   0   0   7   7     0   0  0   0  0  0  0   0  0   0\n",
       " 0  0  0  1  0  0   0   0   0   0   0  …  0  14  0  14  0  0  0   0  0   0"
      ]
     },
     "execution_count": 29,
     "metadata": {},
     "output_type": "execute_result"
    }
   ],
   "source": [
    "ProcGA.validatejob!(g1,1000)"
   ]
  },
  {
   "cell_type": "code",
   "execution_count": 30,
   "metadata": {},
   "outputs": [
    {
     "data": {
      "text/plain": [
       "true"
      ]
     },
     "execution_count": 30,
     "metadata": {},
     "output_type": "execute_result"
    }
   ],
   "source": [
    "ProcGA.checkvalidity(g1)"
   ]
  },
  {
   "cell_type": "code",
   "execution_count": 31,
   "metadata": {},
   "outputs": [
    {
     "data": {
      "text/plain": [
       "228"
      ]
     },
     "execution_count": 31,
     "metadata": {},
     "output_type": "execute_result"
    }
   ],
   "source": [
    "ProcGA.penalty(g1)"
   ]
  },
  {
   "cell_type": "code",
   "execution_count": 42,
   "metadata": {},
   "outputs": [
    {
     "data": {
      "text/plain": [
       "6×72 Array{Int64,2}:\n",
       " 12  7   0  0   0  0  0   0  0  0  0  …  0   0   0  0   0  0  0  0   0   0\n",
       "  1  0  12  0   0  0  0  13  0  0  0     0   0   0  0   0  0  0  0  13   0\n",
       "  1  7   0  0  13  7  0   0  0  0  0     0  14   0  0   0  0  0  0   0   0\n",
       " 13  0   0  0   0  0  0   0  0  0  0     0   0  12  0   0  0  0  1  13  14\n",
       "  0  0   0  0   0  7  0   0  0  0  0     0   0   0  0  14  0  0  0  12  12\n",
       "  0  0   0  0   0  0  0   0  1  0  0  …  0   0  13  0  13  0  0  0   0   0"
      ]
     },
     "execution_count": 42,
     "metadata": {},
     "output_type": "execute_result"
    }
   ],
   "source": [
    "gn1 = ProcGA.jobtableshuffle()"
   ]
  },
  {
   "cell_type": "code",
   "execution_count": 43,
   "metadata": {
    "scrolled": true
   },
   "outputs": [
    {
     "data": {
      "text/plain": [
       "6×72 Array{Int64,2}:\n",
       " 12  7   0   0  0   0  0   0   0  0  9  …  0  0  0  0  0  0  0  0  0  0  0  0\n",
       "  1  0  12   0  0  13  0  14   0  0  0     0  0  0  0  0  0  0  0  0  0  0  0\n",
       "  1  7   0  13  7   0  0   0   0  0  0     0  0  0  0  0  0  0  0  0  0  0  0\n",
       " 13  0   0   0  0   0  0   0   0  0  7     0  0  0  0  0  0  0  0  0  0  0  0\n",
       "  0  0   0   0  7   0  0   0  14  7  0     0  0  0  0  0  0  0  0  0  0  0  0\n",
       "  0  0   0   0  0   0  1   0   0  0  0  …  0  0  0  0  0  0  0  0  0  0  0  0"
      ]
     },
     "execution_count": 43,
     "metadata": {},
     "output_type": "execute_result"
    }
   ],
   "source": [
    "ProcGA.shrinkjob!(gn1)"
   ]
  },
  {
   "cell_type": "code",
   "execution_count": 44,
   "metadata": {
    "scrolled": true
   },
   "outputs": [
    {
     "data": {
      "text/plain": [
       "6×72 Array{Int64,2}:\n",
       " 1  7  0  0  0  0  0   0   0   0  7  …  0   0   0  0   0  0   0   0  0   0\n",
       " 0  1  7  7  7  9  9  12  12  13  0     0   0   0  0   0  0   0   0  0   0\n",
       " 0  0  0  0  0  0  0   0   0   0  0     0   0   0  0   0  0  13  14  0  14\n",
       " 0  0  0  0  0  1  0   0   7   7  0     0  14   0  0   0  0   0   0  0   0\n",
       " 0  0  0  0  0  0  1   0   0   7  0     0   0  14  0   0  0  14   0  0   0\n",
       " 0  0  0  1  0  0  0   0   0   0  0  …  0   0   0  0  14  0   0   0  0   0"
      ]
     },
     "execution_count": 44,
     "metadata": {},
     "output_type": "execute_result"
    }
   ],
   "source": [
    "ProcGA.validatejob!(gn1,10000)"
   ]
  },
  {
   "cell_type": "code",
   "execution_count": 45,
   "metadata": {},
   "outputs": [
    {
     "data": {
      "text/plain": [
       "true"
      ]
     },
     "execution_count": 45,
     "metadata": {},
     "output_type": "execute_result"
    }
   ],
   "source": [
    "ProcGA.checkvalidity(gn1)"
   ]
  },
  {
   "cell_type": "code",
   "execution_count": 46,
   "metadata": {},
   "outputs": [
    {
     "data": {
      "text/plain": [
       "237"
      ]
     },
     "execution_count": 46,
     "metadata": {},
     "output_type": "execute_result"
    }
   ],
   "source": [
    "ProcGA.penalty(gn1)"
   ]
  },
  {
   "cell_type": "markdown",
   "metadata": {},
   "source": [
    "Make population"
   ]
  },
  {
   "cell_type": "code",
   "execution_count": 74,
   "metadata": {},
   "outputs": [],
   "source": [
    "ppl = ProcGA.initpopulation(100);"
   ]
  },
  {
   "cell_type": "code",
   "execution_count": 33,
   "metadata": {},
   "outputs": [
    {
     "data": {
      "text/plain": [
       "0-element Array{Any,1}"
      ]
     },
     "execution_count": 33,
     "metadata": {},
     "output_type": "execute_result"
    }
   ],
   "source": [
    "vlst = []"
   ]
  },
  {
   "cell_type": "markdown",
   "metadata": {},
   "source": [
    "## Evolution!"
   ]
  },
  {
   "cell_type": "markdown",
   "metadata": {},
   "source": [
    "Due to slightly large data, validation can not be done completely under max iteration = 100."
   ]
  },
  {
   "cell_type": "code",
   "execution_count": 47,
   "metadata": {},
   "outputs": [
    {
     "name": "stdout",
     "output_type": "stream",
     "text": [
      "i:10 => (31, 31.0, 110)\n",
      "i:20 => (31, 31.0, 81)\n",
      "i:30 => (31, 31.0, 91)\n",
      "i:40 => (31, 31.0, 92)\n",
      "i:50 => (31, 31.0, 88)\n",
      "i:60 => (31, 31.0, 31)\n",
      "i:70 => (31, 31.0, 240)\n",
      "i:80 => (31, 31.0, 83)\n",
      "i:90 => (31, 31.0, 38)\n",
      "i:100 => (31, 31.0, 227)\n",
      "i:110 => (31, 31.0, 220)\n",
      "i:120 => (31, 31.0, 50)\n",
      "i:130 => (31, 31.0, 31)\n",
      "i:140 => (31, 31.0, 270)\n",
      "i:150 => (31, 31.0, 119)\n",
      "i:160 => (31, 31.0, 280)\n",
      "i:170 => (31, 31.0, 255)\n",
      "i:180 => (31, 31.0, 31)\n",
      "i:190 => (31, 31.0, 219)\n",
      "i:200 => (31, 31.0, 99)\n",
      "i:210 => (31, 31.0, 110)\n",
      "i:220 => (31, 31.0, 31)\n",
      "i:230 => (31, 31.0, 212)\n",
      "i:240 => (31, 31.0, 72)\n",
      "i:250 => (31, 31.0, 46)\n",
      "i:260 => (31, 31.0, 198)\n",
      "i:270 => (31, 31.0, 102)\n",
      "i:280 => (31, 31.0, 78)\n",
      "i:290 => (31, 31.0, 31)\n",
      "i:300 => (31, 31.0, 286)\n",
      "i:310 => (31, 31.0, 125)\n",
      "i:320 => (31, 31.0, 112)\n",
      "i:330 => (31, 31.0, 46)\n",
      "i:340 => (31, 31.0, 262)\n",
      "i:350 => (31, 31.0, 110)\n",
      "i:360 => (31, 31.0, 256)\n",
      "i:370 => (31, 31.0, 31)\n",
      "i:380 => (31, 31.0, 297)\n",
      "i:390 => (31, 31.0, 199)\n",
      "i:400 => (31, 31.0, 45)\n",
      "i:410 => (31, 31.0, 222)\n",
      "i:420 => (31, 31.0, 88)\n",
      "i:430 => (31, 31.0, 222)\n",
      "i:440 => (31, 31.0, 89)\n",
      "i:450 => (31, 31.0, 36)\n",
      "i:460 => (31, 31.0, 104)\n",
      "i:470 => (31, 31.0, 206)\n",
      "i:480 => (31, 31.0, 198)\n",
      "i:490 => (31, 31.0, 83)\n",
      "i:500 => (31, 31.0, 281)\n"
     ]
    }
   ],
   "source": [
    "# Anyway move generation\n",
    "vl = ProcGA.evolution!(ppl, 500);"
   ]
  },
  {
   "cell_type": "code",
   "execution_count": 48,
   "metadata": {},
   "outputs": [],
   "source": [
    "vlst = vcat(vlst,vl);"
   ]
  },
  {
   "cell_type": "code",
   "execution_count": 49,
   "metadata": {},
   "outputs": [
    {
     "data": {
      "text/plain": [
       "6×72 Array{Int64,2}:\n",
       " 0  0  1  0  7  7  7  9  9  12  12  13  …  0  0  0  0  0  0  0  0  0  0  0  0\n",
       " 1  7  7  7  0  0  0  0  0   9   9   0     0  0  0  0  0  0  0  0  0  0  0  0\n",
       " 0  0  0  0  0  1  0  7  7   7   0   0     0  0  0  0  0  0  0  0  0  0  0  0\n",
       " 0  1  0  0  7  7  7  0  0   0   0   0     0  0  0  0  0  0  0  0  0  0  0  0\n",
       " 0  0  0  1  0  0  0  7  7   7   0   9     0  0  0  0  0  0  0  0  0  0  0  0\n",
       " 0  0  0  0  1  0  0  0  0   0   7   7  …  0  0  0  0  0  0  0  0  0  0  0  0"
      ]
     },
     "execution_count": 49,
     "metadata": {},
     "output_type": "execute_result"
    }
   ],
   "source": [
    "v = ProcGA.penalty.(ppl)\n",
    "idm = findmin(v)[2]\n",
    "bestgen = ppl[idm]"
   ]
  },
  {
   "cell_type": "code",
   "execution_count": 50,
   "metadata": {},
   "outputs": [
    {
     "data": {
      "text/plain": [
       "true"
      ]
     },
     "execution_count": 50,
     "metadata": {},
     "output_type": "execute_result"
    }
   ],
   "source": [
    "ProcGA.checkvalidity(bestgen)"
   ]
  },
  {
   "cell_type": "code",
   "execution_count": 51,
   "metadata": {},
   "outputs": [
    {
     "data": {
      "text/plain": [
       "31"
      ]
     },
     "execution_count": 51,
     "metadata": {},
     "output_type": "execute_result"
    }
   ],
   "source": [
    "ProcGA.penalty(bestgen)"
   ]
  },
  {
   "cell_type": "code",
   "execution_count": 52,
   "metadata": {},
   "outputs": [
    {
     "data": {
      "text/plain": [
       "6×31 Array{Int64,2}:\n",
       " 0  0  1  0  7  7  7  9  9  12  12  13  …   0   0   0   0   0   0   0   0   0\n",
       " 1  7  7  7  0  0  0  0  0   9   9   0      0   0   0   0   0   0   0   0   0\n",
       " 0  0  0  0  0  1  0  7  7   7   0   0      0  13  13  14  14   0   0   0   0\n",
       " 0  1  0  0  7  7  7  0  0   0   0   0     13   0   0   0   0  14  14   0   0\n",
       " 0  0  0  1  0  0  0  7  7   7   0   9      0  14  14   0   0   0   0   0   0\n",
       " 0  0  0  0  1  0  0  0  0   0   7   7  …  12   0   0  13  13   0   0  14  14"
      ]
     },
     "execution_count": 52,
     "metadata": {},
     "output_type": "execute_result"
    }
   ],
   "source": [
    "ProcGA.clipjob(bestgen)"
   ]
  },
  {
   "cell_type": "code",
   "execution_count": 54,
   "metadata": {},
   "outputs": [
    {
     "data": {
      "text/plain": [
       "31"
      ]
     },
     "execution_count": 54,
     "metadata": {},
     "output_type": "execute_result"
    }
   ],
   "source": [
    "ProcGA.validlength(bestgen)"
   ]
  },
  {
   "cell_type": "markdown",
   "metadata": {},
   "source": [
    "Sort it by first appearance of process."
   ]
  },
  {
   "cell_type": "code",
   "execution_count": 69,
   "metadata": {},
   "outputs": [
    {
     "data": {
      "text/plain": [
       "6×72 Array{Int64,2}:\n",
       " 1  7  7  7  0  0  0  0  0   9   9   0  …  0  0  0  0  0  0  0  0  0  0  0  0\n",
       " 0  1  0  0  7  7  7  0  0   0   0   0     0  0  0  0  0  0  0  0  0  0  0  0\n",
       " 0  0  1  0  7  7  7  9  9  12  12  13     0  0  0  0  0  0  0  0  0  0  0  0\n",
       " 0  0  0  1  0  0  0  7  7   7   0   9     0  0  0  0  0  0  0  0  0  0  0  0\n",
       " 0  0  0  0  1  0  0  0  0   0   7   7     0  0  0  0  0  0  0  0  0  0  0  0\n",
       " 0  0  0  0  0  1  0  7  7   7   0   0  …  0  0  0  0  0  0  0  0  0  0  0  0"
      ]
     },
     "execution_count": 69,
     "metadata": {},
     "output_type": "execute_result"
    }
   ],
   "source": [
    "bestgensort = similar(bestgen)\n",
    "for i in 1:size(bestgen)[1]\n",
    "    idx = findfirst(x->(x>0),bestgen[i,:])\n",
    "    bestgensort[idx,:] = bestgen[i,:]\n",
    "end\n",
    "bestgensort"
   ]
  },
  {
   "cell_type": "code",
   "execution_count": 70,
   "metadata": {},
   "outputs": [],
   "source": [
    "# save best process table to file.\n",
    "# do not clip it so that it can be used again\n",
    "writedlm(\"bestprc_20181112.csv\",bestgensort, ',')"
   ]
  },
  {
   "cell_type": "markdown",
   "metadata": {},
   "source": [
    "## read from saved data"
   ]
  },
  {
   "cell_type": "code",
   "execution_count": 40,
   "metadata": {},
   "outputs": [
    {
     "data": {
      "text/plain": [
       "6×72 Array{Int64,2}:\n",
       " 0  0  1  0  7  7  7  9  9  12  12  13  …  0  0  0  0  0  0  0  0  0  0  0  0\n",
       " 1  7  7  7  0  0  0  0  0   9   9   0     0  0  0  0  0  0  0  0  0  0  0  0\n",
       " 0  0  0  0  0  1  0  7  7   7   0   0     0  0  0  0  0  0  0  0  0  0  0  0\n",
       " 0  1  0  0  7  7  7  0  0   0   0   0     0  0  0  0  0  0  0  0  0  0  0  0\n",
       " 0  0  0  1  0  0  0  7  7   7   0   9     0  0  0  0  0  0  0  0  0  0  0  0\n",
       " 0  0  0  0  1  0  0  0  0   0   7   7  …  0  0  0  0  0  0  0  0  0  0  0  0"
      ]
     },
     "execution_count": 40,
     "metadata": {},
     "output_type": "execute_result"
    }
   ],
   "source": [
    "rdlst = readdlm(\"bestprc_20181112.csv\", ',', Int)"
   ]
  },
  {
   "cell_type": "code",
   "execution_count": 41,
   "metadata": {},
   "outputs": [],
   "source": [
    "ppl = ProcGA.initpopulationfrom(rdlst,100);"
   ]
  },
  {
   "cell_type": "markdown",
   "metadata": {},
   "source": [
    "## Conclusion"
   ]
  },
  {
   "cell_type": "markdown",
   "metadata": {},
   "source": [
    "For given 6 same data with proctalbe below, the best combination is \"bestgen\" here.\n",
    "\n",
    "Its length is 31.\n",
    "Taking time unit as 1 hour and assuming job time as 7 hours/day, it needs almost 4 days to finish these materials."
   ]
  },
  {
   "cell_type": "code",
   "execution_count": 58,
   "metadata": {},
   "outputs": [
    {
     "data": {
      "text/plain": [
       "1×14 LinearAlgebra.Transpose{Int64,Array{Int64,1}}:\n",
       " 1  0  0  0  0  0  3  0  2  0  0  2  2  2"
      ]
     },
     "execution_count": 58,
     "metadata": {},
     "output_type": "execute_result"
    }
   ],
   "source": [
    "transpose(ProcGA.proctable[1,:])"
   ]
  },
  {
   "cell_type": "code",
   "execution_count": 59,
   "metadata": {},
   "outputs": [
    {
     "data": {
      "text/plain": [
       "6×31 Array{Int64,2}:\n",
       " 0  0  1  0  7  7  7  9  9  12  12  13  …   0   0   0   0   0   0   0   0   0\n",
       " 1  7  7  7  0  0  0  0  0   9   9   0      0   0   0   0   0   0   0   0   0\n",
       " 0  0  0  0  0  1  0  7  7   7   0   0      0  13  13  14  14   0   0   0   0\n",
       " 0  1  0  0  7  7  7  0  0   0   0   0     13   0   0   0   0  14  14   0   0\n",
       " 0  0  0  1  0  0  0  7  7   7   0   9      0  14  14   0   0   0   0   0   0\n",
       " 0  0  0  0  1  0  0  0  0   0   7   7  …  12   0   0  13  13   0   0  14  14"
      ]
     },
     "execution_count": 59,
     "metadata": {},
     "output_type": "execute_result"
    }
   ],
   "source": [
    "ProcGA.clipjob(bestgen)"
   ]
  },
  {
   "cell_type": "code",
   "execution_count": null,
   "metadata": {},
   "outputs": [],
   "source": []
  }
 ],
 "metadata": {
  "kernelspec": {
   "display_name": "Julia 1.0.2",
   "language": "julia",
   "name": "julia-1.0"
  },
  "language_info": {
   "file_extension": ".jl",
   "mimetype": "application/julia",
   "name": "julia",
   "version": "1.0.2"
  },
  "toc": {
   "base_numbering": 1,
   "nav_menu": {},
   "number_sections": true,
   "sideBar": true,
   "skip_h1_title": true,
   "title_cell": "Table of Contents",
   "title_sidebar": "Contents",
   "toc_cell": false,
   "toc_position": {},
   "toc_section_display": true,
   "toc_window_display": false
  }
 },
 "nbformat": 4,
 "nbformat_minor": 2
}
