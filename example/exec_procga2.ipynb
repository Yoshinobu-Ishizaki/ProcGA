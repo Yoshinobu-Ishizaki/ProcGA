{
 "cells": [
  {
   "cell_type": "markdown",
   "metadata": {},
   "source": [
    "# Process optimization by genetic algorithm"
   ]
  },
  {
   "cell_type": "markdown",
   "metadata": {},
   "source": [
    "Smaller size version"
   ]
  },
  {
   "cell_type": "code",
   "execution_count": 108,
   "metadata": {},
   "outputs": [
    {
     "name": "stderr",
     "output_type": "stream",
     "text": [
      "WARNING: replacing module ProcGA.\n"
     ]
    },
    {
     "data": {
      "text/plain": [
       "Main.ProcGA"
      ]
     },
     "execution_count": 108,
     "metadata": {},
     "output_type": "execute_result"
    }
   ],
   "source": [
    "include(\"../src/ProcGA.jl\")"
   ]
  },
  {
   "cell_type": "markdown",
   "metadata": {},
   "source": [
    "## reading data"
   ]
  },
  {
   "cell_type": "code",
   "execution_count": 2,
   "metadata": {},
   "outputs": [],
   "source": [
    "using CSV\n",
    "using DelimitedFiles\n",
    "using DataFrames\n",
    "using Missings"
   ]
  },
  {
   "cell_type": "code",
   "execution_count": 3,
   "metadata": {},
   "outputs": [],
   "source": [
    "ptbl = CSV.read(\"proctable.csv\",header = 1);"
   ]
  },
  {
   "cell_type": "code",
   "execution_count": 61,
   "metadata": {},
   "outputs": [],
   "source": [
    "# take smaller size \n",
    "ptbl = ptbl[1:6,:];"
   ]
  },
  {
   "cell_type": "code",
   "execution_count": 62,
   "metadata": {},
   "outputs": [
    {
     "data": {
      "text/plain": [
       "6×2 Array{Any,2}:\n",
       " \"BB105 間管\"       50\n",
       " \"BB201-3 3補助管2\"  50\n",
       " \"BH301M 間管\"      50\n",
       " \"BH301M 枝管1\"     50\n",
       " \"BH301M 枝管2\"     50\n",
       " \"EP201 間管\"       50"
      ]
     },
     "execution_count": 62,
     "metadata": {},
     "output_type": "execute_result"
    }
   ],
   "source": [
    "mtbl = convert(Array, ptbl[:,1:2])"
   ]
  },
  {
   "cell_type": "code",
   "execution_count": 63,
   "metadata": {},
   "outputs": [
    {
     "data": {
      "text/plain": [
       "6×14 Array{Int64,2}:\n",
       " 1  0  0  0  0  0  3  0  2  0  0  2  2  2\n",
       " 1  0  0  0  0  0  3  0  2  0  0  2  2  2\n",
       " 1  0  0  0  0  0  3  0  2  0  0  2  2  2\n",
       " 1  0  0  0  0  0  3  0  2  0  0  2  2  2\n",
       " 1  0  0  0  0  0  3  0  2  0  0  2  2  2\n",
       " 1  0  0  0  0  0  3  0  2  0  0  2  2  2"
      ]
     },
     "execution_count": 63,
     "metadata": {},
     "output_type": "execute_result"
    }
   ],
   "source": [
    "ptbl2 = [coalesce.(x,0) for x in convert(Array, ptbl2)]"
   ]
  },
  {
   "cell_type": "code",
   "execution_count": 64,
   "metadata": {},
   "outputs": [
    {
     "data": {
      "text/plain": [
       "14-element Array{String,1}:\n",
       " \"pipecut\"           \n",
       " \"anneal_bs_prebend\" \n",
       " \"anneal_ns_prebend\" \n",
       " \"icing\"             \n",
       " \"rotbend\"           \n",
       " \"pressbend\"         \n",
       " \"anneal_bs_precalib\"\n",
       " \"anneal_ns_precalib\"\n",
       " \"vcalib\"            \n",
       " \"hcalib\"            \n",
       " \"buff_precut\"       \n",
       " \"mc_cut\"            \n",
       " \"buff_postcut\"      \n",
       " \"qc_check\"          "
      ]
     },
     "execution_count": 64,
     "metadata": {},
     "output_type": "execute_result"
    }
   ],
   "source": [
    "s = string.(names(ptbl)[3:end])"
   ]
  },
  {
   "cell_type": "code",
   "execution_count": 65,
   "metadata": {},
   "outputs": [
    {
     "data": {
      "text/html": [
       "<table class=\"data-frame\"><thead><tr><th></th><th>id</th><th>nm</th></tr></thead><tbody><tr><th>1</th><td>1</td><td>pipecut</td></tr><tr><th>2</th><td>2</td><td>anneal_bs_prebend</td></tr><tr><th>3</th><td>3</td><td>anneal_ns_prebend</td></tr><tr><th>4</th><td>4</td><td>icing</td></tr><tr><th>5</th><td>5</td><td>rotbend</td></tr><tr><th>6</th><td>6</td><td>pressbend</td></tr><tr><th>7</th><td>7</td><td>anneal_bs_precalib</td></tr><tr><th>8</th><td>8</td><td>anneal_ns_precalib</td></tr><tr><th>9</th><td>9</td><td>vcalib</td></tr><tr><th>10</th><td>10</td><td>hcalib</td></tr><tr><th>11</th><td>11</td><td>buff_precut</td></tr><tr><th>12</th><td>12</td><td>mc_cut</td></tr><tr><th>13</th><td>13</td><td>buff_postcut</td></tr><tr><th>14</th><td>14</td><td>qc_check</td></tr></tbody></table>"
      ],
      "text/plain": [
       "14×2 DataFrame\n",
       "│ Row │ id │ nm                 │\n",
       "├─────┼────┼────────────────────┤\n",
       "│ 1   │ 1  │ pipecut            │\n",
       "│ 2   │ 2  │ anneal_bs_prebend  │\n",
       "│ 3   │ 3  │ anneal_ns_prebend  │\n",
       "│ 4   │ 4  │ icing              │\n",
       "│ 5   │ 5  │ rotbend            │\n",
       "│ 6   │ 6  │ pressbend          │\n",
       "│ 7   │ 7  │ anneal_bs_precalib │\n",
       "│ 8   │ 8  │ anneal_ns_precalib │\n",
       "│ 9   │ 9  │ vcalib             │\n",
       "│ 10  │ 10 │ hcalib             │\n",
       "│ 11  │ 11 │ buff_precut        │\n",
       "│ 12  │ 12 │ mc_cut             │\n",
       "│ 13  │ 13 │ buff_postcut       │\n",
       "│ 14  │ 14 │ qc_check           │"
      ]
     },
     "execution_count": 65,
     "metadata": {},
     "output_type": "execute_result"
    }
   ],
   "source": [
    "nametable = DataFrame(id = 1:length(s), nm = s)"
   ]
  },
  {
   "cell_type": "markdown",
   "metadata": {},
   "source": [
    "Read grouping info."
   ]
  },
  {
   "cell_type": "code",
   "execution_count": 66,
   "metadata": {},
   "outputs": [
    {
     "data": {
      "text/plain": [
       "2×4 Array{Any,2}:\n",
       " \"anneal_bs\"  \"[2;7]\"  150  3\n",
       " \"anneal_ns\"  \"[3;8]\"  150  3"
      ]
     },
     "execution_count": 66,
     "metadata": {},
     "output_type": "execute_result"
    }
   ],
   "source": [
    "gtbl = readdlm(\"grouping.csv\",',', skipstart = 1)"
   ]
  },
  {
   "cell_type": "code",
   "execution_count": 67,
   "metadata": {},
   "outputs": [],
   "source": [
    "gtbl2=[]\n",
    "for k in 1:size(gtbl)[1]\n",
    "    x = gtbl[k, 2:end]\n",
    "    push!(gtbl2,Dict(:id=>eval(Meta.parse(x[1])),:cnt=>x[2],:timespan=>x[3]))\n",
    "end"
   ]
  },
  {
   "cell_type": "code",
   "execution_count": 68,
   "metadata": {},
   "outputs": [
    {
     "data": {
      "text/plain": [
       "2-element Array{Any,1}:\n",
       " Dict{Symbol,Any}(:timespan=>3,:id=>[2, 7],:cnt=>150)\n",
       " Dict{Symbol,Any}(:timespan=>3,:id=>[3, 8],:cnt=>150)"
      ]
     },
     "execution_count": 68,
     "metadata": {},
     "output_type": "execute_result"
    }
   ],
   "source": [
    "gtbl2"
   ]
  },
  {
   "cell_type": "markdown",
   "metadata": {},
   "source": [
    "## Initialize ProcGA tables."
   ]
  },
  {
   "cell_type": "code",
   "execution_count": 109,
   "metadata": {},
   "outputs": [
    {
     "data": {
      "text/plain": [
       "true"
      ]
     },
     "execution_count": 109,
     "metadata": {},
     "output_type": "execute_result"
    }
   ],
   "source": [
    "ProcGA.settable(ptbl2, gtbl2, mtbl)"
   ]
  },
  {
   "cell_type": "markdown",
   "metadata": {},
   "source": [
    "## Initialize population"
   ]
  },
  {
   "cell_type": "code",
   "execution_count": 70,
   "metadata": {},
   "outputs": [
    {
     "data": {
      "text/plain": [
       "6×72 Array{Int64,2}:\n",
       " 13   0   0  0  0   0   0  0  0   0  0  …   0  0  0   0   0  0   0   0  0   0\n",
       "  0   0   0  0  0   0   0  0  0   0  0      0  7  0   0   0  1   0   0  0   9\n",
       "  7   0   0  1  0   0   0  9  0  12  0     12  0  0   0   0  0   0   0  0   0\n",
       "  0  13   7  0  0  14   7  0  0   0  0      0  0  0   0   0  0   0   0  9  12\n",
       "  0   7   0  0  0   0  12  0  0   0  0      0  0  0   0   0  0  12  13  0   0\n",
       "  0   0  13  0  0   0   0  0  0   0  0  …   0  0  0  12  14  7   0   0  0   0"
      ]
     },
     "execution_count": 70,
     "metadata": {},
     "output_type": "execute_result"
    }
   ],
   "source": [
    "gn1 = ProcGA.jobtableshuffle()"
   ]
  },
  {
   "cell_type": "code",
   "execution_count": 71,
   "metadata": {
    "scrolled": true
   },
   "outputs": [
    {
     "data": {
      "text/plain": [
       "6×72 Array{Int64,2}:\n",
       " 13   0   0  0   0   0  0   0  0  7  0  …  0  0  0  0  0  0  0  0  0  0  0  0\n",
       "  0   0   0  0   0   0  0   0  0  0  0     0  0  0  0  0  0  0  0  0  0  0  0\n",
       "  7   0   0  1   0   0  9  12  0  0  7     0  0  0  0  0  0  0  0  0  0  0  0\n",
       "  0  13   7  0  14   7  0   0  0  0  0     0  0  0  0  0  0  0  0  0  0  0  0\n",
       "  0   7   0  0   0  12  0   0  1  0  7     0  0  0  0  0  0  0  0  0  0  0  0\n",
       "  0   0  13  0   0   0  0   0  0  0  9  …  0  0  0  0  0  0  0  0  0  0  0  0"
      ]
     },
     "execution_count": 71,
     "metadata": {},
     "output_type": "execute_result"
    }
   ],
   "source": [
    "ProcGA.shrinkjob!(gn1)"
   ]
  },
  {
   "cell_type": "code",
   "execution_count": 72,
   "metadata": {
    "scrolled": true
   },
   "outputs": [
    {
     "data": {
      "text/plain": [
       "6×72 Array{Int64,2}:\n",
       " 1  0  0  0  0  0  0   0   0  7   0  …   0  0   0  0   0  0   0   0  0   0\n",
       " 0  1  7  7  7  9  9  12  12  0  13      0  0   0  0   0  0   0   0  0   0\n",
       " 0  0  0  0  1  0  0   0   0  0   0     14  0   0  0  14  0   0   0  0   0\n",
       " 0  0  1  7  0  0  0   0   7  0   0      0  0   0  0   0  0   0   0  0   0\n",
       " 0  0  0  0  0  0  0   0   0  0   1     13  0  14  0   0  0   0   0  0  14\n",
       " 0  0  0  0  0  0  0   1   0  0   0  …   0  0   0  0   0  0  14  14  0   0"
      ]
     },
     "execution_count": 72,
     "metadata": {},
     "output_type": "execute_result"
    }
   ],
   "source": [
    "ProcGA.validatejob!(gn1,100000)"
   ]
  },
  {
   "cell_type": "code",
   "execution_count": 73,
   "metadata": {},
   "outputs": [
    {
     "data": {
      "text/plain": [
       "true"
      ]
     },
     "execution_count": 73,
     "metadata": {},
     "output_type": "execute_result"
    }
   ],
   "source": [
    "ProcGA.checkvalidity(gn1)"
   ]
  },
  {
   "cell_type": "markdown",
   "metadata": {},
   "source": [
    "Make population"
   ]
  },
  {
   "cell_type": "code",
   "execution_count": 74,
   "metadata": {},
   "outputs": [],
   "source": [
    "ppl = ProcGA.initpopulation(100);"
   ]
  },
  {
   "cell_type": "code",
   "execution_count": null,
   "metadata": {},
   "outputs": [],
   "source": [
    "vlst = []"
   ]
  },
  {
   "cell_type": "markdown",
   "metadata": {},
   "source": [
    "## Evolution!"
   ]
  },
  {
   "cell_type": "markdown",
   "metadata": {},
   "source": [
    "Due to slightly large data, validation can not be done completely under max iteration = 100."
   ]
  },
  {
   "cell_type": "code",
   "execution_count": 138,
   "metadata": {},
   "outputs": [
    {
     "name": "stdout",
     "output_type": "stream",
     "text": [
      "i:20 => (34, 34.0, 281)\n",
      "i:40 => (34, 34.0, 275)\n",
      "i:60 => (34, 34.0, 262)\n",
      "i:80 => (34, 34.0, 271)\n",
      "i:100 => (34, 34.0, 299)\n",
      "i:120 => (34, 34.0, 288)\n",
      "i:140 => (34, 34.0, 266)\n",
      "i:160 => (34, 34.0, 290)\n",
      "i:180 => (33, 34.0, 258)\n",
      "i:200 => (33, 34.0, 279)\n",
      "i:220 => (33, 33.0, 328)\n",
      "i:240 => (33, 33.0, 295)\n",
      "i:260 => (33, 33.0, 247)\n",
      "i:280 => (33, 33.0, 280)\n",
      "i:300 => (33, 33.0, 334)\n",
      "i:320 => (33, 33.0, 277)\n",
      "i:340 => (33, 33.0, 274)\n",
      "i:360 => (33, 33.0, 277)\n",
      "i:380 => (33, 33.0, 251)\n",
      "i:400 => (33, 33.0, 239)\n",
      "i:420 => (33, 33.0, 305)\n",
      "i:440 => (33, 33.0, 240)\n",
      "i:460 => (33, 33.0, 326)\n",
      "i:480 => (33, 33.0, 285)\n",
      "i:500 => (33, 33.0, 282)\n"
     ]
    }
   ],
   "source": [
    "# Anyway move generation\n",
    "vl = ProcGA.evolution!(ppl, 500,20,0.7,0.1,0.2);"
   ]
  },
  {
   "cell_type": "code",
   "execution_count": 139,
   "metadata": {},
   "outputs": [],
   "source": [
    "vlst = vcat(vlst,vl);"
   ]
  },
  {
   "cell_type": "code",
   "execution_count": 140,
   "metadata": {},
   "outputs": [
    {
     "data": {
      "text/plain": [
       "6×72 Array{Int64,2}:\n",
       " 0  0  0  1  7  7  7  9  9  12  12  13  …  0  0  0  0  0  0  0  0  0  0  0  0\n",
       " 1  7  7  7  0  0  0  0  0   9   9   0     0  0  0  0  0  0  0  0  0  0  0  0\n",
       " 0  0  0  0  0  0  0  0  0   0   1   0     0  0  0  0  0  0  0  0  0  0  0  0\n",
       " 0  1  0  0  7  7  7  0  0   0   0   0     0  0  0  0  0  0  0  0  0  0  0  0\n",
       " 0  0  0  0  0  1  0  7  7   7   0   9     0  0  0  0  0  0  0  0  0  0  0  0\n",
       " 0  0  0  0  0  0  0  0  0   1   7   7  …  0  0  0  0  0  0  0  0  0  0  0  0"
      ]
     },
     "execution_count": 140,
     "metadata": {},
     "output_type": "execute_result"
    }
   ],
   "source": [
    "v = ProcGA.penalty.(ppl)\n",
    "idm = findmin(v)[2]\n",
    "bestgen = ppl[idm]"
   ]
  },
  {
   "cell_type": "code",
   "execution_count": 141,
   "metadata": {},
   "outputs": [
    {
     "data": {
      "text/plain": [
       "true"
      ]
     },
     "execution_count": 141,
     "metadata": {},
     "output_type": "execute_result"
    }
   ],
   "source": [
    "ProcGA.checkvalidity(bestgen)"
   ]
  },
  {
   "cell_type": "code",
   "execution_count": 142,
   "metadata": {},
   "outputs": [
    {
     "data": {
      "text/plain": [
       "33"
      ]
     },
     "execution_count": 142,
     "metadata": {},
     "output_type": "execute_result"
    }
   ],
   "source": [
    "ProcGA.penalty(bestgen)"
   ]
  },
  {
   "cell_type": "code",
   "execution_count": 143,
   "metadata": {},
   "outputs": [
    {
     "data": {
      "text/plain": [
       "6×33 Array{Int64,2}:\n",
       " 0  0  0  1  7  7  7  9  9  12  12  13  …   0   0   0   0   0   0   0   0   0\n",
       " 1  7  7  7  0  0  0  0  0   9   9   0      0   0   0   0   0   0   0   0   0\n",
       " 0  0  0  0  0  0  0  0  0   0   1   0     12  12   0  13  13  14  14   0   0\n",
       " 0  1  0  0  7  7  7  0  0   0   0   0     13   0   0  14  14   0   0   0   0\n",
       " 0  0  0  0  0  1  0  7  7   7   0   9     14  14   0   0   0   0   0   0   0\n",
       " 0  0  0  0  0  0  0  0  0   1   7   7  …   0  13  13   0   0   0   0  14  14"
      ]
     },
     "execution_count": 143,
     "metadata": {},
     "output_type": "execute_result"
    }
   ],
   "source": [
    "ProcGA.clipjob(bestgen)"
   ]
  },
  {
   "cell_type": "code",
   "execution_count": 144,
   "metadata": {},
   "outputs": [],
   "source": [
    "# save best process table to file.\n",
    "# do not clip it so that it can be used again\n",
    "writedlm(\"bestprc_2081112.csv\",bestgen, ',')"
   ]
  },
  {
   "cell_type": "markdown",
   "metadata": {},
   "source": [
    "## check"
   ]
  },
  {
   "cell_type": "code",
   "execution_count": null,
   "metadata": {},
   "outputs": [],
   "source": []
  }
 ],
 "metadata": {
  "kernelspec": {
   "display_name": "Julia 1.0.2",
   "language": "julia",
   "name": "julia-1.0"
  },
  "language_info": {
   "file_extension": ".jl",
   "mimetype": "application/julia",
   "name": "julia",
   "version": "1.0.2"
  },
  "toc": {
   "base_numbering": 1,
   "nav_menu": {},
   "number_sections": true,
   "sideBar": true,
   "skip_h1_title": true,
   "title_cell": "Table of Contents",
   "title_sidebar": "Contents",
   "toc_cell": false,
   "toc_position": {},
   "toc_section_display": true,
   "toc_window_display": false
  }
 },
 "nbformat": 4,
 "nbformat_minor": 2
}
