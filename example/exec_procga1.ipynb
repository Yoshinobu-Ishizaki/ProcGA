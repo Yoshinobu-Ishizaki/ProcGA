{
 "cells": [
  {
   "cell_type": "markdown",
   "metadata": {},
   "source": [
    "# Process optimization by genetic algorithm"
   ]
  },
  {
   "cell_type": "code",
   "execution_count": 44,
   "metadata": {},
   "outputs": [
    {
     "name": "stderr",
     "output_type": "stream",
     "text": [
      "WARNING: replacing module ProcGA.\n"
     ]
    },
    {
     "data": {
      "text/plain": [
       "Main.ProcGA"
      ]
     },
     "execution_count": 44,
     "metadata": {},
     "output_type": "execute_result"
    }
   ],
   "source": [
    "include(\"../src/ProcGA.jl\")"
   ]
  },
  {
   "cell_type": "markdown",
   "metadata": {},
   "source": [
    "## reading data"
   ]
  },
  {
   "cell_type": "code",
   "execution_count": 3,
   "metadata": {},
   "outputs": [],
   "source": [
    "using CSV\n",
    "using DelimitedFiles\n",
    "using DataFrames\n",
    "using Missings"
   ]
  },
  {
   "cell_type": "code",
   "execution_count": 4,
   "metadata": {},
   "outputs": [],
   "source": [
    "ptbl = CSV.read(\"proctable.csv\",header = 1);"
   ]
  },
  {
   "cell_type": "code",
   "execution_count": 5,
   "metadata": {},
   "outputs": [
    {
     "data": {
      "text/plain": [
       "13×2 Array{Any,2}:\n",
       " \"BB105 間管\"       50\n",
       " \"BB201-3 3補助管2\"  50\n",
       " \"BH301M 間管\"      50\n",
       " \"BH301M 枝管1\"     50\n",
       " \"BH301M 枝管2\"     50\n",
       " \"EP201 間管\"       50\n",
       " \"EP201-2 2補助管\"   50\n",
       " \"EP201-2 枝管1\"    50\n",
       " \"HR567 枝管4\"      50\n",
       " \"HR567 枝管4C\"     50\n",
       " \"HR567 枝管4E\"     50\n",
       " \"SL646 1番曲管\"     50\n",
       " \"EP321-2 4補助管3\"  50"
      ]
     },
     "execution_count": 5,
     "metadata": {},
     "output_type": "execute_result"
    }
   ],
   "source": [
    "mtbl = convert(Array, ptbl[:,1:2])"
   ]
  },
  {
   "cell_type": "code",
   "execution_count": 6,
   "metadata": {},
   "outputs": [],
   "source": [
    "ptbl2 = ptbl[:,3:end];"
   ]
  },
  {
   "cell_type": "code",
   "execution_count": 7,
   "metadata": {},
   "outputs": [
    {
     "data": {
      "text/plain": [
       "13×14 Array{Int64,2}:\n",
       " 1  0  0  0  0  0  3  0  2  0  0  2  2  2\n",
       " 1  0  0  0  0  0  3  0  2  0  0  2  2  2\n",
       " 1  0  0  0  0  0  3  0  2  0  0  2  2  2\n",
       " 1  0  0  0  0  0  3  0  2  0  0  2  2  2\n",
       " 1  0  0  0  0  0  3  0  2  0  0  2  2  2\n",
       " 1  0  0  0  0  0  3  0  2  0  0  2  2  2\n",
       " 1  0  0  0  0  0  3  0  2  0  0  2  2  2\n",
       " 1  0  0  0  0  0  3  0  2  0  0  2  2  2\n",
       " 1  0  0  0  0  0  3  0  2  0  0  2  2  2\n",
       " 1  0  0  0  0  0  3  0  2  0  0  2  2  2\n",
       " 1  0  0  0  0  0  3  0  2  0  0  2  2  2\n",
       " 1  3  0  0  1  0  3  0  0  2  2  2  0  2\n",
       " 1  3  0  0  1  0  3  0  0  2  2  2  0  2"
      ]
     },
     "execution_count": 7,
     "metadata": {},
     "output_type": "execute_result"
    }
   ],
   "source": [
    "ptbl2 = [coalesce.(x,0) for x in convert(Array, ptbl2)]"
   ]
  },
  {
   "cell_type": "code",
   "execution_count": 8,
   "metadata": {},
   "outputs": [
    {
     "data": {
      "text/plain": [
       "16-element Array{String,1}:\n",
       " \"name\"              \n",
       " \"qty\"               \n",
       " \"pipecut\"           \n",
       " \"anneal_bs_prebend\" \n",
       " \"anneal_ns_prebend\" \n",
       " \"icing\"             \n",
       " \"rotbend\"           \n",
       " \"pressbend\"         \n",
       " \"anneal_bs_precalib\"\n",
       " \"anneal_ns_precalib\"\n",
       " \"vcalib\"            \n",
       " \"hcalib\"            \n",
       " \"buff_precut\"       \n",
       " \"mc_cut\"            \n",
       " \"buff_postcut\"      \n",
       " \"qc_check\"          "
      ]
     },
     "execution_count": 8,
     "metadata": {},
     "output_type": "execute_result"
    }
   ],
   "source": [
    "string.(names(ptbl)[3:end])"
   ]
  },
  {
   "cell_type": "markdown",
   "metadata": {},
   "source": [
    "Read grouping info."
   ]
  },
  {
   "cell_type": "code",
   "execution_count": 9,
   "metadata": {},
   "outputs": [
    {
     "data": {
      "text/plain": [
       "2×4 Array{Any,2}:\n",
       " \"anneal_bs\"  \"[2;7]\"  150  3\n",
       " \"anneal_ns\"  \"[3;8]\"  150  3"
      ]
     },
     "execution_count": 9,
     "metadata": {},
     "output_type": "execute_result"
    }
   ],
   "source": [
    "gtbl = readdlm(\"grouping.csv\",',', skipstart = 1)"
   ]
  },
  {
   "cell_type": "code",
   "execution_count": 10,
   "metadata": {},
   "outputs": [],
   "source": [
    "gtbl2=[]\n",
    "for k in 1:size(gtbl)[1]\n",
    "    x = gtbl[k, 2:end]\n",
    "    push!(gtbl2,Dict(:id=>eval(Meta.parse(x[1])),:cnt=>x[2],:timespan=>x[3]))\n",
    "end"
   ]
  },
  {
   "cell_type": "code",
   "execution_count": 11,
   "metadata": {},
   "outputs": [
    {
     "data": {
      "text/plain": [
       "2-element Array{Any,1}:\n",
       " Dict{Symbol,Any}(:timespan=>3,:id=>[2, 7],:cnt=>150)\n",
       " Dict{Symbol,Any}(:timespan=>3,:id=>[3, 8],:cnt=>150)"
      ]
     },
     "execution_count": 11,
     "metadata": {},
     "output_type": "execute_result"
    }
   ],
   "source": [
    "gtbl2"
   ]
  },
  {
   "cell_type": "markdown",
   "metadata": {},
   "source": [
    "## Initialize ProcGA tables."
   ]
  },
  {
   "cell_type": "code",
   "execution_count": 45,
   "metadata": {},
   "outputs": [
    {
     "data": {
      "text/plain": [
       "true"
      ]
     },
     "execution_count": 45,
     "metadata": {},
     "output_type": "execute_result"
    }
   ],
   "source": [
    "ProcGA.settable(ptbl2, gtbl2, mtbl)"
   ]
  },
  {
   "cell_type": "markdown",
   "metadata": {},
   "source": [
    "## Initialize population"
   ]
  },
  {
   "cell_type": "code",
   "execution_count": 20,
   "metadata": {},
   "outputs": [
    {
     "data": {
      "text/plain": [
       "13×164 Array{Int64,2}:\n",
       " 0  0   0   0   0   0  0  0  0  0  0  …   0  0   0  0  0  0   0   0  0  0  0\n",
       " 0  0  14  12   0   0  0  0  0  0  0      0  0   0  0  0  0   0   0  0  0  0\n",
       " 0  0   0   0  14   0  0  0  0  0  0      9  0   0  0  0  0   0   0  0  0  0\n",
       " 0  0  14   0   0   0  0  0  0  0  0      0  0   0  0  0  0   0   0  0  0  0\n",
       " 0  0   0   0   0   0  0  0  0  0  0      0  0   0  0  0  0   0   0  0  0  0\n",
       " 0  1   0   0   0  13  0  0  0  0  0  …   0  0   0  0  0  0   0   0  0  0  0\n",
       " 0  0   0   0   7   0  0  0  0  0  0      0  0   0  0  0  0  14   0  0  0  1\n",
       " 0  0   0   0   0   0  0  0  0  7  7      0  0   0  0  0  0   0   0  0  0  0\n",
       " 0  0   0   0   0   0  0  0  0  0  0      0  0   0  0  0  0   0  13  0  0  0\n",
       " 0  0   0   0   0  13  0  0  0  0  0      0  0   0  0  0  0   0   0  0  0  0\n",
       " 0  0   0   0   0   0  0  0  0  0  0  …   0  0  12  0  0  0   0   0  0  0  0\n",
       " 0  0   0   0   0   0  0  0  0  0  0      0  0   2  0  0  0   0   0  0  0  0\n",
       " 0  0   0   0   0   0  0  0  0  0  0     12  0   0  0  0  0   0   0  0  0  0"
      ]
     },
     "execution_count": 20,
     "metadata": {},
     "output_type": "execute_result"
    }
   ],
   "source": [
    "gn1 = ProcGA.jobtableshuffle()"
   ]
  },
  {
   "cell_type": "code",
   "execution_count": 24,
   "metadata": {
    "scrolled": true
   },
   "outputs": [
    {
     "data": {
      "text/plain": [
       "13×164 Array{Int64,2}:\n",
       " 0  0  0  0  0  0  0   0   0   0   0  …   0  0   0  0   0  0   0   0  0  0\n",
       " 0  1  7  7  7  9  9  12  12  13  13      0  0   0  0   0  0   0   0  0  0\n",
       " 0  0  0  0  0  0  0   1   0   0   0      0  0   0  0   0  0   0   0  0  0\n",
       " 0  0  0  0  0  1  0   0   0   0   7      0  0   0  0   0  0   0   0  0  0\n",
       " 0  0  0  0  0  0  1   0   0   0   0      0  0   0  0   0  0   0  14  0  0\n",
       " 0  0  0  0  0  0  0   1   0   0   0  …   0  0   0  0   0  0   0   0  0  0\n",
       " 0  0  0  0  0  0  0   1   0   7   0      0  0   0  0   0  0   0   0  0  0\n",
       " 0  0  0  0  0  1  0   0   0   0   0      0  0   0  0   0  0   0   0  0  0\n",
       " 0  0  0  0  1  0  0   0   0   0   0      0  0  14  0  14  0   0   0  0  0\n",
       " 0  0  0  0  0  0  0   0   0   0   0     14  0   0  0   0  0   0   0  0  0\n",
       " 0  1  0  0  0  0  7   0   0   0   0  …   0  0   0  0   0  0  14   0  0  0\n",
       " 0  0  0  0  0  0  0   0   0   0   0      0  0  14  0   0  0  14   0  0  0\n",
       " 0  1  2  0  0  0  0   0   0   0   0     14  0   0  0   0  0   0  14  0  0"
      ]
     },
     "execution_count": 24,
     "metadata": {},
     "output_type": "execute_result"
    }
   ],
   "source": [
    "ProcGA.validatejob!(gn1,1000)"
   ]
  },
  {
   "cell_type": "code",
   "execution_count": 25,
   "metadata": {},
   "outputs": [
    {
     "data": {
      "text/plain": [
       "false"
      ]
     },
     "execution_count": 25,
     "metadata": {},
     "output_type": "execute_result"
    }
   ],
   "source": [
    "ProcGA.checkvalidity(gn1)"
   ]
  },
  {
   "cell_type": "markdown",
   "metadata": {},
   "source": [
    "Make population"
   ]
  },
  {
   "cell_type": "code",
   "execution_count": 26,
   "metadata": {},
   "outputs": [],
   "source": [
    "ppl = ProcGA.initpopulation(100);"
   ]
  },
  {
   "cell_type": "markdown",
   "metadata": {},
   "source": [
    "## Evolution!"
   ]
  },
  {
   "cell_type": "markdown",
   "metadata": {},
   "source": [
    "Due to slightly large data, validation can not be done completely under max iteration = 100."
   ]
  },
  {
   "cell_type": "code",
   "execution_count": 70,
   "metadata": {},
   "outputs": [
    {
     "name": "stdout",
     "output_type": "stream",
     "text": [
      "i:2 => (923, 1165.0, 1411)\n",
      "i:4 => (961, 1147.5, 1334)\n",
      "i:6 => (961, 1134.5, 1303)\n",
      "i:8 => (994, 1155.0, 1346)\n",
      "i:10 => (942, 1159.0, 1336)\n"
     ]
    }
   ],
   "source": [
    "# Anyway move generation\n",
    "ProcGA.evolution!(ppl, 10,2);"
   ]
  },
  {
   "cell_type": "code",
   "execution_count": 65,
   "metadata": {},
   "outputs": [
    {
     "data": {
      "text/plain": [
       "13×164 Array{Int64,2}:\n",
       " 0  0  0  0  0  0   0   0   0  1  7   0  …  0   0  0   0  0   0  0   0   0  0\n",
       " 1  7  7  7  9  9  12  12  13  0  0  13     0   0  0   0  0   0  0   0   0  0\n",
       " 0  0  0  1  0  0   0   7   0  0  0   0     0  13  0  13  0  14  0  14   0  0\n",
       " 0  0  1  0  0  0   0   0   0  0  0   0     0   0  0   0  0   0  0  14  14  0\n",
       " 0  0  0  0  0  0   1   0   0  0  0   0     0   0  0   0  0   0  0   0  14  0\n",
       " 0  0  0  0  0  0   0   1   0  0  0   0  …  0   0  0   0  0   0  0   0   0  0\n",
       " 0  0  0  0  0  0   0   0   0  0  0   0     0   0  0   0  0   0  0   0   0  0\n",
       " 0  0  0  0  0  0   0   0   0  0  0   0     0  14  0   0  0  14  0   0   0  0\n",
       " 0  0  0  0  0  1   0   0   0  0  0   0     0   0  0   0  0  14  0   0   0  0\n",
       " 0  0  0  0  0  0   0   0   0  0  0   1     0  14  0   0  0   0  0   0   0  0\n",
       " 0  0  0  0  0  0   0   0   0  1  0   0  …  0   0  0   0  0   0  0   0   0  0\n",
       " 0  0  0  0  0  0   0   0   0  0  0   1     0   0  0  14  0   0  0  14   0  0\n",
       " 0  0  0  0  0  0   0   0   0  0  0   0     0   0  0   0  0   0  0   0   0  0"
      ]
     },
     "execution_count": 65,
     "metadata": {},
     "output_type": "execute_result"
    }
   ],
   "source": [
    "v = ProcGA.penalty.(ppl)\n",
    "idm = findmin(v)[2]\n",
    "bestgen = ppl[idm]"
   ]
  },
  {
   "cell_type": "code",
   "execution_count": 66,
   "metadata": {},
   "outputs": [
    {
     "data": {
      "text/plain": [
       "false"
      ]
     },
     "execution_count": 66,
     "metadata": {},
     "output_type": "execute_result"
    }
   ],
   "source": [
    "ProcGA.checkvalidity(bestgen)"
   ]
  },
  {
   "cell_type": "code",
   "execution_count": 67,
   "metadata": {},
   "outputs": [
    {
     "data": {
      "text/plain": [
       "921"
      ]
     },
     "execution_count": 67,
     "metadata": {},
     "output_type": "execute_result"
    }
   ],
   "source": [
    "ProcGA.penalty(bestgen)"
   ]
  },
  {
   "cell_type": "code",
   "execution_count": 68,
   "metadata": {},
   "outputs": [
    {
     "data": {
      "text/plain": [
       "13×163 Array{Int64,2}:\n",
       " 0  0  0  0  0  0   0   0   0  1  7   0  …  0  0   0  0   0  0   0  0   0   0\n",
       " 1  7  7  7  9  9  12  12  13  0  0  13     0  0   0  0   0  0   0  0   0   0\n",
       " 0  0  0  1  0  0   0   7   0  0  0   0     0  0  13  0  13  0  14  0  14   0\n",
       " 0  0  1  0  0  0   0   0   0  0  0   0     0  0   0  0   0  0   0  0  14  14\n",
       " 0  0  0  0  0  0   1   0   0  0  0   0     0  0   0  0   0  0   0  0   0  14\n",
       " 0  0  0  0  0  0   0   1   0  0  0   0  …  0  0   0  0   0  0   0  0   0   0\n",
       " 0  0  0  0  0  0   0   0   0  0  0   0     0  0   0  0   0  0   0  0   0   0\n",
       " 0  0  0  0  0  0   0   0   0  0  0   0     0  0  14  0   0  0  14  0   0   0\n",
       " 0  0  0  0  0  1   0   0   0  0  0   0     0  0   0  0   0  0  14  0   0   0\n",
       " 0  0  0  0  0  0   0   0   0  0  0   1     0  0  14  0   0  0   0  0   0   0\n",
       " 0  0  0  0  0  0   0   0   0  1  0   0  …  0  0   0  0   0  0   0  0   0   0\n",
       " 0  0  0  0  0  0   0   0   0  0  0   1     0  0   0  0  14  0   0  0  14   0\n",
       " 0  0  0  0  0  0   0   0   0  0  0   0     0  0   0  0   0  0   0  0   0   0"
      ]
     },
     "execution_count": 68,
     "metadata": {},
     "output_type": "execute_result"
    }
   ],
   "source": [
    "ProcGA.clipjob(bestgen)"
   ]
  },
  {
   "cell_type": "code",
   "execution_count": 69,
   "metadata": {},
   "outputs": [],
   "source": [
    "# save best process table to file.\n",
    "# do not clip it so that it can be used again\n",
    "writedlm(\"bestprc_2081112.csv\",bestgen, ',')"
   ]
  },
  {
   "cell_type": "markdown",
   "metadata": {},
   "source": [
    "## check"
   ]
  },
  {
   "cell_type": "code",
   "execution_count": 72,
   "metadata": {},
   "outputs": [],
   "source": [
    "ProcGA.sortpopulation!(ppl);"
   ]
  },
  {
   "cell_type": "code",
   "execution_count": 73,
   "metadata": {
    "scrolled": true
   },
   "outputs": [
    {
     "data": {
      "text/plain": [
       "20-element Array{Int64,1}:\n",
       "  942\n",
       "  946\n",
       "  969\n",
       "  974\n",
       "  975\n",
       "  983\n",
       "  999\n",
       " 1004\n",
       " 1018\n",
       " 1020\n",
       " 1031\n",
       " 1044\n",
       " 1047\n",
       " 1055\n",
       " 1057\n",
       " 1060\n",
       " 1060\n",
       " 1067\n",
       " 1071\n",
       " 1072"
      ]
     },
     "execution_count": 73,
     "metadata": {},
     "output_type": "execute_result"
    }
   ],
   "source": [
    "v = ProcGA.penalty.(ppl);\n",
    "v[1:20]"
   ]
  },
  {
   "cell_type": "code",
   "execution_count": 74,
   "metadata": {},
   "outputs": [],
   "source": [
    "ProcGA.survive!(ppl);"
   ]
  },
  {
   "cell_type": "code",
   "execution_count": 75,
   "metadata": {
    "scrolled": true
   },
   "outputs": [
    {
     "data": {
      "text/plain": [
       "20-element Array{Int64,1}:\n",
       "  942\n",
       "  946\n",
       "  969\n",
       "  974\n",
       "  975\n",
       "  983\n",
       "  999\n",
       " 1004\n",
       " 1018\n",
       " 1020\n",
       " 1031\n",
       " 1044\n",
       " 1047\n",
       " 1055\n",
       " 1057\n",
       " 1060\n",
       " 1060\n",
       " 1067\n",
       " 1071\n",
       " 1072"
      ]
     },
     "execution_count": 75,
     "metadata": {},
     "output_type": "execute_result"
    }
   ],
   "source": [
    "v = ProcGA.penalty.(ppl);\n",
    "v[1:20]"
   ]
  },
  {
   "cell_type": "code",
   "execution_count": 77,
   "metadata": {},
   "outputs": [],
   "source": [
    "ProcGA.fillgeneration!(ppl,100);"
   ]
  },
  {
   "cell_type": "code",
   "execution_count": 78,
   "metadata": {},
   "outputs": [],
   "source": [
    "ProcGA.shrinkjob!.(ppl);"
   ]
  },
  {
   "cell_type": "code",
   "execution_count": 79,
   "metadata": {},
   "outputs": [],
   "source": [
    "ProcGA.validatejob!.(ppl);"
   ]
  },
  {
   "cell_type": "code",
   "execution_count": 80,
   "metadata": {
    "scrolled": true
   },
   "outputs": [
    {
     "data": {
      "text/plain": [
       "20-element Array{Int64,1}:\n",
       " 1082\n",
       " 1251\n",
       " 1220\n",
       " 1042\n",
       " 1213\n",
       " 1119\n",
       " 1103\n",
       " 1106\n",
       " 1037\n",
       " 1219\n",
       " 1104\n",
       " 1272\n",
       " 1237\n",
       " 1107\n",
       " 1050\n",
       " 1047\n",
       " 1185\n",
       " 1091\n",
       " 1167\n",
       " 1027"
      ]
     },
     "execution_count": 80,
     "metadata": {},
     "output_type": "execute_result"
    }
   ],
   "source": [
    "v = ProcGA.penalty.(ppl);\n",
    "v[1:20]"
   ]
  },
  {
   "cell_type": "code",
   "execution_count": null,
   "metadata": {},
   "outputs": [],
   "source": []
  }
 ],
 "metadata": {
  "kernelspec": {
   "display_name": "Julia 1.0.2",
   "language": "julia",
   "name": "julia-1.0"
  },
  "language_info": {
   "file_extension": ".jl",
   "mimetype": "application/julia",
   "name": "julia",
   "version": "1.0.2"
  },
  "toc": {
   "base_numbering": 1,
   "nav_menu": {},
   "number_sections": true,
   "sideBar": true,
   "skip_h1_title": true,
   "title_cell": "Table of Contents",
   "title_sidebar": "Contents",
   "toc_cell": false,
   "toc_position": {},
   "toc_section_display": true,
   "toc_window_display": false
  }
 },
 "nbformat": 4,
 "nbformat_minor": 2
}
