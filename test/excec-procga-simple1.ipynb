{
 "cells": [
  {
   "cell_type": "markdown",
   "metadata": {},
   "source": [
    "# Using ProcGA"
   ]
  },
  {
   "cell_type": "markdown",
   "metadata": {},
   "source": [
    "## Initialize"
   ]
  },
  {
   "cell_type": "code",
   "execution_count": 102,
   "metadata": {},
   "outputs": [],
   "source": [
    "using Statistics"
   ]
  },
  {
   "cell_type": "code",
   "execution_count": 108,
   "metadata": {
    "scrolled": true
   },
   "outputs": [
    {
     "name": "stderr",
     "output_type": "stream",
     "text": [
      "WARNING: replacing module ProcGA.\n"
     ]
    },
    {
     "data": {
      "text/plain": [
       "Main.ProcGA"
      ]
     },
     "execution_count": 108,
     "metadata": {},
     "output_type": "execute_result"
    }
   ],
   "source": [
    "include(\"../src/ProcGA.jl\")"
   ]
  },
  {
   "cell_type": "code",
   "execution_count": 2,
   "metadata": {},
   "outputs": [],
   "source": [
    "using DelimitedFiles"
   ]
  },
  {
   "cell_type": "markdown",
   "metadata": {},
   "source": [
    "Read process definition table from file."
   ]
  },
  {
   "cell_type": "code",
   "execution_count": 7,
   "metadata": {},
   "outputs": [
    {
     "data": {
      "text/plain": [
       "3×14 Array{Any,2}:\n",
       " \"m1\"   50  1  3  0  1  0  3  2  0  0  2  1  0\n",
       " \"m2\"   50  1  0  0  0  0  3  0  2  0  0  1  2\n",
       " \"m3\"  100  1  3  0  1  0  3  1  0  1  0  0  0"
      ]
     },
     "execution_count": 7,
     "metadata": {},
     "output_type": "execute_result"
    }
   ],
   "source": [
    "tbl1 = readdlm(\"simple_proc.csv\", ',')"
   ]
  },
  {
   "cell_type": "markdown",
   "metadata": {},
   "source": [
    "Separate material info and process time definition."
   ]
  },
  {
   "cell_type": "code",
   "execution_count": null,
   "metadata": {},
   "outputs": [],
   "source": [
    "## material info\n",
    "mtbl = tbl1[:,1:2]"
   ]
  },
  {
   "cell_type": "code",
   "execution_count": 13,
   "metadata": {},
   "outputs": [
    {
     "data": {
      "text/plain": [
       "3×12 Array{Any,2}:\n",
       " 1  3  0  1  0  3  2  0  0  2  1  0\n",
       " 1  0  0  0  0  3  0  2  0  0  1  2\n",
       " 1  3  0  1  0  3  1  0  1  0  0  0"
      ]
     },
     "execution_count": 13,
     "metadata": {},
     "output_type": "execute_result"
    }
   ],
   "source": [
    "# proc info\n",
    "ptbl = tbl1[:,3:end]"
   ]
  },
  {
   "cell_type": "markdown",
   "metadata": {},
   "source": [
    "Process 2 and 6 can be grouped into one."
   ]
  },
  {
   "cell_type": "code",
   "execution_count": 21,
   "metadata": {},
   "outputs": [
    {
     "data": {
      "text/plain": [
       "1-element Array{Dict{Symbol,Any},1}:\n",
       " Dict(:timespan=>3,:id=>[2, 6],:cnt=>150)"
      ]
     },
     "execution_count": 21,
     "metadata": {},
     "output_type": "execute_result"
    }
   ],
   "source": [
    "gtbl = [Dict(:id=>[2;6],:cnt=>150,:timespan=>3)]"
   ]
  },
  {
   "cell_type": "markdown",
   "metadata": {},
   "source": [
    "Initialize table data."
   ]
  },
  {
   "cell_type": "code",
   "execution_count": 109,
   "metadata": {
    "scrolled": true
   },
   "outputs": [
    {
     "data": {
      "text/plain": [
       "true"
      ]
     },
     "execution_count": 109,
     "metadata": {},
     "output_type": "execute_result"
    }
   ],
   "source": [
    "ProcGA.settable(ptbl, gtbl,mtbl)"
   ]
  },
  {
   "cell_type": "markdown",
   "metadata": {},
   "source": [
    "## sigle gene"
   ]
  },
  {
   "cell_type": "markdown",
   "metadata": {},
   "source": [
    "create simple gene from process info"
   ]
  },
  {
   "cell_type": "code",
   "execution_count": 16,
   "metadata": {},
   "outputs": [
    {
     "data": {
      "text/plain": [
       "3×32 Array{Int64,2}:\n",
       " 1  2  2  2  4  6   6   6   7  7  10  …  0  0  0  0  0  0  0  0  0  0  0  0\n",
       " 1  6  6  6  8  8  11  12  12  0   0     0  0  0  0  0  0  0  0  0  0  0  0\n",
       " 1  2  2  2  4  6   6   6   7  9   0     0  0  0  0  0  0  0  0  0  0  0  0"
      ]
     },
     "execution_count": 16,
     "metadata": {},
     "output_type": "execute_result"
    }
   ],
   "source": [
    "gen1 = ProcGA.jobtablebase()"
   ]
  },
  {
   "cell_type": "markdown",
   "metadata": {},
   "source": [
    "this is not well defined due to collision of process.\n",
    "let it be validated."
   ]
  },
  {
   "cell_type": "code",
   "execution_count": 17,
   "metadata": {},
   "outputs": [
    {
     "data": {
      "text/plain": [
       "3×32 Array{Int64,2}:\n",
       " 1  2  2  2  4  6  6   6   7   7  10  …  0  0  0  0  0  0  0  0  0  0  0  0\n",
       " 0  1  6  6  6  8  8  11  12  12   0     0  0  0  0  0  0  0  0  0  0  0  0\n",
       " 0  0  1  2  2  2  0   4   6   6   6     0  0  0  0  0  0  0  0  0  0  0  0"
      ]
     },
     "execution_count": 17,
     "metadata": {},
     "output_type": "execute_result"
    }
   ],
   "source": [
    "ProcGA.validatejob!(gen1)"
   ]
  },
  {
   "cell_type": "markdown",
   "metadata": {},
   "source": [
    "Mutate it to enrich genes."
   ]
  },
  {
   "cell_type": "code",
   "execution_count": 26,
   "metadata": {},
   "outputs": [
    {
     "data": {
      "text/plain": [
       "3×32 Array{Int64,2}:\n",
       " 10  2  2  2  4  6  6  0   7   7  10  …  0  0  0  0  0  0  0  0  0  0  0  0\n",
       "  0  1  6  6  6  8  8  0  12  12   0     0  0  0  0  0  0  0  0  0  0  0  0\n",
       "  0  0  1  2  2  2  0  0   6   4   6     0  0  0  0  0  0  0  0  0  0  0  0"
      ]
     },
     "execution_count": 26,
     "metadata": {},
     "output_type": "execute_result"
    }
   ],
   "source": [
    "ProcGA.mutatejob!(gen1,1)"
   ]
  },
  {
   "cell_type": "code",
   "execution_count": 27,
   "metadata": {},
   "outputs": [
    {
     "data": {
      "text/plain": [
       "3×32 Array{Int64,2}:\n",
       " 1  2  2  2  4  6  6  0   6   7  7  10  …  0  0  0  0  0  0  0  0  0  0  0  0\n",
       " 0  1  6  6  6  8  8  0  11  12  0   0     0  0  0  0  0  0  0  0  0  0  0  0\n",
       " 0  0  1  2  2  2  0  0   4   6  6   0     0  0  0  0  0  0  0  0  0  0  0  0"
      ]
     },
     "execution_count": 27,
     "metadata": {},
     "output_type": "execute_result"
    }
   ],
   "source": [
    "# needs to be validated again\n",
    "ProcGA.validatejob!(gen1)"
   ]
  },
  {
   "cell_type": "markdown",
   "metadata": {},
   "source": [
    "Check grouping correctness."
   ]
  },
  {
   "cell_type": "code",
   "execution_count": 28,
   "metadata": {},
   "outputs": [
    {
     "data": {
      "text/plain": [
       "Dict{Symbol,Any} with 3 entries:\n",
       "  :timespan => 3\n",
       "  :id       => [2, 6]\n",
       "  :cnt      => 150"
      ]
     },
     "execution_count": 28,
     "metadata": {},
     "output_type": "execute_result"
    }
   ],
   "source": [
    "gp1 = ProcGA.grouptable[1]"
   ]
  },
  {
   "cell_type": "code",
   "execution_count": 38,
   "metadata": {
    "scrolled": true
   },
   "outputs": [
    {
     "data": {
      "text/plain": [
       "3×32 Array{Int64,2}:\n",
       " 0  2  2  2  0  6  6  0  6  0  0  0  0  …  0  0  0  0  0  0  0  0  0  0  0  0\n",
       " 0  0  6  6  6  0  0  0  0  0  0  0  0     0  0  0  0  0  0  0  0  0  0  0  0\n",
       " 0  0  0  2  2  2  0  0  0  6  6  0  0     0  0  0  0  0  0  0  0  0  0  0  0"
      ]
     },
     "execution_count": 38,
     "metadata": {},
     "output_type": "execute_result"
    }
   ],
   "source": [
    "f(x) = (x in gp1[:id]) ? x : 0\n",
    "gen1gp = f.(gen1)"
   ]
  },
  {
   "cell_type": "code",
   "execution_count": 57,
   "metadata": {},
   "outputs": [
    {
     "data": {
      "text/plain": [
       "3×14 Array{Int64,2}:\n",
       " 0  2  2  2  0  6  6  0  6  0  0  0  0  0\n",
       " 0  0  6  6  6  0  0  0  0  0  0  0  0  0\n",
       " 0  0  0  2  2  2  0  0  0  6  6  0  0  6"
      ]
     },
     "execution_count": 57,
     "metadata": {},
     "output_type": "execute_result"
    }
   ],
   "source": [
    "(x->(x in gp1[:id]) ? x : 0).(gen1)[:,1:14]"
   ]
  },
  {
   "cell_type": "code",
   "execution_count": 41,
   "metadata": {},
   "outputs": [
    {
     "data": {
      "text/plain": [
       "validlength (generic function with 1 method)"
      ]
     },
     "execution_count": 41,
     "metadata": {},
     "output_type": "execute_result"
    }
   ],
   "source": [
    "validlength = ProcGA.validlength"
   ]
  },
  {
   "cell_type": "code",
   "execution_count": 81,
   "metadata": {},
   "outputs": [
    {
     "data": {
      "text/plain": [
       "27"
      ]
     },
     "execution_count": 81,
     "metadata": {},
     "output_type": "execute_result"
    }
   ],
   "source": [
    "ProcGA.grpenalty(gen1)"
   ]
  },
  {
   "cell_type": "markdown",
   "metadata": {},
   "source": [
    "## population"
   ]
  },
  {
   "cell_type": "markdown",
   "metadata": {},
   "source": [
    "Make a population 100% mutating every genes."
   ]
  },
  {
   "cell_type": "code",
   "execution_count": 88,
   "metadata": {},
   "outputs": [],
   "source": [
    "popu = ProcGA.initpopulation(200);"
   ]
  },
  {
   "cell_type": "code",
   "execution_count": 89,
   "metadata": {
    "scrolled": true
   },
   "outputs": [
    {
     "data": {
      "text/plain": [
       "3×32 Array{Int64,2}:\n",
       " 1  2  2  2  4  6  6   6   7   7  10  …  0  0  0  0  0  0  0  0  0  0  0  0\n",
       " 0  1  6  6  6  8  8  11  12  12   0     0  0  0  0  0  0  0  0  0  0  0  0\n",
       " 0  0  1  2  2  2  0   4   6   6   6     0  0  0  0  0  0  0  0  0  0  0  0"
      ]
     },
     "execution_count": 89,
     "metadata": {},
     "output_type": "execute_result"
    }
   ],
   "source": [
    "popu[1]"
   ]
  },
  {
   "cell_type": "code",
   "execution_count": 90,
   "metadata": {},
   "outputs": [
    {
     "data": {
      "text/plain": [
       "3×32 Array{Int64,2}:\n",
       " 0  1  2  2  2  4  6  6   6   7   7  …  0  0  0  0  0  0  0  0  11  0  0  0\n",
       " 0  0  1  6  6  6  8  8  11  12  12     0  0  0  0  0  0  0  0   0  0  0  0\n",
       " 0  0  0  1  2  2  2  0   4   6   6     0  0  0  0  0  0  0  0   0  0  0  0"
      ]
     },
     "execution_count": 90,
     "metadata": {},
     "output_type": "execute_result"
    }
   ],
   "source": [
    "popu[2]"
   ]
  },
  {
   "cell_type": "code",
   "execution_count": 91,
   "metadata": {},
   "outputs": [
    {
     "data": {
      "text/plain": [
       "false"
      ]
     },
     "execution_count": 91,
     "metadata": {},
     "output_type": "execute_result"
    }
   ],
   "source": [
    "popu[1] == popu[2]"
   ]
  },
  {
   "cell_type": "markdown",
   "metadata": {},
   "source": [
    "Sort them by penalty count."
   ]
  },
  {
   "cell_type": "code",
   "execution_count": 94,
   "metadata": {},
   "outputs": [],
   "source": [
    "ProcGA.sortpopulation!(popu);"
   ]
  },
  {
   "cell_type": "code",
   "execution_count": 95,
   "metadata": {},
   "outputs": [
    {
     "data": {
      "text/plain": [
       "3×32 Array{Int64,2}:\n",
       " 1  2  2  2  4  6  6   6   7   7  10  …  0  0  0  0  0  0  0  0  0  0  0  0\n",
       " 0  1  6  6  6  8  8  11  12  12   0     0  0  0  0  0  0  0  0  0  0  0  0\n",
       " 0  0  1  2  2  2  0   4   6   6   6     0  0  0  0  0  0  0  0  0  0  0  0"
      ]
     },
     "execution_count": 95,
     "metadata": {},
     "output_type": "execute_result"
    }
   ],
   "source": [
    "popu[1]"
   ]
  },
  {
   "cell_type": "markdown",
   "metadata": {},
   "source": [
    "Let inferior genes to die."
   ]
  },
  {
   "cell_type": "code",
   "execution_count": 96,
   "metadata": {},
   "outputs": [],
   "source": [
    "ProcGA.survive!(popu);"
   ]
  },
  {
   "cell_type": "code",
   "execution_count": 97,
   "metadata": {},
   "outputs": [
    {
     "data": {
      "text/plain": [
       "159"
      ]
     },
     "execution_count": 97,
     "metadata": {},
     "output_type": "execute_result"
    }
   ],
   "source": [
    "length(popu)"
   ]
  },
  {
   "cell_type": "code",
   "execution_count": 98,
   "metadata": {},
   "outputs": [],
   "source": [
    "# crossover and mutation\n",
    "ProcGA.fillgeneration!(popu,200);"
   ]
  },
  {
   "cell_type": "code",
   "execution_count": 99,
   "metadata": {},
   "outputs": [
    {
     "data": {
      "text/plain": [
       "200"
      ]
     },
     "execution_count": 99,
     "metadata": {},
     "output_type": "execute_result"
    }
   ],
   "source": [
    "length(popu)"
   ]
  },
  {
   "cell_type": "code",
   "execution_count": 100,
   "metadata": {},
   "outputs": [],
   "source": [
    "# make every genes shriked and valid\n",
    "ProcGA.shrinkjob!.(popu);\n",
    "ProcGA.validatejob!.(popu);"
   ]
  },
  {
   "cell_type": "code",
   "execution_count": 105,
   "metadata": {},
   "outputs": [],
   "source": [
    "v = ProcGA.penalty.(popu);"
   ]
  },
  {
   "cell_type": "code",
   "execution_count": 106,
   "metadata": {},
   "outputs": [
    {
     "data": {
      "text/plain": [
       "(34, 55.0, 101)"
      ]
     },
     "execution_count": 106,
     "metadata": {},
     "output_type": "execute_result"
    }
   ],
   "source": [
    "(minimum(v), median(v), maximum(v))"
   ]
  },
  {
   "cell_type": "code",
   "execution_count": 107,
   "metadata": {},
   "outputs": [
    {
     "data": {
      "text/plain": [
       "3×32 Array{Int64,2}:\n",
       " 1  2  2  2  4  6  6   6   7   7  10  …  0  0  0  0  0  0  0  0  0  0  0  0\n",
       " 0  1  6  6  6  8  8  11  12  12   0     0  0  0  0  0  0  0  0  0  0  0  0\n",
       " 0  0  1  2  2  2  0   4   6   6   6     0  0  0  0  0  0  0  0  0  0  0  0"
      ]
     },
     "execution_count": 107,
     "metadata": {},
     "output_type": "execute_result"
    }
   ],
   "source": [
    "popu[1]"
   ]
  },
  {
   "cell_type": "markdown",
   "metadata": {},
   "source": [
    "Do same routine several times."
   ]
  },
  {
   "cell_type": "code",
   "execution_count": 144,
   "metadata": {},
   "outputs": [
    {
     "data": {
      "text/plain": [
       "(18, 18.0, 33)"
      ]
     },
     "execution_count": 144,
     "metadata": {},
     "output_type": "execute_result"
    }
   ],
   "source": [
    "ProcGA.sortpopulation!(popu);\n",
    "ProcGA.survive!(popu);\n",
    "ProcGA.fillgeneration!(popu,200);\n",
    "ProcGA.shrinkjob!.(popu);\n",
    "ProcGA.validatejob!.(popu);\n",
    "v = ProcGA.penalty.(popu);\n",
    "(minimum(v), median(v), maximum(v))"
   ]
  },
  {
   "cell_type": "code",
   "execution_count": 145,
   "metadata": {},
   "outputs": [
    {
     "data": {
      "text/plain": [
       "3×32 Array{Int64,2}:\n",
       " 1  0  2  2  2  4  6   6   6   7  7  0  …  0  0  0  0  0  0  0  0  0  0  0  0\n",
       " 0  1  6  6  6  8  8  11  12  12  0  0     0  0  0  0  0  0  0  0  0  0  0  0\n",
       " 0  0  0  0  0  0  1   0   0   2  2  2     0  0  0  0  0  0  0  0  0  0  0  0"
      ]
     },
     "execution_count": 145,
     "metadata": {},
     "output_type": "execute_result"
    }
   ],
   "source": [
    "popu[1]"
   ]
  },
  {
   "cell_type": "markdown",
   "metadata": {},
   "source": [
    "## do all at once"
   ]
  },
  {
   "cell_type": "code",
   "execution_count": 146,
   "metadata": {},
   "outputs": [
    {
     "name": "stdout",
     "output_type": "stream",
     "text": [
      "i:10 => (18, 18.0, 19)\n",
      "i:20 => (18, 18.0, 33)\n",
      "i:30 => (18, 18.0, 23)\n",
      "i:40 => (18, 18.0, 26)\n",
      "i:50 => (18, 18.0, 18)\n",
      "i:60 => (18, 18.0, 28)\n",
      "i:70 => (18, 18.0, 28)\n",
      "i:80 => (18, 18.0, 28)\n",
      "i:90 => (18, 18.0, 32)\n",
      "i:100 => (18, 18.0, 28)\n"
     ]
    }
   ],
   "source": [
    "# N generations from current status\n",
    "ProcGA.evolution!(popu,100);"
   ]
  },
  {
   "cell_type": "code",
   "execution_count": 147,
   "metadata": {},
   "outputs": [
    {
     "data": {
      "text/plain": [
       "3×32 Array{Int64,2}:\n",
       " 1  0  2  2  2  4  6   6   6   7  7  0  …  0  0  0  0  0  0  0  0  0  0  0  0\n",
       " 0  1  6  6  6  8  8  11  12  12  0  0     0  0  0  0  0  0  0  0  0  0  0  0\n",
       " 0  0  0  0  0  0  1   0   0   2  2  2     0  0  0  0  0  0  0  0  0  0  0  0"
      ]
     },
     "execution_count": 147,
     "metadata": {},
     "output_type": "execute_result"
    }
   ],
   "source": [
    "popu[1]"
   ]
  },
  {
   "cell_type": "code",
   "execution_count": 148,
   "metadata": {
    "scrolled": true
   },
   "outputs": [
    {
     "data": {
      "text/plain": [
       "3×18 Array{Int64,2}:\n",
       " 1  0  2  2  2  4  6   6   6   7  7  0  0  0  10  10  11  0\n",
       " 0  1  6  6  6  8  8  11  12  12  0  0  0  0   0   0   0  0\n",
       " 0  0  0  0  0  0  1   0   0   2  2  2  4  6   6   6   7  9"
      ]
     },
     "execution_count": 148,
     "metadata": {},
     "output_type": "execute_result"
    }
   ],
   "source": [
    "ProcGA.clipjob(popu[1])"
   ]
  },
  {
   "cell_type": "code",
   "execution_count": 149,
   "metadata": {},
   "outputs": [
    {
     "name": "stdout",
     "output_type": "stream",
     "text": [
      "search: \u001b[0m\u001b[1mw\u001b[22m\u001b[0m\u001b[1mr\u001b[22m\u001b[0m\u001b[1mi\u001b[22m\u001b[0m\u001b[1mt\u001b[22m\u001b[0m\u001b[1me\u001b[22m\u001b[0m\u001b[1md\u001b[22m\u001b[0m\u001b[1ml\u001b[22m\u001b[0m\u001b[1mm\u001b[22m\n",
      "\n"
     ]
    },
    {
     "data": {
      "text/markdown": [
       "```\n",
       "writedlm(f, A, delim='\\t'; opts)\n",
       "```\n",
       "\n",
       "Write `A` (a vector, matrix, or an iterable collection of iterable rows) as text to `f` (either a filename string or an `IO` stream) using the given delimiter `delim` (which defaults to tab, but can be any printable Julia object, typically a `Char` or `AbstractString`).\n",
       "\n",
       "For example, two vectors `x` and `y` of the same length can be written as two columns of tab-delimited text to `f` by either `writedlm(f, [x y])` or by `writedlm(f, zip(x, y))`.\n",
       "\n",
       "# Examples\n",
       "\n",
       "```jldoctest\n",
       "julia> using DelimitedFiles\n",
       "\n",
       "julia> x = [1; 2; 3; 4];\n",
       "\n",
       "julia> y = [5; 6; 7; 8];\n",
       "\n",
       "julia> open(\"delim_file.txt\", \"w\") do io\n",
       "           writedlm(io, [x y])\n",
       "       end\n",
       "\n",
       "julia> readdlm(\"delim_file.txt\", '\\t', Int, '\\n')\n",
       "4×2 Array{Int64,2}:\n",
       " 1  5\n",
       " 2  6\n",
       " 3  7\n",
       " 4  8\n",
       "\n",
       "julia> rm(\"delim_file.txt\")\n",
       "```\n"
      ],
      "text/plain": [
       "\u001b[36m  writedlm(f, A, delim='\\t'; opts)\u001b[39m\n",
       "\n",
       "  Write \u001b[36mA\u001b[39m (a vector, matrix, or an iterable collection of iterable rows) as\n",
       "  text to \u001b[36mf\u001b[39m (either a filename string or an \u001b[36mIO\u001b[39m stream) using the given\n",
       "  delimiter \u001b[36mdelim\u001b[39m (which defaults to tab, but can be any printable Julia\n",
       "  object, typically a \u001b[36mChar\u001b[39m or \u001b[36mAbstractString\u001b[39m).\n",
       "\n",
       "  For example, two vectors \u001b[36mx\u001b[39m and \u001b[36my\u001b[39m of the same length can be written as two\n",
       "  columns of tab-delimited text to \u001b[36mf\u001b[39m by either \u001b[36mwritedlm(f, [x y])\u001b[39m or by\n",
       "  \u001b[36mwritedlm(f, zip(x, y))\u001b[39m.\n",
       "\n",
       "\u001b[1m  Examples\u001b[22m\n",
       "\u001b[1m  ≡≡≡≡≡≡≡≡≡≡\u001b[22m\n",
       "\n",
       "\u001b[36m  julia> using DelimitedFiles\u001b[39m\n",
       "\u001b[36m  \u001b[39m\n",
       "\u001b[36m  julia> x = [1; 2; 3; 4];\u001b[39m\n",
       "\u001b[36m  \u001b[39m\n",
       "\u001b[36m  julia> y = [5; 6; 7; 8];\u001b[39m\n",
       "\u001b[36m  \u001b[39m\n",
       "\u001b[36m  julia> open(\"delim_file.txt\", \"w\") do io\u001b[39m\n",
       "\u001b[36m             writedlm(io, [x y])\u001b[39m\n",
       "\u001b[36m         end\u001b[39m\n",
       "\u001b[36m  \u001b[39m\n",
       "\u001b[36m  julia> readdlm(\"delim_file.txt\", '\\t', Int, '\\n')\u001b[39m\n",
       "\u001b[36m  4×2 Array{Int64,2}:\u001b[39m\n",
       "\u001b[36m   1  5\u001b[39m\n",
       "\u001b[36m   2  6\u001b[39m\n",
       "\u001b[36m   3  7\u001b[39m\n",
       "\u001b[36m   4  8\u001b[39m\n",
       "\u001b[36m  \u001b[39m\n",
       "\u001b[36m  julia> rm(\"delim_file.txt\")\u001b[39m"
      ]
     },
     "execution_count": 149,
     "metadata": {},
     "output_type": "execute_result"
    }
   ],
   "source": [
    "?writedlm"
   ]
  },
  {
   "cell_type": "code",
   "execution_count": null,
   "metadata": {},
   "outputs": [],
   "source": []
  }
 ],
 "metadata": {
  "kernelspec": {
   "display_name": "Julia 1.0.2",
   "language": "julia",
   "name": "julia-1.0"
  },
  "language_info": {
   "file_extension": ".jl",
   "mimetype": "application/julia",
   "name": "julia",
   "version": "1.0.2"
  },
  "toc": {
   "base_numbering": 1,
   "nav_menu": {},
   "number_sections": true,
   "sideBar": true,
   "skip_h1_title": true,
   "title_cell": "Table of Contents",
   "title_sidebar": "Contents",
   "toc_cell": false,
   "toc_position": {},
   "toc_section_display": true,
   "toc_window_display": true
  }
 },
 "nbformat": 4,
 "nbformat_minor": 2
}
