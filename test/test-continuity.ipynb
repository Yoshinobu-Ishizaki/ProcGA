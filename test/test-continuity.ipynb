{
 "cells": [
  {
   "cell_type": "code",
   "execution_count": 13,
   "metadata": {},
   "outputs": [],
   "source": [
    "using Random"
   ]
  },
  {
   "cell_type": "code",
   "execution_count": 35,
   "metadata": {},
   "outputs": [
    {
     "name": "stderr",
     "output_type": "stream",
     "text": [
      "WARNING: replacing module ProcGA.\n"
     ]
    },
    {
     "data": {
      "text/plain": [
       "Main.ProcGA"
      ]
     },
     "execution_count": 35,
     "metadata": {},
     "output_type": "execute_result"
    }
   ],
   "source": [
    "include(\"../src/ProcGA.jl\")"
   ]
  },
  {
   "cell_type": "code",
   "execution_count": 10,
   "metadata": {},
   "outputs": [],
   "source": [
    "l1 = append!(zeros(Int,5),collect(1:5));"
   ]
  },
  {
   "cell_type": "code",
   "execution_count": 16,
   "metadata": {},
   "outputs": [
    {
     "data": {
      "text/plain": [
       "3-element Array{Array{Int64,1},1}:\n",
       " [0, 1, 3, 0, 5, 0, 0, 2, 4, 0]\n",
       " [0, 1, 3, 0, 5, 0, 0, 2, 4, 0]\n",
       " [0, 1, 3, 0, 5, 0, 0, 2, 4, 0]"
      ]
     },
     "execution_count": 16,
     "metadata": {},
     "output_type": "execute_result"
    }
   ],
   "source": [
    "gs = [l1,copy(l1),copy(l1)]"
   ]
  },
  {
   "cell_type": "code",
   "execution_count": 36,
   "metadata": {},
   "outputs": [
    {
     "data": {
      "text/plain": [
       "3-element Array{Array{Int64,1},1}:\n",
       " [3, 1, 0, 2, 4, 0, 0, 0, 5, 0]\n",
       " [2, 5, 0, 1, 3, 0, 4, 0, 0, 0]\n",
       " [2, 0, 0, 1, 0, 0, 0, 3, 4, 5]"
      ]
     },
     "execution_count": 36,
     "metadata": {},
     "output_type": "execute_result"
    }
   ],
   "source": [
    "shuffle!.(gs)"
   ]
  },
  {
   "cell_type": "code",
   "execution_count": 38,
   "metadata": {},
   "outputs": [
    {
     "data": {
      "text/plain": [
       "3-element Array{Array{Int64,1},1}:\n",
       " [0, 2, 0, 0, 1, 3, 4, 5, 0, 0]\n",
       " [0, 1, 4, 0, 5, 2, 3, 0, 0, 0]\n",
       " [3, 1, 0, 5, 0, 2, 0, 4, 0, 0]"
      ]
     },
     "execution_count": 38,
     "metadata": {},
     "output_type": "execute_result"
    }
   ],
   "source": [
    "ProcGA.columnsortjob!(gs)"
   ]
  },
  {
   "cell_type": "code",
   "execution_count": 9,
   "metadata": {},
   "outputs": [
    {
     "data": {
      "text/plain": [
       "10-element Array{Int64,1}:\n",
       " 0\n",
       " 0\n",
       " 0\n",
       " 0\n",
       " 0\n",
       " 1\n",
       " 2\n",
       " 3\n",
       " 4\n",
       " 5"
      ]
     },
     "execution_count": 9,
     "metadata": {},
     "output_type": "execute_result"
    }
   ],
   "source": [
    "l1"
   ]
  },
  {
   "cell_type": "code",
   "execution_count": 5,
   "metadata": {},
   "outputs": [
    {
     "data": {
      "text/plain": [
       "pencontinuity (generic function with 1 method)"
      ]
     },
     "execution_count": 5,
     "metadata": {},
     "output_type": "execute_result"
    }
   ],
   "source": [
    "# consequtive use limit \n",
    "# if id continues more than lmt give penalty\n",
    "function pencontinuity(lst::Array{Int,1},id,lmt)\n",
    "    ln = length(lst)\n",
    "    p = zeros(Int,ln)\n",
    "    chk = [(x == id ? 1 : 0) for x in lst]\n",
    "    \n",
    "    cnt = 0\n",
    "    x0 = 0\n",
    "    for i in 1:ln\n",
    "        x = chk[i]\n",
    "        if x > 0\n",
    "            cnt += 1\n",
    "            p[i] = cnt\n",
    "        else\n",
    "            cnt = 0\n",
    "        end\n",
    "    end\n",
    "    \n",
    "    [ x > lmt ? (x-lmt) : 0 for x in p]\n",
    "end"
   ]
  },
  {
   "cell_type": "code",
   "execution_count": 8,
   "metadata": {},
   "outputs": [
    {
     "data": {
      "text/plain": [
       "11-element Array{Int64,1}:\n",
       " 1\n",
       " 1\n",
       " 1\n",
       " 1\n",
       " 1\n",
       " 0\n",
       " 0\n",
       " 1\n",
       " 1\n",
       " 0\n",
       " 0"
      ]
     },
     "execution_count": 8,
     "metadata": {},
     "output_type": "execute_result"
    }
   ],
   "source": [
    "l1 = vcat(repeat([1],5),[0,0,1,1,0,0])"
   ]
  },
  {
   "cell_type": "code",
   "execution_count": 9,
   "metadata": {},
   "outputs": [
    {
     "data": {
      "text/plain": [
       "11-element Array{Int64,1}:\n",
       " 0\n",
       " 0\n",
       " 0\n",
       " 1\n",
       " 2\n",
       " 0\n",
       " 0\n",
       " 0\n",
       " 0\n",
       " 0\n",
       " 0"
      ]
     },
     "execution_count": 9,
     "metadata": {},
     "output_type": "execute_result"
    }
   ],
   "source": [
    "pencontinuity(l1,1,3)"
   ]
  },
  {
   "cell_type": "code",
   "execution_count": 18,
   "metadata": {},
   "outputs": [
    {
     "data": {
      "text/plain": [
       "2-element Array{Array{Int64,1},1}:\n",
       " [0, 0, 0, 1, 2, 0, 0, 0, 0, 0, 0]\n",
       " [0, 0, 0, 1, 2, 0, 0, 0, 0, 0, 0]"
      ]
     },
     "execution_count": 18,
     "metadata": {},
     "output_type": "execute_result"
    }
   ],
   "source": [
    "pl = ProcGA.listcontinuity([l1,l1],1,3)"
   ]
  },
  {
   "cell_type": "code",
   "execution_count": 25,
   "metadata": {},
   "outputs": [
    {
     "data": {
      "text/plain": [
       "6"
      ]
     },
     "execution_count": 25,
     "metadata": {},
     "output_type": "execute_result"
    }
   ],
   "source": [
    "sum(sum.(pl))"
   ]
  },
  {
   "cell_type": "code",
   "execution_count": 13,
   "metadata": {},
   "outputs": [
    {
     "data": {
      "text/plain": [
       "2-element Array{Array{Int64,1},1}:\n",
       " [2, 2, 2, 2, 2, 0, 0, 2, 2, 0, 0]\n",
       " [0, 0, 0, 0, 0, 0, 0, 0, 0, 0, 0]"
      ]
     },
     "execution_count": 13,
     "metadata": {},
     "output_type": "execute_result"
    }
   ],
   "source": [
    "[l1,l1] .+ [l1,-l1]"
   ]
  },
  {
   "cell_type": "code",
   "execution_count": 14,
   "metadata": {
    "scrolled": true
   },
   "outputs": [
    {
     "name": "stdout",
     "output_type": "stream",
     "text": [
      "search: \u001b[0m\u001b[1ms\u001b[22m\u001b[0m\u001b[1mu\u001b[22m\u001b[0m\u001b[1mm\u001b[22m \u001b[0m\u001b[1ms\u001b[22m\u001b[0m\u001b[1mu\u001b[22m\u001b[0m\u001b[1mm\u001b[22m! \u001b[0m\u001b[1ms\u001b[22m\u001b[0m\u001b[1mu\u001b[22m\u001b[0m\u001b[1mm\u001b[22mmary cum\u001b[0m\u001b[1ms\u001b[22m\u001b[0m\u001b[1mu\u001b[22m\u001b[0m\u001b[1mm\u001b[22m cum\u001b[0m\u001b[1ms\u001b[22m\u001b[0m\u001b[1mu\u001b[22m\u001b[0m\u001b[1mm\u001b[22m! i\u001b[0m\u001b[1ms\u001b[22mn\u001b[0m\u001b[1mu\u001b[22m\u001b[0m\u001b[1mm\u001b[22meric Ver\u001b[0m\u001b[1ms\u001b[22mionN\u001b[0m\u001b[1mu\u001b[22m\u001b[0m\u001b[1mm\u001b[22mber i\u001b[0m\u001b[1ms\u001b[22ms\u001b[0m\u001b[1mu\u001b[22mbnor\u001b[0m\u001b[1mm\u001b[22mal\n",
      "\n"
     ]
    },
    {
     "ename": "MethodError",
     "evalue": "MethodError: no method matching latex(::IOContext{Base.GenericIOBuffer{Array{UInt8,1}}}, ::Markdown.HorizontalRule)\nClosest candidates are:\n  latex(::IO, !Matched::Markdown.Table) at /buildworker/worker/package_linux64/build/usr/share/julia/stdlib/v1.0/Markdown/src/GitHub/table.jl:154\n  latex(::IO, !Matched::Markdown.LaTeX) at /buildworker/worker/package_linux64/build/usr/share/julia/stdlib/v1.0/Markdown/src/IPython/IPython.jl:28\n  latex(::IO, !Matched::Markdown.MD) at /buildworker/worker/package_linux64/build/usr/share/julia/stdlib/v1.0/Markdown/src/render/latex.jl:19\n  ...",
     "output_type": "error",
     "traceback": [
      "MethodError: no method matching latex(::IOContext{Base.GenericIOBuffer{Array{UInt8,1}}}, ::Markdown.HorizontalRule)\nClosest candidates are:\n  latex(::IO, !Matched::Markdown.Table) at /buildworker/worker/package_linux64/build/usr/share/julia/stdlib/v1.0/Markdown/src/GitHub/table.jl:154\n  latex(::IO, !Matched::Markdown.LaTeX) at /buildworker/worker/package_linux64/build/usr/share/julia/stdlib/v1.0/Markdown/src/IPython/IPython.jl:28\n  latex(::IO, !Matched::Markdown.MD) at /buildworker/worker/package_linux64/build/usr/share/julia/stdlib/v1.0/Markdown/src/render/latex.jl:19\n  ...",
      "",
      "Stacktrace:",
      " [1] latex(::IOContext{Base.GenericIOBuffer{Array{UInt8,1}}}, ::Array{Any,1}) at /buildworker/worker/package_linux64/build/usr/share/julia/stdlib/v1.0/Markdown/src/render/latex.jl:23",
      " [2] latex at /buildworker/worker/package_linux64/build/usr/share/julia/stdlib/v1.0/Markdown/src/render/latex.jl:19 [inlined]",
      " [3] show at /buildworker/worker/package_linux64/build/usr/share/julia/stdlib/v1.0/Markdown/src/render/latex.jl:172 [inlined]",
      " [4] limitstringmime(::MIME{Symbol(\"text/latex\")}, ::Markdown.MD) at /home/yoshinobu/.julia/packages/IJulia/yRDsd/src/inline.jl:37",
      " [5] display_mimestring(::MIME{Symbol(\"text/latex\")}, ::Markdown.MD) at /home/yoshinobu/.julia/packages/IJulia/yRDsd/src/execute_request.jl:72",
      " [6] display_dict(::Markdown.MD) at /home/yoshinobu/.julia/packages/IJulia/yRDsd/src/execute_request.jl:100",
      " [7] #invokelatest#1 at ./essentials.jl:697 [inlined]",
      " [8] invokelatest at ./essentials.jl:696 [inlined]",
      " [9] execute_request(::ZMQ.Socket, ::IJulia.Msg) at /home/yoshinobu/.julia/packages/IJulia/yRDsd/src/execute_request.jl:255",
      " [10] #invokelatest#1 at ./essentials.jl:697 [inlined]",
      " [11] invokelatest at ./essentials.jl:696 [inlined]",
      " [12] eventloop(::ZMQ.Socket) at /home/yoshinobu/.julia/packages/IJulia/yRDsd/src/eventloop.jl:8",
      " [13] (::getfield(IJulia, Symbol(\"##12#15\")))() at ./task.jl:259"
     ]
    }
   ],
   "source": [
    "?sum"
   ]
  },
  {
   "cell_type": "code",
   "execution_count": null,
   "metadata": {},
   "outputs": [],
   "source": []
  }
 ],
 "metadata": {
  "kernelspec": {
   "display_name": "Julia 1.0.2",
   "language": "julia",
   "name": "julia-1.0"
  },
  "language_info": {
   "file_extension": ".jl",
   "mimetype": "application/julia",
   "name": "julia",
   "version": "1.0.2"
  },
  "toc": {
   "base_numbering": 1,
   "nav_menu": {},
   "number_sections": true,
   "sideBar": true,
   "skip_h1_title": true,
   "title_cell": "Table of Contents",
   "title_sidebar": "Contents",
   "toc_cell": false,
   "toc_position": {},
   "toc_section_display": true,
   "toc_window_display": false
  }
 },
 "nbformat": 4,
 "nbformat_minor": 2
}
