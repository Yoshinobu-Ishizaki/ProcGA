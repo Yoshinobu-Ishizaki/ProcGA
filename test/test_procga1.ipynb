{
 "cells": [
  {
   "cell_type": "markdown",
   "metadata": {},
   "source": [
    "## Definition and making initial generation"
   ]
  },
  {
   "cell_type": "code",
   "execution_count": 8,
   "metadata": {
    "scrolled": true
   },
   "outputs": [
    {
     "name": "stderr",
     "output_type": "stream",
     "text": [
      "┌ Info: Recompiling stale cache file /home/yoshinobu/.julia/compiled/v1.0/DataFrames/AR9oZ.ji for DataFrames [a93c6f00-e57d-5684-b7b6-d8193f3e46c0]\n",
      "└ @ Base loading.jl:1187\n"
     ]
    }
   ],
   "source": [
    "using DataFrames"
   ]
  },
  {
   "cell_type": "code",
   "execution_count": null,
   "metadata": {},
   "outputs": [],
   "source": [
    "# Define proctable as a condition matrix for each material.\n",
    "# Each material has its own process information.\n",
    "\n",
    "# p1 : pipe cutting\n",
    "# p2 : pre-bend-annealing\n",
    "# p3 : icing (for material1 only)\n",
    "# p4 : bending (rotation)\n",
    "# p5 : bending (press) \n",
    "# p6 : pre-calib-anealing\n",
    "# p7 : calibration (horizontal)\n",
    "# p8 : calibration (vertical)\n",
    "# p9 : destress-anealing\n",
    "# p10 : buffing1 \n",
    "# p11 : MC cutting\n",
    "# p12 : buffing2\n",
    "\n",
    "# mat1 is a horizontal bending \n",
    "# mat2 is a vertical bending\n",
    "\n",
    "# informataion dictionary for process\n",
    "proclist = [\"pipe_cut\",\"prebend-anneal\",\"icing\",\"rotation-bend\",\"press-bend\",\"precalib-anneal\",\"h-calib\",\"v-calib\",\"destress\",\"buff1\",\"MC\",\"buff2\"]"
   ]
  },
  {
   "cell_type": "code",
   "execution_count": 202,
   "metadata": {},
   "outputs": [
    {
     "data": {
      "text/plain": [
       "3×2 Array{Any,2}:\n",
       " \"m1\"   50\n",
       " \"m2\"   50\n",
       " \"m3\"  100"
      ]
     },
     "execution_count": 202,
     "metadata": {},
     "output_type": "execute_result"
    }
   ],
   "source": [
    "# list of information for each material\n",
    "mattable = [[\"m1\" 50]; [\"m2\" 50]; [\"m3\" 100]]"
   ]
  },
  {
   "cell_type": "code",
   "execution_count": 191,
   "metadata": {},
   "outputs": [
    {
     "data": {
      "text/plain": [
       "3×12 Array{Int64,2}:\n",
       " 1  3  0  1  0  3  2  0  0  2  1  0\n",
       " 1  3  0  1  0  3  1  0  1  0  0  0\n",
       " 1  0  0  0  0  3  0  2  0  0  1  2"
      ]
     },
     "execution_count": 191,
     "metadata": {},
     "output_type": "execute_result"
    }
   ],
   "source": [
    "proctable = [\n",
    "    [1 3 0 1 0 3 2 0 0 2 1 0]; # horizontal\n",
    "    [1 3 0 1 0 3 1 0 1 0 0 0]; # calib only \n",
    "    [1 0 0 0 0 3 0 2 0 0 1 2]; # vertical\n",
    "]"
   ]
  },
  {
   "cell_type": "code",
   "execution_count": 192,
   "metadata": {},
   "outputs": [
    {
     "data": {
      "text/plain": [
       "(3, 12)"
      ]
     },
     "execution_count": 192,
     "metadata": {},
     "output_type": "execute_result"
    }
   ],
   "source": [
    "size(proctable)"
   ]
  },
  {
   "cell_type": "code",
   "execution_count": 32,
   "metadata": {},
   "outputs": [
    {
     "data": {
      "text/plain": [
       "joblist (generic function with 1 method)"
      ]
     },
     "execution_count": 32,
     "metadata": {},
     "output_type": "execute_result"
    }
   ],
   "source": [
    "function joblist(lst)\n",
    "    a = []\n",
    "    for i in 1:length(lst)\n",
    "        append!(a,repeat([i],lst[i]))\n",
    "    end\n",
    "    return(a)\n",
    "end"
   ]
  },
  {
   "cell_type": "code",
   "execution_count": 45,
   "metadata": {},
   "outputs": [
    {
     "data": {
      "text/plain": [
       "jobtablebase (generic function with 1 method)"
      ]
     },
     "execution_count": 45,
     "metadata": {},
     "output_type": "execute_result"
    }
   ],
   "source": [
    "# make job time table base (ignoring sequence)\n",
    "function jobtablebase(ptable)\n",
    "    lp = sum(ptable)\n",
    "    sz = size(ptable)\n",
    "    \n",
    "    tb = zeros(Int,sz[1],lp)\n",
    "    for k in 1:sz[1]\n",
    "        jl = joblist(ptable[k,:])\n",
    "        tb[k,1:length(jl)] = jl\n",
    "    end\n",
    "    tb\n",
    "end"
   ]
  },
  {
   "cell_type": "code",
   "execution_count": 193,
   "metadata": {},
   "outputs": [
    {
     "data": {
      "text/plain": [
       "3×32 Array{Int64,2}:\n",
       " 1  2  2  2  4  6   6   6   7  7  10  …  0  0  0  0  0  0  0  0  0  0  0  0\n",
       " 1  2  2  2  4  6   6   6   7  9   0     0  0  0  0  0  0  0  0  0  0  0  0\n",
       " 1  6  6  6  8  8  11  12  12  0   0     0  0  0  0  0  0  0  0  0  0  0  0"
      ]
     },
     "execution_count": 193,
     "metadata": {},
     "output_type": "execute_result"
    }
   ],
   "source": [
    "jtable = jobtablebase(proctable)"
   ]
  },
  {
   "cell_type": "code",
   "execution_count": 47,
   "metadata": {},
   "outputs": [],
   "source": [
    "using Random"
   ]
  },
  {
   "cell_type": "code",
   "execution_count": 106,
   "metadata": {},
   "outputs": [
    {
     "data": {
      "text/plain": [
       "possort! (generic function with 1 method)"
      ]
     },
     "execution_count": 106,
     "metadata": {},
     "output_type": "execute_result"
    }
   ],
   "source": [
    "# sort list in order while keeping position of 0 entity\n",
    "function possort!(jtbl)\n",
    "    for i in 1:size(jtbl)[1]\n",
    "        lst = jtbl[i,:]\n",
    "        st = sort(lst[lst.>0]) # sorted value\n",
    "        pos = range(1,stop=length(lst))[lst.>0] # index of non zero\n",
    "    \n",
    "        for k in 1:length(pos)\n",
    "            lst[pos[k]] = st[k]\n",
    "        end\n",
    "        jtbl[i,:] = lst\n",
    "    end\n",
    "    jtbl\n",
    "end"
   ]
  },
  {
   "cell_type": "code",
   "execution_count": 53,
   "metadata": {},
   "outputs": [
    {
     "data": {
      "text/plain": [
       "jobtable (generic function with 1 method)"
      ]
     },
     "execution_count": 53,
     "metadata": {},
     "output_type": "execute_result"
    }
   ],
   "source": [
    "# make shuffled job table\n",
    "function jobtable(ptable)\n",
    "    jtable=jobtablebase(ptable)\n",
    "    for i in 1:size(jtable)[1]\n",
    "        jtable[i,:] = shuffle(jtable[i,:])\n",
    "    end\n",
    "    jtable\n",
    "end"
   ]
  },
  {
   "cell_type": "code",
   "execution_count": 194,
   "metadata": {},
   "outputs": [
    {
     "data": {
      "text/plain": [
       "3×32 Array{Int64,2}:\n",
       " 0  7  0  2  0  0  0  0  7  0  0   6  …  10  0  4  6  10  11  0  0  0  0  0\n",
       " 7  0  9  2  0  0  0  0  0  0  0   2      0  6  0  0   0   0  0  0  0  0  6\n",
       " 0  0  0  0  0  0  0  0  0  6  0  11      0  0  0  0   0   0  0  0  6  0  0"
      ]
     },
     "execution_count": 194,
     "metadata": {},
     "output_type": "execute_result"
    }
   ],
   "source": [
    "jtable = jobtable(proctable)"
   ]
  },
  {
   "cell_type": "code",
   "execution_count": 195,
   "metadata": {},
   "outputs": [
    {
     "data": {
      "text/plain": [
       "3×32 Array{Int64,2}:\n",
       " 0  1  0  2  0  0  0  0  2  0  0  2  …  7  0  7  10  10  11  0  0   0  0  0\n",
       " 1  0  2  2  0  0  0  0  0  0  0  2     0  7  0   0   0   0  0  0   0  0  9\n",
       " 0  0  0  0  0  0  0  0  0  1  0  6     0  0  0   0   0   0  0  0  12  0  0"
      ]
     },
     "execution_count": 195,
     "metadata": {},
     "output_type": "execute_result"
    }
   ],
   "source": [
    "possort!(jtable)"
   ]
  },
  {
   "cell_type": "code",
   "execution_count": 196,
   "metadata": {},
   "outputs": [
    {
     "data": {
      "text/plain": [
       "initpopulation (generic function with 1 method)"
      ]
     },
     "execution_count": 196,
     "metadata": {},
     "output_type": "execute_result"
    }
   ],
   "source": [
    "# create initial population of size n\n",
    "function initpopulation(n,ptable)\n",
    "    jt = jobtable(ptable)\n",
    "    popu = zeros(Int,n,size(jt)[1],size(jt)[2])\n",
    "    for i in 1:n\n",
    "        p = jobtable(ptable)\n",
    "        possort!(p)\n",
    "        popu[i,:,:] = p\n",
    "    end\n",
    "    popu\n",
    "end"
   ]
  },
  {
   "cell_type": "code",
   "execution_count": 204,
   "metadata": {},
   "outputs": [],
   "source": [
    "gen1 = initpopulation(100,proctable);"
   ]
  },
  {
   "cell_type": "code",
   "execution_count": 205,
   "metadata": {
    "scrolled": true
   },
   "outputs": [
    {
     "data": {
      "text/plain": [
       "3×32 Array{Int64,2}:\n",
       " 0  1  0  2  0  0  2  0  2  0  0  4  …  0  6  6  7   0  7  0  10  10  0  11\n",
       " 1  2  0  0  0  2  0  0  0  0  0  0     0  4  0  6   6  0  0   6   7  9   0\n",
       " 1  0  0  6  0  0  0  0  6  0  0  0     0  0  8  0  11  0  0  12   0  0  12"
      ]
     },
     "execution_count": 205,
     "metadata": {},
     "output_type": "execute_result"
    }
   ],
   "source": [
    "gen1[1,:,:]"
   ]
  },
  {
   "cell_type": "code",
   "execution_count": 206,
   "metadata": {
    "scrolled": true
   },
   "outputs": [
    {
     "data": {
      "text/plain": [
       "3×32 Array{Int64,2}:\n",
       " 0  0  0  0  1  2  0  2  0  2  0  0  0  …  0  0  7  0  0  7  10  0  10  0  11\n",
       " 0  1  2  0  0  0  0  0  0  0  0  2  2     6  0  0  6  0  0   7  0   0  0   9\n",
       " 0  0  1  0  0  6  0  6  0  0  0  6  8     0  0  0  0  0  0   0  0   0  0   0"
      ]
     },
     "execution_count": 206,
     "metadata": {},
     "output_type": "execute_result"
    }
   ],
   "source": [
    "gen1[2,:,:]"
   ]
  },
  {
   "cell_type": "markdown",
   "metadata": {},
   "source": [
    "## validate job tables"
   ]
  },
  {
   "cell_type": "code",
   "execution_count": 173,
   "metadata": {},
   "outputs": [
    {
     "data": {
      "text/plain": [
       "1-element Array{Dict{Symbol,Any},1}:\n",
       " Dict(:id=>[2, 6],:cnt=>150)"
      ]
     },
     "execution_count": 173,
     "metadata": {},
     "output_type": "execute_result"
    }
   ],
   "source": [
    "# basically each job number appearing in same column must be exclusive except groupable items until amount of count is below limit.\n",
    "groupable = [Dict(:id =>[2,6], :cnt => 150)] # annealing can be done simultaneously"
   ]
  },
  {
   "cell_type": "code",
   "execution_count": 177,
   "metadata": {},
   "outputs": [
    {
     "data": {
      "text/plain": [
       "isgroupable (generic function with 1 method)"
      ]
     },
     "execution_count": 177,
     "metadata": {},
     "output_type": "execute_result"
    }
   ],
   "source": [
    "function isgroupable(x, gp)\n",
    "    for i in 1:length(gp)\n",
    "        if x in gp[i][:id]\n",
    "            return(true)\n",
    "        end\n",
    "    end\n",
    "    return(false)\n",
    "end"
   ]
  },
  {
   "cell_type": "code",
   "execution_count": 180,
   "metadata": {},
   "outputs": [
    {
     "data": {
      "text/plain": [
       "false"
      ]
     },
     "execution_count": 180,
     "metadata": {},
     "output_type": "execute_result"
    }
   ],
   "source": [
    "isgroupable(5,groupable)"
   ]
  },
  {
   "cell_type": "code",
   "execution_count": 181,
   "metadata": {},
   "outputs": [
    {
     "data": {
      "text/plain": [
       "groupcapacity (generic function with 1 method)"
      ]
     },
     "execution_count": 181,
     "metadata": {},
     "output_type": "execute_result"
    }
   ],
   "source": [
    "function groupcapacity(x,gp)\n",
    "    for i in 1:length(gp)\n",
    "        if x in gp[i][:id]\n",
    "            return gp[i][:cnt]\n",
    "        end\n",
    "    end\n",
    "    return(0)\n",
    "end"
   ]
  },
  {
   "cell_type": "code",
   "execution_count": 183,
   "metadata": {},
   "outputs": [
    {
     "data": {
      "text/plain": [
       "150"
      ]
     },
     "execution_count": 183,
     "metadata": {},
     "output_type": "execute_result"
    }
   ],
   "source": [
    "groupcapacity(2,groupable)"
   ]
  },
  {
   "cell_type": "code",
   "execution_count": 210,
   "metadata": {},
   "outputs": [
    {
     "data": {
      "text/plain": [
       "checkvalidity (generic function with 2 methods)"
      ]
     },
     "execution_count": 210,
     "metadata": {},
     "output_type": "execute_result"
    }
   ],
   "source": [
    "# check if each column is valid combination of process\n",
    "function checkvalidity(jtbl,gp,mt)\n",
    "    flg = true\n",
    "    k,ll = size(jtbl)\n",
    "    for i in 1:ll\n",
    "        q = mt[1,2]\n",
    "        for j in 1:k\n",
    "            a = jtbl[j,i]\n",
    "            for m in (j+1):k\n",
    "                if jtbl[m,i] == a\n",
    "                    if isgroupable(a,gp)\n",
    "                        q += mt[m,2]\n",
    "                    else\n",
    "                        flg = false\n",
    "                    end\n",
    "                end\n",
    "            end\n",
    "            if q > groupcapacity(a,gp)\n",
    "                flg = false\n",
    "            end\n",
    "            if flg == false\n",
    "                return(flg)\n",
    "            end\n",
    "        end\n",
    "    end\n",
    "    return(flg)\n",
    "end"
   ]
  },
  {
   "cell_type": "code",
   "execution_count": 215,
   "metadata": {},
   "outputs": [
    {
     "data": {
      "text/plain": [
       "false"
      ]
     },
     "execution_count": 215,
     "metadata": {},
     "output_type": "execute_result"
    }
   ],
   "source": [
    "checkvalidity(gen1[5,:,:],groupable,mattable)"
   ]
  },
  {
   "cell_type": "code",
   "execution_count": 223,
   "metadata": {},
   "outputs": [
    {
     "name": "stdout",
     "output_type": "stream",
     "text": [
      "id = 1\n"
     ]
    },
    {
     "data": {
      "text/plain": [
       "3×32 Array{Int64,2}:\n",
       " 0  1  0  2  0  0  2  0  2  0  0  4  …  0  6  6  7   0  7  0  10  10  0  11\n",
       " 1  2  0  0  0  2  0  0  0  0  0  0     0  4  0  6   6  0  0   6   7  9   0\n",
       " 1  0  0  6  0  0  0  0  6  0  0  0     0  0  8  0  11  0  0  12   0  0  12"
      ]
     },
     "execution_count": 223,
     "metadata": {},
     "output_type": "execute_result"
    }
   ],
   "source": [
    "for i in 1:100\n",
    "    if !checkvalidity(gen1[i,:,:],groupable,mattable)\n",
    "        println(\"id = $i\")\n",
    "        return(gen1[i,:,:])\n",
    "    end\n",
    "end"
   ]
  },
  {
   "cell_type": "code",
   "execution_count": 290,
   "metadata": {},
   "outputs": [
    {
     "data": {
      "text/plain": [
       "validatejob1 (generic function with 1 method)"
      ]
     },
     "execution_count": 290,
     "metadata": {},
     "output_type": "execute_result"
    }
   ],
   "source": [
    "function validatejob1(jtbl,gp,mt)\n",
    "    k,ll = size(jtbl)\n",
    "    for i in 1:ll\n",
    "        q = mt[1,2]\n",
    "        for j in 1:k\n",
    "            a = jtbl[j,i]\n",
    "            for m in (j+1):k\n",
    "                if jtbl[m,i] == a\n",
    "                    if isgroupable(a,gp)\n",
    "                        q += mt[m,2]\n",
    "                        if q > groupcapacity(a,gp)\n",
    "                            jtbl[m,i:end] = circshift(jtbl[m,i:end],1)\n",
    "                            break\n",
    "                        end\n",
    "                    else\n",
    "                        # circular shift latter data\n",
    "                        jtbl[m,i:end] = circshift(jtbl[m,i:end],1)\n",
    "                        break\n",
    "                    end\n",
    "                end\n",
    "            end\n",
    "        end\n",
    "    end\n",
    "    return(possort!(jtbl))\n",
    "end"
   ]
  },
  {
   "cell_type": "code",
   "execution_count": 232,
   "metadata": {},
   "outputs": [
    {
     "data": {
      "text/plain": [
       "validatejob (generic function with 2 methods)"
      ]
     },
     "execution_count": 232,
     "metadata": {},
     "output_type": "execute_result"
    }
   ],
   "source": [
    "function validatejob(jtbl,gp,mt,maxcount = 100)\n",
    "    i = maxcount\n",
    "    while !checkvalidity(jtbl,gp,mt) | i > 0\n",
    "        jtbl = validatejob1(jtbl,gp,mt)\n",
    "        i -= 1\n",
    "    end\n",
    "    return(jtbl)\n",
    "end"
   ]
  },
  {
   "cell_type": "code",
   "execution_count": 291,
   "metadata": {},
   "outputs": [
    {
     "data": {
      "text/plain": [
       "3×32 Array{Int64,2}:\n",
       " 0  1  0  2  0  0  2  0  2  0  0  4  0  …  6   6   7  0  7  0  10  10   0  11\n",
       " 1  2  2  0  2  4  0  6  0  6  6  0  7     0   0   0  0  0  0   0   0   0   0\n",
       " 0  0  0  1  0  6  0  0  6  0  0  0  0     0  11  12  0  0  0   0   0  12   0"
      ]
     },
     "execution_count": 291,
     "metadata": {},
     "output_type": "execute_result"
    }
   ],
   "source": [
    "validatejob(gen1[1,:,:],groupable,mattable)"
   ]
  },
  {
   "cell_type": "markdown",
   "metadata": {},
   "source": [
    "## valid length and sorting"
   ]
  },
  {
   "cell_type": "code",
   "execution_count": 124,
   "metadata": {},
   "outputs": [
    {
     "data": {
      "text/plain": [
       "validlength (generic function with 1 method)"
      ]
     },
     "execution_count": 124,
     "metadata": {},
     "output_type": "execute_result"
    }
   ],
   "source": [
    "# get valid length of job time table\n",
    "function validlength(jtb)\n",
    "    l0 = size(jtb)[2]\n",
    "    l = l0\n",
    "    for i in l0:-1:1\n",
    "        if sum(jtb[:,i]) == 0\n",
    "            l-=1\n",
    "        else\n",
    "            break\n",
    "        end\n",
    "    end\n",
    "    return(l)\n",
    "end"
   ]
  },
  {
   "cell_type": "code",
   "execution_count": 158,
   "metadata": {},
   "outputs": [
    {
     "data": {
      "text/plain": [
       "validlengthlist (generic function with 1 method)"
      ]
     },
     "execution_count": 158,
     "metadata": {},
     "output_type": "execute_result"
    }
   ],
   "source": [
    "function validlengthlist(ptbl)\n",
    "    ll = size(ptbl)[1]\n",
    "    tl = zeros(Int, ll)\n",
    "    for i in 1:ll\n",
    "        tl[i] = validlength(ptbl[i,:,:])\n",
    "    end\n",
    "    tl\n",
    "end"
   ]
  },
  {
   "cell_type": "code",
   "execution_count": 235,
   "metadata": {},
   "outputs": [],
   "source": [
    "tl = validlengthlist(gen1);"
   ]
  },
  {
   "cell_type": "code",
   "execution_count": 236,
   "metadata": {},
   "outputs": [
    {
     "data": {
      "text/plain": [
       "28"
      ]
     },
     "execution_count": 236,
     "metadata": {},
     "output_type": "execute_result"
    }
   ],
   "source": [
    "# this is a best proc combination from gen1\n",
    "minimum(tl)"
   ]
  },
  {
   "cell_type": "code",
   "execution_count": 237,
   "metadata": {
    "scrolled": true
   },
   "outputs": [
    {
     "data": {
      "text/plain": [
       "1-element Array{Int64,1}:\n",
       " 22"
      ]
     },
     "execution_count": 237,
     "metadata": {},
     "output_type": "execute_result"
    }
   ],
   "source": [
    "findall(x->x==minimum(tl),tl)"
   ]
  },
  {
   "cell_type": "code",
   "execution_count": 144,
   "metadata": {},
   "outputs": [
    {
     "data": {
      "text/plain": [
       "sortpopulation (generic function with 1 method)"
      ]
     },
     "execution_count": 144,
     "metadata": {},
     "output_type": "execute_result"
    }
   ],
   "source": [
    "# sort population table by its valid length\n",
    "function sortpopulation(pptbl)\n",
    "    ll = size(pptbl)[1]\n",
    "    tl = zeros(Int, ll)\n",
    "    for i in 1:ll\n",
    "        tl[i] = validlength(pptbl[i,:,:])\n",
    "    end\n",
    "    df = DataFrame(idx = collect(1:ll), tl=tl)\n",
    "    sort!(df,:tl)\n",
    "    pptbl[df[:idx],:,:]\n",
    "end"
   ]
  },
  {
   "cell_type": "code",
   "execution_count": 238,
   "metadata": {},
   "outputs": [],
   "source": [
    "spopu = sortpopulation(gen1);"
   ]
  },
  {
   "cell_type": "code",
   "execution_count": 292,
   "metadata": {},
   "outputs": [
    {
     "data": {
      "text/plain": [
       "3×32 Array{Int64,2}:\n",
       " 0  0  1  2  0  0  0  0  2  2  0  0  0  …   0  10  0   0  10  11  0  0  0  0\n",
       " 0  0  0  0  0  0  1  2  2  2  0  4  0      7   0  9   0   0   0  0  0  0  0\n",
       " 1  0  6  0  0  0  0  0  6  0  6  8  0     11  12  0  12   0   0  0  0  0  0"
      ]
     },
     "execution_count": 292,
     "metadata": {},
     "output_type": "execute_result"
    }
   ],
   "source": [
    "t1 = spopu[1,:,:]"
   ]
  },
  {
   "cell_type": "code",
   "execution_count": 295,
   "metadata": {},
   "outputs": [
    {
     "data": {
      "text/plain": [
       "shrinkjob1! (generic function with 1 method)"
      ]
     },
     "execution_count": 295,
     "metadata": {},
     "output_type": "execute_result"
    }
   ],
   "source": [
    "# shrink job table by skipping 0 column\n",
    "function shrinkjob1!(jtbl)\n",
    "    flg = false\n",
    "    cols = validlength(jtbl)\n",
    "    for j in 1:cols\n",
    "        if sum(jtbl[:,j]) == 0\n",
    "            jtbl[:,j:end] = circshift(jtbl[:,j:end],(0,-1))\n",
    "            flg = true\n",
    "        end\n",
    "    end\n",
    "    return(flg)\n",
    "end"
   ]
  },
  {
   "cell_type": "code",
   "execution_count": 296,
   "metadata": {},
   "outputs": [
    {
     "data": {
      "text/plain": [
       "shrinkjob! (generic function with 1 method)"
      ]
     },
     "execution_count": 296,
     "metadata": {},
     "output_type": "execute_result"
    }
   ],
   "source": [
    "function shrinkjob!(jtbl)\n",
    "    while true\n",
    "        if !shrinkjob1!(jtbl)\n",
    "            break\n",
    "        end\n",
    "    end\n",
    "    jtbl\n",
    "end"
   ]
  },
  {
   "cell_type": "code",
   "execution_count": 298,
   "metadata": {},
   "outputs": [
    {
     "data": {
      "text/plain": [
       "3×32 Array{Int64,2}:\n",
       " 0  1  2  0  0  2  2  0  0  4  6  6  0  …  11  0  0  0  0  0  0  0  0  0  0\n",
       " 0  0  0  1  2  2  2  0  4  6  0  6  0      0  0  0  0  0  0  0  0  0  0  0\n",
       " 1  6  0  0  0  6  0  6  8  0  0  0  8      0  0  0  0  0  0  0  0  0  0  0"
      ]
     },
     "execution_count": 298,
     "metadata": {},
     "output_type": "execute_result"
    }
   ],
   "source": [
    "shrinkjob!(t1)"
   ]
  },
  {
   "cell_type": "code",
   "execution_count": 164,
   "metadata": {},
   "outputs": [],
   "source": [
    "tl2 = validlengthlist(spopu);"
   ]
  },
  {
   "cell_type": "code",
   "execution_count": 169,
   "metadata": {},
   "outputs": [
    {
     "data": {
      "text/plain": [
       "2-element Array{Int64,1}:\n",
       " 1\n",
       " 2"
      ]
     },
     "execution_count": 169,
     "metadata": {},
     "output_type": "execute_result"
    }
   ],
   "source": [
    "findall(x->x==19,tl2)"
   ]
  },
  {
   "cell_type": "markdown",
   "metadata": {},
   "source": [
    "## survival"
   ]
  },
  {
   "cell_type": "code",
   "execution_count": 299,
   "metadata": {},
   "outputs": [
    {
     "data": {
      "text/plain": [
       "survive (generic function with 2 methods)"
      ]
     },
     "execution_count": 299,
     "metadata": {},
     "output_type": "execute_result"
    }
   ],
   "source": [
    "# inferior genes cannot live long\n",
    "function survive(pptbl, rate = 0.8)\n",
    "    ll = Int(floor(size(pptbl)[1]*rate))\n",
    "    return(pptbl[1:ll,:,:])\n",
    "end"
   ]
  },
  {
   "cell_type": "code",
   "execution_count": null,
   "metadata": {},
   "outputs": [],
   "source": []
  },
  {
   "cell_type": "markdown",
   "metadata": {},
   "source": [
    "## cross over and mutation"
   ]
  },
  {
   "cell_type": "code",
   "execution_count": null,
   "metadata": {},
   "outputs": [],
   "source": []
  }
 ],
 "metadata": {
  "kernelspec": {
   "display_name": "Julia 1.0.1",
   "language": "julia",
   "name": "julia-1.0"
  },
  "language_info": {
   "file_extension": ".jl",
   "mimetype": "application/julia",
   "name": "julia",
   "version": "1.0.1"
  },
  "toc": {
   "base_numbering": 1,
   "nav_menu": {},
   "number_sections": true,
   "sideBar": true,
   "skip_h1_title": true,
   "title_cell": "Table of Contents",
   "title_sidebar": "Contents",
   "toc_cell": false,
   "toc_position": {},
   "toc_section_display": true,
   "toc_window_display": false
  }
 },
 "nbformat": 4,
 "nbformat_minor": 2
}
