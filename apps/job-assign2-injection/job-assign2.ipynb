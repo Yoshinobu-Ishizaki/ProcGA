{
 "cells": [
  {
   "cell_type": "markdown",
   "metadata": {},
   "source": [
    "# Process optimization by genetic algorithm"
   ]
  },
  {
   "cell_type": "markdown",
   "metadata": {},
   "source": [
    "job j1~j5 are non-sequencial\n",
    "load is a hour  needed to finish each job\n",
    "number in row x>=3 is count of jobs\n",
    "\n",
    "how can we assign jobs to each person to minimize total time span while keeping each persons time limit.\n"
   ]
  },
  {
   "cell_type": "code",
   "execution_count": 1,
   "metadata": {},
   "outputs": [
    {
     "data": {
      "text/plain": [
       "Main.ProcGA"
      ]
     },
     "execution_count": 1,
     "metadata": {},
     "output_type": "execute_result"
    }
   ],
   "source": [
    "include(\"../../src/ProcGA.jl\")"
   ]
  },
  {
   "cell_type": "code",
   "execution_count": 2,
   "metadata": {},
   "outputs": [],
   "source": [
    "using CSV,DelimitedFiles\n",
    "using DataFrames,Missings\n",
    "using Statistics"
   ]
  },
  {
   "cell_type": "code",
   "execution_count": 3,
   "metadata": {},
   "outputs": [],
   "source": [
    "using Plots"
   ]
  },
  {
   "cell_type": "code",
   "execution_count": 4,
   "metadata": {
    "scrolled": true
   },
   "outputs": [
    {
     "data": {
      "text/plain": [
       "Plots.GRBackend()"
      ]
     },
     "execution_count": 4,
     "metadata": {},
     "output_type": "execute_result"
    }
   ],
   "source": [
    "gr()"
   ]
  },
  {
   "cell_type": "markdown",
   "metadata": {},
   "source": [
    "## reading data"
   ]
  },
  {
   "cell_type": "code",
   "execution_count": 5,
   "metadata": {},
   "outputs": [],
   "source": [
    "ptbl = CSV.read(\"proctable.csv\",header = 1);"
   ]
  },
  {
   "cell_type": "code",
   "execution_count": 6,
   "metadata": {},
   "outputs": [
    {
     "data": {
      "text/plain": [
       "10×2 Array{Any,2}:\n",
       " \"v1\"  50\n",
       " \"v2\"  50\n",
       " \"v3\"  50\n",
       " \"v4\"  50\n",
       " \"v5\"  50\n",
       " \"h1\"  50\n",
       " \"h2\"  50\n",
       " \"h3\"  50\n",
       " \"h4\"  50\n",
       " \"h5\"  50"
      ]
     },
     "execution_count": 6,
     "metadata": {},
     "output_type": "execute_result"
    }
   ],
   "source": [
    "mtbl = convert(Array, ptbl[1:2])"
   ]
  },
  {
   "cell_type": "code",
   "execution_count": 7,
   "metadata": {},
   "outputs": [
    {
     "data": {
      "text/plain": [
       "10×14 Array{Int64,2}:\n",
       " 1  0  0  0  0  0  3  0  2  0  0  2  2  2\n",
       " 1  0  0  0  0  0  3  0  2  0  0  2  2  2\n",
       " 1  0  0  0  0  0  3  0  2  0  0  2  2  2\n",
       " 1  0  0  0  0  0  3  0  2  0  0  2  2  2\n",
       " 1  0  0  0  0  0  3  0  2  0  0  2  2  2\n",
       " 1  3  0  0  1  0  3  0  0  2  2  2  0  2\n",
       " 1  3  0  0  1  0  3  0  0  2  2  2  0  2\n",
       " 1  3  0  0  1  0  3  0  0  2  2  2  0  2\n",
       " 1  3  0  0  1  0  3  0  0  2  2  2  0  2\n",
       " 1  3  0  0  1  0  3  0  0  2  2  2  0  2"
      ]
     },
     "execution_count": 7,
     "metadata": {},
     "output_type": "execute_result"
    }
   ],
   "source": [
    "ptbl2 = [coalesce.(x,0) for x in convert(Array, ptbl[3:end])]"
   ]
  },
  {
   "cell_type": "code",
   "execution_count": 8,
   "metadata": {},
   "outputs": [
    {
     "data": {
      "text/plain": [
       "14-element Array{String,1}:\n",
       " \"pipecut\"           \n",
       " \"anneal_bs_prebend\" \n",
       " \"anneal_ns_prebend\" \n",
       " \"icing\"             \n",
       " \"rotbend\"           \n",
       " \"pressbend\"         \n",
       " \"anneal_bs_precalib\"\n",
       " \"anneal_ns_precalib\"\n",
       " \"vcalib\"            \n",
       " \"hcalib\"            \n",
       " \"buff_precut\"       \n",
       " \"mc_cut\"            \n",
       " \"buff_postcut\"      \n",
       " \"qc_check\"          "
      ]
     },
     "execution_count": 8,
     "metadata": {},
     "output_type": "execute_result"
    }
   ],
   "source": [
    "s = string.(names(ptbl)[3:end])"
   ]
  },
  {
   "cell_type": "code",
   "execution_count": 9,
   "metadata": {},
   "outputs": [
    {
     "data": {
      "text/html": [
       "<table class=\"data-frame\"><thead><tr><th></th><th>id</th><th>nm</th></tr></thead><tbody><tr><th>1</th><td>1</td><td>pipecut</td></tr><tr><th>2</th><td>2</td><td>anneal_bs_prebend</td></tr><tr><th>3</th><td>3</td><td>anneal_ns_prebend</td></tr><tr><th>4</th><td>4</td><td>icing</td></tr><tr><th>5</th><td>5</td><td>rotbend</td></tr><tr><th>6</th><td>6</td><td>pressbend</td></tr><tr><th>7</th><td>7</td><td>anneal_bs_precalib</td></tr><tr><th>8</th><td>8</td><td>anneal_ns_precalib</td></tr><tr><th>9</th><td>9</td><td>vcalib</td></tr><tr><th>10</th><td>10</td><td>hcalib</td></tr><tr><th>11</th><td>11</td><td>buff_precut</td></tr><tr><th>12</th><td>12</td><td>mc_cut</td></tr><tr><th>13</th><td>13</td><td>buff_postcut</td></tr><tr><th>14</th><td>14</td><td>qc_check</td></tr></tbody></table>"
      ],
      "text/plain": [
       "14×2 DataFrame\n",
       "│ Row │ id │ nm                 │\n",
       "├─────┼────┼────────────────────┤\n",
       "│ 1   │ 1  │ pipecut            │\n",
       "│ 2   │ 2  │ anneal_bs_prebend  │\n",
       "│ 3   │ 3  │ anneal_ns_prebend  │\n",
       "│ 4   │ 4  │ icing              │\n",
       "│ 5   │ 5  │ rotbend            │\n",
       "│ 6   │ 6  │ pressbend          │\n",
       "│ 7   │ 7  │ anneal_bs_precalib │\n",
       "│ 8   │ 8  │ anneal_ns_precalib │\n",
       "│ 9   │ 9  │ vcalib             │\n",
       "│ 10  │ 10 │ hcalib             │\n",
       "│ 11  │ 11 │ buff_precut        │\n",
       "│ 12  │ 12 │ mc_cut             │\n",
       "│ 13  │ 13 │ buff_postcut       │\n",
       "│ 14  │ 14 │ qc_check           │"
      ]
     },
     "execution_count": 9,
     "metadata": {},
     "output_type": "execute_result"
    }
   ],
   "source": [
    "nametable = DataFrame(id = 1:length(s), nm = s)"
   ]
  },
  {
   "cell_type": "markdown",
   "metadata": {},
   "source": [
    "Read grouping info."
   ]
  },
  {
   "cell_type": "code",
   "execution_count": 10,
   "metadata": {},
   "outputs": [
    {
     "data": {
      "text/plain": [
       "2×5 Array{Any,2}:\n",
       " \"anneal_bs\"  \"[2;7]\"  300  3  1\n",
       " \"anneal_ns\"  \"[3;8]\"  300  3  1"
      ]
     },
     "execution_count": 10,
     "metadata": {},
     "output_type": "execute_result"
    }
   ],
   "source": [
    "gtbl = readdlm(\"grouping.csv\",',', skipstart = 1)"
   ]
  },
  {
   "cell_type": "code",
   "execution_count": 11,
   "metadata": {},
   "outputs": [],
   "source": [
    "gtbl2=[]\n",
    "for k in 1:size(gtbl)[1]\n",
    "    x = gtbl[k, 2:end]\n",
    "    push!(gtbl2,Dict(:id=>eval(Meta.parse(x[1])),:cnt=>x[2],:timespan=>x[3],:grp=>x[4]))\n",
    "end"
   ]
  },
  {
   "cell_type": "code",
   "execution_count": 12,
   "metadata": {},
   "outputs": [
    {
     "data": {
      "text/plain": [
       "2-element Array{Any,1}:\n",
       " Dict{Symbol,Any}(:timespan=>3,:id=>[2, 7],:cnt=>300,:grp=>1)\n",
       " Dict{Symbol,Any}(:timespan=>3,:id=>[3, 8],:cnt=>300,:grp=>1)"
      ]
     },
     "execution_count": 12,
     "metadata": {},
     "output_type": "execute_result"
    }
   ],
   "source": [
    "gtbl2"
   ]
  },
  {
   "cell_type": "markdown",
   "metadata": {},
   "source": [
    "## Initialize ProcGA tables."
   ]
  },
  {
   "cell_type": "code",
   "execution_count": 47,
   "metadata": {},
   "outputs": [
    {
     "data": {
      "text/plain": [
       "()"
      ]
     },
     "execution_count": 47,
     "metadata": {},
     "output_type": "execute_result"
    }
   ],
   "source": [
    "ProcGA.settable(ptbl2, gtbl2, mtbl)"
   ]
  },
  {
   "cell_type": "markdown",
   "metadata": {},
   "source": [
    "## Initialize population"
   ]
  },
  {
   "cell_type": "code",
   "execution_count": 64,
   "metadata": {},
   "outputs": [
    {
     "data": {
      "text/plain": [
       "\"bestprc_heuristics.csv\""
      ]
     },
     "execution_count": 64,
     "metadata": {},
     "output_type": "execute_result"
    }
   ],
   "source": [
    "savedfile = \"bestprc_heuristics.csv\""
   ]
  },
  {
   "cell_type": "code",
   "execution_count": 81,
   "metadata": {},
   "outputs": [
    {
     "name": "stdout",
     "output_type": "stream",
     "text": [
      "read from bestprc_heuristics.csv\n"
     ]
    },
    {
     "data": {
      "text/plain": [
       "10×140 Array{Int64,2}:\n",
       " 1  0  7  7  7  9  9  12  12  13  13  …  0  0  0  0  0  0  0  0  0  0  0  0\n",
       " 0  1  7  7  7  0  0   9   9  12  12     0  0  0  0  0  0  0  0  0  0  0  0\n",
       " 0  0  1  0  0  0  7   7   7   9   9     0  0  0  0  0  0  0  0  0  0  0  0\n",
       " 0  0  0  1  0  0  7   7   7   0   0     0  0  0  0  0  0  0  0  0  0  0  0\n",
       " 0  0  0  0  1  0  7   7   7   0   0     0  0  0  0  0  0  0  0  0  0  0  0\n",
       " 0  0  0  0  0  1  2   2   2   5   7  …  0  0  0  0  0  0  0  0  0  0  0  0\n",
       " 0  0  0  0  0  0  1   0   0   0   2     0  0  0  0  0  0  0  0  0  0  0  0\n",
       " 0  0  0  0  0  0  0   1   0   0   2     0  0  0  0  0  0  0  0  0  0  0  0\n",
       " 0  0  0  0  0  0  0   0   1   0   2     0  0  0  0  0  0  0  0  0  0  0  0\n",
       " 0  0  0  0  0  0  0   0   0   1   2     0  0  0  0  0  0  0  0  0  0  0  0"
      ]
     },
     "execution_count": 81,
     "metadata": {},
     "output_type": "execute_result"
    }
   ],
   "source": [
    "# create population from savedfile or make new\n",
    "g1 = ProcGA.jobtablebase()\n",
    "if isfile(savedfile)\n",
    "    println(\"read from $savedfile\")\n",
    "    gbs = readdlm(savedfile, ',', Int)\n",
    "    if size(gbs)[2] < size(g1)[2]\n",
    "        # append zero\n",
    "        c2 = size(gbs)[2]\n",
    "        gbs = hcat(gbs,g1[:,(c2+1):end])\n",
    "    end\n",
    "else\n",
    "    println(\"created data from proctable.\")\n",
    "    gbs = g1\n",
    "end\n",
    "gbs"
   ]
  },
  {
   "cell_type": "code",
   "execution_count": 82,
   "metadata": {
    "scrolled": true
   },
   "outputs": [
    {
     "data": {
      "text/plain": [
       "34"
      ]
     },
     "execution_count": 82,
     "metadata": {},
     "output_type": "execute_result"
    }
   ],
   "source": [
    "ProcGA.penalty(gbs)"
   ]
  },
  {
   "cell_type": "code",
   "execution_count": 83,
   "metadata": {},
   "outputs": [
    {
     "data": {
      "text/plain": [
       "0"
      ]
     },
     "execution_count": 83,
     "metadata": {},
     "output_type": "execute_result"
    }
   ],
   "source": [
    "ProcGA.dupenalty(gbs)"
   ]
  },
  {
   "cell_type": "markdown",
   "metadata": {},
   "source": [
    "Make population.\n",
    "Half of it is from best data and latter half is randomly made."
   ]
  },
  {
   "cell_type": "code",
   "execution_count": 68,
   "metadata": {},
   "outputs": [],
   "source": [
    "if isfile(savedfile)\n",
    "    ppl = ProcGA.initpopulationfrom(gbs,50);\n",
    "    ppl = vcat(ppl, ProcGA.initpopulation(150));\n",
    "else\n",
    "    ppl = ProcGA.initpopulation(200);\n",
    "end\n",
    "ProcGA.orderjob!.(ppl);"
   ]
  },
  {
   "cell_type": "markdown",
   "metadata": {},
   "source": [
    "## Defining penalty functions"
   ]
  },
  {
   "cell_type": "markdown",
   "metadata": {},
   "source": [
    "You can give your own penalty function when needed."
   ]
  },
  {
   "cell_type": "code",
   "execution_count": 29,
   "metadata": {},
   "outputs": [],
   "source": [
    "# ProcGA.penalty(jtbl) = mypenalty(jtbl)"
   ]
  },
  {
   "cell_type": "code",
   "execution_count": 30,
   "metadata": {},
   "outputs": [],
   "source": [
    "# ProcGA.penalty(jtbl) = ProcGA.orgpenalty(jtbl)"
   ]
  },
  {
   "cell_type": "code",
   "execution_count": 31,
   "metadata": {},
   "outputs": [],
   "source": [
    "# function mypenalty(jtbl)\n",
    "#     p = ProcGA.validlength(jtbl)\n",
    "#     p += ProcGA.serpenalty(jtbl)\n",
    "#     p += ProcGA.grpenalty(jtbl)\n",
    "#     p += ProcGA.grdupenalty(jtbl)\n",
    "#     p += 2*ProcGA.dupenalty(jtbl) # weight\n",
    "#     p\n",
    "# end\n",
    "\n",
    "# ProcGA.penalty(jtbl) = mypenalty(jtbl)"
   ]
  },
  {
   "cell_type": "markdown",
   "metadata": {},
   "source": [
    "## Evolution!"
   ]
  },
  {
   "cell_type": "code",
   "execution_count": 69,
   "metadata": {},
   "outputs": [],
   "source": [
    "# first sort ppl by their penalties\n",
    "ProcGA.sortpopulation!(ppl);"
   ]
  },
  {
   "cell_type": "code",
   "execution_count": 70,
   "metadata": {},
   "outputs": [
    {
     "data": {
      "text/plain": [
       "200-element Array{Int64,1}:\n",
       "  37\n",
       "  48\n",
       " 102\n",
       " 134\n",
       " 166\n",
       " 228\n",
       " 234\n",
       " 238\n",
       " 247\n",
       " 255\n",
       " 258\n",
       " 261\n",
       " 263\n",
       "   ⋮\n",
       " 722\n",
       " 723\n",
       " 725\n",
       " 726\n",
       " 728\n",
       " 736\n",
       " 741\n",
       " 745\n",
       " 753\n",
       " 755\n",
       " 757\n",
       " 800"
      ]
     },
     "execution_count": 70,
     "metadata": {},
     "output_type": "execute_result"
    }
   ],
   "source": [
    "v = ProcGA.penalty.(ppl)"
   ]
  },
  {
   "cell_type": "code",
   "execution_count": 71,
   "metadata": {
    "scrolled": true
   },
   "outputs": [
    {
     "data": {
      "text/plain": [
       "1-element Array{Tuple{Int64,Float64,Int64},1}:\n",
       " (37, 625.0, 800)"
      ]
     },
     "execution_count": 71,
     "metadata": {},
     "output_type": "execute_result"
    }
   ],
   "source": [
    "vlst = [(minimum(v), median(v), maximum(v))]"
   ]
  },
  {
   "cell_type": "code",
   "execution_count": 72,
   "metadata": {},
   "outputs": [
    {
     "name": "stdout",
     "output_type": "stream",
     "text": [
      "i:10 => (37, 42.0, 121)\n",
      "i:20 => (37, 37.0, 135)\n",
      "i:30 => (37, 37.0, 132)\n",
      "i:40 => (37, 37.0, 166)\n",
      "i:50 => (37, 37.0, 123)\n",
      "i:60 => (37, 37.0, 112)\n",
      "i:70 => (37, 37.0, 142)\n",
      "i:80 => (37, 37.0, 140)\n",
      "i:90 => (37, 37.0, 145)\n",
      "i:100 => (37, 37.0, 144)\n",
      "i:110 => (37, 37.0, 127)\n",
      "i:120 => (37, 37.0, 158)\n",
      "i:130 => (37, 37.0, 126)\n",
      "i:140 => (37, 37.0, 116)\n",
      "i:150 => (37, 37.0, 161)\n",
      "i:160 => (37, 37.0, 150)\n",
      "i:170 => (37, 37.0, 126)\n",
      "i:180 => (37, 37.0, 166)\n",
      "i:190 => (37, 37.0, 152)\n",
      "i:200 => (37, 37.0, 145)\n"
     ]
    }
   ],
   "source": [
    "# Proceed generation\n",
    "# size, counter, survival rate, elite rate, mutation rate\n",
    "# default rates : 0.8, 0.2, 0.05\n",
    "vl = ProcGA.evolution!(ppl, 200, 10, 0.5, 0.2, 0.2);\n",
    "vlst = vcat(vlst,vl);"
   ]
  },
  {
   "cell_type": "code",
   "execution_count": 73,
   "metadata": {},
   "outputs": [
    {
     "data": {
      "image/svg+xml": [
       "<?xml version=\"1.0\" encoding=\"utf-8\"?>\n",
       "<svg xmlns=\"http://www.w3.org/2000/svg\" xmlns:xlink=\"http://www.w3.org/1999/xlink\" width=\"600\" height=\"400\" viewBox=\"0 0 2400 1600\">\n",
       "<defs>\n",
       "  <clipPath id=\"clip6700\">\n",
       "    <rect x=\"0\" y=\"0\" width=\"2000\" height=\"2000\"/>\n",
       "  </clipPath>\n",
       "</defs>\n",
       "<defs>\n",
       "  <clipPath id=\"clip6701\">\n",
       "    <rect x=\"0\" y=\"0\" width=\"2400\" height=\"1600\"/>\n",
       "  </clipPath>\n",
       "</defs>\n",
       "<polygon clip-path=\"url(#clip6701)\" points=\"\n",
       "0,1600 2400,1600 2400,0 0,0 \n",
       "  \" fill=\"#ffffff\" fill-opacity=\"1\"/>\n",
       "<defs>\n",
       "  <clipPath id=\"clip6702\">\n",
       "    <rect x=\"480\" y=\"0\" width=\"1681\" height=\"1600\"/>\n",
       "  </clipPath>\n",
       "</defs>\n",
       "<polygon clip-path=\"url(#clip6701)\" points=\"\n",
       "214.919,1503.47 2321.26,1503.47 2321.26,47.2441 214.919,47.2441 \n",
       "  \" fill=\"#ffffff\" fill-opacity=\"1\"/>\n",
       "<defs>\n",
       "  <clipPath id=\"clip6703\">\n",
       "    <rect x=\"214\" y=\"47\" width=\"2107\" height=\"1457\"/>\n",
       "  </clipPath>\n",
       "</defs>\n",
       "<polyline clip-path=\"url(#clip6703)\" style=\"stroke:#000000; stroke-width:2; stroke-opacity:0.1; fill:none\" points=\"\n",
       "  264.597,1503.47 264.597,47.2441 \n",
       "  \"/>\n",
       "<polyline clip-path=\"url(#clip6703)\" style=\"stroke:#000000; stroke-width:2; stroke-opacity:0.1; fill:none\" points=\"\n",
       "  761.375,1503.47 761.375,47.2441 \n",
       "  \"/>\n",
       "<polyline clip-path=\"url(#clip6703)\" style=\"stroke:#000000; stroke-width:2; stroke-opacity:0.1; fill:none\" points=\"\n",
       "  1258.15,1503.47 1258.15,47.2441 \n",
       "  \"/>\n",
       "<polyline clip-path=\"url(#clip6703)\" style=\"stroke:#000000; stroke-width:2; stroke-opacity:0.1; fill:none\" points=\"\n",
       "  1754.93,1503.47 1754.93,47.2441 \n",
       "  \"/>\n",
       "<polyline clip-path=\"url(#clip6703)\" style=\"stroke:#000000; stroke-width:2; stroke-opacity:0.1; fill:none\" points=\"\n",
       "  2251.71,1503.47 2251.71,47.2441 \n",
       "  \"/>\n",
       "<polyline clip-path=\"url(#clip6703)\" style=\"stroke:#000000; stroke-width:2; stroke-opacity:0.1; fill:none\" points=\"\n",
       "  214.919,1462.26 2321.26,1462.26 \n",
       "  \"/>\n",
       "<polyline clip-path=\"url(#clip6703)\" style=\"stroke:#000000; stroke-width:2; stroke-opacity:0.1; fill:none\" points=\"\n",
       "  214.919,1118.81 2321.26,1118.81 \n",
       "  \"/>\n",
       "<polyline clip-path=\"url(#clip6703)\" style=\"stroke:#000000; stroke-width:2; stroke-opacity:0.1; fill:none\" points=\"\n",
       "  214.919,775.359 2321.26,775.359 \n",
       "  \"/>\n",
       "<polyline clip-path=\"url(#clip6703)\" style=\"stroke:#000000; stroke-width:2; stroke-opacity:0.1; fill:none\" points=\"\n",
       "  214.919,431.909 2321.26,431.909 \n",
       "  \"/>\n",
       "<polyline clip-path=\"url(#clip6703)\" style=\"stroke:#000000; stroke-width:2; stroke-opacity:0.1; fill:none\" points=\"\n",
       "  214.919,88.4582 2321.26,88.4582 \n",
       "  \"/>\n",
       "<polyline clip-path=\"url(#clip6701)\" style=\"stroke:#000000; stroke-width:4; stroke-opacity:1; fill:none\" points=\"\n",
       "  214.919,1503.47 2321.26,1503.47 \n",
       "  \"/>\n",
       "<polyline clip-path=\"url(#clip6701)\" style=\"stroke:#000000; stroke-width:4; stroke-opacity:1; fill:none\" points=\"\n",
       "  214.919,1503.47 214.919,47.2441 \n",
       "  \"/>\n",
       "<polyline clip-path=\"url(#clip6701)\" style=\"stroke:#000000; stroke-width:4; stroke-opacity:1; fill:none\" points=\"\n",
       "  264.597,1503.47 264.597,1481.63 \n",
       "  \"/>\n",
       "<polyline clip-path=\"url(#clip6701)\" style=\"stroke:#000000; stroke-width:4; stroke-opacity:1; fill:none\" points=\"\n",
       "  761.375,1503.47 761.375,1481.63 \n",
       "  \"/>\n",
       "<polyline clip-path=\"url(#clip6701)\" style=\"stroke:#000000; stroke-width:4; stroke-opacity:1; fill:none\" points=\"\n",
       "  1258.15,1503.47 1258.15,1481.63 \n",
       "  \"/>\n",
       "<polyline clip-path=\"url(#clip6701)\" style=\"stroke:#000000; stroke-width:4; stroke-opacity:1; fill:none\" points=\"\n",
       "  1754.93,1503.47 1754.93,1481.63 \n",
       "  \"/>\n",
       "<polyline clip-path=\"url(#clip6701)\" style=\"stroke:#000000; stroke-width:4; stroke-opacity:1; fill:none\" points=\"\n",
       "  2251.71,1503.47 2251.71,1481.63 \n",
       "  \"/>\n",
       "<polyline clip-path=\"url(#clip6701)\" style=\"stroke:#000000; stroke-width:4; stroke-opacity:1; fill:none\" points=\"\n",
       "  214.919,1462.26 246.514,1462.26 \n",
       "  \"/>\n",
       "<polyline clip-path=\"url(#clip6701)\" style=\"stroke:#000000; stroke-width:4; stroke-opacity:1; fill:none\" points=\"\n",
       "  214.919,1118.81 246.514,1118.81 \n",
       "  \"/>\n",
       "<polyline clip-path=\"url(#clip6701)\" style=\"stroke:#000000; stroke-width:4; stroke-opacity:1; fill:none\" points=\"\n",
       "  214.919,775.359 246.514,775.359 \n",
       "  \"/>\n",
       "<polyline clip-path=\"url(#clip6701)\" style=\"stroke:#000000; stroke-width:4; stroke-opacity:1; fill:none\" points=\"\n",
       "  214.919,431.909 246.514,431.909 \n",
       "  \"/>\n",
       "<polyline clip-path=\"url(#clip6701)\" style=\"stroke:#000000; stroke-width:4; stroke-opacity:1; fill:none\" points=\"\n",
       "  214.919,88.4582 246.514,88.4582 \n",
       "  \"/>\n",
       "<g clip-path=\"url(#clip6701)\">\n",
       "<text style=\"fill:#000000; fill-opacity:1; font-family:Arial,Helvetica Neue,Helvetica,sans-serif; font-size:48px; text-anchor:middle;\" transform=\"rotate(0, 264.597, 1557.47)\" x=\"264.597\" y=\"1557.47\">0</text>\n",
       "</g>\n",
       "<g clip-path=\"url(#clip6701)\">\n",
       "<text style=\"fill:#000000; fill-opacity:1; font-family:Arial,Helvetica Neue,Helvetica,sans-serif; font-size:48px; text-anchor:middle;\" transform=\"rotate(0, 761.375, 1557.47)\" x=\"761.375\" y=\"1557.47\">50</text>\n",
       "</g>\n",
       "<g clip-path=\"url(#clip6701)\">\n",
       "<text style=\"fill:#000000; fill-opacity:1; font-family:Arial,Helvetica Neue,Helvetica,sans-serif; font-size:48px; text-anchor:middle;\" transform=\"rotate(0, 1258.15, 1557.47)\" x=\"1258.15\" y=\"1557.47\">100</text>\n",
       "</g>\n",
       "<g clip-path=\"url(#clip6701)\">\n",
       "<text style=\"fill:#000000; fill-opacity:1; font-family:Arial,Helvetica Neue,Helvetica,sans-serif; font-size:48px; text-anchor:middle;\" transform=\"rotate(0, 1754.93, 1557.47)\" x=\"1754.93\" y=\"1557.47\">150</text>\n",
       "</g>\n",
       "<g clip-path=\"url(#clip6701)\">\n",
       "<text style=\"fill:#000000; fill-opacity:1; font-family:Arial,Helvetica Neue,Helvetica,sans-serif; font-size:48px; text-anchor:middle;\" transform=\"rotate(0, 2251.71, 1557.47)\" x=\"2251.71\" y=\"1557.47\">200</text>\n",
       "</g>\n",
       "<g clip-path=\"url(#clip6701)\">\n",
       "<text style=\"fill:#000000; fill-opacity:1; font-family:Arial,Helvetica Neue,Helvetica,sans-serif; font-size:48px; text-anchor:end;\" transform=\"rotate(0, 190.919, 1479.76)\" x=\"190.919\" y=\"1479.76\">37.00</text>\n",
       "</g>\n",
       "<g clip-path=\"url(#clip6701)\">\n",
       "<text style=\"fill:#000000; fill-opacity:1; font-family:Arial,Helvetica Neue,Helvetica,sans-serif; font-size:48px; text-anchor:end;\" transform=\"rotate(0, 190.919, 1136.31)\" x=\"190.919\" y=\"1136.31\">37.25</text>\n",
       "</g>\n",
       "<g clip-path=\"url(#clip6701)\">\n",
       "<text style=\"fill:#000000; fill-opacity:1; font-family:Arial,Helvetica Neue,Helvetica,sans-serif; font-size:48px; text-anchor:end;\" transform=\"rotate(0, 190.919, 792.859)\" x=\"190.919\" y=\"792.859\">37.50</text>\n",
       "</g>\n",
       "<g clip-path=\"url(#clip6701)\">\n",
       "<text style=\"fill:#000000; fill-opacity:1; font-family:Arial,Helvetica Neue,Helvetica,sans-serif; font-size:48px; text-anchor:end;\" transform=\"rotate(0, 190.919, 449.409)\" x=\"190.919\" y=\"449.409\">37.75</text>\n",
       "</g>\n",
       "<g clip-path=\"url(#clip6701)\">\n",
       "<text style=\"fill:#000000; fill-opacity:1; font-family:Arial,Helvetica Neue,Helvetica,sans-serif; font-size:48px; text-anchor:end;\" transform=\"rotate(0, 190.919, 105.958)\" x=\"190.919\" y=\"105.958\">38.00</text>\n",
       "</g>\n",
       "<polyline clip-path=\"url(#clip6703)\" style=\"stroke:#009af9; stroke-width:4; stroke-opacity:1; fill:none\" points=\"\n",
       "  274.532,1462.26 284.468,1462.26 294.403,1462.26 304.339,1462.26 314.274,1462.26 324.21,1462.26 334.146,1462.26 344.081,1462.26 354.017,1462.26 363.952,1462.26 \n",
       "  373.888,1462.26 383.823,1462.26 393.759,1462.26 403.695,1462.26 413.63,1462.26 423.566,1462.26 433.501,1462.26 443.437,1462.26 453.372,1462.26 463.308,1462.26 \n",
       "  473.244,1462.26 483.179,1462.26 493.115,1462.26 503.05,1462.26 512.986,1462.26 522.921,1462.26 532.857,1462.26 542.793,1462.26 552.728,1462.26 562.664,1462.26 \n",
       "  572.599,1462.26 582.535,1462.26 592.47,1462.26 602.406,1462.26 612.342,1462.26 622.277,1462.26 632.213,1462.26 642.148,1462.26 652.084,1462.26 662.019,1462.26 \n",
       "  671.955,1462.26 681.891,1462.26 691.826,1462.26 701.762,1462.26 711.697,1462.26 721.633,1462.26 731.568,1462.26 741.504,1462.26 751.44,1462.26 761.375,1462.26 \n",
       "  771.311,1462.26 781.246,1462.26 791.182,1462.26 801.117,1462.26 811.053,1462.26 820.989,1462.26 830.924,1462.26 840.86,1462.26 850.795,1462.26 860.731,1462.26 \n",
       "  870.666,1462.26 880.602,1462.26 890.538,1462.26 900.473,1462.26 910.409,1462.26 920.344,1462.26 930.28,1462.26 940.215,1462.26 950.151,1462.26 960.087,1462.26 \n",
       "  970.022,1462.26 979.958,1462.26 989.893,1462.26 999.829,1462.26 1009.76,1462.26 1019.7,1462.26 1029.64,1462.26 1039.57,1462.26 1049.51,1462.26 1059.44,1462.26 \n",
       "  1069.38,1462.26 1079.31,1462.26 1089.25,1462.26 1099.18,1462.26 1109.12,1462.26 1119.06,1462.26 1128.99,1462.26 1138.93,1462.26 1148.86,1462.26 1158.8,1462.26 \n",
       "  1168.73,1462.26 1178.67,1462.26 1188.6,1462.26 1198.54,1462.26 1208.48,1462.26 1218.41,1462.26 1228.35,1462.26 1238.28,1462.26 1248.22,1462.26 1258.15,1462.26 \n",
       "  1268.09,1462.26 1278.02,1462.26 1287.96,1462.26 1297.9,1462.26 1307.83,1462.26 1317.77,1462.26 1327.7,1462.26 1337.64,1462.26 1347.57,1462.26 1357.51,1462.26 \n",
       "  1367.44,1462.26 1377.38,1462.26 1387.32,1462.26 1397.25,1462.26 1407.19,1462.26 1417.12,1462.26 1427.06,1462.26 1436.99,1462.26 1446.93,1462.26 1456.87,1462.26 \n",
       "  1466.8,1462.26 1476.74,1462.26 1486.67,1462.26 1496.61,1462.26 1506.54,1462.26 1516.48,1462.26 1526.41,1462.26 1536.35,1462.26 1546.29,1462.26 1556.22,1462.26 \n",
       "  1566.16,1462.26 1576.09,1462.26 1586.03,1462.26 1595.96,1462.26 1605.9,1462.26 1615.83,1462.26 1625.77,1462.26 1635.71,1462.26 1645.64,1462.26 1655.58,1462.26 \n",
       "  1665.51,1462.26 1675.45,1462.26 1685.38,1462.26 1695.32,1462.26 1705.25,1462.26 1715.19,1462.26 1725.13,1462.26 1735.06,1462.26 1745,1462.26 1754.93,1462.26 \n",
       "  1764.87,1462.26 1774.8,1462.26 1784.74,1462.26 1794.67,1462.26 1804.61,1462.26 1814.55,1462.26 1824.48,1462.26 1834.42,1462.26 1844.35,1462.26 1854.29,1462.26 \n",
       "  1864.22,1462.26 1874.16,1462.26 1884.09,1462.26 1894.03,1462.26 1903.97,1462.26 1913.9,1462.26 1923.84,1462.26 1933.77,1462.26 1943.71,1462.26 1953.64,1462.26 \n",
       "  1963.58,1462.26 1973.51,1462.26 1983.45,1462.26 1993.39,1462.26 2003.32,1462.26 2013.26,1462.26 2023.19,1462.26 2033.13,1462.26 2043.06,1462.26 2053,1462.26 \n",
       "  2062.93,1462.26 2072.87,1462.26 2082.81,1462.26 2092.74,1462.26 2102.68,1462.26 2112.61,1462.26 2122.55,1462.26 2132.48,1462.26 2142.42,1462.26 2152.36,1462.26 \n",
       "  2162.29,1462.26 2172.23,1462.26 2182.16,1462.26 2192.1,1462.26 2202.03,1462.26 2211.97,1462.26 2221.9,1462.26 2231.84,1462.26 2241.78,1462.26 2251.71,1462.26 \n",
       "  2261.65,1462.26 \n",
       "  \"/>\n",
       "<polygon clip-path=\"url(#clip6701)\" points=\"\n",
       "1958.43,251.724 2249.26,251.724 2249.26,130.764 1958.43,130.764 \n",
       "  \" fill=\"#ffffff\" fill-opacity=\"1\"/>\n",
       "<polyline clip-path=\"url(#clip6701)\" style=\"stroke:#000000; stroke-width:4; stroke-opacity:1; fill:none\" points=\"\n",
       "  1958.43,251.724 2249.26,251.724 2249.26,130.764 1958.43,130.764 1958.43,251.724 \n",
       "  \"/>\n",
       "<polyline clip-path=\"url(#clip6701)\" style=\"stroke:#009af9; stroke-width:4; stroke-opacity:1; fill:none\" points=\"\n",
       "  1982.43,191.244 2126.43,191.244 \n",
       "  \"/>\n",
       "<g clip-path=\"url(#clip6701)\">\n",
       "<text style=\"fill:#000000; fill-opacity:1; font-family:Arial,Helvetica Neue,Helvetica,sans-serif; font-size:48px; text-anchor:start;\" transform=\"rotate(0, 2150.43, 208.744)\" x=\"2150.43\" y=\"208.744\">y1</text>\n",
       "</g>\n",
       "</svg>\n"
      ]
     },
     "execution_count": 73,
     "metadata": {},
     "output_type": "execute_result"
    }
   ],
   "source": [
    "y = (x->x[1]).(vlst);\n",
    "x = 1:length(y);\n",
    "\n",
    "plot(x,y)"
   ]
  },
  {
   "cell_type": "markdown",
   "metadata": {},
   "source": [
    "Pick up the best data."
   ]
  },
  {
   "cell_type": "code",
   "execution_count": 74,
   "metadata": {},
   "outputs": [
    {
     "data": {
      "text/plain": [
       "10×140 Array{Int64,2}:\n",
       " 0  0  0  0  0  1  0  0  7  7  7  9  9  …  0  0  0  0  0  0  0  0  0  0  0  0\n",
       " 0  0  0  0  0  0  1  0  7  7  7  0  0     0  0  0  0  0  0  0  0  0  0  0  0\n",
       " 0  0  0  0  0  0  0  1  7  7  7  0  0     0  0  0  0  0  0  0  0  0  0  0  0\n",
       " 0  0  0  0  0  0  0  0  1  0  0  7  7     0  0  0  0  0  0  0  0  0  0  0  0\n",
       " 0  0  0  0  0  0  0  0  0  1  0  7  7     0  0  0  0  0  0  0  0  0  0  0  0\n",
       " 1  0  0  0  2  2  2  0  0  0  5  7  7  …  0  0  0  0  0  0  0  0  0  0  0  0\n",
       " 0  1  0  0  2  2  2  0  0  0  0  5  0     0  0  0  0  0  0  0  0  0  0  0  0\n",
       " 0  0  1  0  2  2  2  0  0  0  0  0  5     0  0  0  0  0  0  0  0  0  0  0  0\n",
       " 0  0  0  1  2  2  2  0  0  0  0  0  0     0  0  0  0  0  0  0  0  0  0  0  0\n",
       " 0  0  0  0  1  0  0  0  2  2  2  0  0     0  0  0  0  0  0  0  0  0  0  0  0"
      ]
     },
     "execution_count": 74,
     "metadata": {},
     "output_type": "execute_result"
    }
   ],
   "source": [
    "v = ProcGA.penalty.(ppl)\n",
    "idm = findmin(v)[2]\n",
    "bestgen = ppl[idm]"
   ]
  },
  {
   "cell_type": "code",
   "execution_count": 75,
   "metadata": {},
   "outputs": [
    {
     "data": {
      "text/plain": [
       "37"
      ]
     },
     "execution_count": 75,
     "metadata": {},
     "output_type": "execute_result"
    }
   ],
   "source": [
    "ProcGA.penalty(bestgen)"
   ]
  },
  {
   "cell_type": "code",
   "execution_count": 76,
   "metadata": {},
   "outputs": [
    {
     "data": {
      "text/plain": [
       "0"
      ]
     },
     "execution_count": 76,
     "metadata": {},
     "output_type": "execute_result"
    }
   ],
   "source": [
    "ProcGA.dupenalty(bestgen)"
   ]
  },
  {
   "cell_type": "code",
   "execution_count": 77,
   "metadata": {},
   "outputs": [
    {
     "data": {
      "text/plain": [
       "37"
      ]
     },
     "execution_count": 77,
     "metadata": {},
     "output_type": "execute_result"
    }
   ],
   "source": [
    "ProcGA.validlength(bestgen)"
   ]
  },
  {
   "cell_type": "code",
   "execution_count": 78,
   "metadata": {},
   "outputs": [
    {
     "data": {
      "text/plain": [
       "10×37 Array{Int64,2}:\n",
       " 0  0  0  0  0  1  0  0  7  7  7  9  9  …   0   0   0   0   0   0   0   0   0\n",
       " 0  0  0  0  0  0  1  0  7  7  7  0  0      0   0   0   0   0   0   0   0   0\n",
       " 0  0  0  0  0  0  0  1  7  7  7  0  0      0   0   0   0   0   0   0   0   0\n",
       " 0  0  0  0  0  0  0  0  1  0  0  7  7      0   0   0   0   0   0   0   0   0\n",
       " 0  0  0  0  0  0  0  0  0  1  0  7  7      0   0   0   0   0   0   0   0   0\n",
       " 1  0  0  0  2  2  2  0  0  0  5  7  7  …  14   0   0   0   0   0   0   0   0\n",
       " 0  1  0  0  2  2  2  0  0  0  0  5  0      0  14  14   0   0   0   0   0   0\n",
       " 0  0  1  0  2  2  2  0  0  0  0  0  5     12   0   0  14  14   0   0   0   0\n",
       " 0  0  0  1  2  2  2  0  0  0  0  0  0      0  12  12   0   0  14  14   0   0\n",
       " 0  0  0  0  1  0  0  0  2  2  2  0  0      0   0   0  12  12   0   0  14  14"
      ]
     },
     "execution_count": 78,
     "metadata": {},
     "output_type": "execute_result"
    }
   ],
   "source": [
    "ProcGA.clipjob(bestgen)"
   ]
  },
  {
   "cell_type": "markdown",
   "metadata": {},
   "source": [
    "Unlike 10-same items, it must not be sordet by row."
   ]
  },
  {
   "cell_type": "code",
   "execution_count": 80,
   "metadata": {},
   "outputs": [],
   "source": [
    "# save best process table to file.\n",
    "# do not clip it so that it can be used again\n",
    "writedlm(\"bestprc.csv\",bestgen, ',')"
   ]
  },
  {
   "cell_type": "markdown",
   "metadata": {},
   "source": [
    "## Conclusion"
   ]
  },
  {
   "cell_type": "markdown",
   "metadata": {},
   "source": [
    "## check functions (test)"
   ]
  },
  {
   "cell_type": "code",
   "execution_count": null,
   "metadata": {},
   "outputs": [],
   "source": [
    "function mydupenalty(jtbl)\n",
    "    p = 0\n",
    "    for i in 1:ProcGA.validlength(jtbl)\n",
    "        col = jtbl[:,i]\n",
    "        cc = col[@. col > 0]\n",
    "        cc = cc[@. ~ProcGA.isgroupable(cc)]\n",
    "        cs = Set(cc)\n",
    "        c = (length(cc) - length(cs))\n",
    "        p += c\n",
    "        if c > 0\n",
    "            println(\"col: $i => $cc\")\n",
    "        end\n",
    "    end\n",
    "    p\n",
    "end"
   ]
  },
  {
   "cell_type": "code",
   "execution_count": null,
   "metadata": {},
   "outputs": [],
   "source": [
    "mydupenalty(gbs)"
   ]
  },
  {
   "cell_type": "code",
   "execution_count": null,
   "metadata": {},
   "outputs": [],
   "source": [
    "gbs[:,19]"
   ]
  },
  {
   "cell_type": "code",
   "execution_count": null,
   "metadata": {},
   "outputs": [],
   "source": [
    "col = gbs[:,10]\n",
    "c = col[col .> 0 ]\n",
    "c[@. ~ProcGA.isgroupable(c)]"
   ]
  },
  {
   "cell_type": "code",
   "execution_count": 14,
   "metadata": {},
   "outputs": [],
   "source": [
    "ppl = ProcGA.initpopulation(200);"
   ]
  },
  {
   "cell_type": "code",
   "execution_count": 16,
   "metadata": {},
   "outputs": [],
   "source": [
    "ProcGA.orderjob!.(ppl);"
   ]
  },
  {
   "cell_type": "code",
   "execution_count": 17,
   "metadata": {},
   "outputs": [
    {
     "data": {
      "text/plain": [
       "10×140 Array{Int64,2}:\n",
       " 1  0  0  0  0  7  0  0  0  0  0  0  0  …  0  0  0  0  0  0  0  0  0  0  0  0\n",
       " 0  0  0  0  0  0  1  7  0  0  0  0  0     0  0  0  0  0  0  0  0  0  0  0  0\n",
       " 0  0  0  0  0  0  0  0  0  0  0  0  1     0  0  0  0  0  0  0  0  0  0  0  0\n",
       " 0  1  0  0  0  7  0  0  0  0  0  0  0     0  0  0  0  0  0  0  0  0  0  0  0\n",
       " 0  0  0  1  0  0  7  0  0  0  7  0  0     0  0  0  0  0  0  0  0  0  0  0  0\n",
       " 0  0  1  0  2  0  0  0  0  0  0  0  0  …  0  0  0  0  0  0  0  0  0  0  0  0\n",
       " 0  0  1  0  0  0  0  2  2  2  0  0  0     0  0  0  0  0  0  0  0  0  0  0  0\n",
       " 0  1  0  0  0  0  0  0  0  0  0  0  0     0  0  0  0  0  0  0  0  0  0  0  0\n",
       " 0  0  0  0  0  0  0  1  0  0  0  2  0     0  0  0  0  0  0  0  0  0  0  0  0\n",
       " 0  0  0  0  0  0  0  0  0  0  0  0  1     0  0  0  0  0  0  0  0  0  0  0  0"
      ]
     },
     "execution_count": 17,
     "metadata": {},
     "output_type": "execute_result"
    }
   ],
   "source": [
    "ppl[1]"
   ]
  },
  {
   "cell_type": "code",
   "execution_count": null,
   "metadata": {},
   "outputs": [],
   "source": []
  }
 ],
 "metadata": {
  "kernelspec": {
   "display_name": "Julia 1.0.2",
   "language": "julia",
   "name": "julia-1.0"
  },
  "language_info": {
   "file_extension": ".jl",
   "mimetype": "application/julia",
   "name": "julia",
   "version": "1.0.2"
  },
  "toc": {
   "base_numbering": 1,
   "nav_menu": {},
   "number_sections": true,
   "sideBar": true,
   "skip_h1_title": true,
   "title_cell": "Table of Contents",
   "title_sidebar": "Contents",
   "toc_cell": false,
   "toc_position": {},
   "toc_section_display": true,
   "toc_window_display": false
  }
 },
 "nbformat": 4,
 "nbformat_minor": 2
}
