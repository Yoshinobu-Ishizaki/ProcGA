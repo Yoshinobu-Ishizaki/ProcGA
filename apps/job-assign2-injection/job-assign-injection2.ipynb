{
 "cells": [
  {
   "cell_type": "markdown",
   "metadata": {},
   "source": [
    "# Process optimization by genetic algorithm"
   ]
  },
  {
   "cell_type": "markdown",
   "metadata": {},
   "source": [
    "job assignment problem"
   ]
  },
  {
   "cell_type": "markdown",
   "metadata": {},
   "source": [
    "## Preparation"
   ]
  },
  {
   "cell_type": "code",
   "execution_count": 37,
   "metadata": {},
   "outputs": [
    {
     "name": "stderr",
     "output_type": "stream",
     "text": [
      "WARNING: replacing module ProcGA.\n"
     ]
    },
    {
     "data": {
      "text/plain": [
       "Main.ProcGA"
      ]
     },
     "execution_count": 37,
     "metadata": {},
     "output_type": "execute_result"
    }
   ],
   "source": [
    "include(\"../../src/ProcGA.jl\")"
   ]
  },
  {
   "cell_type": "code",
   "execution_count": 8,
   "metadata": {},
   "outputs": [],
   "source": [
    "using CSV,DelimitedFiles\n",
    "using DataFrames,Missings\n",
    "using Statistics\n",
    "using Random"
   ]
  },
  {
   "cell_type": "code",
   "execution_count": 9,
   "metadata": {},
   "outputs": [],
   "source": [
    "using Plots"
   ]
  },
  {
   "cell_type": "code",
   "execution_count": 10,
   "metadata": {
    "scrolled": true
   },
   "outputs": [
    {
     "data": {
      "text/plain": [
       "Plots.GRBackend()"
      ]
     },
     "execution_count": 10,
     "metadata": {},
     "output_type": "execute_result"
    }
   ],
   "source": [
    "gr()"
   ]
  },
  {
   "cell_type": "markdown",
   "metadata": {},
   "source": [
    "## machine data"
   ]
  },
  {
   "cell_type": "markdown",
   "metadata": {},
   "source": [
    "Read machine definition table.\n",
    "Jobs column defines which object to product."
   ]
  },
  {
   "cell_type": "code",
   "execution_count": 11,
   "metadata": {
    "scrolled": true
   },
   "outputs": [
    {
     "data": {
      "text/html": [
       "<table class=\"data-frame\"><thead><tr><th></th><th>name</th><th>jobs</th></tr><tr><th></th><th>String⍰</th><th>String⍰</th></tr></thead><tbody><tr><th>1</th><td>machine1</td><td>[1;2;3;4;5]</td></tr><tr><th>2</th><td>machine2</td><td>[6;7;8;9;10;11]</td></tr><tr><th>3</th><td>machine3</td><td>[1;2;3;4;5;6;7;8;9;10;11]</td></tr></tbody></table>"
      ],
      "text/latex": [
       "\\begin{tabular}{r|cc}\n",
       "\t& name & jobs\\\\\n",
       "\t\\hline\n",
       "\t1 & machine1 & [1;2;3;4;5] \\\\\n",
       "\t2 & machine2 & [6;7;8;9;10;11] \\\\\n",
       "\t3 & machine3 & [1;2;3;4;5;6;7;8;9;10;11] \\\\\n",
       "\\end{tabular}\n"
      ],
      "text/plain": [
       "3×2 DataFrame\n",
       "│ Row │ name     │ jobs                      │\n",
       "│     │ \u001b[90mString⍰\u001b[39m  │ \u001b[90mUnion{Missing, String}\u001b[39m    │\n",
       "├─────┼──────────┼───────────────────────────┤\n",
       "│ 1   │ machine1 │ [1;2;3;4;5]               │\n",
       "│ 2   │ machine2 │ [6;7;8;9;10;11]           │\n",
       "│ 3   │ machine3 │ [1;2;3;4;5;6;7;8;9;10;11] │"
      ]
     },
     "execution_count": 11,
     "metadata": {},
     "output_type": "execute_result"
    }
   ],
   "source": [
    "ptbl = CSV.read(\"machine.csv\",header = 1)"
   ]
  },
  {
   "cell_type": "markdown",
   "metadata": {},
   "source": [
    "Read object table, these will be producted by those machines.\n",
    "Pcs means how many objects is made by 1 injection shot."
   ]
  },
  {
   "cell_type": "code",
   "execution_count": 12,
   "metadata": {
    "scrolled": true
   },
   "outputs": [
    {
     "data": {
      "text/plain": [
       "3-element Array{Array{Int64,1},1}:\n",
       " [1, 2, 3, 4, 5]                    \n",
       " [6, 7, 8, 9, 10, 11]               \n",
       " [1, 2, 3, 4, 5, 6, 7, 8, 9, 10, 11]"
      ]
     },
     "execution_count": 12,
     "metadata": {},
     "output_type": "execute_result"
    }
   ],
   "source": [
    "assignlist =[ eval(Meta.parse(x)) for x in ptbl[:jobs]]"
   ]
  },
  {
   "cell_type": "code",
   "execution_count": 13,
   "metadata": {
    "scrolled": true
   },
   "outputs": [
    {
     "data": {
      "text/html": [
       "<table class=\"data-frame\"><thead><tr><th></th><th>job</th><th>Ctmin</th><th>pc</th><th>hour</th><th>shot</th><th>qty</th><th>runday</th><th>shotlimit</th><th>useday</th><th>interval</th></tr><tr><th></th><th>String⍰</th><th>Float64⍰</th><th>Int64⍰</th><th>Int64⍰</th><th>Int64⍰</th><th>Int64⍰</th><th>Int64⍰</th><th>Int64⍰</th><th>Int64⍰</th><th>Int64⍰</th></tr></thead><tbody><tr><th>1</th><td>SS</td><td>1.5</td><td>2</td><td>15</td><td>600</td><td>4000</td><td>4</td><td>800</td><td>2</td><td>1</td></tr><tr><th>2</th><td>AS1</td><td>1.5</td><td>2</td><td>15</td><td>600</td><td>7000</td><td>6</td><td>800</td><td>2</td><td>1</td></tr><tr><th>3</th><td>AS2</td><td>1.5</td><td>2</td><td>15</td><td>600</td><td>7000</td><td>6</td><td>800</td><td>2</td><td>1</td></tr><tr><th>4</th><td>TS</td><td>1.5</td><td>2</td><td>15</td><td>600</td><td>3000</td><td>3</td><td>800</td><td>2</td><td>1</td></tr><tr><th>5</th><td>BS</td><td>1.5</td><td>1</td><td>15</td><td>600</td><td>700</td><td>2</td><td>800</td><td>2</td><td>1</td></tr><tr><th>6</th><td>CL1</td><td>2.0</td><td>2</td><td>15</td><td>450</td><td>4000</td><td>5</td><td>800</td><td>2</td><td>1</td></tr><tr><th>7</th><td>CL2</td><td>2.0</td><td>2</td><td>15</td><td>450</td><td>4000</td><td>5</td><td>800</td><td>2</td><td>1</td></tr><tr><th>8</th><td>ACL</td><td>2.0</td><td>2</td><td>15</td><td>450</td><td>60</td><td>1</td><td>800</td><td>2</td><td>1</td></tr><tr><th>9</th><td>BCL</td><td>2.0</td><td>2</td><td>15</td><td>450</td><td>600</td><td>1</td><td>800</td><td>2</td><td>1</td></tr><tr><th>10</th><td>ECL</td><td>2.0</td><td>2</td><td>15</td><td>450</td><td>40</td><td>1</td><td>800</td><td>2</td><td>1</td></tr><tr><th>11</th><td>OCL</td><td>2.0</td><td>2</td><td>15</td><td>450</td><td>200</td><td>1</td><td>800</td><td>2</td><td>1</td></tr></tbody></table>"
      ],
      "text/latex": [
       "\\begin{tabular}{r|cccccccccc}\n",
       "\t& job & Ctmin & pc & hour & shot & qty & runday & shotlimit & useday & interval\\\\\n",
       "\t\\hline\n",
       "\t1 & SS & 1.5 & 2 & 15 & 600 & 4000 & 4 & 800 & 2 & 1 \\\\\n",
       "\t2 & AS1 & 1.5 & 2 & 15 & 600 & 7000 & 6 & 800 & 2 & 1 \\\\\n",
       "\t3 & AS2 & 1.5 & 2 & 15 & 600 & 7000 & 6 & 800 & 2 & 1 \\\\\n",
       "\t4 & TS & 1.5 & 2 & 15 & 600 & 3000 & 3 & 800 & 2 & 1 \\\\\n",
       "\t5 & BS & 1.5 & 1 & 15 & 600 & 700 & 2 & 800 & 2 & 1 \\\\\n",
       "\t6 & CL1 & 2.0 & 2 & 15 & 450 & 4000 & 5 & 800 & 2 & 1 \\\\\n",
       "\t7 & CL2 & 2.0 & 2 & 15 & 450 & 4000 & 5 & 800 & 2 & 1 \\\\\n",
       "\t8 & ACL & 2.0 & 2 & 15 & 450 & 60 & 1 & 800 & 2 & 1 \\\\\n",
       "\t9 & BCL & 2.0 & 2 & 15 & 450 & 600 & 1 & 800 & 2 & 1 \\\\\n",
       "\t10 & ECL & 2.0 & 2 & 15 & 450 & 40 & 1 & 800 & 2 & 1 \\\\\n",
       "\t11 & OCL & 2.0 & 2 & 15 & 450 & 200 & 1 & 800 & 2 & 1 \\\\\n",
       "\\end{tabular}\n"
      ],
      "text/plain": [
       "11×10 DataFrame. Omitted printing of 3 columns\n",
       "│ Row │ job     │ Ctmin    │ pc     │ hour   │ shot   │ qty    │ runday │\n",
       "│     │ \u001b[90mString⍰\u001b[39m │ \u001b[90mFloat64⍰\u001b[39m │ \u001b[90mInt64⍰\u001b[39m │ \u001b[90mInt64⍰\u001b[39m │ \u001b[90mInt64⍰\u001b[39m │ \u001b[90mInt64⍰\u001b[39m │ \u001b[90mInt64⍰\u001b[39m │\n",
       "├─────┼─────────┼──────────┼────────┼────────┼────────┼────────┼────────┤\n",
       "│ 1   │ SS      │ 1.5      │ 2      │ 15     │ 600    │ 4000   │ 4      │\n",
       "│ 2   │ AS1     │ 1.5      │ 2      │ 15     │ 600    │ 7000   │ 6      │\n",
       "│ 3   │ AS2     │ 1.5      │ 2      │ 15     │ 600    │ 7000   │ 6      │\n",
       "│ 4   │ TS      │ 1.5      │ 2      │ 15     │ 600    │ 3000   │ 3      │\n",
       "│ 5   │ BS      │ 1.5      │ 1      │ 15     │ 600    │ 700    │ 2      │\n",
       "│ 6   │ CL1     │ 2.0      │ 2      │ 15     │ 450    │ 4000   │ 5      │\n",
       "│ 7   │ CL2     │ 2.0      │ 2      │ 15     │ 450    │ 4000   │ 5      │\n",
       "│ 8   │ ACL     │ 2.0      │ 2      │ 15     │ 450    │ 60     │ 1      │\n",
       "│ 9   │ BCL     │ 2.0      │ 2      │ 15     │ 450    │ 600    │ 1      │\n",
       "│ 10  │ ECL     │ 2.0      │ 2      │ 15     │ 450    │ 40     │ 1      │\n",
       "│ 11  │ OCL     │ 2.0      │ 2      │ 15     │ 450    │ 200    │ 1      │"
      ]
     },
     "execution_count": 13,
     "metadata": {},
     "output_type": "execute_result"
    }
   ],
   "source": [
    "otbl = CSV.read(\"objtable.csv\",header=1)"
   ]
  },
  {
   "cell_type": "code",
   "execution_count": 41,
   "metadata": {},
   "outputs": [],
   "source": [
    "intervallist = Array{Int,1}(otbl[:interval]);"
   ]
  },
  {
   "cell_type": "markdown",
   "metadata": {},
   "source": [
    "## make schedule base"
   ]
  },
  {
   "cell_type": "code",
   "execution_count": 15,
   "metadata": {},
   "outputs": [],
   "source": [
    "# create joblist from object table\n",
    "jlst = Array{Int,1}()\n",
    "for i in 1:size(otbl,1)\n",
    "    v = repeat([i],ceil(Int, otbl[:runday][i]))\n",
    "    append!(jlst,v)\n",
    "end"
   ]
  },
  {
   "cell_type": "markdown",
   "metadata": {},
   "source": [
    "Assign this list to machines."
   ]
  },
  {
   "cell_type": "code",
   "execution_count": 16,
   "metadata": {},
   "outputs": [
    {
     "data": {
      "text/plain": [
       "105"
      ]
     },
     "execution_count": 16,
     "metadata": {},
     "output_type": "execute_result"
    }
   ],
   "source": [
    "# columns needed to store enough assign table.\n",
    "# do not give much\n",
    "xcol = length(jlst)*3"
   ]
  },
  {
   "cell_type": "code",
   "execution_count": 17,
   "metadata": {},
   "outputs": [],
   "source": [
    "v = zeros(Int,xcol)\n",
    "for j in 1:length(jlst)\n",
    "    v[j] = jlst[j]\n",
    "end"
   ]
  },
  {
   "cell_type": "code",
   "execution_count": 18,
   "metadata": {},
   "outputs": [],
   "source": [
    "# assign joblist to g0\n",
    "g0 = [v]\n",
    "for i in 1:size(ptbl,1)-1\n",
    "    push!(g0,deepcopy(v))\n",
    "end"
   ]
  },
  {
   "cell_type": "code",
   "execution_count": 19,
   "metadata": {},
   "outputs": [
    {
     "data": {
      "text/plain": [
       "3-element Array{Array{Int64,1},1}:\n",
       " [1, 1, 1, 1, 2, 2, 2, 2, 2, 2  …  0, 0, 0, 0, 0, 0, 0, 0, 0, 0]\n",
       " [1, 1, 1, 1, 2, 2, 2, 2, 2, 2  …  0, 0, 0, 0, 0, 0, 0, 0, 0, 0]\n",
       " [1, 1, 1, 1, 2, 2, 2, 2, 2, 2  …  0, 0, 0, 0, 0, 0, 0, 0, 0, 0]"
      ]
     },
     "execution_count": 19,
     "metadata": {},
     "output_type": "execute_result"
    }
   ],
   "source": [
    "g0"
   ]
  },
  {
   "cell_type": "markdown",
   "metadata": {},
   "source": [
    "assign it correctly."
   ]
  },
  {
   "cell_type": "code",
   "execution_count": 21,
   "metadata": {},
   "outputs": [
    {
     "data": {
      "text/plain": [
       "3-element Array{Array{Int64,1},1}:\n",
       " [1, 1, 1, 1, 1, 1, 1, 1, 2, 2  …  0, 0, 0, 0, 0, 0, 0, 0, 0, 0]\n",
       " [6, 6, 6, 6, 6, 6, 6, 6, 6, 6  …  0, 0, 0, 0, 0, 0, 0, 0, 0, 0]\n",
       " [1, 1, 1, 1, 2, 2, 2, 2, 2, 2  …  0, 0, 0, 0, 0, 0, 0, 0, 0, 0]"
      ]
     },
     "execution_count": 21,
     "metadata": {},
     "output_type": "execute_result"
    }
   ],
   "source": [
    "ProcGA.assignjob!(g0,assignlistgnlist)\n",
    "ProcGA.orderjob!(g0)\n",
    "ProcGA.condensejob!(g0)"
   ]
  },
  {
   "cell_type": "code",
   "execution_count": 22,
   "metadata": {},
   "outputs": [
    {
     "data": {
      "text/plain": [
       "42"
      ]
     },
     "execution_count": 22,
     "metadata": {},
     "output_type": "execute_result"
    }
   ],
   "source": [
    "vm = ProcGA.validlength(g0)"
   ]
  },
  {
   "cell_type": "code",
   "execution_count": 27,
   "metadata": {},
   "outputs": [
    {
     "data": {
      "text/plain": [
       "3-element Array{Array{Int64,1},1}:\n",
       " [1, 1, 1, 1, 1, 1, 1, 1, 2, 2  …  4, 4, 4, 4, 4, 4, 5, 5, 5, 5]  \n",
       " [6, 6, 6, 6, 6, 6, 6, 6, 6, 6  …  0, 0, 0, 0, 0, 0, 0, 0, 0, 0]  \n",
       " [1, 1, 1, 1, 2, 2, 2, 2, 2, 2  …  9, 10, 11, 0, 0, 0, 0, 0, 0, 0]"
      ]
     },
     "execution_count": 27,
     "metadata": {},
     "output_type": "execute_result"
    }
   ],
   "source": [
    "# limit max column to vm, so that scheduling does in this range\n",
    "g1 = [x[1:vm] for x in g0]"
   ]
  },
  {
   "cell_type": "markdown",
   "metadata": {},
   "source": [
    "## Defining penalty functions"
   ]
  },
  {
   "cell_type": "markdown",
   "metadata": {},
   "source": [
    "You can give your own penalty function when needed."
   ]
  },
  {
   "cell_type": "code",
   "execution_count": 29,
   "metadata": {
    "scrolled": true
   },
   "outputs": [
    {
     "data": {
      "text/plain": [
       "3-element Array{Array{Int64,1},1}:\n",
       " [1, 1, 1, 1, 1, 1, 1, 1, 2, 2  …  4, 4, 4, 4, 4, 4, 5, 5, 5, 5]  \n",
       " [6, 6, 6, 6, 6, 6, 6, 6, 6, 6  …  0, 0, 0, 0, 0, 0, 0, 0, 0, 0]  \n",
       " [1, 1, 1, 1, 2, 2, 2, 2, 2, 2  …  9, 10, 11, 0, 0, 0, 0, 0, 0, 0]"
      ]
     },
     "execution_count": 29,
     "metadata": {},
     "output_type": "execute_result"
    }
   ],
   "source": [
    "gs = deepcopy(g1)"
   ]
  },
  {
   "cell_type": "markdown",
   "metadata": {},
   "source": [
    "### bad assignment"
   ]
  },
  {
   "cell_type": "code",
   "execution_count": 23,
   "metadata": {},
   "outputs": [],
   "source": [
    "ProcGA.listbadassign(g0,assignlist) # implement this!"
   ]
  },
  {
   "cell_type": "markdown",
   "metadata": {},
   "source": [
    "### continuous overuse"
   ]
  },
  {
   "cell_type": "code",
   "execution_count": 30,
   "metadata": {},
   "outputs": [
    {
     "data": {
      "text/plain": [
       "1×11 LinearAlgebra.Adjoint{Int64,Array{Int64,1}}:\n",
       " 2  2  2  2  2  2  2  2  2  2  2"
      ]
     },
     "execution_count": 30,
     "metadata": {},
     "output_type": "execute_result"
    }
   ],
   "source": [
    "useday = Array{Int,1}(otbl[:useday])\n",
    "useday'"
   ]
  },
  {
   "cell_type": "markdown",
   "metadata": {},
   "source": [
    "Penalty table which excess useday."
   ]
  },
  {
   "cell_type": "code",
   "execution_count": 26,
   "metadata": {
    "scrolled": false
   },
   "outputs": [
    {
     "data": {
      "text/plain": [
       "3-element Array{Array{Int64,1},1}:\n",
       " [0, 0, 1, 2, 3, 4, 5, 6, 0, 0  …  0, 0, 0, 0, 0, 0, 0, 0, 0, 0]\n",
       " [0, 0, 0, 0, 0, 0, 0, 0, 0, 0  …  0, 0, 0, 0, 0, 0, 0, 0, 0, 0]\n",
       " [0, 0, 1, 2, 0, 0, 0, 0, 0, 0  …  0, 0, 0, 0, 0, 0, 0, 0, 0, 0]"
      ]
     },
     "execution_count": 26,
     "metadata": {},
     "output_type": "execute_result"
    }
   ],
   "source": [
    "ProcGA.listoveruse(g1,1,2)"
   ]
  },
  {
   "cell_type": "code",
   "execution_count": 38,
   "metadata": {},
   "outputs": [
    {
     "data": {
      "text/plain": [
       "3-element Array{Array{Int64,1},1}:\n",
       " [0, 0, 1, 2, 3, 4, 5, 6, 3, 4  …  0, 0, 1, 2, 3, 4, 0, 0, 1, 2]\n",
       " [0, 0, 1, 2, 3, 4, 5, 6, 7, 8  …  0, 0, 0, 0, 0, 0, 0, 0, 0, 0]\n",
       " [0, 0, 1, 2, 0, 0, 1, 2, 3, 4  …  0, 0, 0, 0, 0, 0, 0, 0, 0, 0]"
      ]
     },
     "execution_count": 38,
     "metadata": {},
     "output_type": "execute_result"
    }
   ],
   "source": [
    "pl = ProcGA.listoveruse(g1,useday)"
   ]
  },
  {
   "cell_type": "markdown",
   "metadata": {},
   "source": [
    "This can be used as a penalty point."
   ]
  },
  {
   "cell_type": "code",
   "execution_count": 39,
   "metadata": {},
   "outputs": [
    {
     "data": {
      "text/plain": [
       "299"
      ]
     },
     "execution_count": 39,
     "metadata": {},
     "output_type": "execute_result"
    }
   ],
   "source": [
    "sum(sum(pl))"
   ]
  },
  {
   "cell_type": "markdown",
   "metadata": {},
   "source": [
    "### intervals"
   ]
  },
  {
   "cell_type": "code",
   "execution_count": 42,
   "metadata": {
    "scrolled": true
   },
   "outputs": [
    {
     "data": {
      "text/plain": [
       "3-element Array{Array{Int64,1},1}:\n",
       " [0, 0, 0, 0, 0, 0, 0, 0, 0, 0  …  0, 0, 0, 0, 0, 0, 0, 0, 0, 0]\n",
       " [0, 0, 0, 0, 0, 0, 0, 0, 0, 0  …  0, 0, 0, 0, 0, 0, 0, 0, 0, 0]\n",
       " [0, 0, 0, 0, 0, 0, 0, 0, 0, 0  …  0, 0, 0, 0, 0, 0, 0, 0, 0, 0]"
      ]
     },
     "execution_count": 42,
     "metadata": {},
     "output_type": "execute_result"
    }
   ],
   "source": [
    "pl = ProcGA.listshortinterval(g1,intervallist)"
   ]
  },
  {
   "cell_type": "code",
   "execution_count": 43,
   "metadata": {},
   "outputs": [
    {
     "data": {
      "text/plain": [
       "0"
      ]
     },
     "execution_count": 43,
     "metadata": {},
     "output_type": "execute_result"
    }
   ],
   "source": [
    "sum(sum(pl))"
   ]
  },
  {
   "cell_type": "markdown",
   "metadata": {},
   "source": [
    "### duplication"
   ]
  },
  {
   "cell_type": "code",
   "execution_count": 44,
   "metadata": {},
   "outputs": [
    {
     "data": {
      "text/plain": [
       "3-element Array{Array{Int64,1},1}:\n",
       " [1, 1, 1, 1, 0, 0, 0, 0, 2, 2  …  0, 0, 0, 0, 0, 0, 0, 0, 0, 0]\n",
       " [6, 6, 6, 6, 0, 0, 0, 0, 6, 6  …  0, 0, 0, 0, 0, 0, 0, 0, 0, 0]\n",
       " [1, 1, 1, 1, 0, 0, 0, 0, 2, 2  …  0, 0, 0, 0, 0, 0, 0, 0, 0, 0]"
      ]
     },
     "execution_count": 44,
     "metadata": {},
     "output_type": "execute_result"
    }
   ],
   "source": [
    "pdup = ProcGA.listcoldup(g1)"
   ]
  },
  {
   "cell_type": "code",
   "execution_count": 709,
   "metadata": {},
   "outputs": [
    {
     "data": {
      "text/plain": [
       "18"
      ]
     },
     "execution_count": 709,
     "metadata": {},
     "output_type": "execute_result"
    }
   ],
   "source": [
    "sum(sum(pdup))"
   ]
  },
  {
   "cell_type": "markdown",
   "metadata": {},
   "source": [
    "### homogeniousness "
   ]
  },
  {
   "cell_type": "code",
   "execution_count": 710,
   "metadata": {},
   "outputs": [
    {
     "data": {
      "text/plain": [
       "3-element Array{Array{Int64,1},1}:\n",
       " [1, 1, 1, 1, 1, 1, 1, 1, 2, 2  …  4, 4, 4, 4, 4, 4, 5, 5, 5, 5]  \n",
       " [6, 6, 6, 6, 6, 6, 6, 6, 6, 6  …  0, 0, 0, 0, 0, 0, 0, 0, 0, 0]  \n",
       " [1, 1, 1, 1, 2, 2, 2, 2, 2, 2  …  9, 10, 11, 0, 0, 0, 0, 0, 0, 0]"
      ]
     },
     "execution_count": 710,
     "metadata": {},
     "output_type": "execute_result"
    }
   ],
   "source": [
    "g1"
   ]
  },
  {
   "cell_type": "code",
   "execution_count": 711,
   "metadata": {},
   "outputs": [
    {
     "data": {
      "text/plain": [
       "3-element Array{Array{Int64,1},1}:\n",
       " [0, 0, 0, 0, 0, 0, 0, 0, 0, 0  …  0, 0, 0, 0, 0, 0, 0, 0, 0, 0]\n",
       " [0, 0, 0, 0, 0, 0, 0, 0, 0, 0  …  0, 0, 0, 0, 0, 0, 0, 0, 0, 0]\n",
       " [0, 0, 0, 0, 0, 0, 0, 0, 0, 0  …  0, 0, 0, 0, 0, 0, 0, 0, 0, 0]"
      ]
     },
     "execution_count": 711,
     "metadata": {},
     "output_type": "execute_result"
    }
   ],
   "source": [
    "ph = ProcGA.listhomogenious(g1)"
   ]
  },
  {
   "cell_type": "code",
   "execution_count": 365,
   "metadata": {},
   "outputs": [
    {
     "data": {
      "text/plain": [
       "1×105 LinearAlgebra.Adjoint{Int64,Array{Int64,1}}:\n",
       " 0  0  0  0  0  0  0  0  0  0  0  0  0  …  0  0  0  0  0  0  0  0  0  0  0  0"
      ]
     },
     "execution_count": 365,
     "metadata": {},
     "output_type": "execute_result"
    }
   ],
   "source": [
    "ph'"
   ]
  },
  {
   "cell_type": "markdown",
   "metadata": {},
   "source": [
    "### sparceness (zero inside validlength)"
   ]
  },
  {
   "cell_type": "code",
   "execution_count": 712,
   "metadata": {},
   "outputs": [
    {
     "data": {
      "text/plain": [
       "3-element Array{Array{Int64,1},1}:\n",
       " [0, 0, 0, 0, 0, 0, 0, 0, 0, 0  …  0, 0, 0, 0, 0, 0, 0, 0, 0, 0]\n",
       " [0, 0, 0, 0, 0, 0, 0, 0, 0, 0  …  0, 0, 0, 0, 0, 0, 0, 0, 0, 0]\n",
       " [0, 0, 0, 0, 0, 0, 0, 0, 0, 0  …  0, 0, 0, 0, 0, 0, 0, 0, 0, 0]"
      ]
     },
     "execution_count": 712,
     "metadata": {},
     "output_type": "execute_result"
    }
   ],
   "source": [
    "pz = ProcGA.listzero(g1)"
   ]
  },
  {
   "cell_type": "markdown",
   "metadata": {},
   "source": [
    "### summing all"
   ]
  },
  {
   "cell_type": "code",
   "execution_count": 713,
   "metadata": {},
   "outputs": [
    {
     "data": {
      "text/plain": [
       "mylistpenalty (generic function with 1 method)"
      ]
     },
     "execution_count": 713,
     "metadata": {},
     "output_type": "execute_result"
    }
   ],
   "source": [
    "# combination of penalties\n",
    "# using usehour, intervals\n",
    "function mylistpenalty(tbl)\n",
    "    pcont = ProcGA.listcontinuity(tbl,useday)\n",
    "    pz = ProcGA.listzero(tbl)\n",
    "    prest = ProcGA.listshortinterval(tbl)\n",
    "    pdup = ProcGA.listduplicate(tbl)\n",
    "    ph = ProcGA.listhomogenious(tbl)\n",
    "    \n",
    "    pall = pcont .+ pz .+ prest .+ ph .+ pdup.* 10 # weight\n",
    "    pall\n",
    "end"
   ]
  },
  {
   "cell_type": "code",
   "execution_count": 722,
   "metadata": {},
   "outputs": [
    {
     "data": {
      "text/plain": [
       "3-element Array{Array{Int64,1},1}:\n",
       " [10, 10, 11, 12, 3, 4, 5, 6, 10, 10  …  0, 0, 1, 2, 3, 4, 0, 0, 1, 2]\n",
       " [10, 10, 11, 12, 3, 4, 5, 6, 17, 18  …  0, 0, 0, 0, 0, 0, 0, 0, 0, 0]\n",
       " [10, 10, 11, 12, 0, 0, 1, 2, 13, 14  …  0, 0, 0, 0, 0, 0, 0, 0, 0, 0]"
      ]
     },
     "execution_count": 722,
     "metadata": {},
     "output_type": "execute_result"
    }
   ],
   "source": [
    "pt = mylistpenalty(g1)"
   ]
  },
  {
   "cell_type": "code",
   "execution_count": 717,
   "metadata": {},
   "outputs": [
    {
     "data": {
      "text/plain": [
       "432"
      ]
     },
     "execution_count": 717,
     "metadata": {},
     "output_type": "execute_result"
    }
   ],
   "source": [
    "sum(sum(pt))"
   ]
  },
  {
   "cell_type": "code",
   "execution_count": 718,
   "metadata": {},
   "outputs": [],
   "source": [
    "ProcGA.listpenalty(jtbl::Array{Array{Int,1},1}) = mylistpenalty(jtbl)"
   ]
  },
  {
   "cell_type": "markdown",
   "metadata": {},
   "source": [
    "Set penalty to sum of penalty table and validlength plus its standard deviation weighted."
   ]
  },
  {
   "cell_type": "code",
   "execution_count": 719,
   "metadata": {},
   "outputs": [],
   "source": [
    "ProcGA.penalty(tbl) = sum(sum(mylistpenalty(tbl))) + Int(round(std(ProcGA.validlength.(tbl))))"
   ]
  },
  {
   "cell_type": "code",
   "execution_count": 721,
   "metadata": {},
   "outputs": [
    {
     "data": {
      "text/plain": [
       "439"
      ]
     },
     "execution_count": 721,
     "metadata": {},
     "output_type": "execute_result"
    }
   ],
   "source": [
    "ProcGA.penalty(g1)"
   ]
  },
  {
   "cell_type": "markdown",
   "metadata": {},
   "source": [
    "## Initialize population"
   ]
  },
  {
   "cell_type": "code",
   "execution_count": 371,
   "metadata": {},
   "outputs": [
    {
     "data": {
      "text/plain": [
       "\"bestprc_heuristics.csv\""
      ]
     },
     "execution_count": 371,
     "metadata": {},
     "output_type": "execute_result"
    }
   ],
   "source": [
    "savedfile = \"bestprc_heuristics.csv\""
   ]
  },
  {
   "cell_type": "code",
   "execution_count": 778,
   "metadata": {},
   "outputs": [
    {
     "name": "stdout",
     "output_type": "stream",
     "text": [
      "read from bestprc_heuristics.csv\n"
     ]
    },
    {
     "data": {
      "text/plain": [
       "3-element Array{Array{Int64,1},1}:\n",
       " [2, 3, 2, 2, 2, 2, 3, 2, 3, 2  …  5, 2, 1, 3, 3, 5, 3, 5, 1, 3]     \n",
       " [0, 0, 6, 6, 6, 6, 6, 7, 6, 7  …  7, 10, 8, 10, 11, 7, 9, 6, 10, 11]\n",
       " [0, 4, 1, 1, 2, 2, 1, 2, 2, 2  …  3, 3, 7, 4, 3, 5, 6, 7, 8, 7]     "
      ]
     },
     "execution_count": 778,
     "metadata": {},
     "output_type": "execute_result"
    }
   ],
   "source": [
    "# create population from savedfile or make new\n",
    "if isfile(savedfile)\n",
    "    println(\"read from $savedfile\")\n",
    "    gbs = readdlm(savedfile, ',', Int)\n",
    "    g1 = [gbs[i,:] for i in 1:size(gbs,1) ]\n",
    "else\n",
    "    println(\"Use \\\"genes\\\" above.\")\n",
    "end\n",
    "ProcGA.colsortjob!(g1)"
   ]
  },
  {
   "cell_type": "markdown",
   "metadata": {},
   "source": [
    "Make population.\n",
    "Half of it is from best data and latter half is randomly made."
   ]
  },
  {
   "cell_type": "code",
   "execution_count": 779,
   "metadata": {},
   "outputs": [
    {
     "data": {
      "text/plain": [
       "200"
      ]
     },
     "execution_count": 779,
     "metadata": {},
     "output_type": "execute_result"
    }
   ],
   "source": [
    "if isfile(savedfile)\n",
    "    ppl = ProcGA.populatefrom(g1,50);\n",
    "    ppl = vcat(ppl, ProcGA.populateshuffle(g1,150));\n",
    "else\n",
    "    ppl = ProcGA.populateshuffle(g1,200);\n",
    "end\n",
    "length(ppl)"
   ]
  },
  {
   "cell_type": "markdown",
   "metadata": {},
   "source": [
    "## Evolution!"
   ]
  },
  {
   "cell_type": "code",
   "execution_count": 780,
   "metadata": {},
   "outputs": [],
   "source": [
    "# first sort ppl by their penalties\n",
    "ProcGA.sortpopulation!(ppl);"
   ]
  },
  {
   "cell_type": "code",
   "execution_count": 781,
   "metadata": {},
   "outputs": [],
   "source": [
    "v = ProcGA.penalty.(ppl);"
   ]
  },
  {
   "cell_type": "code",
   "execution_count": 782,
   "metadata": {},
   "outputs": [
    {
     "data": {
      "image/svg+xml": [
       "<?xml version=\"1.0\" encoding=\"utf-8\"?>\n",
       "<svg xmlns=\"http://www.w3.org/2000/svg\" xmlns:xlink=\"http://www.w3.org/1999/xlink\" width=\"600\" height=\"400\" viewBox=\"0 0 2400 1600\">\n",
       "<defs>\n",
       "  <clipPath id=\"clip1900\">\n",
       "    <rect x=\"0\" y=\"0\" width=\"2000\" height=\"2000\"/>\n",
       "  </clipPath>\n",
       "</defs>\n",
       "<defs>\n",
       "  <clipPath id=\"clip1901\">\n",
       "    <rect x=\"0\" y=\"0\" width=\"2400\" height=\"1600\"/>\n",
       "  </clipPath>\n",
       "</defs>\n",
       "<polygon clip-path=\"url(#clip1901)\" points=\"\n",
       "0,1600 2400,1600 2400,0 0,0 \n",
       "  \" fill=\"#ffffff\" fill-opacity=\"1\"/>\n",
       "<defs>\n",
       "  <clipPath id=\"clip1902\">\n",
       "    <rect x=\"480\" y=\"0\" width=\"1681\" height=\"1600\"/>\n",
       "  </clipPath>\n",
       "</defs>\n",
       "<polygon clip-path=\"url(#clip1901)\" points=\"\n",
       "174.775,1503.47 2321.26,1503.47 2321.26,47.2441 174.775,47.2441 \n",
       "  \" fill=\"#ffffff\" fill-opacity=\"1\"/>\n",
       "<defs>\n",
       "  <clipPath id=\"clip1903\">\n",
       "    <rect x=\"174\" y=\"47\" width=\"2147\" height=\"1457\"/>\n",
       "  </clipPath>\n",
       "</defs>\n",
       "<polyline clip-path=\"url(#clip1903)\" style=\"stroke:#000000; stroke-width:2; stroke-opacity:0.1; fill:none\" points=\"\n",
       "  225.349,1503.47 225.349,47.2441 \n",
       "  \"/>\n",
       "<polyline clip-path=\"url(#clip1903)\" style=\"stroke:#000000; stroke-width:2; stroke-opacity:0.1; fill:none\" points=\"\n",
       "  734.139,1503.47 734.139,47.2441 \n",
       "  \"/>\n",
       "<polyline clip-path=\"url(#clip1903)\" style=\"stroke:#000000; stroke-width:2; stroke-opacity:0.1; fill:none\" points=\"\n",
       "  1242.93,1503.47 1242.93,47.2441 \n",
       "  \"/>\n",
       "<polyline clip-path=\"url(#clip1903)\" style=\"stroke:#000000; stroke-width:2; stroke-opacity:0.1; fill:none\" points=\"\n",
       "  1751.72,1503.47 1751.72,47.2441 \n",
       "  \"/>\n",
       "<polyline clip-path=\"url(#clip1903)\" style=\"stroke:#000000; stroke-width:2; stroke-opacity:0.1; fill:none\" points=\"\n",
       "  2260.51,1503.47 2260.51,47.2441 \n",
       "  \"/>\n",
       "<polyline clip-path=\"url(#clip1903)\" style=\"stroke:#000000; stroke-width:2; stroke-opacity:0.1; fill:none\" points=\"\n",
       "  174.775,1260.03 2321.26,1260.03 \n",
       "  \"/>\n",
       "<polyline clip-path=\"url(#clip1903)\" style=\"stroke:#000000; stroke-width:2; stroke-opacity:0.1; fill:none\" points=\"\n",
       "  174.775,911.345 2321.26,911.345 \n",
       "  \"/>\n",
       "<polyline clip-path=\"url(#clip1903)\" style=\"stroke:#000000; stroke-width:2; stroke-opacity:0.1; fill:none\" points=\"\n",
       "  174.775,562.664 2321.26,562.664 \n",
       "  \"/>\n",
       "<polyline clip-path=\"url(#clip1903)\" style=\"stroke:#000000; stroke-width:2; stroke-opacity:0.1; fill:none\" points=\"\n",
       "  174.775,213.983 2321.26,213.983 \n",
       "  \"/>\n",
       "<polyline clip-path=\"url(#clip1901)\" style=\"stroke:#000000; stroke-width:4; stroke-opacity:1; fill:none\" points=\"\n",
       "  174.775,1503.47 2321.26,1503.47 \n",
       "  \"/>\n",
       "<polyline clip-path=\"url(#clip1901)\" style=\"stroke:#000000; stroke-width:4; stroke-opacity:1; fill:none\" points=\"\n",
       "  174.775,1503.47 174.775,47.2441 \n",
       "  \"/>\n",
       "<polyline clip-path=\"url(#clip1901)\" style=\"stroke:#000000; stroke-width:4; stroke-opacity:1; fill:none\" points=\"\n",
       "  225.349,1503.47 225.349,1481.63 \n",
       "  \"/>\n",
       "<polyline clip-path=\"url(#clip1901)\" style=\"stroke:#000000; stroke-width:4; stroke-opacity:1; fill:none\" points=\"\n",
       "  734.139,1503.47 734.139,1481.63 \n",
       "  \"/>\n",
       "<polyline clip-path=\"url(#clip1901)\" style=\"stroke:#000000; stroke-width:4; stroke-opacity:1; fill:none\" points=\"\n",
       "  1242.93,1503.47 1242.93,1481.63 \n",
       "  \"/>\n",
       "<polyline clip-path=\"url(#clip1901)\" style=\"stroke:#000000; stroke-width:4; stroke-opacity:1; fill:none\" points=\"\n",
       "  1751.72,1503.47 1751.72,1481.63 \n",
       "  \"/>\n",
       "<polyline clip-path=\"url(#clip1901)\" style=\"stroke:#000000; stroke-width:4; stroke-opacity:1; fill:none\" points=\"\n",
       "  2260.51,1503.47 2260.51,1481.63 \n",
       "  \"/>\n",
       "<polyline clip-path=\"url(#clip1901)\" style=\"stroke:#000000; stroke-width:4; stroke-opacity:1; fill:none\" points=\"\n",
       "  174.775,1260.03 206.972,1260.03 \n",
       "  \"/>\n",
       "<polyline clip-path=\"url(#clip1901)\" style=\"stroke:#000000; stroke-width:4; stroke-opacity:1; fill:none\" points=\"\n",
       "  174.775,911.345 206.972,911.345 \n",
       "  \"/>\n",
       "<polyline clip-path=\"url(#clip1901)\" style=\"stroke:#000000; stroke-width:4; stroke-opacity:1; fill:none\" points=\"\n",
       "  174.775,562.664 206.972,562.664 \n",
       "  \"/>\n",
       "<polyline clip-path=\"url(#clip1901)\" style=\"stroke:#000000; stroke-width:4; stroke-opacity:1; fill:none\" points=\"\n",
       "  174.775,213.983 206.972,213.983 \n",
       "  \"/>\n",
       "<g clip-path=\"url(#clip1901)\">\n",
       "<text style=\"fill:#000000; fill-opacity:1; font-family:Arial,Helvetica Neue,Helvetica,sans-serif; font-size:48px; text-anchor:middle;\" transform=\"rotate(0, 225.349, 1557.47)\" x=\"225.349\" y=\"1557.47\">0</text>\n",
       "</g>\n",
       "<g clip-path=\"url(#clip1901)\">\n",
       "<text style=\"fill:#000000; fill-opacity:1; font-family:Arial,Helvetica Neue,Helvetica,sans-serif; font-size:48px; text-anchor:middle;\" transform=\"rotate(0, 734.139, 1557.47)\" x=\"734.139\" y=\"1557.47\">50</text>\n",
       "</g>\n",
       "<g clip-path=\"url(#clip1901)\">\n",
       "<text style=\"fill:#000000; fill-opacity:1; font-family:Arial,Helvetica Neue,Helvetica,sans-serif; font-size:48px; text-anchor:middle;\" transform=\"rotate(0, 1242.93, 1557.47)\" x=\"1242.93\" y=\"1557.47\">100</text>\n",
       "</g>\n",
       "<g clip-path=\"url(#clip1901)\">\n",
       "<text style=\"fill:#000000; fill-opacity:1; font-family:Arial,Helvetica Neue,Helvetica,sans-serif; font-size:48px; text-anchor:middle;\" transform=\"rotate(0, 1751.72, 1557.47)\" x=\"1751.72\" y=\"1557.47\">150</text>\n",
       "</g>\n",
       "<g clip-path=\"url(#clip1901)\">\n",
       "<text style=\"fill:#000000; fill-opacity:1; font-family:Arial,Helvetica Neue,Helvetica,sans-serif; font-size:48px; text-anchor:middle;\" transform=\"rotate(0, 2260.51, 1557.47)\" x=\"2260.51\" y=\"1557.47\">200</text>\n",
       "</g>\n",
       "<g clip-path=\"url(#clip1901)\">\n",
       "<text style=\"fill:#000000; fill-opacity:1; font-family:Arial,Helvetica Neue,Helvetica,sans-serif; font-size:48px; text-anchor:end;\" transform=\"rotate(0, 150.775, 1277.53)\" x=\"150.775\" y=\"1277.53\">200</text>\n",
       "</g>\n",
       "<g clip-path=\"url(#clip1901)\">\n",
       "<text style=\"fill:#000000; fill-opacity:1; font-family:Arial,Helvetica Neue,Helvetica,sans-serif; font-size:48px; text-anchor:end;\" transform=\"rotate(0, 150.775, 928.845)\" x=\"150.775\" y=\"928.845\">300</text>\n",
       "</g>\n",
       "<g clip-path=\"url(#clip1901)\">\n",
       "<text style=\"fill:#000000; fill-opacity:1; font-family:Arial,Helvetica Neue,Helvetica,sans-serif; font-size:48px; text-anchor:end;\" transform=\"rotate(0, 150.775, 580.164)\" x=\"150.775\" y=\"580.164\">400</text>\n",
       "</g>\n",
       "<g clip-path=\"url(#clip1901)\">\n",
       "<text style=\"fill:#000000; fill-opacity:1; font-family:Arial,Helvetica Neue,Helvetica,sans-serif; font-size:48px; text-anchor:end;\" transform=\"rotate(0, 150.775, 231.483)\" x=\"150.775\" y=\"231.483\">500</text>\n",
       "</g>\n",
       "<polyline clip-path=\"url(#clip1903)\" style=\"stroke:#009af9; stroke-width:4; stroke-opacity:1; fill:none\" points=\"\n",
       "  235.525,1462.26 245.701,1458.77 255.876,1368.12 266.052,1354.17 276.228,1354.17 286.404,1284.43 296.58,1263.51 306.755,1232.13 316.931,1218.18 327.107,1218.18 \n",
       "  337.283,1211.21 347.459,1207.72 357.634,1207.72 367.81,1204.24 377.986,1193.78 388.162,1190.29 398.338,1179.83 408.513,1179.83 418.689,1155.42 428.865,1144.96 \n",
       "  439.041,1141.47 449.217,1137.99 459.393,1117.07 469.568,1106.61 479.744,1099.63 489.92,1089.17 500.096,1085.69 510.272,1085.69 520.447,1085.69 530.623,1078.71 \n",
       "  540.799,1071.74 550.975,1071.74 561.151,1064.76 571.326,1057.79 581.502,1050.82 591.678,1043.84 601.854,1040.36 612.03,1040.36 622.205,1033.38 632.381,1029.9 \n",
       "  642.557,1029.9 652.733,1029.9 662.909,1026.41 673.084,1026.41 683.26,1022.92 693.436,1019.44 703.612,1015.95 713.788,1012.46 723.963,998.515 734.139,995.028 \n",
       "  744.315,991.542 754.491,988.055 764.667,988.055 774.843,988.055 785.018,984.568 795.194,984.568 805.37,981.081 815.546,967.134 825.722,960.16 835.897,956.673 \n",
       "  846.073,949.7 856.249,949.7 866.425,939.239 876.601,939.239 886.776,935.753 896.952,932.266 907.128,928.779 917.304,925.292 927.48,925.292 937.655,921.805 \n",
       "  947.831,918.319 958.007,914.832 968.183,907.858 978.359,904.371 988.534,904.371 998.71,900.885 1008.89,893.911 1019.06,890.424 1029.24,883.45 1039.41,876.477 \n",
       "  1049.59,869.503 1059.77,862.53 1069.94,859.043 1080.12,859.043 1090.29,855.556 1100.47,855.556 1110.64,852.069 1120.82,848.582 1131,845.096 1141.17,845.096 \n",
       "  1151.35,838.122 1161.52,838.122 1171.7,838.122 1181.87,838.122 1192.05,838.122 1202.23,834.635 1212.4,831.148 1222.58,827.662 1232.75,820.688 1242.93,817.201 \n",
       "  1253.11,817.201 1263.28,806.741 1273.46,806.741 1283.63,799.767 1293.81,796.28 1303.98,796.28 1314.16,796.28 1324.34,792.793 1334.51,789.307 1344.69,785.82 \n",
       "  1354.86,782.333 1365.04,778.846 1375.22,768.386 1385.39,764.899 1395.57,761.412 1405.74,757.925 1415.92,754.439 1426.09,754.439 1436.27,754.439 1446.45,747.465 \n",
       "  1456.62,743.978 1466.8,743.978 1476.97,743.978 1487.15,743.978 1497.32,737.005 1507.5,733.518 1517.68,733.518 1527.85,733.518 1538.03,733.518 1548.2,733.518 \n",
       "  1558.38,733.518 1568.56,733.518 1578.73,730.031 1588.91,730.031 1599.08,730.031 1609.26,723.057 1619.43,723.057 1629.61,723.057 1639.79,723.057 1649.96,723.057 \n",
       "  1660.14,716.084 1670.31,712.597 1680.49,712.597 1690.67,709.11 1700.84,709.11 1711.02,702.136 1721.19,698.65 1731.37,695.163 1741.54,681.216 1751.72,677.729 \n",
       "  1761.9,674.242 1772.07,674.242 1782.25,670.755 1792.42,663.782 1802.6,646.348 1812.77,639.374 1822.95,635.887 1833.13,635.887 1843.3,632.4 1853.48,628.913 \n",
       "  1863.65,628.913 1873.83,628.913 1884.01,625.427 1894.18,621.94 1904.36,618.453 1914.53,614.966 1924.71,611.479 1934.88,607.993 1945.06,604.506 1955.24,601.019 \n",
       "  1965.41,597.532 1975.59,597.532 1985.76,590.559 1995.94,587.072 2006.12,562.664 2016.29,555.69 2026.47,555.69 2036.64,555.69 2046.82,545.23 2056.99,541.743 \n",
       "  2067.17,541.743 2077.35,534.77 2087.52,520.822 2097.7,513.849 2107.87,513.849 2118.05,510.362 2128.22,496.415 2138.4,485.954 2148.58,458.06 2158.75,458.06 \n",
       "  2168.93,454.573 2179.1,447.599 2189.28,426.679 2199.46,419.705 2209.63,353.456 2219.81,336.022 2229.98,241.878 2240.16,161.681 2250.33,151.221 2260.51,88.4582 \n",
       "  \n",
       "  \"/>\n",
       "<polygon clip-path=\"url(#clip1901)\" points=\"\n",
       "1958.43,251.724 2249.26,251.724 2249.26,130.764 1958.43,130.764 \n",
       "  \" fill=\"#ffffff\" fill-opacity=\"1\"/>\n",
       "<polyline clip-path=\"url(#clip1901)\" style=\"stroke:#000000; stroke-width:4; stroke-opacity:1; fill:none\" points=\"\n",
       "  1958.43,251.724 2249.26,251.724 2249.26,130.764 1958.43,130.764 1958.43,251.724 \n",
       "  \"/>\n",
       "<polyline clip-path=\"url(#clip1901)\" style=\"stroke:#009af9; stroke-width:4; stroke-opacity:1; fill:none\" points=\"\n",
       "  1982.43,191.244 2126.43,191.244 \n",
       "  \"/>\n",
       "<g clip-path=\"url(#clip1901)\">\n",
       "<text style=\"fill:#000000; fill-opacity:1; font-family:Arial,Helvetica Neue,Helvetica,sans-serif; font-size:48px; text-anchor:start;\" transform=\"rotate(0, 2150.43, 208.744)\" x=\"2150.43\" y=\"208.744\">y1</text>\n",
       "</g>\n",
       "</svg>\n"
      ]
     },
     "execution_count": 782,
     "metadata": {},
     "output_type": "execute_result"
    }
   ],
   "source": [
    "x = 1:length(v)\n",
    "plot(x,v)"
   ]
  },
  {
   "cell_type": "code",
   "execution_count": 783,
   "metadata": {
    "scrolled": true
   },
   "outputs": [
    {
     "data": {
      "text/plain": [
       "1-element Array{Array{Int64,1},1}:\n",
       " [142, 327, 536]"
      ]
     },
     "execution_count": 783,
     "metadata": {},
     "output_type": "execute_result"
    }
   ],
   "source": [
    "vlst = [[minimum(v), Int(round(median(v))), maximum(v)]]"
   ]
  },
  {
   "cell_type": "code",
   "execution_count": 788,
   "metadata": {},
   "outputs": [
    {
     "name": "stdout",
     "output_type": "stream",
     "text": [
      "i:5 => [1, 25, 114]\n",
      "i:10 => [1, 35, 111]\n",
      "i:15 => [1, 32, 136]\n",
      "i:20 => [1, 17, 125]\n",
      "i:25 => [1, 36, 109]\n",
      "i:30 => [1, 32, 129]\n",
      "i:35 => [1, 20, 130]\n",
      "i:40 => [1, 28, 105]\n",
      "i:45 => [1, 26, 105]\n",
      "i:50 => [1, 20, 129]\n",
      "i:55 => [1, 32, 104]\n",
      "i:60 => [1, 19, 104]\n",
      "i:65 => [1, 16, 104]\n",
      "i:70 => [1, 20, 114]\n",
      "i:75 => [1, 32, 133]\n",
      "i:80 => [1, 34, 106]\n",
      "i:85 => [1, 34, 139]\n",
      "i:90 => [1, 35, 104]\n",
      "i:95 => [1, 33, 111]\n",
      "i:100 => [1, 22, 128]\n"
     ]
    }
   ],
   "source": [
    "# Proceed generation\n",
    "# size, counter, survival rate, elite rate, mutation rate\n",
    "# default rates : 0.8, 0.2, 0.05\n",
    "# enable jobswitching between available rows\n",
    "vl = ProcGA.evolution!(ppl, 100,5, 0.2, 0.5, 1, true);\n",
    "vlst = vcat(vlst,vl);"
   ]
  },
  {
   "cell_type": "code",
   "execution_count": 789,
   "metadata": {},
   "outputs": [
    {
     "data": {
      "image/svg+xml": [
       "<?xml version=\"1.0\" encoding=\"utf-8\"?>\n",
       "<svg xmlns=\"http://www.w3.org/2000/svg\" xmlns:xlink=\"http://www.w3.org/1999/xlink\" width=\"600\" height=\"400\" viewBox=\"0 0 2400 1600\">\n",
       "<defs>\n",
       "  <clipPath id=\"clip2300\">\n",
       "    <rect x=\"0\" y=\"0\" width=\"2000\" height=\"2000\"/>\n",
       "  </clipPath>\n",
       "</defs>\n",
       "<defs>\n",
       "  <clipPath id=\"clip2301\">\n",
       "    <rect x=\"0\" y=\"0\" width=\"2400\" height=\"1600\"/>\n",
       "  </clipPath>\n",
       "</defs>\n",
       "<polygon clip-path=\"url(#clip2301)\" points=\"\n",
       "0,1600 2400,1600 2400,0 0,0 \n",
       "  \" fill=\"#ffffff\" fill-opacity=\"1\"/>\n",
       "<defs>\n",
       "  <clipPath id=\"clip2302\">\n",
       "    <rect x=\"480\" y=\"0\" width=\"1681\" height=\"1600\"/>\n",
       "  </clipPath>\n",
       "</defs>\n",
       "<polygon clip-path=\"url(#clip2301)\" points=\"\n",
       "174.775,1503.47 2321.26,1503.47 2321.26,47.2441 174.775,47.2441 \n",
       "  \" fill=\"#ffffff\" fill-opacity=\"1\"/>\n",
       "<defs>\n",
       "  <clipPath id=\"clip2303\">\n",
       "    <rect x=\"174\" y=\"47\" width=\"2147\" height=\"1457\"/>\n",
       "  </clipPath>\n",
       "</defs>\n",
       "<polyline clip-path=\"url(#clip2303)\" style=\"stroke:#000000; stroke-width:2; stroke-opacity:0.1; fill:none\" points=\"\n",
       "  225.4,1503.47 225.4,47.2441 \n",
       "  \"/>\n",
       "<polyline clip-path=\"url(#clip2303)\" style=\"stroke:#000000; stroke-width:2; stroke-opacity:0.1; fill:none\" points=\"\n",
       "  731.646,1503.47 731.646,47.2441 \n",
       "  \"/>\n",
       "<polyline clip-path=\"url(#clip2303)\" style=\"stroke:#000000; stroke-width:2; stroke-opacity:0.1; fill:none\" points=\"\n",
       "  1237.89,1503.47 1237.89,47.2441 \n",
       "  \"/>\n",
       "<polyline clip-path=\"url(#clip2303)\" style=\"stroke:#000000; stroke-width:2; stroke-opacity:0.1; fill:none\" points=\"\n",
       "  1744.14,1503.47 1744.14,47.2441 \n",
       "  \"/>\n",
       "<polyline clip-path=\"url(#clip2303)\" style=\"stroke:#000000; stroke-width:2; stroke-opacity:0.1; fill:none\" points=\"\n",
       "  2250.39,1503.47 2250.39,47.2441 \n",
       "  \"/>\n",
       "<polyline clip-path=\"url(#clip2303)\" style=\"stroke:#000000; stroke-width:2; stroke-opacity:0.1; fill:none\" points=\"\n",
       "  174.775,1472 2321.26,1472 \n",
       "  \"/>\n",
       "<polyline clip-path=\"url(#clip2303)\" style=\"stroke:#000000; stroke-width:2; stroke-opacity:0.1; fill:none\" points=\"\n",
       "  174.775,1228.42 2321.26,1228.42 \n",
       "  \"/>\n",
       "<polyline clip-path=\"url(#clip2303)\" style=\"stroke:#000000; stroke-width:2; stroke-opacity:0.1; fill:none\" points=\"\n",
       "  174.775,984.84 2321.26,984.84 \n",
       "  \"/>\n",
       "<polyline clip-path=\"url(#clip2303)\" style=\"stroke:#000000; stroke-width:2; stroke-opacity:0.1; fill:none\" points=\"\n",
       "  174.775,741.258 2321.26,741.258 \n",
       "  \"/>\n",
       "<polyline clip-path=\"url(#clip2303)\" style=\"stroke:#000000; stroke-width:2; stroke-opacity:0.1; fill:none\" points=\"\n",
       "  174.775,497.676 2321.26,497.676 \n",
       "  \"/>\n",
       "<polyline clip-path=\"url(#clip2303)\" style=\"stroke:#000000; stroke-width:2; stroke-opacity:0.1; fill:none\" points=\"\n",
       "  174.775,254.094 2321.26,254.094 \n",
       "  \"/>\n",
       "<polyline clip-path=\"url(#clip2301)\" style=\"stroke:#000000; stroke-width:4; stroke-opacity:1; fill:none\" points=\"\n",
       "  174.775,1503.47 2321.26,1503.47 \n",
       "  \"/>\n",
       "<polyline clip-path=\"url(#clip2301)\" style=\"stroke:#000000; stroke-width:4; stroke-opacity:1; fill:none\" points=\"\n",
       "  174.775,1503.47 174.775,47.2441 \n",
       "  \"/>\n",
       "<polyline clip-path=\"url(#clip2301)\" style=\"stroke:#000000; stroke-width:4; stroke-opacity:1; fill:none\" points=\"\n",
       "  225.4,1503.47 225.4,1481.63 \n",
       "  \"/>\n",
       "<polyline clip-path=\"url(#clip2301)\" style=\"stroke:#000000; stroke-width:4; stroke-opacity:1; fill:none\" points=\"\n",
       "  731.646,1503.47 731.646,1481.63 \n",
       "  \"/>\n",
       "<polyline clip-path=\"url(#clip2301)\" style=\"stroke:#000000; stroke-width:4; stroke-opacity:1; fill:none\" points=\"\n",
       "  1237.89,1503.47 1237.89,1481.63 \n",
       "  \"/>\n",
       "<polyline clip-path=\"url(#clip2301)\" style=\"stroke:#000000; stroke-width:4; stroke-opacity:1; fill:none\" points=\"\n",
       "  1744.14,1503.47 1744.14,1481.63 \n",
       "  \"/>\n",
       "<polyline clip-path=\"url(#clip2301)\" style=\"stroke:#000000; stroke-width:4; stroke-opacity:1; fill:none\" points=\"\n",
       "  2250.39,1503.47 2250.39,1481.63 \n",
       "  \"/>\n",
       "<polyline clip-path=\"url(#clip2301)\" style=\"stroke:#000000; stroke-width:4; stroke-opacity:1; fill:none\" points=\"\n",
       "  174.775,1472 206.972,1472 \n",
       "  \"/>\n",
       "<polyline clip-path=\"url(#clip2301)\" style=\"stroke:#000000; stroke-width:4; stroke-opacity:1; fill:none\" points=\"\n",
       "  174.775,1228.42 206.972,1228.42 \n",
       "  \"/>\n",
       "<polyline clip-path=\"url(#clip2301)\" style=\"stroke:#000000; stroke-width:4; stroke-opacity:1; fill:none\" points=\"\n",
       "  174.775,984.84 206.972,984.84 \n",
       "  \"/>\n",
       "<polyline clip-path=\"url(#clip2301)\" style=\"stroke:#000000; stroke-width:4; stroke-opacity:1; fill:none\" points=\"\n",
       "  174.775,741.258 206.972,741.258 \n",
       "  \"/>\n",
       "<polyline clip-path=\"url(#clip2301)\" style=\"stroke:#000000; stroke-width:4; stroke-opacity:1; fill:none\" points=\"\n",
       "  174.775,497.676 206.972,497.676 \n",
       "  \"/>\n",
       "<polyline clip-path=\"url(#clip2301)\" style=\"stroke:#000000; stroke-width:4; stroke-opacity:1; fill:none\" points=\"\n",
       "  174.775,254.094 206.972,254.094 \n",
       "  \"/>\n",
       "<g clip-path=\"url(#clip2301)\">\n",
       "<text style=\"fill:#000000; fill-opacity:1; font-family:Arial,Helvetica Neue,Helvetica,sans-serif; font-size:48px; text-anchor:middle;\" transform=\"rotate(0, 225.4, 1557.47)\" x=\"225.4\" y=\"1557.47\">0</text>\n",
       "</g>\n",
       "<g clip-path=\"url(#clip2301)\">\n",
       "<text style=\"fill:#000000; fill-opacity:1; font-family:Arial,Helvetica Neue,Helvetica,sans-serif; font-size:48px; text-anchor:middle;\" transform=\"rotate(0, 731.646, 1557.47)\" x=\"731.646\" y=\"1557.47\">50</text>\n",
       "</g>\n",
       "<g clip-path=\"url(#clip2301)\">\n",
       "<text style=\"fill:#000000; fill-opacity:1; font-family:Arial,Helvetica Neue,Helvetica,sans-serif; font-size:48px; text-anchor:middle;\" transform=\"rotate(0, 1237.89, 1557.47)\" x=\"1237.89\" y=\"1557.47\">100</text>\n",
       "</g>\n",
       "<g clip-path=\"url(#clip2301)\">\n",
       "<text style=\"fill:#000000; fill-opacity:1; font-family:Arial,Helvetica Neue,Helvetica,sans-serif; font-size:48px; text-anchor:middle;\" transform=\"rotate(0, 1744.14, 1557.47)\" x=\"1744.14\" y=\"1557.47\">150</text>\n",
       "</g>\n",
       "<g clip-path=\"url(#clip2301)\">\n",
       "<text style=\"fill:#000000; fill-opacity:1; font-family:Arial,Helvetica Neue,Helvetica,sans-serif; font-size:48px; text-anchor:middle;\" transform=\"rotate(0, 2250.39, 1557.47)\" x=\"2250.39\" y=\"1557.47\">200</text>\n",
       "</g>\n",
       "<g clip-path=\"url(#clip2301)\">\n",
       "<text style=\"fill:#000000; fill-opacity:1; font-family:Arial,Helvetica Neue,Helvetica,sans-serif; font-size:48px; text-anchor:end;\" transform=\"rotate(0, 150.775, 1489.5)\" x=\"150.775\" y=\"1489.5\">0</text>\n",
       "</g>\n",
       "<g clip-path=\"url(#clip2301)\">\n",
       "<text style=\"fill:#000000; fill-opacity:1; font-family:Arial,Helvetica Neue,Helvetica,sans-serif; font-size:48px; text-anchor:end;\" transform=\"rotate(0, 150.775, 1245.92)\" x=\"150.775\" y=\"1245.92\">25</text>\n",
       "</g>\n",
       "<g clip-path=\"url(#clip2301)\">\n",
       "<text style=\"fill:#000000; fill-opacity:1; font-family:Arial,Helvetica Neue,Helvetica,sans-serif; font-size:48px; text-anchor:end;\" transform=\"rotate(0, 150.775, 1002.34)\" x=\"150.775\" y=\"1002.34\">50</text>\n",
       "</g>\n",
       "<g clip-path=\"url(#clip2301)\">\n",
       "<text style=\"fill:#000000; fill-opacity:1; font-family:Arial,Helvetica Neue,Helvetica,sans-serif; font-size:48px; text-anchor:end;\" transform=\"rotate(0, 150.775, 758.758)\" x=\"150.775\" y=\"758.758\">75</text>\n",
       "</g>\n",
       "<g clip-path=\"url(#clip2301)\">\n",
       "<text style=\"fill:#000000; fill-opacity:1; font-family:Arial,Helvetica Neue,Helvetica,sans-serif; font-size:48px; text-anchor:end;\" transform=\"rotate(0, 150.775, 515.176)\" x=\"150.775\" y=\"515.176\">100</text>\n",
       "</g>\n",
       "<g clip-path=\"url(#clip2301)\">\n",
       "<text style=\"fill:#000000; fill-opacity:1; font-family:Arial,Helvetica Neue,Helvetica,sans-serif; font-size:48px; text-anchor:end;\" transform=\"rotate(0, 150.775, 271.594)\" x=\"150.775\" y=\"271.594\">125</text>\n",
       "</g>\n",
       "<polyline clip-path=\"url(#clip2303)\" style=\"stroke:#009af9; stroke-width:4; stroke-opacity:1; fill:none\" points=\"\n",
       "  235.525,88.4582 245.65,731.515 255.775,965.353 265.9,1062.79 276.024,1150.48 286.149,1150.48 296.274,1179.71 306.399,1189.45 316.524,1247.91 326.649,1247.91 \n",
       "  336.774,1277.14 346.899,1286.88 357.024,1296.62 367.149,1306.37 377.274,1316.11 387.399,1316.11 397.524,1316.11 407.649,1316.11 417.773,1316.11 427.898,1335.6 \n",
       "  438.023,1345.34 448.148,1345.34 458.273,1374.57 468.398,1374.57 478.523,1374.57 488.648,1374.57 498.773,1394.06 508.898,1413.54 519.023,1413.54 529.148,1413.54 \n",
       "  539.273,1413.54 549.398,1413.54 559.522,1413.54 569.647,1413.54 579.772,1413.54 589.897,1413.54 600.022,1423.29 610.147,1423.29 620.272,1423.29 630.397,1423.29 \n",
       "  640.522,1423.29 650.647,1423.29 660.772,1433.03 670.897,1433.03 681.022,1433.03 691.147,1433.03 701.271,1433.03 711.396,1433.03 721.521,1433.03 731.646,1442.77 \n",
       "  741.771,1442.77 751.896,1442.77 762.021,1442.77 772.146,1442.77 782.271,1442.77 792.396,1442.77 802.521,1442.77 812.646,1442.77 822.771,1442.77 832.895,1442.77 \n",
       "  843.02,1442.77 853.145,1442.77 863.27,1442.77 873.395,1452.52 883.52,1452.52 893.645,1452.52 903.77,1452.52 913.895,1452.52 924.02,1452.52 934.145,1452.52 \n",
       "  944.27,1452.52 954.395,1452.52 964.52,1452.52 974.644,1452.52 984.769,1452.52 994.894,1452.52 1005.02,1452.52 1015.14,1452.52 1025.27,1452.52 1035.39,1452.52 \n",
       "  1045.52,1452.52 1055.64,1452.52 1065.77,1452.52 1075.89,1452.52 1086.02,1452.52 1096.14,1452.52 1106.27,1452.52 1116.39,1452.52 1126.52,1452.52 1136.64,1452.52 \n",
       "  1146.77,1452.52 1156.89,1452.52 1167.02,1452.52 1177.14,1452.52 1187.27,1452.52 1197.39,1452.52 1207.52,1462.26 1217.64,1462.26 1227.77,1462.26 1237.89,1462.26 \n",
       "  1248.02,1462.26 1258.14,1462.26 1268.27,1462.26 1278.39,1462.26 1288.52,1462.26 1298.64,1462.26 1308.77,1462.26 1318.89,1462.26 1329.02,1462.26 1339.14,1462.26 \n",
       "  1349.27,1462.26 1359.39,1462.26 1369.52,1462.26 1379.64,1462.26 1389.77,1462.26 1399.89,1462.26 1410.02,1462.26 1420.14,1462.26 1430.27,1462.26 1440.39,1462.26 \n",
       "  1450.52,1462.26 1460.64,1462.26 1470.77,1462.26 1480.89,1462.26 1491.02,1462.26 1501.14,1462.26 1511.27,1462.26 1521.39,1462.26 1531.52,1462.26 1541.64,1462.26 \n",
       "  1551.77,1462.26 1561.89,1462.26 1572.02,1462.26 1582.14,1462.26 1592.27,1462.26 1602.39,1462.26 1612.51,1462.26 1622.64,1462.26 1632.76,1462.26 1642.89,1462.26 \n",
       "  1653.01,1462.26 1663.14,1462.26 1673.26,1462.26 1683.39,1462.26 1693.51,1462.26 1703.64,1462.26 1713.76,1462.26 1723.89,1462.26 1734.01,1462.26 1744.14,1462.26 \n",
       "  1754.26,1462.26 1764.39,1462.26 1774.51,1462.26 1784.64,1462.26 1794.76,1462.26 1804.89,1462.26 1815.01,1462.26 1825.14,1462.26 1835.26,1462.26 1845.39,1462.26 \n",
       "  1855.51,1462.26 1865.64,1462.26 1875.76,1462.26 1885.89,1462.26 1896.01,1462.26 1906.14,1462.26 1916.26,1462.26 1926.39,1462.26 1936.51,1462.26 1946.64,1462.26 \n",
       "  1956.76,1462.26 1966.89,1462.26 1977.01,1462.26 1987.14,1462.26 1997.26,1462.26 2007.39,1462.26 2017.51,1462.26 2027.64,1462.26 2037.76,1462.26 2047.89,1462.26 \n",
       "  2058.01,1462.26 2068.14,1462.26 2078.26,1462.26 2088.39,1462.26 2098.51,1462.26 2108.64,1462.26 2118.76,1462.26 2128.89,1462.26 2139.01,1462.26 2149.14,1462.26 \n",
       "  2159.26,1462.26 2169.39,1462.26 2179.51,1462.26 2189.64,1462.26 2199.76,1462.26 2209.89,1462.26 2220.01,1462.26 2230.14,1462.26 2240.26,1462.26 2250.39,1462.26 \n",
       "  2260.51,1462.26 \n",
       "  \"/>\n",
       "<polygon clip-path=\"url(#clip2301)\" points=\"\n",
       "1958.43,251.724 2249.26,251.724 2249.26,130.764 1958.43,130.764 \n",
       "  \" fill=\"#ffffff\" fill-opacity=\"1\"/>\n",
       "<polyline clip-path=\"url(#clip2301)\" style=\"stroke:#000000; stroke-width:4; stroke-opacity:1; fill:none\" points=\"\n",
       "  1958.43,251.724 2249.26,251.724 2249.26,130.764 1958.43,130.764 1958.43,251.724 \n",
       "  \"/>\n",
       "<polyline clip-path=\"url(#clip2301)\" style=\"stroke:#009af9; stroke-width:4; stroke-opacity:1; fill:none\" points=\"\n",
       "  1982.43,191.244 2126.43,191.244 \n",
       "  \"/>\n",
       "<g clip-path=\"url(#clip2301)\">\n",
       "<text style=\"fill:#000000; fill-opacity:1; font-family:Arial,Helvetica Neue,Helvetica,sans-serif; font-size:48px; text-anchor:start;\" transform=\"rotate(0, 2150.43, 208.744)\" x=\"2150.43\" y=\"208.744\">y1</text>\n",
       "</g>\n",
       "</svg>\n"
      ]
     },
     "execution_count": 789,
     "metadata": {},
     "output_type": "execute_result"
    }
   ],
   "source": [
    "y = (x->x[1]).(vlst);\n",
    "x = 1:length(y);\n",
    "\n",
    "plot(x,y)"
   ]
  },
  {
   "cell_type": "markdown",
   "metadata": {},
   "source": [
    "Pick up the best data."
   ]
  },
  {
   "cell_type": "code",
   "execution_count": 790,
   "metadata": {},
   "outputs": [
    {
     "data": {
      "text/plain": [
       "3-element Array{Array{Int64,1},1}:\n",
       " [4, 1, 2, 3, 5, 1, 4, 3, 3, 4  …  2, 3, 2, 2, 1, 3, 2, 2, 4, 3]   \n",
       " [6, 7, 10, 8, 6, 9, 7, 7, 6, 6  …  6, 6, 10, 8, 7, 7, 11, 6, 0, 0]\n",
       " [7, 4, 5, 5, 7, 7, 3, 6, 2, 2  …  1, 2, 3, 1, 2, 2, 6, 1, 3, 0]   "
      ]
     },
     "execution_count": 790,
     "metadata": {},
     "output_type": "execute_result"
    }
   ],
   "source": [
    "v = ProcGA.penalty.(ppl)\n",
    "idm = findmin(v)[2]\n",
    "bestgen = ppl[idm]"
   ]
  },
  {
   "cell_type": "code",
   "execution_count": 799,
   "metadata": {},
   "outputs": [],
   "source": [
    "# save best process table to file.\n",
    "# do not clip it so that it can be used again\n",
    "writedlm(\"bestprc.csv\",bestgen, ',')"
   ]
  },
  {
   "cell_type": "markdown",
   "metadata": {},
   "source": [
    "## Check"
   ]
  },
  {
   "cell_type": "code",
   "execution_count": 801,
   "metadata": {},
   "outputs": [
    {
     "data": {
      "text/plain": [
       "3-element Array{Array{Int64,1},1}:\n",
       " [0, 0, 0, 0, 0, 0, 0, 0, 0, 0  …  0, 0, 0, 0, 0, 0, 0, 0, 0, 0]\n",
       " [0, 0, 0, 0, 0, 0, 0, 0, 0, 0  …  0, 0, 0, 0, 0, 0, 0, 0, 0, 0]\n",
       " [0, 0, 0, 0, 0, 0, 0, 0, 0, 0  …  0, 0, 0, 0, 0, 0, 0, 0, 0, 0]"
      ]
     },
     "execution_count": 801,
     "metadata": {},
     "output_type": "execute_result"
    }
   ],
   "source": [
    "ProcGA.listcontinuity(bestgen,useday)"
   ]
  },
  {
   "cell_type": "markdown",
   "metadata": {},
   "source": [
    "We should add penalty to continuous usege over all machines!"
   ]
  },
  {
   "cell_type": "code",
   "execution_count": 792,
   "metadata": {},
   "outputs": [
    {
     "data": {
      "text/plain": [
       "3-element Array{Array{Int64,1},1}:\n",
       " [0, 0, 0, 0, 0, 0, 0, 0, 0, 0  …  0, 0, 0, 0, 0, 0, 0, 0, 0, 0]\n",
       " [0, 0, 0, 0, 0, 0, 0, 0, 0, 0  …  0, 0, 0, 0, 0, 0, 0, 0, 0, 0]\n",
       " [0, 0, 0, 0, 0, 0, 0, 0, 0, 0  …  0, 0, 0, 0, 0, 0, 0, 0, 0, 0]"
      ]
     },
     "execution_count": 792,
     "metadata": {},
     "output_type": "execute_result"
    }
   ],
   "source": [
    "plst = ProcGA.listpenalty(bestgen)"
   ]
  },
  {
   "cell_type": "code",
   "execution_count": 795,
   "metadata": {
    "scrolled": true
   },
   "outputs": [
    {
     "data": {
      "text/plain": [
       "0"
      ]
     },
     "execution_count": 795,
     "metadata": {},
     "output_type": "execute_result"
    }
   ],
   "source": [
    "sum(sum(plst))"
   ]
  },
  {
   "cell_type": "code",
   "execution_count": 798,
   "metadata": {},
   "outputs": [
    {
     "data": {
      "text/plain": [
       "3-element Array{Int64,1}:\n",
       " 36\n",
       " 34\n",
       " 35"
      ]
     },
     "execution_count": 798,
     "metadata": {},
     "output_type": "execute_result"
    }
   ],
   "source": [
    "v = ProcGA.validlength.(bestgen)"
   ]
  },
  {
   "cell_type": "markdown",
   "metadata": {},
   "source": [
    "OK!\n",
    "\n",
    "All job length are almost same!"
   ]
  },
  {
   "cell_type": "markdown",
   "metadata": {},
   "source": [
    "## check functions (test)"
   ]
  },
  {
   "cell_type": "code",
   "execution_count": 646,
   "metadata": {},
   "outputs": [
    {
     "data": {
      "text/plain": [
       "3-element Array{Array{Int64,1},1}:\n",
       " [1, 1, 1, 1, 1, 1, 1, 1, 2, 2  …  0, 0, 0, 0, 0, 0, 0, 0, 0, 0]\n",
       " [0, 0, 0, 0, 0, 0, 0, 0, 0, 0  …  0, 0, 0, 0, 0, 0, 0, 0, 0, 0]\n",
       " [1, 1, 1, 1, 2, 2, 2, 2, 2, 2  …  0, 0, 0, 0, 0, 0, 0, 0, 0, 0]"
      ]
     },
     "execution_count": 646,
     "metadata": {},
     "output_type": "execute_result"
    }
   ],
   "source": [
    "gs"
   ]
  },
  {
   "cell_type": "code",
   "execution_count": 647,
   "metadata": {
    "scrolled": true
   },
   "outputs": [
    {
     "data": {
      "text/plain": [
       "3-element Array{Array{Int64,1},1}:\n",
       " [1, 1, 1, 1, 1, 1, 1, 1, 2, 2  …  0, 0, 0, 0, 0, 0, 0, 0, 0, 0]\n",
       " [0, 0, 0, 0, 0, 0, 0, 0, 0, 0  …  0, 0, 0, 0, 0, 0, 0, 0, 0, 0]\n",
       " [1, 1, 1, 1, 2, 2, 2, 2, 2, 2  …  0, 0, 0, 0, 0, 0, 0, 0, 0, 0]"
      ]
     },
     "execution_count": 647,
     "metadata": {},
     "output_type": "execute_result"
    }
   ],
   "source": [
    "g2 = deepcopy(gs)"
   ]
  },
  {
   "cell_type": "code",
   "execution_count": 649,
   "metadata": {},
   "outputs": [],
   "source": [
    "l2 = g2[2];"
   ]
  },
  {
   "cell_type": "code",
   "execution_count": 651,
   "metadata": {},
   "outputs": [
    {
     "data": {
      "text/plain": [
       "3-element Array{Array{Int64,1},1}:\n",
       " [1, 1, 1, 1, 1, 1, 1, 1, 2, 2  …  0, 0, 0, 0, 0, 0, 0, 0, 0, 0]\n",
       " [6, 6, 6, 6, 6, 6, 6, 6, 6, 6  …  0, 0, 0, 0, 0, 0, 0, 0, 0, 0]\n",
       " [1, 1, 1, 1, 2, 2, 2, 2, 2, 2  …  0, 0, 0, 0, 0, 0, 0, 0, 0, 0]"
      ]
     },
     "execution_count": 651,
     "metadata": {},
     "output_type": "execute_result"
    }
   ],
   "source": [
    "g2[2] = ProcGA.condensejob!(l2);\n",
    "g2"
   ]
  },
  {
   "cell_type": "code",
   "execution_count": 652,
   "metadata": {
    "scrolled": false
   },
   "outputs": [
    {
     "data": {
      "text/plain": [
       "42"
      ]
     },
     "execution_count": 652,
     "metadata": {},
     "output_type": "execute_result"
    }
   ],
   "source": [
    "vl = ProcGA.validlength(g2)"
   ]
  },
  {
   "cell_type": "code",
   "execution_count": 655,
   "metadata": {},
   "outputs": [
    {
     "data": {
      "text/plain": [
       "3-element Array{Array{Int64,1},1}:\n",
       " [1, 1, 1, 1, 1, 1, 1, 1, 2, 2  …  0, 0, 0, 0, 0, 0, 0, 0, 0, 0]  \n",
       " [6, 6, 6, 6, 6, 6, 6, 6, 6, 6  …  0, 0, 0, 0, 0, 0, 0, 0, 0, 0]  \n",
       " [11, 10, 9, 8, 7, 7, 7, 7, 7, 6  …  0, 0, 0, 0, 0, 0, 0, 0, 0, 0]"
      ]
     },
     "execution_count": 655,
     "metadata": {},
     "output_type": "execute_result"
    }
   ],
   "source": [
    "l3 = g2[3][1:vl];\n",
    "l3 = sort(l3,rev=true);\n",
    "g2[3][1:vl] = l3\n",
    "g2"
   ]
  },
  {
   "cell_type": "code",
   "execution_count": 657,
   "metadata": {
    "scrolled": true
   },
   "outputs": [],
   "source": [
    "l1 = g2[1][1:vl];"
   ]
  },
  {
   "cell_type": "code",
   "execution_count": 660,
   "metadata": {},
   "outputs": [
    {
     "data": {
      "text/plain": [
       "2×21 Array{Int64,2}:\n",
       " 1  1  1  1  2  2  2  2  2  2  3  3  3  3  3  3  4  4  4  5  5\n",
       " 1  1  1  1  2  2  2  2  2  2  3  3  3  3  3  3  4  4  4  5  5"
      ]
     },
     "execution_count": 660,
     "metadata": {},
     "output_type": "execute_result"
    }
   ],
   "source": [
    "t1 = reshape(l1,(2,vl÷ 2))"
   ]
  },
  {
   "cell_type": "code",
   "execution_count": 508,
   "metadata": {},
   "outputs": [
    {
     "data": {
      "text/plain": [
       "7.0"
      ]
     },
     "execution_count": 508,
     "metadata": {},
     "output_type": "execute_result"
    }
   ],
   "source": []
  },
  {
   "cell_type": "code",
   "execution_count": 474,
   "metadata": {},
   "outputs": [
    {
     "data": {
      "text/plain": [
       "475"
      ]
     },
     "execution_count": 474,
     "metadata": {},
     "output_type": "execute_result"
    }
   ],
   "source": [
    "ProcGA.penalty(bestgen) + sum(sum(ProcGA.listzero(bestgen)))"
   ]
  },
  {
   "cell_type": "code",
   "execution_count": 509,
   "metadata": {},
   "outputs": [],
   "source": [
    "push!(ppl,gnew);"
   ]
  },
  {
   "cell_type": "markdown",
   "metadata": {},
   "source": [
    "Adjust length of each row"
   ]
  },
  {
   "cell_type": "code",
   "execution_count": 476,
   "metadata": {
    "scrolled": true
   },
   "outputs": [
    {
     "data": {
      "text/plain": [
       "3-element Array{Array{Int64,1},1}:\n",
       " [1, 2, 3]\n",
       " [1, 2, 3]\n",
       " [1, 2, 3]"
      ]
     },
     "execution_count": 476,
     "metadata": {},
     "output_type": "execute_result"
    }
   ],
   "source": [
    "x = [1,2,3];\n",
    "[x for i in 1:3]"
   ]
  },
  {
   "cell_type": "code",
   "execution_count": 433,
   "metadata": {},
   "outputs": [
    {
     "data": {
      "text/plain": [
       "45"
      ]
     },
     "execution_count": 433,
     "metadata": {},
     "output_type": "execute_result"
    }
   ],
   "source": [
    "Int(round(std(l)))*3"
   ]
  },
  {
   "cell_type": "code",
   "execution_count": 328,
   "metadata": {},
   "outputs": [
    {
     "data": {
      "text/plain": [
       "2-element Array{NTuple{4,Int64},1}:\n",
       " (252, 0, 0, 80)\n",
       " (252, 0, 0, 80)"
      ]
     },
     "execution_count": 328,
     "metadata": {},
     "output_type": "execute_result"
    }
   ],
   "source": [
    "checkpenalties.([ppl[2],ppl[3]])"
   ]
  },
  {
   "cell_type": "code",
   "execution_count": 329,
   "metadata": {},
   "outputs": [
    {
     "data": {
      "text/plain": [
       "2-element Array{NTuple{4,Int64},1}:\n",
       " (273, 0, 0, 80) \n",
       " (252, 60, 0, 80)"
      ]
     },
     "execution_count": 329,
     "metadata": {},
     "output_type": "execute_result"
    }
   ],
   "source": [
    "checkpenalties.([c1,c2])"
   ]
  },
  {
   "cell_type": "code",
   "execution_count": 330,
   "metadata": {},
   "outputs": [
    {
     "data": {
      "text/plain": [
       "3×294 Array{Int64,2}:\n",
       " 0  0  0  0  1  0  0  1  0  0  0  0  0  …  0  0  0  0  0  0  0  0  0  0  0  0\n",
       " 0  0  0  0  0  2  0  0  4  0  0  5  5     0  0  0  0  0  0  0  0  0  0  0  0\n",
       " 1  1  1  1  0  1  1  0  1  1  1  1  1     0  0  0  0  0  0  0  0  0  0  0  0"
      ]
     },
     "execution_count": 330,
     "metadata": {},
     "output_type": "execute_result"
    }
   ],
   "source": [
    "ProcGA.switchjob!(c1)"
   ]
  },
  {
   "cell_type": "code",
   "execution_count": 331,
   "metadata": {},
   "outputs": [
    {
     "data": {
      "text/plain": [
       "(273, 0, 0, 80)"
      ]
     },
     "execution_count": 331,
     "metadata": {},
     "output_type": "execute_result"
    }
   ],
   "source": [
    "checkpenalties(c1)"
   ]
  },
  {
   "cell_type": "code",
   "execution_count": 240,
   "metadata": {},
   "outputs": [
    {
     "data": {
      "text/plain": [
       "switchjob1! (generic function with 2 methods)"
      ]
     },
     "execution_count": 240,
     "metadata": {},
     "output_type": "execute_result"
    }
   ],
   "source": [
    "function switchjob1!(jtbl::Array{Int,2}, atbl = ProcGA.assigntable)\n",
    "    rw = size(jtbl,1)\n",
    "    col = ProcGA.validlength(jtbl)\n",
    "    \n",
    "    r1 = rand(1:rw)\n",
    "    c1 = rand(1:col)\n",
    "    r2 = sample(ProcGA.findassignnum(r1,atbl),1)[1]\n",
    "    c2 = sample(1:col,1)[1]\n",
    "    jtbl[r1,c1],jtbl[r2,c2] = jtbl[r2,c2], jtbl[r1,c1]\n",
    "    println(\"($r1,$c1): <=> ($r2,$c2)\")\n",
    "    jtbl[r1,c1], jtbl[r2,c2]\n",
    "end"
   ]
  },
  {
   "cell_type": "code",
   "execution_count": 332,
   "metadata": {},
   "outputs": [
    {
     "name": "stdout",
     "output_type": "stream",
     "text": [
      "(2,166): <=> (3,31)\n"
     ]
    },
    {
     "data": {
      "text/plain": [
       "(1, 0)"
      ]
     },
     "execution_count": 332,
     "metadata": {},
     "output_type": "execute_result"
    }
   ],
   "source": [
    "switchjob1!(c1)"
   ]
  },
  {
   "cell_type": "code",
   "execution_count": 333,
   "metadata": {},
   "outputs": [
    {
     "data": {
      "text/plain": [
       "(252, 60, 0, 80)"
      ]
     },
     "execution_count": 333,
     "metadata": {},
     "output_type": "execute_result"
    }
   ],
   "source": [
    "checkpenalties(c2)"
   ]
  },
  {
   "cell_type": "code",
   "execution_count": null,
   "metadata": {},
   "outputs": [],
   "source": []
  }
 ],
 "metadata": {
  "kernelspec": {
   "display_name": "Julia 1.0.2",
   "language": "julia",
   "name": "julia-1.0"
  },
  "language_info": {
   "file_extension": ".jl",
   "mimetype": "application/julia",
   "name": "julia",
   "version": "1.0.2"
  },
  "toc": {
   "base_numbering": 1,
   "nav_menu": {},
   "number_sections": true,
   "sideBar": true,
   "skip_h1_title": true,
   "title_cell": "Table of Contents",
   "title_sidebar": "Contents",
   "toc_cell": false,
   "toc_position": {
    "height": "calc(100% - 180px)",
    "left": "10px",
    "top": "150px",
    "width": "349px"
   },
   "toc_section_display": true,
   "toc_window_display": true
  }
 },
 "nbformat": 4,
 "nbformat_minor": 2
}
