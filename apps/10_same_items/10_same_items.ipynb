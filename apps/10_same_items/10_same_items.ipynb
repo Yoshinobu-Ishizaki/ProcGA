{
 "cells": [
  {
   "cell_type": "markdown",
   "metadata": {},
   "source": [
    "# Process optimization by genetic algorithm"
   ]
  },
  {
   "cell_type": "markdown",
   "metadata": {},
   "source": [
    "10 same items scheduling"
   ]
  },
  {
   "cell_type": "code",
   "execution_count": 189,
   "metadata": {},
   "outputs": [
    {
     "name": "stderr",
     "output_type": "stream",
     "text": [
      "WARNING: replacing module ProcGA.\n"
     ]
    },
    {
     "data": {
      "text/plain": [
       "Main.ProcGA"
      ]
     },
     "execution_count": 189,
     "metadata": {},
     "output_type": "execute_result"
    }
   ],
   "source": [
    "include(\"../../src/ProcGA.jl\")"
   ]
  },
  {
   "cell_type": "code",
   "execution_count": 144,
   "metadata": {},
   "outputs": [],
   "source": [
    "using CSV\n",
    "using DelimitedFiles\n",
    "using DataFrames\n",
    "using Missings\n",
    "using Statistics"
   ]
  },
  {
   "cell_type": "code",
   "execution_count": 14,
   "metadata": {
    "scrolled": false
   },
   "outputs": [
    {
     "name": "stderr",
     "output_type": "stream",
     "text": [
      "┌ Info: Precompiling Plotly [58dd65bb-95f3-509e-9936-c39a10fdeae7]\n",
      "└ @ Base loading.jl:1192\n",
      "WARNING: could not import Base.quit into AtomShell\n"
     ]
    },
    {
     "data": {
      "text/html": [
       "    <script class='js-collapse-script'>\n",
       "        var curMatch =\n",
       "            window.location.href\n",
       "            .match(/(.*?)\\/notebooks\\/.*\\.ipynb/);\n",
       "\n",
       "        curMatch = curMatch ||\n",
       "            window.location.href\n",
       "            .match(/(.*?)\\/apps\\/.*\\.ipynb/);\n",
       "\n",
       "        if ( curMatch ) {\n",
       "            $('head').append('<base href=\"' + curMatch[1] + '/\">');\n",
       "        }\n",
       "    </script>\n"
      ],
      "text/plain": [
       "HTML{String}(\"    <script class='js-collapse-script'>\\n        var curMatch =\\n            window.location.href\\n            .match(/(.*?)\\\\/notebooks\\\\/.*\\\\.ipynb/);\\n\\n        curMatch = curMatch ||\\n            window.location.href\\n            .match(/(.*?)\\\\/apps\\\\/.*\\\\.ipynb/);\\n\\n        if ( curMatch ) {\\n            \\$('head').append('<base href=\\\"' + curMatch[1] + '/\\\">');\\n        }\\n    </script>\\n\")"
      ]
     },
     "metadata": {},
     "output_type": "display_data"
    },
    {
     "data": {
      "text/html": [
       "<script class='js-collapse-script' src='/assetserver/ca093309b313bb1b910f847fbc5df50a50de9ece-assets/webio/dist/bundle.js'></script>"
      ],
      "text/plain": [
       "HTML{String}(\"<script class='js-collapse-script' src='/assetserver/ca093309b313bb1b910f847fbc5df50a50de9ece-assets/webio/dist/bundle.js'></script>\")"
      ]
     },
     "metadata": {},
     "output_type": "display_data"
    },
    {
     "data": {
      "text/html": [
       "<script class='js-collapse-script' src='/assetserver/ca093309b313bb1b910f847fbc5df50a50de9ece-assets/providers/ijulia_setup.js'></script>"
      ],
      "text/plain": [
       "HTML{String}(\"<script class='js-collapse-script' src='/assetserver/ca093309b313bb1b910f847fbc5df50a50de9ece-assets/providers/ijulia_setup.js'></script>\")"
      ]
     },
     "metadata": {},
     "output_type": "display_data"
    },
    {
     "data": {
      "text/html": [
       "  <script class='js-collapse-script'>\n",
       "    $('.js-collapse-script').parent('.output_subarea').css('padding', '0');\n",
       "  </script>\n"
      ],
      "text/plain": [
       "HTML{String}(\"  <script class='js-collapse-script'>\\n    \\$('.js-collapse-script').parent('.output_subarea').css('padding', '0');\\n  </script>\\n\")"
      ]
     },
     "metadata": {},
     "output_type": "display_data"
    }
   ],
   "source": [
    "using Plots, Plotly"
   ]
  },
  {
   "cell_type": "code",
   "execution_count": 164,
   "metadata": {},
   "outputs": [
    {
     "data": {
      "text/plain": [
       "Plots.GRBackend()"
      ]
     },
     "execution_count": 164,
     "metadata": {},
     "output_type": "execute_result"
    }
   ],
   "source": [
    "gr()"
   ]
  },
  {
   "cell_type": "markdown",
   "metadata": {},
   "source": [
    "## reading data"
   ]
  },
  {
   "cell_type": "code",
   "execution_count": 16,
   "metadata": {},
   "outputs": [],
   "source": [
    "ptbl = CSV.read(\"proctable.csv\",header = 1);"
   ]
  },
  {
   "cell_type": "code",
   "execution_count": 17,
   "metadata": {},
   "outputs": [],
   "source": [
    "# take smaller size \n",
    "ptbl = ptbl[1:10,:];"
   ]
  },
  {
   "cell_type": "code",
   "execution_count": 18,
   "metadata": {},
   "outputs": [
    {
     "data": {
      "text/plain": [
       "10×2 Array{Any,2}:\n",
       " \"BB105 間管\"       50\n",
       " \"BB201-3 3補助管2\"  50\n",
       " \"BH301M 間管\"      50\n",
       " \"BH301M 枝管1\"     50\n",
       " \"BH301M 枝管2\"     50\n",
       " \"EP201 間管\"       50\n",
       " \"EP201-2 2補助管\"   50\n",
       " \"EP201-2 枝管1\"    50\n",
       " \"HR567 枝管4\"      50\n",
       " \"HR567 枝管4C\"     50"
      ]
     },
     "execution_count": 18,
     "metadata": {},
     "output_type": "execute_result"
    }
   ],
   "source": [
    "mtbl = convert(Array, ptbl[1:2])"
   ]
  },
  {
   "cell_type": "code",
   "execution_count": 19,
   "metadata": {},
   "outputs": [
    {
     "data": {
      "text/plain": [
       "10×14 Array{Int64,2}:\n",
       " 1  0  0  0  0  0  3  0  2  0  0  2  2  2\n",
       " 1  0  0  0  0  0  3  0  2  0  0  2  2  2\n",
       " 1  0  0  0  0  0  3  0  2  0  0  2  2  2\n",
       " 1  0  0  0  0  0  3  0  2  0  0  2  2  2\n",
       " 1  0  0  0  0  0  3  0  2  0  0  2  2  2\n",
       " 1  0  0  0  0  0  3  0  2  0  0  2  2  2\n",
       " 1  0  0  0  0  0  3  0  2  0  0  2  2  2\n",
       " 1  0  0  0  0  0  3  0  2  0  0  2  2  2\n",
       " 1  0  0  0  0  0  3  0  2  0  0  2  2  2\n",
       " 1  0  0  0  0  0  3  0  2  0  0  2  2  2"
      ]
     },
     "execution_count": 19,
     "metadata": {},
     "output_type": "execute_result"
    }
   ],
   "source": [
    "ptbl2 = [coalesce.(x,0) for x in convert(Array, ptbl[3:end])]"
   ]
  },
  {
   "cell_type": "code",
   "execution_count": 20,
   "metadata": {},
   "outputs": [
    {
     "data": {
      "text/plain": [
       "14-element Array{String,1}:\n",
       " \"pipecut\"           \n",
       " \"anneal_bs_prebend\" \n",
       " \"anneal_ns_prebend\" \n",
       " \"icing\"             \n",
       " \"rotbend\"           \n",
       " \"pressbend\"         \n",
       " \"anneal_bs_precalib\"\n",
       " \"anneal_ns_precalib\"\n",
       " \"vcalib\"            \n",
       " \"hcalib\"            \n",
       " \"buff_precut\"       \n",
       " \"mc_cut\"            \n",
       " \"buff_postcut\"      \n",
       " \"qc_check\"          "
      ]
     },
     "execution_count": 20,
     "metadata": {},
     "output_type": "execute_result"
    }
   ],
   "source": [
    "s = string.(names(ptbl)[3:end])"
   ]
  },
  {
   "cell_type": "code",
   "execution_count": 21,
   "metadata": {},
   "outputs": [
    {
     "data": {
      "text/html": [
       "<table class=\"data-frame\"><thead><tr><th></th><th>id</th><th>nm</th></tr></thead><tbody><tr><th>1</th><td>1</td><td>pipecut</td></tr><tr><th>2</th><td>2</td><td>anneal_bs_prebend</td></tr><tr><th>3</th><td>3</td><td>anneal_ns_prebend</td></tr><tr><th>4</th><td>4</td><td>icing</td></tr><tr><th>5</th><td>5</td><td>rotbend</td></tr><tr><th>6</th><td>6</td><td>pressbend</td></tr><tr><th>7</th><td>7</td><td>anneal_bs_precalib</td></tr><tr><th>8</th><td>8</td><td>anneal_ns_precalib</td></tr><tr><th>9</th><td>9</td><td>vcalib</td></tr><tr><th>10</th><td>10</td><td>hcalib</td></tr><tr><th>11</th><td>11</td><td>buff_precut</td></tr><tr><th>12</th><td>12</td><td>mc_cut</td></tr><tr><th>13</th><td>13</td><td>buff_postcut</td></tr><tr><th>14</th><td>14</td><td>qc_check</td></tr></tbody></table>"
      ],
      "text/plain": [
       "14×2 DataFrame\n",
       "│ Row │ id │ nm                 │\n",
       "├─────┼────┼────────────────────┤\n",
       "│ 1   │ 1  │ pipecut            │\n",
       "│ 2   │ 2  │ anneal_bs_prebend  │\n",
       "│ 3   │ 3  │ anneal_ns_prebend  │\n",
       "│ 4   │ 4  │ icing              │\n",
       "│ 5   │ 5  │ rotbend            │\n",
       "│ 6   │ 6  │ pressbend          │\n",
       "│ 7   │ 7  │ anneal_bs_precalib │\n",
       "│ 8   │ 8  │ anneal_ns_precalib │\n",
       "│ 9   │ 9  │ vcalib             │\n",
       "│ 10  │ 10 │ hcalib             │\n",
       "│ 11  │ 11 │ buff_precut        │\n",
       "│ 12  │ 12 │ mc_cut             │\n",
       "│ 13  │ 13 │ buff_postcut       │\n",
       "│ 14  │ 14 │ qc_check           │"
      ]
     },
     "execution_count": 21,
     "metadata": {},
     "output_type": "execute_result"
    }
   ],
   "source": [
    "nametable = DataFrame(id = 1:length(s), nm = s)"
   ]
  },
  {
   "cell_type": "markdown",
   "metadata": {},
   "source": [
    "Read grouping info."
   ]
  },
  {
   "cell_type": "code",
   "execution_count": 68,
   "metadata": {},
   "outputs": [
    {
     "data": {
      "text/plain": [
       "2×5 Array{Any,2}:\n",
       " \"anneal_bs\"  \"[2;7]\"  300  3  1\n",
       " \"anneal_ns\"  \"[3;8]\"  300  3  1"
      ]
     },
     "execution_count": 68,
     "metadata": {},
     "output_type": "execute_result"
    }
   ],
   "source": [
    "gtbl = readdlm(\"grouping.csv\",',', skipstart = 1)"
   ]
  },
  {
   "cell_type": "code",
   "execution_count": 69,
   "metadata": {},
   "outputs": [],
   "source": [
    "gtbl2=[]\n",
    "for k in 1:size(gtbl)[1]\n",
    "    x = gtbl[k, 2:end]\n",
    "    push!(gtbl2,Dict(:id=>eval(Meta.parse(x[1])),:cnt=>x[2],:timespan=>x[3],:grp=>x[4]))\n",
    "end"
   ]
  },
  {
   "cell_type": "code",
   "execution_count": 70,
   "metadata": {},
   "outputs": [
    {
     "data": {
      "text/plain": [
       "2-element Array{Any,1}:\n",
       " Dict{Symbol,Any}(:timespan=>3,:id=>[2, 7],:cnt=>300,:grp=>1)\n",
       " Dict{Symbol,Any}(:timespan=>3,:id=>[3, 8],:cnt=>300,:grp=>1)"
      ]
     },
     "execution_count": 70,
     "metadata": {},
     "output_type": "execute_result"
    }
   ],
   "source": [
    "gtbl2"
   ]
  },
  {
   "cell_type": "markdown",
   "metadata": {},
   "source": [
    "## Initialize ProcGA tables."
   ]
  },
  {
   "cell_type": "code",
   "execution_count": 190,
   "metadata": {},
   "outputs": [
    {
     "data": {
      "text/plain": [
       "()"
      ]
     },
     "execution_count": 190,
     "metadata": {},
     "output_type": "execute_result"
    }
   ],
   "source": [
    "ProcGA.settable(ptbl2, gtbl2, mtbl)"
   ]
  },
  {
   "cell_type": "markdown",
   "metadata": {},
   "source": [
    "## Initialize population"
   ]
  },
  {
   "cell_type": "code",
   "execution_count": 191,
   "metadata": {},
   "outputs": [
    {
     "data": {
      "text/plain": [
       "\"bestprc.csv\""
      ]
     },
     "execution_count": 191,
     "metadata": {},
     "output_type": "execute_result"
    }
   ],
   "source": [
    "savedfile = \"bestprc.csv\""
   ]
  },
  {
   "cell_type": "code",
   "execution_count": 192,
   "metadata": {},
   "outputs": [
    {
     "name": "stdout",
     "output_type": "stream",
     "text": [
      "read from bestprc.csv\n"
     ]
    },
    {
     "data": {
      "text/plain": [
       "10×120 Array{Int64,2}:\n",
       " 1  7  7  7  0  0  0  0  0   9   9   0  …  0  0  0  0  0  0  0  0  0  0  0  0\n",
       " 0  1  0  0  7  7  7  0  0   0   0   0     0  0  0  0  0  0  0  0  0  0  0  0\n",
       " 0  0  1  0  7  7  7  9  9  12  12  13     0  0  0  0  0  0  0  0  0  0  0  0\n",
       " 0  0  0  1  0  0  0  7  7   7   0   9     0  0  0  0  0  0  0  0  0  0  0  0\n",
       " 0  0  0  0  1  0  0  0  0   0   7   7     0  0  0  0  0  0  0  0  0  0  0  0\n",
       " 0  0  0  0  0  1  0  7  7   7   0   0  …  0  0  0  0  0  0  0  0  0  0  0  0\n",
       " 0  0  0  0  0  0  1  7  7   7   0   0     0  0  0  0  0  0  0  0  0  0  0  0\n",
       " 0  0  0  0  0  0  0  1  0   0   7   7     0  0  0  0  0  0  0  0  0  0  0  0\n",
       " 0  0  0  0  0  0  0  0  1   0   7   7     0  0  0  0  0  0  0  0  0  0  0  0\n",
       " 0  0  0  0  0  0  0  0  0   1   0   0     0  0  0  0  0  0  0  0  0  0  0  0"
      ]
     },
     "execution_count": 192,
     "metadata": {},
     "output_type": "execute_result"
    }
   ],
   "source": [
    "# create population from savedfile or make new\n",
    "if isfile(savedfile)\n",
    "    println(\"read from $savedfile\")\n",
    "    gbs = readdlm(savedfile, ',', Int)\n",
    "else\n",
    "    println(\"Read base data manually created from 6-same best practice.\")\n",
    "    g1 = ProcGA.jobtablebase()\n",
    "    bs = readdlm(\"10same.csv\",',',Int)\n",
    "    ca = size(g1)[2]-size(bs)[2]\n",
    "    gbs = hcat(bs,zeros(Int,(10,ca)))\n",
    "end\n",
    "gbs"
   ]
  },
  {
   "cell_type": "code",
   "execution_count": 193,
   "metadata": {},
   "outputs": [
    {
     "data": {
      "text/plain": [
       "69"
      ]
     },
     "execution_count": 193,
     "metadata": {},
     "output_type": "execute_result"
    }
   ],
   "source": [
    "ProcGA.penalty(gbs)"
   ]
  },
  {
   "cell_type": "markdown",
   "metadata": {},
   "source": [
    "Make population.\n",
    "Half of it is from best data and latter half is randomly made."
   ]
  },
  {
   "cell_type": "code",
   "execution_count": 210,
   "metadata": {},
   "outputs": [],
   "source": [
    "ppl = ProcGA.initpopulationfrom(gbs,100);\n",
    "ppl = vcat(ppl, ProcGA.initpopulation(100));"
   ]
  },
  {
   "cell_type": "markdown",
   "metadata": {},
   "source": [
    "## Defining penalty functions"
   ]
  },
  {
   "cell_type": "markdown",
   "metadata": {},
   "source": [
    "You can give your own penalty function when needed."
   ]
  },
  {
   "cell_type": "code",
   "execution_count": 152,
   "metadata": {},
   "outputs": [],
   "source": [
    "# ProcGA.penalty(jtbl) = mypenalty(jtbl)"
   ]
  },
  {
   "cell_type": "code",
   "execution_count": 217,
   "metadata": {},
   "outputs": [],
   "source": [
    "# ProcGA.penalty(jtbl) = ProcGA.orgpenalty(jtbl)"
   ]
  },
  {
   "cell_type": "code",
   "execution_count": 250,
   "metadata": {},
   "outputs": [],
   "source": [
    "function mypenalty(jtbl)\n",
    "    p = ProcGA.validlength(jtbl)\n",
    "    p += ProcGA.serpenalty(jtbl)\n",
    "    p += ProcGA.grpenalty(jtbl)\n",
    "    p += ProcGA.grdupenalty(jtbl)\n",
    "    p += 2*ProcGA.dupenalty(jtbl) # weight\n",
    "    p\n",
    "end\n",
    "\n",
    "ProcGA.penalty(jtbl) = mypenalty(jtbl)"
   ]
  },
  {
   "cell_type": "markdown",
   "metadata": {},
   "source": [
    "## Evolution!"
   ]
  },
  {
   "cell_type": "code",
   "execution_count": 251,
   "metadata": {},
   "outputs": [],
   "source": [
    "# first sort ppl by their penalties\n",
    "ProcGA.sortpopulation!(ppl);"
   ]
  },
  {
   "cell_type": "code",
   "execution_count": 252,
   "metadata": {},
   "outputs": [
    {
     "data": {
      "text/plain": [
       "200-element Array{Int64,1}:\n",
       " 106\n",
       " 106\n",
       " 106\n",
       " 106\n",
       " 106\n",
       " 106\n",
       " 106\n",
       " 106\n",
       " 106\n",
       " 106\n",
       " 106\n",
       " 106\n",
       " 106\n",
       "   ⋮\n",
       " 108\n",
       " 108\n",
       " 108\n",
       " 108\n",
       " 108\n",
       " 108\n",
       " 108\n",
       " 108\n",
       " 108\n",
       " 108\n",
       " 112\n",
       " 140"
      ]
     },
     "execution_count": 252,
     "metadata": {},
     "output_type": "execute_result"
    }
   ],
   "source": [
    "v = ProcGA.penalty.(ppl)"
   ]
  },
  {
   "cell_type": "code",
   "execution_count": 220,
   "metadata": {
    "scrolled": true
   },
   "outputs": [
    {
     "data": {
      "text/plain": [
       "1-element Array{Tuple{Int64,Float64,Int64},1}:\n",
       " (247, 253.0, 306)"
      ]
     },
     "execution_count": 220,
     "metadata": {},
     "output_type": "execute_result"
    }
   ],
   "source": [
    "vlst = [(minimum(v), median(v), maximum(v))]"
   ]
  },
  {
   "cell_type": "code",
   "execution_count": null,
   "metadata": {},
   "outputs": [
    {
     "name": "stdout",
     "output_type": "stream",
     "text": [
      "i:10 => (106, 106.0, 162)\n",
      "i:20 => (106, 106.0, 142)\n",
      "i:30 => (101, 106.0, 160)\n",
      "i:40 => (101, 101.0, 153)\n",
      "i:50 => (100, 101.0, 153)\n",
      "i:60 => (100, 100.0, 150)\n",
      "i:70 => (99, 100.0, 139)\n",
      "i:80 => (99, 100.0, 134)\n",
      "i:90 => (98, 99.0, 133)\n",
      "i:100 => (98, 99.0, 124)\n",
      "i:110 => (98, 98.0, 134)\n",
      "i:120 => (98, 98.0, 139)\n",
      "i:130 => (98, 98.0, 132)\n",
      "i:140 => (93, 98.0, 152)\n"
     ]
    }
   ],
   "source": [
    "# Proceed generation\n",
    "vl = ProcGA.evolution!(ppl, 200, 10);\n",
    "vlst = vcat(vlst,vl);"
   ]
  },
  {
   "cell_type": "code",
   "execution_count": 243,
   "metadata": {},
   "outputs": [
    {
     "data": {
      "image/svg+xml": [
       "<?xml version=\"1.0\" encoding=\"utf-8\"?>\n",
       "<svg xmlns=\"http://www.w3.org/2000/svg\" xmlns:xlink=\"http://www.w3.org/1999/xlink\" width=\"600\" height=\"400\" viewBox=\"0 0 2400 1600\">\n",
       "<defs>\n",
       "  <clipPath id=\"clip0500\">\n",
       "    <rect x=\"0\" y=\"0\" width=\"2000\" height=\"2000\"/>\n",
       "  </clipPath>\n",
       "</defs>\n",
       "<defs>\n",
       "  <clipPath id=\"clip0501\">\n",
       "    <rect x=\"0\" y=\"0\" width=\"2400\" height=\"1600\"/>\n",
       "  </clipPath>\n",
       "</defs>\n",
       "<polygon clip-path=\"url(#clip0501)\" points=\"\n",
       "0,1600 2400,1600 2400,0 0,0 \n",
       "  \" fill=\"#ffffff\" fill-opacity=\"1\"/>\n",
       "<defs>\n",
       "  <clipPath id=\"clip0502\">\n",
       "    <rect x=\"480\" y=\"0\" width=\"1681\" height=\"1600\"/>\n",
       "  </clipPath>\n",
       "</defs>\n",
       "<polygon clip-path=\"url(#clip0501)\" points=\"\n",
       "174.775,1503.47 2321.26,1503.47 2321.26,47.2441 174.775,47.2441 \n",
       "  \" fill=\"#ffffff\" fill-opacity=\"1\"/>\n",
       "<defs>\n",
       "  <clipPath id=\"clip0503\">\n",
       "    <rect x=\"174\" y=\"47\" width=\"2147\" height=\"1457\"/>\n",
       "  </clipPath>\n",
       "</defs>\n",
       "<polyline clip-path=\"url(#clip0503)\" style=\"stroke:#000000; stroke-width:2; stroke-opacity:0.1; fill:none\" points=\"\n",
       "  232.15,1503.47 232.15,47.2441 \n",
       "  \"/>\n",
       "<polyline clip-path=\"url(#clip0503)\" style=\"stroke:#000000; stroke-width:2; stroke-opacity:0.1; fill:none\" points=\"\n",
       "  569.647,1503.47 569.647,47.2441 \n",
       "  \"/>\n",
       "<polyline clip-path=\"url(#clip0503)\" style=\"stroke:#000000; stroke-width:2; stroke-opacity:0.1; fill:none\" points=\"\n",
       "  907.145,1503.47 907.145,47.2441 \n",
       "  \"/>\n",
       "<polyline clip-path=\"url(#clip0503)\" style=\"stroke:#000000; stroke-width:2; stroke-opacity:0.1; fill:none\" points=\"\n",
       "  1244.64,1503.47 1244.64,47.2441 \n",
       "  \"/>\n",
       "<polyline clip-path=\"url(#clip0503)\" style=\"stroke:#000000; stroke-width:2; stroke-opacity:0.1; fill:none\" points=\"\n",
       "  1582.14,1503.47 1582.14,47.2441 \n",
       "  \"/>\n",
       "<polyline clip-path=\"url(#clip0503)\" style=\"stroke:#000000; stroke-width:2; stroke-opacity:0.1; fill:none\" points=\"\n",
       "  1919.64,1503.47 1919.64,47.2441 \n",
       "  \"/>\n",
       "<polyline clip-path=\"url(#clip0503)\" style=\"stroke:#000000; stroke-width:2; stroke-opacity:0.1; fill:none\" points=\"\n",
       "  2257.14,1503.47 2257.14,47.2441 \n",
       "  \"/>\n",
       "<polyline clip-path=\"url(#clip0503)\" style=\"stroke:#000000; stroke-width:2; stroke-opacity:0.1; fill:none\" points=\"\n",
       "  174.775,1325.85 2321.26,1325.85 \n",
       "  \"/>\n",
       "<polyline clip-path=\"url(#clip0503)\" style=\"stroke:#000000; stroke-width:2; stroke-opacity:0.1; fill:none\" points=\"\n",
       "  174.775,1130.99 2321.26,1130.99 \n",
       "  \"/>\n",
       "<polyline clip-path=\"url(#clip0503)\" style=\"stroke:#000000; stroke-width:2; stroke-opacity:0.1; fill:none\" points=\"\n",
       "  174.775,936.124 2321.26,936.124 \n",
       "  \"/>\n",
       "<polyline clip-path=\"url(#clip0503)\" style=\"stroke:#000000; stroke-width:2; stroke-opacity:0.1; fill:none\" points=\"\n",
       "  174.775,741.258 2321.26,741.258 \n",
       "  \"/>\n",
       "<polyline clip-path=\"url(#clip0503)\" style=\"stroke:#000000; stroke-width:2; stroke-opacity:0.1; fill:none\" points=\"\n",
       "  174.775,546.392 2321.26,546.392 \n",
       "  \"/>\n",
       "<polyline clip-path=\"url(#clip0503)\" style=\"stroke:#000000; stroke-width:2; stroke-opacity:0.1; fill:none\" points=\"\n",
       "  174.775,351.527 2321.26,351.527 \n",
       "  \"/>\n",
       "<polyline clip-path=\"url(#clip0503)\" style=\"stroke:#000000; stroke-width:2; stroke-opacity:0.1; fill:none\" points=\"\n",
       "  174.775,156.661 2321.26,156.661 \n",
       "  \"/>\n",
       "<polyline clip-path=\"url(#clip0501)\" style=\"stroke:#000000; stroke-width:4; stroke-opacity:1; fill:none\" points=\"\n",
       "  174.775,1503.47 2321.26,1503.47 \n",
       "  \"/>\n",
       "<polyline clip-path=\"url(#clip0501)\" style=\"stroke:#000000; stroke-width:4; stroke-opacity:1; fill:none\" points=\"\n",
       "  174.775,1503.47 174.775,47.2441 \n",
       "  \"/>\n",
       "<polyline clip-path=\"url(#clip0501)\" style=\"stroke:#000000; stroke-width:4; stroke-opacity:1; fill:none\" points=\"\n",
       "  232.15,1503.47 232.15,1481.63 \n",
       "  \"/>\n",
       "<polyline clip-path=\"url(#clip0501)\" style=\"stroke:#000000; stroke-width:4; stroke-opacity:1; fill:none\" points=\"\n",
       "  569.647,1503.47 569.647,1481.63 \n",
       "  \"/>\n",
       "<polyline clip-path=\"url(#clip0501)\" style=\"stroke:#000000; stroke-width:4; stroke-opacity:1; fill:none\" points=\"\n",
       "  907.145,1503.47 907.145,1481.63 \n",
       "  \"/>\n",
       "<polyline clip-path=\"url(#clip0501)\" style=\"stroke:#000000; stroke-width:4; stroke-opacity:1; fill:none\" points=\"\n",
       "  1244.64,1503.47 1244.64,1481.63 \n",
       "  \"/>\n",
       "<polyline clip-path=\"url(#clip0501)\" style=\"stroke:#000000; stroke-width:4; stroke-opacity:1; fill:none\" points=\"\n",
       "  1582.14,1503.47 1582.14,1481.63 \n",
       "  \"/>\n",
       "<polyline clip-path=\"url(#clip0501)\" style=\"stroke:#000000; stroke-width:4; stroke-opacity:1; fill:none\" points=\"\n",
       "  1919.64,1503.47 1919.64,1481.63 \n",
       "  \"/>\n",
       "<polyline clip-path=\"url(#clip0501)\" style=\"stroke:#000000; stroke-width:4; stroke-opacity:1; fill:none\" points=\"\n",
       "  2257.14,1503.47 2257.14,1481.63 \n",
       "  \"/>\n",
       "<polyline clip-path=\"url(#clip0501)\" style=\"stroke:#000000; stroke-width:4; stroke-opacity:1; fill:none\" points=\"\n",
       "  174.775,1325.85 206.972,1325.85 \n",
       "  \"/>\n",
       "<polyline clip-path=\"url(#clip0501)\" style=\"stroke:#000000; stroke-width:4; stroke-opacity:1; fill:none\" points=\"\n",
       "  174.775,1130.99 206.972,1130.99 \n",
       "  \"/>\n",
       "<polyline clip-path=\"url(#clip0501)\" style=\"stroke:#000000; stroke-width:4; stroke-opacity:1; fill:none\" points=\"\n",
       "  174.775,936.124 206.972,936.124 \n",
       "  \"/>\n",
       "<polyline clip-path=\"url(#clip0501)\" style=\"stroke:#000000; stroke-width:4; stroke-opacity:1; fill:none\" points=\"\n",
       "  174.775,741.258 206.972,741.258 \n",
       "  \"/>\n",
       "<polyline clip-path=\"url(#clip0501)\" style=\"stroke:#000000; stroke-width:4; stroke-opacity:1; fill:none\" points=\"\n",
       "  174.775,546.392 206.972,546.392 \n",
       "  \"/>\n",
       "<polyline clip-path=\"url(#clip0501)\" style=\"stroke:#000000; stroke-width:4; stroke-opacity:1; fill:none\" points=\"\n",
       "  174.775,351.527 206.972,351.527 \n",
       "  \"/>\n",
       "<polyline clip-path=\"url(#clip0501)\" style=\"stroke:#000000; stroke-width:4; stroke-opacity:1; fill:none\" points=\"\n",
       "  174.775,156.661 206.972,156.661 \n",
       "  \"/>\n",
       "<g clip-path=\"url(#clip0501)\">\n",
       "<text style=\"fill:#000000; fill-opacity:1; font-family:Arial,Helvetica Neue,Helvetica,sans-serif; font-size:48px; text-anchor:middle;\" transform=\"rotate(0, 232.15, 1557.47)\" x=\"232.15\" y=\"1557.47\">0</text>\n",
       "</g>\n",
       "<g clip-path=\"url(#clip0501)\">\n",
       "<text style=\"fill:#000000; fill-opacity:1; font-family:Arial,Helvetica Neue,Helvetica,sans-serif; font-size:48px; text-anchor:middle;\" transform=\"rotate(0, 569.647, 1557.47)\" x=\"569.647\" y=\"1557.47\">100</text>\n",
       "</g>\n",
       "<g clip-path=\"url(#clip0501)\">\n",
       "<text style=\"fill:#000000; fill-opacity:1; font-family:Arial,Helvetica Neue,Helvetica,sans-serif; font-size:48px; text-anchor:middle;\" transform=\"rotate(0, 907.145, 1557.47)\" x=\"907.145\" y=\"1557.47\">200</text>\n",
       "</g>\n",
       "<g clip-path=\"url(#clip0501)\">\n",
       "<text style=\"fill:#000000; fill-opacity:1; font-family:Arial,Helvetica Neue,Helvetica,sans-serif; font-size:48px; text-anchor:middle;\" transform=\"rotate(0, 1244.64, 1557.47)\" x=\"1244.64\" y=\"1557.47\">300</text>\n",
       "</g>\n",
       "<g clip-path=\"url(#clip0501)\">\n",
       "<text style=\"fill:#000000; fill-opacity:1; font-family:Arial,Helvetica Neue,Helvetica,sans-serif; font-size:48px; text-anchor:middle;\" transform=\"rotate(0, 1582.14, 1557.47)\" x=\"1582.14\" y=\"1557.47\">400</text>\n",
       "</g>\n",
       "<g clip-path=\"url(#clip0501)\">\n",
       "<text style=\"fill:#000000; fill-opacity:1; font-family:Arial,Helvetica Neue,Helvetica,sans-serif; font-size:48px; text-anchor:middle;\" transform=\"rotate(0, 1919.64, 1557.47)\" x=\"1919.64\" y=\"1557.47\">500</text>\n",
       "</g>\n",
       "<g clip-path=\"url(#clip0501)\">\n",
       "<text style=\"fill:#000000; fill-opacity:1; font-family:Arial,Helvetica Neue,Helvetica,sans-serif; font-size:48px; text-anchor:middle;\" transform=\"rotate(0, 2257.14, 1557.47)\" x=\"2257.14\" y=\"1557.47\">600</text>\n",
       "</g>\n",
       "<g clip-path=\"url(#clip0501)\">\n",
       "<text style=\"fill:#000000; fill-opacity:1; font-family:Arial,Helvetica Neue,Helvetica,sans-serif; font-size:48px; text-anchor:end;\" transform=\"rotate(0, 150.775, 1343.35)\" x=\"150.775\" y=\"1343.35\">120</text>\n",
       "</g>\n",
       "<g clip-path=\"url(#clip0501)\">\n",
       "<text style=\"fill:#000000; fill-opacity:1; font-family:Arial,Helvetica Neue,Helvetica,sans-serif; font-size:48px; text-anchor:end;\" transform=\"rotate(0, 150.775, 1148.49)\" x=\"150.775\" y=\"1148.49\">140</text>\n",
       "</g>\n",
       "<g clip-path=\"url(#clip0501)\">\n",
       "<text style=\"fill:#000000; fill-opacity:1; font-family:Arial,Helvetica Neue,Helvetica,sans-serif; font-size:48px; text-anchor:end;\" transform=\"rotate(0, 150.775, 953.624)\" x=\"150.775\" y=\"953.624\">160</text>\n",
       "</g>\n",
       "<g clip-path=\"url(#clip0501)\">\n",
       "<text style=\"fill:#000000; fill-opacity:1; font-family:Arial,Helvetica Neue,Helvetica,sans-serif; font-size:48px; text-anchor:end;\" transform=\"rotate(0, 150.775, 758.758)\" x=\"150.775\" y=\"758.758\">180</text>\n",
       "</g>\n",
       "<g clip-path=\"url(#clip0501)\">\n",
       "<text style=\"fill:#000000; fill-opacity:1; font-family:Arial,Helvetica Neue,Helvetica,sans-serif; font-size:48px; text-anchor:end;\" transform=\"rotate(0, 150.775, 563.892)\" x=\"150.775\" y=\"563.892\">200</text>\n",
       "</g>\n",
       "<g clip-path=\"url(#clip0501)\">\n",
       "<text style=\"fill:#000000; fill-opacity:1; font-family:Arial,Helvetica Neue,Helvetica,sans-serif; font-size:48px; text-anchor:end;\" transform=\"rotate(0, 150.775, 369.027)\" x=\"150.775\" y=\"369.027\">220</text>\n",
       "</g>\n",
       "<g clip-path=\"url(#clip0501)\">\n",
       "<text style=\"fill:#000000; fill-opacity:1; font-family:Arial,Helvetica Neue,Helvetica,sans-serif; font-size:48px; text-anchor:end;\" transform=\"rotate(0, 150.775, 174.161)\" x=\"150.775\" y=\"174.161\">240</text>\n",
       "</g>\n",
       "<polyline clip-path=\"url(#clip0503)\" style=\"stroke:#009af9; stroke-width:4; stroke-opacity:1; fill:none\" points=\"\n",
       "  235.525,88.4582 238.9,88.4582 242.275,88.4582 245.65,88.4582 249.025,88.4582 252.4,88.4582 255.775,88.4582 259.15,88.4582 262.525,98.2014 265.9,195.634 \n",
       "  269.275,195.634 272.65,195.634 276.024,195.634 279.399,195.634 282.774,195.634 286.149,254.094 289.524,254.094 292.899,254.094 296.274,254.094 299.649,254.094 \n",
       "  303.024,254.094 306.399,254.094 309.774,254.094 313.149,312.554 316.524,312.554 319.899,312.554 323.274,312.554 326.649,312.554 330.024,322.297 333.399,322.297 \n",
       "  336.774,322.297 340.149,341.783 343.524,390.5 346.899,390.5 350.274,390.5 353.649,439.216 357.024,439.216 360.399,439.216 363.774,439.216 367.149,507.419 \n",
       "  370.524,507.419 373.899,507.419 377.274,507.419 380.649,507.419 384.024,507.419 387.399,507.419 390.774,507.419 394.149,507.419 397.524,507.419 400.899,507.419 \n",
       "  404.274,507.419 407.649,507.419 411.024,517.162 414.398,556.136 417.773,556.136 421.148,604.852 424.523,604.852 427.898,604.852 431.273,604.852 434.648,604.852 \n",
       "  438.023,604.852 441.398,604.852 444.773,604.852 448.148,614.595 451.523,614.595 454.898,614.595 458.273,614.595 461.648,614.595 465.023,614.595 468.398,653.568 \n",
       "  471.773,673.055 475.148,673.055 478.523,673.055 481.898,673.055 485.273,673.055 488.648,673.055 492.023,673.055 495.398,673.055 498.773,673.055 502.148,702.285 \n",
       "  505.523,712.028 508.898,712.028 512.273,712.028 515.648,712.028 519.023,721.771 522.398,741.258 525.773,741.258 529.148,741.258 532.523,751.001 535.898,751.001 \n",
       "  539.273,751.001 542.648,751.001 546.023,751.001 549.398,751.001 552.773,789.974 556.147,789.974 559.522,789.974 562.897,789.974 566.272,789.974 569.647,789.974 \n",
       "  573.022,789.974 576.397,789.974 579.772,789.974 583.147,799.718 586.522,799.718 589.897,799.718 593.272,799.718 596.647,799.718 600.022,799.718 603.397,799.718 \n",
       "  606.772,799.718 610.147,799.718 613.522,799.718 616.897,799.718 620.272,799.718 623.647,828.947 627.022,828.947 630.397,828.947 633.772,838.691 637.147,838.691 \n",
       "  640.522,838.691 643.897,838.691 647.272,838.691 650.647,838.691 654.022,838.691 657.397,838.691 660.772,838.691 664.147,838.691 667.522,838.691 670.897,838.691 \n",
       "  674.272,838.691 677.647,838.691 681.022,838.691 684.397,838.691 687.772,906.894 691.147,906.894 694.521,906.894 697.896,906.894 701.271,906.894 704.646,906.894 \n",
       "  708.021,906.894 711.396,906.894 714.771,906.894 718.146,975.097 721.521,975.097 724.896,975.097 728.271,975.097 731.646,975.097 735.021,975.097 738.396,975.097 \n",
       "  741.771,975.097 745.146,975.097 748.521,975.097 751.896,975.097 755.271,975.097 758.646,975.097 762.021,975.097 765.396,975.097 768.771,975.097 772.146,984.84 \n",
       "  775.521,984.84 778.896,984.84 782.271,984.84 785.646,984.84 789.021,1004.33 792.396,1004.33 795.771,1004.33 799.146,1004.33 802.521,1004.33 805.896,1004.33 \n",
       "  809.271,1043.3 812.646,1043.3 816.021,1043.3 819.396,1043.3 822.771,1043.3 826.146,1043.3 829.521,1043.3 832.895,1043.3 836.27,1043.3 839.645,1062.79 \n",
       "  843.02,1062.79 846.395,1062.79 849.77,1062.79 853.145,1072.53 856.52,1072.53 859.895,1072.53 863.27,1072.53 866.645,1072.53 870.02,1072.53 873.395,1072.53 \n",
       "  876.77,1072.53 880.145,1072.53 883.52,1072.53 886.895,1072.53 890.27,1072.53 893.645,1072.53 897.02,1072.53 900.395,1092.02 903.77,1092.02 907.145,1092.02 \n",
       "  910.52,1092.02 913.895,741.258 917.27,751.001 920.645,751.001 924.02,751.001 927.395,751.001 930.77,751.001 934.145,751.001 937.52,751.001 940.895,770.488 \n",
       "  944.27,770.488 947.645,780.231 951.02,780.231 954.395,819.204 957.77,819.204 961.145,848.434 964.52,848.434 967.895,848.434 971.27,848.434 974.644,848.434 \n",
       "  978.019,848.434 981.394,848.434 984.769,848.434 988.144,848.434 991.519,848.434 994.894,848.434 998.269,848.434 1001.64,848.434 1005.02,848.434 1008.39,848.434 \n",
       "  1011.77,848.434 1015.14,848.434 1018.52,848.434 1021.89,848.434 1025.27,848.434 1028.64,848.434 1032.02,848.434 1035.39,848.434 1038.77,848.434 1042.14,848.434 \n",
       "  1045.52,848.434 1048.89,848.434 1052.27,848.434 1055.64,848.434 1059.02,848.434 1062.39,848.434 1065.77,848.434 1069.14,848.434 1072.52,848.434 1075.89,848.434 \n",
       "  1079.27,848.434 1082.64,848.434 1086.02,848.434 1089.39,848.434 1092.77,848.434 1096.14,848.434 1099.52,848.434 1102.89,848.434 1106.27,916.637 1109.64,916.637 \n",
       "  1113.02,916.637 1116.39,916.637 1119.77,916.637 1123.14,916.637 1126.52,916.637 1129.89,916.637 1133.27,916.637 1136.64,945.867 1140.02,945.867 1143.39,945.867 \n",
       "  1146.77,945.867 1150.14,945.867 1153.52,945.867 1156.89,945.867 1160.27,945.867 1163.64,965.353 1167.02,965.353 1170.39,965.353 1173.77,965.353 1177.14,975.097 \n",
       "  1180.52,975.097 1183.89,975.097 1187.27,975.097 1190.64,975.097 1194.02,975.097 1197.39,975.097 1200.77,975.097 1204.14,975.097 1207.52,975.097 1210.89,975.097 \n",
       "  1214.27,975.097 1217.64,975.097 1221.02,975.097 1224.39,975.097 1227.77,975.097 1231.14,1072.53 1234.52,1072.53 1237.89,1072.53 1241.27,1072.53 1244.64,1072.53 \n",
       "  1248.02,1072.53 1251.39,1072.53 1254.77,1092.02 1258.14,1092.02 1261.52,1092.02 1264.89,1092.02 1268.27,1092.02 1271.64,1092.02 1275.02,1092.02 1278.39,1092.02 \n",
       "  1281.77,1092.02 1285.14,1092.02 1288.52,1092.02 1291.89,1092.02 1295.27,1092.02 1298.64,1092.02 1302.02,1092.02 1305.39,1238.17 1308.77,1238.17 1312.14,1238.17 \n",
       "  1315.52,1238.17 1318.89,1238.17 1322.27,1238.17 1325.64,1238.17 1329.02,1238.17 1332.39,1238.17 1335.77,1238.17 1339.14,1238.17 1342.52,1238.17 1345.89,1238.17 \n",
       "  1349.27,1238.17 1352.64,1238.17 1356.02,1257.65 1359.39,1257.65 1362.77,1257.65 1366.14,1257.65 1369.52,1257.65 1372.89,1257.65 1376.27,1257.65 1379.64,1257.65 \n",
       "  1383.02,1257.65 1386.39,1257.65 1389.77,1257.65 1393.14,1257.65 1396.52,1257.65 1399.89,1257.65 1403.27,1257.65 1406.64,1257.65 1410.02,1257.65 1413.39,1257.65 \n",
       "  1416.77,1257.65 1420.14,1257.65 1423.52,1257.65 1426.89,1257.65 1430.27,1257.65 1433.64,1257.65 1437.02,1257.65 1440.39,1257.65 1443.77,1257.65 1447.14,1257.65 \n",
       "  1450.52,1257.65 1453.89,1257.65 1457.27,1257.65 1460.64,1257.65 1464.02,1257.65 1467.39,1257.65 1470.77,1257.65 1474.14,1257.65 1477.52,1257.65 1480.89,1257.65 \n",
       "  1484.27,1257.65 1487.64,1257.65 1491.02,1257.65 1494.39,1277.14 1497.77,1277.14 1501.14,1277.14 1504.52,1277.14 1507.89,1277.14 1511.27,1277.14 1514.64,1277.14 \n",
       "  1518.02,1277.14 1521.39,1277.14 1524.77,1277.14 1528.14,1277.14 1531.52,1277.14 1534.89,1277.14 1538.27,1277.14 1541.64,1277.14 1545.02,1277.14 1548.39,1277.14 \n",
       "  1551.77,1277.14 1555.14,1277.14 1558.52,1277.14 1561.89,1277.14 1565.27,1277.14 1568.64,1277.14 1572.02,1277.14 1575.39,1277.14 1578.77,1277.14 1582.14,1277.14 \n",
       "  1585.52,1277.14 1588.89,1277.14 1592.27,1277.14 1595.64,1277.14 1599.02,1277.14 1602.39,1277.14 1605.76,1277.14 1609.14,1277.14 1612.51,1277.14 1615.89,1277.14 \n",
       "  1619.26,1277.14 1622.64,1277.14 1626.01,1277.14 1629.39,1277.14 1632.76,1277.14 1636.14,1277.14 1639.51,1286.88 1642.89,1286.88 1646.26,1286.88 1649.64,1286.88 \n",
       "  1653.01,1286.88 1656.39,1286.88 1659.76,1286.88 1663.14,1286.88 1666.51,1286.88 1669.89,1286.88 1673.26,1286.88 1676.64,1286.88 1680.01,1286.88 1683.39,1286.88 \n",
       "  1686.76,1286.88 1690.14,1286.88 1693.51,1286.88 1696.89,1306.37 1700.26,1306.37 1703.64,1306.37 1707.01,1306.37 1710.39,1306.37 1713.76,1306.37 1717.14,1306.37 \n",
       "  1720.51,1306.37 1723.89,1306.37 1727.26,1306.37 1730.64,1306.37 1734.01,1306.37 1737.39,1306.37 1740.76,1306.37 1744.14,1306.37 1747.51,1306.37 1750.89,1306.37 \n",
       "  1754.26,1306.37 1757.64,1306.37 1761.01,1306.37 1764.39,1306.37 1767.76,1306.37 1771.14,1306.37 1774.51,1306.37 1777.89,1306.37 1781.26,1306.37 1784.64,1306.37 \n",
       "  1788.01,1306.37 1791.39,1306.37 1794.76,1306.37 1798.14,1306.37 1801.51,1306.37 1804.89,1306.37 1808.26,1306.37 1811.64,1306.37 1815.01,1306.37 1818.39,1325.85 \n",
       "  1821.76,1325.85 1825.14,1325.85 1828.51,1325.85 1831.89,1325.85 1835.26,1325.85 1838.64,1325.85 1842.01,1325.85 1845.39,1325.85 1848.76,1325.85 1852.14,1325.85 \n",
       "  1855.51,1325.85 1858.89,1325.85 1862.26,1325.85 1865.64,1325.85 1869.01,1325.85 1872.39,1325.85 1875.76,1325.85 1879.14,1325.85 1882.51,1325.85 1885.89,1325.85 \n",
       "  1889.26,1325.85 1892.64,1325.85 1896.01,1325.85 1899.39,1325.85 1902.76,1325.85 1906.14,1335.6 1909.51,1335.6 1912.89,1355.08 1916.26,1355.08 1919.64,1355.08 \n",
       "  1923.01,1355.08 1926.39,1355.08 1929.76,1355.08 1933.14,1355.08 1936.51,1355.08 1939.89,1355.08 1943.26,1355.08 1946.64,1355.08 1950.01,1355.08 1953.39,1355.08 \n",
       "  1956.76,1355.08 1960.14,1355.08 1963.51,1355.08 1966.89,1355.08 1970.26,1355.08 1973.64,1355.08 1977.01,1355.08 1980.39,1355.08 1983.76,1355.08 1987.14,1355.08 \n",
       "  1990.51,1355.08 1993.89,1355.08 1997.26,1355.08 2000.64,1355.08 2004.01,1355.08 2007.39,1355.08 2010.76,1355.08 2014.14,1355.08 2017.51,1355.08 2020.89,1384.31 \n",
       "  2024.26,1384.31 2027.64,1384.31 2031.01,1384.31 2034.39,1384.31 2037.76,1384.31 2041.14,1384.31 2044.51,1384.31 2047.89,1384.31 2051.26,1384.31 2054.64,1384.31 \n",
       "  2058.01,1384.31 2061.39,1384.31 2064.76,1384.31 2068.14,1384.31 2071.51,1384.31 2074.89,1442.77 2078.26,1442.77 2081.64,1442.77 2085.01,1442.77 2088.39,1442.77 \n",
       "  2091.76,1442.77 2095.14,1442.77 2098.51,1442.77 2101.89,1442.77 2105.26,1442.77 2108.64,1442.77 2112.01,1442.77 2115.39,1442.77 2118.76,1442.77 2122.14,1442.77 \n",
       "  2125.51,1442.77 2128.89,1442.77 2132.26,1442.77 2135.64,1442.77 2139.01,1442.77 2142.39,1442.77 2145.76,1442.77 2149.14,1442.77 2152.51,1442.77 2155.89,1442.77 \n",
       "  2159.26,1442.77 2162.64,1442.77 2166.01,1442.77 2169.39,1442.77 2172.76,1442.77 2176.14,1442.77 2179.51,1442.77 2182.89,1442.77 2186.26,1442.77 2189.64,1442.77 \n",
       "  2193.01,1442.77 2196.39,1442.77 2199.76,1442.77 2203.14,1462.26 2206.51,1462.26 2209.89,1462.26 2213.26,1462.26 2216.64,1462.26 2220.01,1462.26 2223.39,1462.26 \n",
       "  2226.76,1462.26 2230.14,1462.26 2233.51,1462.26 2236.89,1462.26 2240.26,1462.26 2243.64,1462.26 2247.01,1462.26 2250.39,1462.26 2253.76,1462.26 2257.14,1462.26 \n",
       "  2260.51,1462.26 \n",
       "  \"/>\n",
       "<polygon clip-path=\"url(#clip0501)\" points=\"\n",
       "1958.43,251.724 2249.26,251.724 2249.26,130.764 1958.43,130.764 \n",
       "  \" fill=\"#ffffff\" fill-opacity=\"1\"/>\n",
       "<polyline clip-path=\"url(#clip0501)\" style=\"stroke:#000000; stroke-width:4; stroke-opacity:1; fill:none\" points=\"\n",
       "  1958.43,251.724 2249.26,251.724 2249.26,130.764 1958.43,130.764 1958.43,251.724 \n",
       "  \"/>\n",
       "<polyline clip-path=\"url(#clip0501)\" style=\"stroke:#009af9; stroke-width:4; stroke-opacity:1; fill:none\" points=\"\n",
       "  1982.43,191.244 2126.43,191.244 \n",
       "  \"/>\n",
       "<g clip-path=\"url(#clip0501)\">\n",
       "<text style=\"fill:#000000; fill-opacity:1; font-family:Arial,Helvetica Neue,Helvetica,sans-serif; font-size:48px; text-anchor:start;\" transform=\"rotate(0, 2150.43, 208.744)\" x=\"2150.43\" y=\"208.744\">y1</text>\n",
       "</g>\n",
       "</svg>\n"
      ]
     },
     "execution_count": 243,
     "metadata": {},
     "output_type": "execute_result"
    }
   ],
   "source": [
    "y = (x->x[1]).(vlst);\n",
    "x = 1:length(y);\n",
    "\n",
    "plot(x,y)"
   ]
  },
  {
   "cell_type": "markdown",
   "metadata": {},
   "source": [
    "Pick up the best data."
   ]
  },
  {
   "cell_type": "code",
   "execution_count": 244,
   "metadata": {},
   "outputs": [
    {
     "data": {
      "text/plain": [
       "10×120 Array{Int64,2}:\n",
       " 1  7  7  7  0  0  0  0  0   9   9   0  …  0  0  0  0  0  0  0  0  0  0  0  0\n",
       " 0  0  0  0  0  0  0  0  0   1   0   0     0  0  0  0  0  0  0  0  0  0  0  0\n",
       " 0  0  1  0  7  7  7  9  9  12  12  13     0  0  0  0  0  0  0  0  0  0  0  0\n",
       " 0  0  0  1  0  0  0  7  7   7   0   9     0  0  0  0  0  0  0  0  0  0  0  0\n",
       " 0  0  0  0  1  0  0  0  0   0   7   7     0  0  0  0  0  0  0  0  0  0  0  0\n",
       " 0  0  0  0  0  0  0  0  0   0   0   0  …  0  0  0  0  0  0  0  0  0  0  0  0\n",
       " 0  0  0  0  0  0  0  0  0   0   0   0     0  0  0  0  0  0  0  0  0  0  0  0\n",
       " 0  0  0  0  0  0  0  0  0   0   0   0     0  0  0  0  0  0  0  0  0  0  0  0\n",
       " 0  0  0  0  0  0  0  0  0   0   1   0     0  0  0  0  0  0  0  0  0  0  0  0\n",
       " 0  0  0  0  0  0  0  0  0   0   0   1     0  0  0  0  0  0  0  0  0  0  0  0"
      ]
     },
     "execution_count": 244,
     "metadata": {},
     "output_type": "execute_result"
    }
   ],
   "source": [
    "v = ProcGA.penalty.(ppl)\n",
    "idm = findmin(v)[2]\n",
    "bestgen = ppl[idm]"
   ]
  },
  {
   "cell_type": "code",
   "execution_count": 245,
   "metadata": {},
   "outputs": [
    {
     "data": {
      "text/plain": [
       "106"
      ]
     },
     "execution_count": 245,
     "metadata": {},
     "output_type": "execute_result"
    }
   ],
   "source": [
    "ProcGA.penalty(bestgen)"
   ]
  },
  {
   "cell_type": "code",
   "execution_count": 246,
   "metadata": {},
   "outputs": [
    {
     "data": {
      "text/plain": [
       "0"
      ]
     },
     "execution_count": 246,
     "metadata": {},
     "output_type": "execute_result"
    }
   ],
   "source": [
    "ProcGA.dupenalty(bestgen)"
   ]
  },
  {
   "cell_type": "code",
   "execution_count": 247,
   "metadata": {},
   "outputs": [
    {
     "data": {
      "text/plain": [
       "60"
      ]
     },
     "execution_count": 247,
     "metadata": {},
     "output_type": "execute_result"
    }
   ],
   "source": [
    "ProcGA.validlength(bestgen)"
   ]
  },
  {
   "cell_type": "code",
   "execution_count": 248,
   "metadata": {},
   "outputs": [
    {
     "data": {
      "text/plain": [
       "10×60 Array{Int64,2}:\n",
       " 1  7  7  7  0  0  0  0  0   9   9   0  …   0   0   0   0   0   0   0   0   0\n",
       " 0  0  0  0  0  0  0  0  0   1   0   0      0   0   0   0   0   0   0   0   0\n",
       " 0  0  1  0  7  7  7  9  9  12  12  13      0   0   0   0   0   0   0   0   0\n",
       " 0  0  0  1  0  0  0  7  7   7   0   9      0   0   0   0   0   0   0   0   0\n",
       " 0  0  0  0  1  0  0  0  0   0   7   7      0   0   0   0   0   0   0   0   0\n",
       " 0  0  0  0  0  0  0  0  0   0   0   0  …   0   0   0   0   0   0   0  14  14\n",
       " 0  0  0  0  0  0  0  0  0   0   0   0      0  13  13  14  14   0   0   0   0\n",
       " 0  0  0  0  0  0  0  0  0   0   0   0     13   0   0   0   0  14  14   0   0\n",
       " 0  0  0  0  0  0  0  0  0   0   1   0      0   0   0   0   0   0   0   0   0\n",
       " 0  0  0  0  0  0  0  0  0   0   0   1      0  14   0   0   0   0   0   0   0"
      ]
     },
     "execution_count": 248,
     "metadata": {},
     "output_type": "execute_result"
    }
   ],
   "source": [
    "ProcGA.clipjob(bestgen)"
   ]
  },
  {
   "cell_type": "markdown",
   "metadata": {},
   "source": [
    "Sort it by first appearance of process."
   ]
  },
  {
   "cell_type": "code",
   "execution_count": 238,
   "metadata": {},
   "outputs": [
    {
     "data": {
      "text/plain": [
       "10-element Array{Int64,1}:\n",
       "  1\n",
       " 10\n",
       "  3\n",
       "  4\n",
       "  5\n",
       " 13\n",
       " 20\n",
       " 15\n",
       " 11\n",
       " 28"
      ]
     },
     "execution_count": 238,
     "metadata": {},
     "output_type": "execute_result"
    }
   ],
   "source": [
    "idx = zeros(Int,10)\n",
    "for i in 1:10\n",
    "    idx[i] = findfirst(x->(x>0),bestgen[i,:])\n",
    "end\n",
    "idx"
   ]
  },
  {
   "cell_type": "code",
   "execution_count": 239,
   "metadata": {},
   "outputs": [
    {
     "data": {
      "text/plain": [
       "10-element Array{Int64,1}:\n",
       "  1\n",
       "  3\n",
       "  4\n",
       "  5\n",
       "  2\n",
       "  9\n",
       "  6\n",
       "  8\n",
       "  7\n",
       " 10"
      ]
     },
     "execution_count": 239,
     "metadata": {},
     "output_type": "execute_result"
    }
   ],
   "source": [
    "id2 = sort(collect(1:10), by = x->idx[x])"
   ]
  },
  {
   "cell_type": "code",
   "execution_count": 240,
   "metadata": {},
   "outputs": [
    {
     "data": {
      "text/plain": [
       "10×120 Array{Int64,2}:\n",
       " 1  7  7  7  0  0  0  0  0   9   9   0  …  0  0  0  0  0  0  0  0  0  0  0  0\n",
       " 0  0  0  0  1  0  0  0  0   0   7   7     0  0  0  0  0  0  0  0  0  0  0  0\n",
       " 0  0  0  0  0  0  0  0  0   1   0   0     0  0  0  0  0  0  0  0  0  0  0  0\n",
       " 0  0  1  0  7  7  7  9  9  12  12  13     0  0  0  0  0  0  0  0  0  0  0  0\n",
       " 0  0  0  1  0  0  0  7  7   7   0   9     0  0  0  0  0  0  0  0  0  0  0  0\n",
       " 0  0  0  0  0  0  0  0  0   0   0   0  …  0  0  0  0  0  0  0  0  0  0  0  0\n",
       " 0  0  0  0  0  0  0  0  0   0   1   0     0  0  0  0  0  0  0  0  0  0  0  0\n",
       " 0  0  0  0  0  0  0  0  0   0   0   0     0  0  0  0  0  0  0  0  0  0  0  0\n",
       " 0  0  0  0  0  0  0  0  0   0   0   0     0  0  0  0  0  0  0  0  0  0  0  0\n",
       " 0  0  0  0  0  0  0  0  0   0   0   0     0  0  0  0  0  0  0  0  0  0  0  0"
      ]
     },
     "execution_count": 240,
     "metadata": {},
     "output_type": "execute_result"
    }
   ],
   "source": [
    "bestgensort = similar(bestgen)\n",
    "for i in 1:size(bestgen)[1]\n",
    "    bestgensort[id2[i],:] = bestgen[i,:]\n",
    "end\n",
    "bestgensort"
   ]
  },
  {
   "cell_type": "code",
   "execution_count": 241,
   "metadata": {},
   "outputs": [],
   "source": [
    "# save best process table to file.\n",
    "# do not clip it so that it can be used again\n",
    "writedlm(\"bestprc.csv\",bestgensort, ',')"
   ]
  },
  {
   "cell_type": "markdown",
   "metadata": {},
   "source": [
    "## Conclusion"
   ]
  },
  {
   "cell_type": "markdown",
   "metadata": {},
   "source": [
    "For given 10 same data with proctalbe below, the best combination is \"bestgen\" here.\n",
    "\n",
    "Its length is 33.\n",
    "Taking time unit as 1 hour and assuming job time as 7 hours/day, it needs almost 5 days to finish these materials."
   ]
  },
  {
   "cell_type": "code",
   "execution_count": 140,
   "metadata": {},
   "outputs": [
    {
     "data": {
      "text/plain": [
       "1×14 LinearAlgebra.Transpose{Int64,Array{Int64,1}}:\n",
       " 1  0  0  0  0  0  3  0  2  0  0  2  2  2"
      ]
     },
     "execution_count": 140,
     "metadata": {},
     "output_type": "execute_result"
    }
   ],
   "source": [
    "transpose(ProcGA.proctable[1,:])"
   ]
  },
  {
   "cell_type": "code",
   "execution_count": 141,
   "metadata": {},
   "outputs": [
    {
     "data": {
      "text/plain": [
       "10×33 Array{Int64,2}:\n",
       " 1  7  7  7  0  0  0  0  0   9   9   0  …   0   0   0   0   0   0   0   0   0\n",
       " 0  1  0  0  7  7  7  0  0   0   0   0      0   0   0  14  14   0   0   0   0\n",
       " 0  0  1  0  7  7  7  9  9  12  12  13      0   0   0   0   0   0   0   0   0\n",
       " 0  0  0  1  0  0  0  7  7   7   0   9     14   0   0   0   0   0   0   0   0\n",
       " 0  0  0  0  1  0  0  0  0   0   7   7      0  13  13   0   0  14  14   0   0\n",
       " 0  0  0  0  0  1  0  7  7   7   0   0  …  13  14  14   0   0   0   0   0   0\n",
       " 0  0  0  0  0  0  1  7  7   7   0   0     14   0   0   0   0   0   0   0   0\n",
       " 0  0  0  0  0  0  0  1  0   0   7   7      0   0   0  13  13   0   0  14  14\n",
       " 0  0  0  0  0  0  0  0  1   0   7   7      0   0   0   0   0   0   0   0   0\n",
       " 0  0  0  0  0  0  0  0  0   1   0   0     12  13  13   0   0  14  14   0   0"
      ]
     },
     "execution_count": 141,
     "metadata": {},
     "output_type": "execute_result"
    }
   ],
   "source": [
    "ProcGA.clipjob(bestgen)"
   ]
  },
  {
   "cell_type": "code",
   "execution_count": null,
   "metadata": {},
   "outputs": [],
   "source": []
  }
 ],
 "metadata": {
  "kernelspec": {
   "display_name": "Julia 1.0.2",
   "language": "julia",
   "name": "julia-1.0"
  },
  "language_info": {
   "file_extension": ".jl",
   "mimetype": "application/julia",
   "name": "julia",
   "version": "1.0.2"
  },
  "toc": {
   "base_numbering": 1,
   "nav_menu": {},
   "number_sections": true,
   "sideBar": true,
   "skip_h1_title": true,
   "title_cell": "Table of Contents",
   "title_sidebar": "Contents",
   "toc_cell": false,
   "toc_position": {},
   "toc_section_display": true,
   "toc_window_display": false
  }
 },
 "nbformat": 4,
 "nbformat_minor": 2
}
