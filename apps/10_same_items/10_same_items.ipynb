{
 "cells": [
  {
   "cell_type": "markdown",
   "metadata": {},
   "source": [
    "# Process optimization by genetic algorithm"
   ]
  },
  {
   "cell_type": "markdown",
   "metadata": {},
   "source": [
    "10 same items scheduling"
   ]
  },
  {
   "cell_type": "code",
   "execution_count": 304,
   "metadata": {},
   "outputs": [
    {
     "name": "stderr",
     "output_type": "stream",
     "text": [
      "WARNING: replacing module ProcGA.\n"
     ]
    },
    {
     "data": {
      "text/plain": [
       "Main.ProcGA"
      ]
     },
     "execution_count": 304,
     "metadata": {},
     "output_type": "execute_result"
    }
   ],
   "source": [
    "include(\"../../src/ProcGA.jl\")"
   ]
  },
  {
   "cell_type": "code",
   "execution_count": 144,
   "metadata": {},
   "outputs": [],
   "source": [
    "using CSV\n",
    "using DelimitedFiles\n",
    "using DataFrames\n",
    "using Missings\n",
    "using Statistics"
   ]
  },
  {
   "cell_type": "code",
   "execution_count": 14,
   "metadata": {
    "scrolled": false
   },
   "outputs": [
    {
     "name": "stderr",
     "output_type": "stream",
     "text": [
      "┌ Info: Precompiling Plotly [58dd65bb-95f3-509e-9936-c39a10fdeae7]\n",
      "└ @ Base loading.jl:1192\n",
      "WARNING: could not import Base.quit into AtomShell\n"
     ]
    },
    {
     "data": {
      "text/html": [
       "    <script class='js-collapse-script'>\n",
       "        var curMatch =\n",
       "            window.location.href\n",
       "            .match(/(.*?)\\/notebooks\\/.*\\.ipynb/);\n",
       "\n",
       "        curMatch = curMatch ||\n",
       "            window.location.href\n",
       "            .match(/(.*?)\\/apps\\/.*\\.ipynb/);\n",
       "\n",
       "        if ( curMatch ) {\n",
       "            $('head').append('<base href=\"' + curMatch[1] + '/\">');\n",
       "        }\n",
       "    </script>\n"
      ],
      "text/plain": [
       "HTML{String}(\"    <script class='js-collapse-script'>\\n        var curMatch =\\n            window.location.href\\n            .match(/(.*?)\\\\/notebooks\\\\/.*\\\\.ipynb/);\\n\\n        curMatch = curMatch ||\\n            window.location.href\\n            .match(/(.*?)\\\\/apps\\\\/.*\\\\.ipynb/);\\n\\n        if ( curMatch ) {\\n            \\$('head').append('<base href=\\\"' + curMatch[1] + '/\\\">');\\n        }\\n    </script>\\n\")"
      ]
     },
     "metadata": {},
     "output_type": "display_data"
    },
    {
     "data": {
      "text/html": [
       "<script class='js-collapse-script' src='/assetserver/ca093309b313bb1b910f847fbc5df50a50de9ece-assets/webio/dist/bundle.js'></script>"
      ],
      "text/plain": [
       "HTML{String}(\"<script class='js-collapse-script' src='/assetserver/ca093309b313bb1b910f847fbc5df50a50de9ece-assets/webio/dist/bundle.js'></script>\")"
      ]
     },
     "metadata": {},
     "output_type": "display_data"
    },
    {
     "data": {
      "text/html": [
       "<script class='js-collapse-script' src='/assetserver/ca093309b313bb1b910f847fbc5df50a50de9ece-assets/providers/ijulia_setup.js'></script>"
      ],
      "text/plain": [
       "HTML{String}(\"<script class='js-collapse-script' src='/assetserver/ca093309b313bb1b910f847fbc5df50a50de9ece-assets/providers/ijulia_setup.js'></script>\")"
      ]
     },
     "metadata": {},
     "output_type": "display_data"
    },
    {
     "data": {
      "text/html": [
       "  <script class='js-collapse-script'>\n",
       "    $('.js-collapse-script').parent('.output_subarea').css('padding', '0');\n",
       "  </script>\n"
      ],
      "text/plain": [
       "HTML{String}(\"  <script class='js-collapse-script'>\\n    \\$('.js-collapse-script').parent('.output_subarea').css('padding', '0');\\n  </script>\\n\")"
      ]
     },
     "metadata": {},
     "output_type": "display_data"
    }
   ],
   "source": [
    "using Plots, Plotly"
   ]
  },
  {
   "cell_type": "code",
   "execution_count": 164,
   "metadata": {},
   "outputs": [
    {
     "data": {
      "text/plain": [
       "Plots.GRBackend()"
      ]
     },
     "execution_count": 164,
     "metadata": {},
     "output_type": "execute_result"
    }
   ],
   "source": [
    "gr()"
   ]
  },
  {
   "cell_type": "markdown",
   "metadata": {},
   "source": [
    "## reading data"
   ]
  },
  {
   "cell_type": "code",
   "execution_count": 16,
   "metadata": {},
   "outputs": [],
   "source": [
    "ptbl = CSV.read(\"proctable.csv\",header = 1);"
   ]
  },
  {
   "cell_type": "code",
   "execution_count": 17,
   "metadata": {},
   "outputs": [],
   "source": [
    "# take smaller size \n",
    "ptbl = ptbl[1:10,:];"
   ]
  },
  {
   "cell_type": "code",
   "execution_count": 18,
   "metadata": {},
   "outputs": [
    {
     "data": {
      "text/plain": [
       "10×2 Array{Any,2}:\n",
       " \"BB105 間管\"       50\n",
       " \"BB201-3 3補助管2\"  50\n",
       " \"BH301M 間管\"      50\n",
       " \"BH301M 枝管1\"     50\n",
       " \"BH301M 枝管2\"     50\n",
       " \"EP201 間管\"       50\n",
       " \"EP201-2 2補助管\"   50\n",
       " \"EP201-2 枝管1\"    50\n",
       " \"HR567 枝管4\"      50\n",
       " \"HR567 枝管4C\"     50"
      ]
     },
     "execution_count": 18,
     "metadata": {},
     "output_type": "execute_result"
    }
   ],
   "source": [
    "mtbl = convert(Array, ptbl[1:2])"
   ]
  },
  {
   "cell_type": "code",
   "execution_count": 19,
   "metadata": {},
   "outputs": [
    {
     "data": {
      "text/plain": [
       "10×14 Array{Int64,2}:\n",
       " 1  0  0  0  0  0  3  0  2  0  0  2  2  2\n",
       " 1  0  0  0  0  0  3  0  2  0  0  2  2  2\n",
       " 1  0  0  0  0  0  3  0  2  0  0  2  2  2\n",
       " 1  0  0  0  0  0  3  0  2  0  0  2  2  2\n",
       " 1  0  0  0  0  0  3  0  2  0  0  2  2  2\n",
       " 1  0  0  0  0  0  3  0  2  0  0  2  2  2\n",
       " 1  0  0  0  0  0  3  0  2  0  0  2  2  2\n",
       " 1  0  0  0  0  0  3  0  2  0  0  2  2  2\n",
       " 1  0  0  0  0  0  3  0  2  0  0  2  2  2\n",
       " 1  0  0  0  0  0  3  0  2  0  0  2  2  2"
      ]
     },
     "execution_count": 19,
     "metadata": {},
     "output_type": "execute_result"
    }
   ],
   "source": [
    "ptbl2 = [coalesce.(x,0) for x in convert(Array, ptbl[3:end])]"
   ]
  },
  {
   "cell_type": "code",
   "execution_count": 20,
   "metadata": {},
   "outputs": [
    {
     "data": {
      "text/plain": [
       "14-element Array{String,1}:\n",
       " \"pipecut\"           \n",
       " \"anneal_bs_prebend\" \n",
       " \"anneal_ns_prebend\" \n",
       " \"icing\"             \n",
       " \"rotbend\"           \n",
       " \"pressbend\"         \n",
       " \"anneal_bs_precalib\"\n",
       " \"anneal_ns_precalib\"\n",
       " \"vcalib\"            \n",
       " \"hcalib\"            \n",
       " \"buff_precut\"       \n",
       " \"mc_cut\"            \n",
       " \"buff_postcut\"      \n",
       " \"qc_check\"          "
      ]
     },
     "execution_count": 20,
     "metadata": {},
     "output_type": "execute_result"
    }
   ],
   "source": [
    "s = string.(names(ptbl)[3:end])"
   ]
  },
  {
   "cell_type": "code",
   "execution_count": 21,
   "metadata": {},
   "outputs": [
    {
     "data": {
      "text/html": [
       "<table class=\"data-frame\"><thead><tr><th></th><th>id</th><th>nm</th></tr></thead><tbody><tr><th>1</th><td>1</td><td>pipecut</td></tr><tr><th>2</th><td>2</td><td>anneal_bs_prebend</td></tr><tr><th>3</th><td>3</td><td>anneal_ns_prebend</td></tr><tr><th>4</th><td>4</td><td>icing</td></tr><tr><th>5</th><td>5</td><td>rotbend</td></tr><tr><th>6</th><td>6</td><td>pressbend</td></tr><tr><th>7</th><td>7</td><td>anneal_bs_precalib</td></tr><tr><th>8</th><td>8</td><td>anneal_ns_precalib</td></tr><tr><th>9</th><td>9</td><td>vcalib</td></tr><tr><th>10</th><td>10</td><td>hcalib</td></tr><tr><th>11</th><td>11</td><td>buff_precut</td></tr><tr><th>12</th><td>12</td><td>mc_cut</td></tr><tr><th>13</th><td>13</td><td>buff_postcut</td></tr><tr><th>14</th><td>14</td><td>qc_check</td></tr></tbody></table>"
      ],
      "text/plain": [
       "14×2 DataFrame\n",
       "│ Row │ id │ nm                 │\n",
       "├─────┼────┼────────────────────┤\n",
       "│ 1   │ 1  │ pipecut            │\n",
       "│ 2   │ 2  │ anneal_bs_prebend  │\n",
       "│ 3   │ 3  │ anneal_ns_prebend  │\n",
       "│ 4   │ 4  │ icing              │\n",
       "│ 5   │ 5  │ rotbend            │\n",
       "│ 6   │ 6  │ pressbend          │\n",
       "│ 7   │ 7  │ anneal_bs_precalib │\n",
       "│ 8   │ 8  │ anneal_ns_precalib │\n",
       "│ 9   │ 9  │ vcalib             │\n",
       "│ 10  │ 10 │ hcalib             │\n",
       "│ 11  │ 11 │ buff_precut        │\n",
       "│ 12  │ 12 │ mc_cut             │\n",
       "│ 13  │ 13 │ buff_postcut       │\n",
       "│ 14  │ 14 │ qc_check           │"
      ]
     },
     "execution_count": 21,
     "metadata": {},
     "output_type": "execute_result"
    }
   ],
   "source": [
    "nametable = DataFrame(id = 1:length(s), nm = s)"
   ]
  },
  {
   "cell_type": "markdown",
   "metadata": {},
   "source": [
    "Read grouping info."
   ]
  },
  {
   "cell_type": "code",
   "execution_count": 68,
   "metadata": {},
   "outputs": [
    {
     "data": {
      "text/plain": [
       "2×5 Array{Any,2}:\n",
       " \"anneal_bs\"  \"[2;7]\"  300  3  1\n",
       " \"anneal_ns\"  \"[3;8]\"  300  3  1"
      ]
     },
     "execution_count": 68,
     "metadata": {},
     "output_type": "execute_result"
    }
   ],
   "source": [
    "gtbl = readdlm(\"grouping.csv\",',', skipstart = 1)"
   ]
  },
  {
   "cell_type": "code",
   "execution_count": 69,
   "metadata": {},
   "outputs": [],
   "source": [
    "gtbl2=[]\n",
    "for k in 1:size(gtbl)[1]\n",
    "    x = gtbl[k, 2:end]\n",
    "    push!(gtbl2,Dict(:id=>eval(Meta.parse(x[1])),:cnt=>x[2],:timespan=>x[3],:grp=>x[4]))\n",
    "end"
   ]
  },
  {
   "cell_type": "code",
   "execution_count": 70,
   "metadata": {},
   "outputs": [
    {
     "data": {
      "text/plain": [
       "2-element Array{Any,1}:\n",
       " Dict{Symbol,Any}(:timespan=>3,:id=>[2, 7],:cnt=>300,:grp=>1)\n",
       " Dict{Symbol,Any}(:timespan=>3,:id=>[3, 8],:cnt=>300,:grp=>1)"
      ]
     },
     "execution_count": 70,
     "metadata": {},
     "output_type": "execute_result"
    }
   ],
   "source": [
    "gtbl2"
   ]
  },
  {
   "cell_type": "markdown",
   "metadata": {},
   "source": [
    "## Initialize ProcGA tables."
   ]
  },
  {
   "cell_type": "code",
   "execution_count": 305,
   "metadata": {},
   "outputs": [
    {
     "data": {
      "text/plain": [
       "()"
      ]
     },
     "execution_count": 305,
     "metadata": {},
     "output_type": "execute_result"
    }
   ],
   "source": [
    "ProcGA.settable(ptbl2, gtbl2, mtbl)"
   ]
  },
  {
   "cell_type": "markdown",
   "metadata": {},
   "source": [
    "## Initialize population"
   ]
  },
  {
   "cell_type": "code",
   "execution_count": 325,
   "metadata": {},
   "outputs": [
    {
     "data": {
      "text/plain": [
       "\"bestprc_heuristics.csv\""
      ]
     },
     "execution_count": 325,
     "metadata": {},
     "output_type": "execute_result"
    }
   ],
   "source": [
    "savedfile = \"bestprc_heuristics.csv\""
   ]
  },
  {
   "cell_type": "code",
   "execution_count": 326,
   "metadata": {},
   "outputs": [
    {
     "name": "stdout",
     "output_type": "stream",
     "text": [
      "read from bestprc_heuristics.csv\n"
     ]
    },
    {
     "data": {
      "text/plain": [
       "10×120 Array{Int64,2}:\n",
       " 1  0  7  7  7  9  9  12  12  13  13  …  0  0  0  0  0  0  0  0  0  0  0  0\n",
       " 0  1  7  7  7  0  0   9   9  12  12     0  0  0  0  0  0  0  0  0  0  0  0\n",
       " 0  0  1  0  0  0  7   7   7   9   9     0  0  0  0  0  0  0  0  0  0  0  0\n",
       " 0  0  0  1  0  0  7   7   7   0   0     0  0  0  0  0  0  0  0  0  0  0  0\n",
       " 0  0  0  0  1  0  7   7   7   0   0     0  0  0  0  0  0  0  0  0  0  0  0\n",
       " 0  0  0  0  0  1  0   0   0   7   7  …  0  0  0  0  0  0  0  0  0  0  0  0\n",
       " 0  0  0  0  0  0  1   0   0   7   7     0  0  0  0  0  0  0  0  0  0  0  0\n",
       " 0  0  0  0  0  0  0   1   0   0   0     0  0  0  0  0  0  0  0  0  0  0  0\n",
       " 0  0  0  0  0  0  0   0   1   0   0     0  0  0  0  0  0  0  0  0  0  0  0\n",
       " 0  0  0  0  0  0  0   0   0   1   0     0  0  0  0  0  0  0  0  0  0  0  0"
      ]
     },
     "execution_count": 326,
     "metadata": {},
     "output_type": "execute_result"
    }
   ],
   "source": [
    "# create population from savedfile or make new\n",
    "if isfile(savedfile)\n",
    "    println(\"read from $savedfile\")\n",
    "    gbs = readdlm(savedfile, ',', Int)\n",
    "else\n",
    "    println(\"Read base data manually created from 6-same best practice.\")\n",
    "    g1 = ProcGA.jobtablebase()\n",
    "    bs = readdlm(\"10same.csv\",',',Int)\n",
    "    ca = size(g1)[2]-size(bs)[2]\n",
    "    gbs = hcat(bs,zeros(Int,(10,ca)))\n",
    "end\n",
    "gbs"
   ]
  },
  {
   "cell_type": "code",
   "execution_count": 327,
   "metadata": {
    "scrolled": true
   },
   "outputs": [
    {
     "data": {
      "text/plain": [
       "31"
      ]
     },
     "execution_count": 327,
     "metadata": {},
     "output_type": "execute_result"
    }
   ],
   "source": [
    "ProcGA.penalty(gbs)"
   ]
  },
  {
   "cell_type": "code",
   "execution_count": 328,
   "metadata": {},
   "outputs": [
    {
     "data": {
      "text/plain": [
       "0"
      ]
     },
     "execution_count": 328,
     "metadata": {},
     "output_type": "execute_result"
    }
   ],
   "source": [
    "ProcGA.dupenalty(gbs)"
   ]
  },
  {
   "cell_type": "markdown",
   "metadata": {},
   "source": [
    "Make population.\n",
    "Half of it is from best data and latter half is randomly made."
   ]
  },
  {
   "cell_type": "code",
   "execution_count": 329,
   "metadata": {},
   "outputs": [],
   "source": [
    "ppl = ProcGA.initpopulationfrom(gbs,100);\n",
    "ppl = vcat(ppl, ProcGA.initpopulation(100));"
   ]
  },
  {
   "cell_type": "markdown",
   "metadata": {},
   "source": [
    "## Defining penalty functions"
   ]
  },
  {
   "cell_type": "markdown",
   "metadata": {},
   "source": [
    "You can give your own penalty function when needed."
   ]
  },
  {
   "cell_type": "code",
   "execution_count": 330,
   "metadata": {},
   "outputs": [],
   "source": [
    "# ProcGA.penalty(jtbl) = mypenalty(jtbl)"
   ]
  },
  {
   "cell_type": "code",
   "execution_count": 331,
   "metadata": {},
   "outputs": [],
   "source": [
    "# ProcGA.penalty(jtbl) = ProcGA.orgpenalty(jtbl)"
   ]
  },
  {
   "cell_type": "code",
   "execution_count": 332,
   "metadata": {},
   "outputs": [
    {
     "data": {
      "text/plain": [
       "mypenalty (generic function with 1 method)"
      ]
     },
     "execution_count": 332,
     "metadata": {},
     "output_type": "execute_result"
    }
   ],
   "source": [
    "function mypenalty(jtbl)\n",
    "    p = ProcGA.validlength(jtbl)\n",
    "    p += ProcGA.serpenalty(jtbl)\n",
    "    p += ProcGA.grpenalty(jtbl)\n",
    "    p += ProcGA.grdupenalty(jtbl)\n",
    "    p += 2*ProcGA.dupenalty(jtbl) # weight\n",
    "    p\n",
    "end\n",
    "\n",
    "# ProcGA.penalty(jtbl) = mypenalty(jtbl)"
   ]
  },
  {
   "cell_type": "markdown",
   "metadata": {},
   "source": [
    "## Evolution!"
   ]
  },
  {
   "cell_type": "code",
   "execution_count": 333,
   "metadata": {},
   "outputs": [],
   "source": [
    "# first sort ppl by their penalties\n",
    "ProcGA.sortpopulation!(ppl);"
   ]
  },
  {
   "cell_type": "code",
   "execution_count": 334,
   "metadata": {},
   "outputs": [
    {
     "data": {
      "text/plain": [
       "200-element Array{Int64,1}:\n",
       "  31\n",
       "  31\n",
       "  31\n",
       "  31\n",
       "  31\n",
       "  31\n",
       "  31\n",
       "  31\n",
       "  31\n",
       "  32\n",
       "  33\n",
       "  34\n",
       "  35\n",
       "   ⋮\n",
       " 785\n",
       " 794\n",
       " 795\n",
       " 799\n",
       " 803\n",
       " 805\n",
       " 806\n",
       " 807\n",
       " 814\n",
       " 836\n",
       " 884\n",
       " 897"
      ]
     },
     "execution_count": 334,
     "metadata": {},
     "output_type": "execute_result"
    }
   ],
   "source": [
    "v = ProcGA.penalty.(ppl)"
   ]
  },
  {
   "cell_type": "code",
   "execution_count": 335,
   "metadata": {
    "scrolled": true
   },
   "outputs": [
    {
     "data": {
      "text/plain": [
       "1-element Array{Tuple{Int64,Float64,Int64},1}:\n",
       " (31, 444.5, 897)"
      ]
     },
     "execution_count": 335,
     "metadata": {},
     "output_type": "execute_result"
    }
   ],
   "source": [
    "vlst = [(minimum(v), median(v), maximum(v))]"
   ]
  },
  {
   "cell_type": "code",
   "execution_count": 336,
   "metadata": {},
   "outputs": [
    {
     "name": "stdout",
     "output_type": "stream",
     "text": [
      "i:10 => (31, 31.0, 59)\n",
      "i:20 => (31, 31.0, 45)\n",
      "i:30 => (31, 31.0, 40)\n",
      "i:40 => (31, 31.0, 66)\n",
      "i:50 => (31, 31.0, 56)\n",
      "i:60 => (31, 31.0, 54)\n",
      "i:70 => (31, 31.0, 90)\n",
      "i:80 => (31, 31.0, 60)\n",
      "i:90 => (31, 31.0, 62)\n",
      "i:100 => (31, 31.0, 48)\n",
      "i:110 => (31, 31.0, 57)\n",
      "i:120 => (31, 31.0, 49)\n",
      "i:130 => (31, 31.0, 58)\n",
      "i:140 => (31, 31.0, 66)\n",
      "i:150 => (31, 31.0, 66)\n",
      "i:160 => (31, 31.0, 56)\n",
      "i:170 => (31, 31.0, 59)\n",
      "i:180 => (31, 31.0, 50)\n",
      "i:190 => (31, 31.0, 50)\n",
      "i:200 => (31, 31.0, 66)\n",
      "i:210 => (31, 31.0, 65)\n",
      "i:220 => (31, 31.0, 53)\n",
      "i:230 => (31, 31.0, 58)\n",
      "i:240 => (31, 31.0, 50)\n",
      "i:250 => (31, 31.0, 31)\n",
      "i:260 => (31, 31.0, 65)\n",
      "i:270 => (31, 31.0, 59)\n",
      "i:280 => (31, 31.0, 59)\n",
      "i:290 => (31, 31.0, 46)\n",
      "i:300 => (31, 31.0, 58)\n",
      "i:310 => (31, 31.0, 65)\n",
      "i:320 => (31, 31.0, 55)\n",
      "i:330 => (31, 31.0, 63)\n",
      "i:340 => (31, 31.0, 45)\n",
      "i:350 => (31, 31.0, 70)\n",
      "i:360 => (31, 31.0, 65)\n",
      "i:370 => (31, 31.0, 66)\n",
      "i:380 => (31, 31.0, 71)\n",
      "i:390 => (31, 31.0, 63)\n",
      "i:400 => (31, 31.0, 50)\n",
      "i:410 => (31, 31.0, 60)\n",
      "i:420 => (31, 31.0, 62)\n",
      "i:430 => (31, 31.0, 63)\n",
      "i:440 => (31, 31.0, 57)\n",
      "i:450 => (31, 31.0, 72)\n",
      "i:460 => (31, 31.0, 54)\n",
      "i:470 => (31, 31.0, 87)\n",
      "i:480 => (31, 31.0, 69)\n",
      "i:490 => (31, 31.0, 59)\n",
      "i:500 => (31, 31.0, 31)\n"
     ]
    }
   ],
   "source": [
    "# Proceed generation\n",
    "vl = ProcGA.evolution!(ppl, 500, 10);\n",
    "vlst = vcat(vlst,vl);"
   ]
  },
  {
   "cell_type": "code",
   "execution_count": 337,
   "metadata": {},
   "outputs": [
    {
     "data": {
      "image/svg+xml": [
       "<?xml version=\"1.0\" encoding=\"utf-8\"?>\n",
       "<svg xmlns=\"http://www.w3.org/2000/svg\" xmlns:xlink=\"http://www.w3.org/1999/xlink\" width=\"600\" height=\"400\" viewBox=\"0 0 2400 1600\">\n",
       "<defs>\n",
       "  <clipPath id=\"clip1500\">\n",
       "    <rect x=\"0\" y=\"0\" width=\"2000\" height=\"2000\"/>\n",
       "  </clipPath>\n",
       "</defs>\n",
       "<defs>\n",
       "  <clipPath id=\"clip1501\">\n",
       "    <rect x=\"0\" y=\"0\" width=\"2400\" height=\"1600\"/>\n",
       "  </clipPath>\n",
       "</defs>\n",
       "<polygon clip-path=\"url(#clip1501)\" points=\"\n",
       "0,1600 2400,1600 2400,0 0,0 \n",
       "  \" fill=\"#ffffff\" fill-opacity=\"1\"/>\n",
       "<defs>\n",
       "  <clipPath id=\"clip1502\">\n",
       "    <rect x=\"480\" y=\"0\" width=\"1681\" height=\"1600\"/>\n",
       "  </clipPath>\n",
       "</defs>\n",
       "<polygon clip-path=\"url(#clip1501)\" points=\"\n",
       "214.919,1503.47 2321.26,1503.47 2321.26,47.2441 214.919,47.2441 \n",
       "  \" fill=\"#ffffff\" fill-opacity=\"1\"/>\n",
       "<defs>\n",
       "  <clipPath id=\"clip1503\">\n",
       "    <rect x=\"214\" y=\"47\" width=\"2107\" height=\"1457\"/>\n",
       "  </clipPath>\n",
       "</defs>\n",
       "<polyline clip-path=\"url(#clip1503)\" style=\"stroke:#000000; stroke-width:2; stroke-opacity:0.1; fill:none\" points=\"\n",
       "  270.558,1503.47 270.558,47.2441 \n",
       "  \"/>\n",
       "<polyline clip-path=\"url(#clip1503)\" style=\"stroke:#000000; stroke-width:2; stroke-opacity:0.1; fill:none\" points=\"\n",
       "  667.981,1503.47 667.981,47.2441 \n",
       "  \"/>\n",
       "<polyline clip-path=\"url(#clip1503)\" style=\"stroke:#000000; stroke-width:2; stroke-opacity:0.1; fill:none\" points=\"\n",
       "  1065.4,1503.47 1065.4,47.2441 \n",
       "  \"/>\n",
       "<polyline clip-path=\"url(#clip1503)\" style=\"stroke:#000000; stroke-width:2; stroke-opacity:0.1; fill:none\" points=\"\n",
       "  1462.83,1503.47 1462.83,47.2441 \n",
       "  \"/>\n",
       "<polyline clip-path=\"url(#clip1503)\" style=\"stroke:#000000; stroke-width:2; stroke-opacity:0.1; fill:none\" points=\"\n",
       "  1860.25,1503.47 1860.25,47.2441 \n",
       "  \"/>\n",
       "<polyline clip-path=\"url(#clip1503)\" style=\"stroke:#000000; stroke-width:2; stroke-opacity:0.1; fill:none\" points=\"\n",
       "  2257.67,1503.47 2257.67,47.2441 \n",
       "  \"/>\n",
       "<polyline clip-path=\"url(#clip1503)\" style=\"stroke:#000000; stroke-width:2; stroke-opacity:0.1; fill:none\" points=\"\n",
       "  214.919,1462.26 2321.26,1462.26 \n",
       "  \"/>\n",
       "<polyline clip-path=\"url(#clip1503)\" style=\"stroke:#000000; stroke-width:2; stroke-opacity:0.1; fill:none\" points=\"\n",
       "  214.919,1118.81 2321.26,1118.81 \n",
       "  \"/>\n",
       "<polyline clip-path=\"url(#clip1503)\" style=\"stroke:#000000; stroke-width:2; stroke-opacity:0.1; fill:none\" points=\"\n",
       "  214.919,775.359 2321.26,775.359 \n",
       "  \"/>\n",
       "<polyline clip-path=\"url(#clip1503)\" style=\"stroke:#000000; stroke-width:2; stroke-opacity:0.1; fill:none\" points=\"\n",
       "  214.919,431.909 2321.26,431.909 \n",
       "  \"/>\n",
       "<polyline clip-path=\"url(#clip1503)\" style=\"stroke:#000000; stroke-width:2; stroke-opacity:0.1; fill:none\" points=\"\n",
       "  214.919,88.4582 2321.26,88.4582 \n",
       "  \"/>\n",
       "<polyline clip-path=\"url(#clip1501)\" style=\"stroke:#000000; stroke-width:4; stroke-opacity:1; fill:none\" points=\"\n",
       "  214.919,1503.47 2321.26,1503.47 \n",
       "  \"/>\n",
       "<polyline clip-path=\"url(#clip1501)\" style=\"stroke:#000000; stroke-width:4; stroke-opacity:1; fill:none\" points=\"\n",
       "  214.919,1503.47 214.919,47.2441 \n",
       "  \"/>\n",
       "<polyline clip-path=\"url(#clip1501)\" style=\"stroke:#000000; stroke-width:4; stroke-opacity:1; fill:none\" points=\"\n",
       "  270.558,1503.47 270.558,1481.63 \n",
       "  \"/>\n",
       "<polyline clip-path=\"url(#clip1501)\" style=\"stroke:#000000; stroke-width:4; stroke-opacity:1; fill:none\" points=\"\n",
       "  667.981,1503.47 667.981,1481.63 \n",
       "  \"/>\n",
       "<polyline clip-path=\"url(#clip1501)\" style=\"stroke:#000000; stroke-width:4; stroke-opacity:1; fill:none\" points=\"\n",
       "  1065.4,1503.47 1065.4,1481.63 \n",
       "  \"/>\n",
       "<polyline clip-path=\"url(#clip1501)\" style=\"stroke:#000000; stroke-width:4; stroke-opacity:1; fill:none\" points=\"\n",
       "  1462.83,1503.47 1462.83,1481.63 \n",
       "  \"/>\n",
       "<polyline clip-path=\"url(#clip1501)\" style=\"stroke:#000000; stroke-width:4; stroke-opacity:1; fill:none\" points=\"\n",
       "  1860.25,1503.47 1860.25,1481.63 \n",
       "  \"/>\n",
       "<polyline clip-path=\"url(#clip1501)\" style=\"stroke:#000000; stroke-width:4; stroke-opacity:1; fill:none\" points=\"\n",
       "  2257.67,1503.47 2257.67,1481.63 \n",
       "  \"/>\n",
       "<polyline clip-path=\"url(#clip1501)\" style=\"stroke:#000000; stroke-width:4; stroke-opacity:1; fill:none\" points=\"\n",
       "  214.919,1462.26 246.514,1462.26 \n",
       "  \"/>\n",
       "<polyline clip-path=\"url(#clip1501)\" style=\"stroke:#000000; stroke-width:4; stroke-opacity:1; fill:none\" points=\"\n",
       "  214.919,1118.81 246.514,1118.81 \n",
       "  \"/>\n",
       "<polyline clip-path=\"url(#clip1501)\" style=\"stroke:#000000; stroke-width:4; stroke-opacity:1; fill:none\" points=\"\n",
       "  214.919,775.359 246.514,775.359 \n",
       "  \"/>\n",
       "<polyline clip-path=\"url(#clip1501)\" style=\"stroke:#000000; stroke-width:4; stroke-opacity:1; fill:none\" points=\"\n",
       "  214.919,431.909 246.514,431.909 \n",
       "  \"/>\n",
       "<polyline clip-path=\"url(#clip1501)\" style=\"stroke:#000000; stroke-width:4; stroke-opacity:1; fill:none\" points=\"\n",
       "  214.919,88.4582 246.514,88.4582 \n",
       "  \"/>\n",
       "<g clip-path=\"url(#clip1501)\">\n",
       "<text style=\"fill:#000000; fill-opacity:1; font-family:Arial,Helvetica Neue,Helvetica,sans-serif; font-size:48px; text-anchor:middle;\" transform=\"rotate(0, 270.558, 1557.47)\" x=\"270.558\" y=\"1557.47\">0</text>\n",
       "</g>\n",
       "<g clip-path=\"url(#clip1501)\">\n",
       "<text style=\"fill:#000000; fill-opacity:1; font-family:Arial,Helvetica Neue,Helvetica,sans-serif; font-size:48px; text-anchor:middle;\" transform=\"rotate(0, 667.981, 1557.47)\" x=\"667.981\" y=\"1557.47\">100</text>\n",
       "</g>\n",
       "<g clip-path=\"url(#clip1501)\">\n",
       "<text style=\"fill:#000000; fill-opacity:1; font-family:Arial,Helvetica Neue,Helvetica,sans-serif; font-size:48px; text-anchor:middle;\" transform=\"rotate(0, 1065.4, 1557.47)\" x=\"1065.4\" y=\"1557.47\">200</text>\n",
       "</g>\n",
       "<g clip-path=\"url(#clip1501)\">\n",
       "<text style=\"fill:#000000; fill-opacity:1; font-family:Arial,Helvetica Neue,Helvetica,sans-serif; font-size:48px; text-anchor:middle;\" transform=\"rotate(0, 1462.83, 1557.47)\" x=\"1462.83\" y=\"1557.47\">300</text>\n",
       "</g>\n",
       "<g clip-path=\"url(#clip1501)\">\n",
       "<text style=\"fill:#000000; fill-opacity:1; font-family:Arial,Helvetica Neue,Helvetica,sans-serif; font-size:48px; text-anchor:middle;\" transform=\"rotate(0, 1860.25, 1557.47)\" x=\"1860.25\" y=\"1557.47\">400</text>\n",
       "</g>\n",
       "<g clip-path=\"url(#clip1501)\">\n",
       "<text style=\"fill:#000000; fill-opacity:1; font-family:Arial,Helvetica Neue,Helvetica,sans-serif; font-size:48px; text-anchor:middle;\" transform=\"rotate(0, 2257.67, 1557.47)\" x=\"2257.67\" y=\"1557.47\">500</text>\n",
       "</g>\n",
       "<g clip-path=\"url(#clip1501)\">\n",
       "<text style=\"fill:#000000; fill-opacity:1; font-family:Arial,Helvetica Neue,Helvetica,sans-serif; font-size:48px; text-anchor:end;\" transform=\"rotate(0, 190.919, 1479.76)\" x=\"190.919\" y=\"1479.76\">31.00</text>\n",
       "</g>\n",
       "<g clip-path=\"url(#clip1501)\">\n",
       "<text style=\"fill:#000000; fill-opacity:1; font-family:Arial,Helvetica Neue,Helvetica,sans-serif; font-size:48px; text-anchor:end;\" transform=\"rotate(0, 190.919, 1136.31)\" x=\"190.919\" y=\"1136.31\">31.25</text>\n",
       "</g>\n",
       "<g clip-path=\"url(#clip1501)\">\n",
       "<text style=\"fill:#000000; fill-opacity:1; font-family:Arial,Helvetica Neue,Helvetica,sans-serif; font-size:48px; text-anchor:end;\" transform=\"rotate(0, 190.919, 792.859)\" x=\"190.919\" y=\"792.859\">31.50</text>\n",
       "</g>\n",
       "<g clip-path=\"url(#clip1501)\">\n",
       "<text style=\"fill:#000000; fill-opacity:1; font-family:Arial,Helvetica Neue,Helvetica,sans-serif; font-size:48px; text-anchor:end;\" transform=\"rotate(0, 190.919, 449.409)\" x=\"190.919\" y=\"449.409\">31.75</text>\n",
       "</g>\n",
       "<g clip-path=\"url(#clip1501)\">\n",
       "<text style=\"fill:#000000; fill-opacity:1; font-family:Arial,Helvetica Neue,Helvetica,sans-serif; font-size:48px; text-anchor:end;\" transform=\"rotate(0, 190.919, 105.958)\" x=\"190.919\" y=\"105.958\">32.00</text>\n",
       "</g>\n",
       "<polyline clip-path=\"url(#clip1503)\" style=\"stroke:#009af9; stroke-width:4; stroke-opacity:1; fill:none\" points=\"\n",
       "  274.532,1462.26 278.506,1462.26 282.481,1462.26 286.455,1462.26 290.429,1462.26 294.403,1462.26 298.378,1462.26 302.352,1462.26 306.326,1462.26 310.3,1462.26 \n",
       "  314.274,1462.26 318.249,1462.26 322.223,1462.26 326.197,1462.26 330.171,1462.26 334.146,1462.26 338.12,1462.26 342.094,1462.26 346.068,1462.26 350.042,1462.26 \n",
       "  354.017,1462.26 357.991,1462.26 361.965,1462.26 365.939,1462.26 369.914,1462.26 373.888,1462.26 377.862,1462.26 381.836,1462.26 385.811,1462.26 389.785,1462.26 \n",
       "  393.759,1462.26 397.733,1462.26 401.707,1462.26 405.682,1462.26 409.656,1462.26 413.63,1462.26 417.604,1462.26 421.579,1462.26 425.553,1462.26 429.527,1462.26 \n",
       "  433.501,1462.26 437.476,1462.26 441.45,1462.26 445.424,1462.26 449.398,1462.26 453.372,1462.26 457.347,1462.26 461.321,1462.26 465.295,1462.26 469.269,1462.26 \n",
       "  473.244,1462.26 477.218,1462.26 481.192,1462.26 485.166,1462.26 489.14,1462.26 493.115,1462.26 497.089,1462.26 501.063,1462.26 505.037,1462.26 509.012,1462.26 \n",
       "  512.986,1462.26 516.96,1462.26 520.934,1462.26 524.909,1462.26 528.883,1462.26 532.857,1462.26 536.831,1462.26 540.805,1462.26 544.78,1462.26 548.754,1462.26 \n",
       "  552.728,1462.26 556.702,1462.26 560.677,1462.26 564.651,1462.26 568.625,1462.26 572.599,1462.26 576.574,1462.26 580.548,1462.26 584.522,1462.26 588.496,1462.26 \n",
       "  592.47,1462.26 596.445,1462.26 600.419,1462.26 604.393,1462.26 608.367,1462.26 612.342,1462.26 616.316,1462.26 620.29,1462.26 624.264,1462.26 628.238,1462.26 \n",
       "  632.213,1462.26 636.187,1462.26 640.161,1462.26 644.135,1462.26 648.11,1462.26 652.084,1462.26 656.058,1462.26 660.032,1462.26 664.007,1462.26 667.981,1462.26 \n",
       "  671.955,1462.26 675.929,1462.26 679.903,1462.26 683.878,1462.26 687.852,1462.26 691.826,1462.26 695.8,1462.26 699.775,1462.26 703.749,1462.26 707.723,1462.26 \n",
       "  711.697,1462.26 715.672,1462.26 719.646,1462.26 723.62,1462.26 727.594,1462.26 731.568,1462.26 735.543,1462.26 739.517,1462.26 743.491,1462.26 747.465,1462.26 \n",
       "  751.44,1462.26 755.414,1462.26 759.388,1462.26 763.362,1462.26 767.336,1462.26 771.311,1462.26 775.285,1462.26 779.259,1462.26 783.233,1462.26 787.208,1462.26 \n",
       "  791.182,1462.26 795.156,1462.26 799.13,1462.26 803.105,1462.26 807.079,1462.26 811.053,1462.26 815.027,1462.26 819.001,1462.26 822.976,1462.26 826.95,1462.26 \n",
       "  830.924,1462.26 834.898,1462.26 838.873,1462.26 842.847,1462.26 846.821,1462.26 850.795,1462.26 854.77,1462.26 858.744,1462.26 862.718,1462.26 866.692,1462.26 \n",
       "  870.666,1462.26 874.641,1462.26 878.615,1462.26 882.589,1462.26 886.563,1462.26 890.538,1462.26 894.512,1462.26 898.486,1462.26 902.46,1462.26 906.434,1462.26 \n",
       "  910.409,1462.26 914.383,1462.26 918.357,1462.26 922.331,1462.26 926.306,1462.26 930.28,1462.26 934.254,1462.26 938.228,1462.26 942.203,1462.26 946.177,1462.26 \n",
       "  950.151,1462.26 954.125,1462.26 958.099,1462.26 962.074,1462.26 966.048,1462.26 970.022,1462.26 973.996,1462.26 977.971,1462.26 981.945,1462.26 985.919,1462.26 \n",
       "  989.893,1462.26 993.868,1462.26 997.842,1462.26 1001.82,1462.26 1005.79,1462.26 1009.76,1462.26 1013.74,1462.26 1017.71,1462.26 1021.69,1462.26 1025.66,1462.26 \n",
       "  1029.64,1462.26 1033.61,1462.26 1037.58,1462.26 1041.56,1462.26 1045.53,1462.26 1049.51,1462.26 1053.48,1462.26 1057.46,1462.26 1061.43,1462.26 1065.4,1462.26 \n",
       "  1069.38,1462.26 1073.35,1462.26 1077.33,1462.26 1081.3,1462.26 1085.27,1462.26 1089.25,1462.26 1093.22,1462.26 1097.2,1462.26 1101.17,1462.26 1105.15,1462.26 \n",
       "  1109.12,1462.26 1113.09,1462.26 1117.07,1462.26 1121.04,1462.26 1125.02,1462.26 1128.99,1462.26 1132.97,1462.26 1136.94,1462.26 1140.91,1462.26 1144.89,1462.26 \n",
       "  1148.86,1462.26 1152.84,1462.26 1156.81,1462.26 1160.79,1462.26 1164.76,1462.26 1168.73,1462.26 1172.71,1462.26 1176.68,1462.26 1180.66,1462.26 1184.63,1462.26 \n",
       "  1188.6,1462.26 1192.58,1462.26 1196.55,1462.26 1200.53,1462.26 1204.5,1462.26 1208.48,1462.26 1212.45,1462.26 1216.42,1462.26 1220.4,1462.26 1224.37,1462.26 \n",
       "  1228.35,1462.26 1232.32,1462.26 1236.3,1462.26 1240.27,1462.26 1244.24,1462.26 1248.22,1462.26 1252.19,1462.26 1256.17,1462.26 1260.14,1462.26 1264.12,1462.26 \n",
       "  1268.09,1462.26 1272.06,1462.26 1276.04,1462.26 1280.01,1462.26 1283.99,1462.26 1287.96,1462.26 1291.93,1462.26 1295.91,1462.26 1299.88,1462.26 1303.86,1462.26 \n",
       "  1307.83,1462.26 1311.81,1462.26 1315.78,1462.26 1319.75,1462.26 1323.73,1462.26 1327.7,1462.26 1331.68,1462.26 1335.65,1462.26 1339.63,1462.26 1343.6,1462.26 \n",
       "  1347.57,1462.26 1351.55,1462.26 1355.52,1462.26 1359.5,1462.26 1363.47,1462.26 1367.44,1462.26 1371.42,1462.26 1375.39,1462.26 1379.37,1462.26 1383.34,1462.26 \n",
       "  1387.32,1462.26 1391.29,1462.26 1395.26,1462.26 1399.24,1462.26 1403.21,1462.26 1407.19,1462.26 1411.16,1462.26 1415.14,1462.26 1419.11,1462.26 1423.08,1462.26 \n",
       "  1427.06,1462.26 1431.03,1462.26 1435.01,1462.26 1438.98,1462.26 1442.96,1462.26 1446.93,1462.26 1450.9,1462.26 1454.88,1462.26 1458.85,1462.26 1462.83,1462.26 \n",
       "  1466.8,1462.26 1470.77,1462.26 1474.75,1462.26 1478.72,1462.26 1482.7,1462.26 1486.67,1462.26 1490.65,1462.26 1494.62,1462.26 1498.59,1462.26 1502.57,1462.26 \n",
       "  1506.54,1462.26 1510.52,1462.26 1514.49,1462.26 1518.47,1462.26 1522.44,1462.26 1526.41,1462.26 1530.39,1462.26 1534.36,1462.26 1538.34,1462.26 1542.31,1462.26 \n",
       "  1546.29,1462.26 1550.26,1462.26 1554.23,1462.26 1558.21,1462.26 1562.18,1462.26 1566.16,1462.26 1570.13,1462.26 1574.1,1462.26 1578.08,1462.26 1582.05,1462.26 \n",
       "  1586.03,1462.26 1590,1462.26 1593.98,1462.26 1597.95,1462.26 1601.92,1462.26 1605.9,1462.26 1609.87,1462.26 1613.85,1462.26 1617.82,1462.26 1621.8,1462.26 \n",
       "  1625.77,1462.26 1629.74,1462.26 1633.72,1462.26 1637.69,1462.26 1641.67,1462.26 1645.64,1462.26 1649.62,1462.26 1653.59,1462.26 1657.56,1462.26 1661.54,1462.26 \n",
       "  1665.51,1462.26 1669.49,1462.26 1673.46,1462.26 1677.43,1462.26 1681.41,1462.26 1685.38,1462.26 1689.36,1462.26 1693.33,1462.26 1697.31,1462.26 1701.28,1462.26 \n",
       "  1705.25,1462.26 1709.23,1462.26 1713.2,1462.26 1717.18,1462.26 1721.15,1462.26 1725.13,1462.26 1729.1,1462.26 1733.07,1462.26 1737.05,1462.26 1741.02,1462.26 \n",
       "  1745,1462.26 1748.97,1462.26 1752.95,1462.26 1756.92,1462.26 1760.89,1462.26 1764.87,1462.26 1768.84,1462.26 1772.82,1462.26 1776.79,1462.26 1780.76,1462.26 \n",
       "  1784.74,1462.26 1788.71,1462.26 1792.69,1462.26 1796.66,1462.26 1800.64,1462.26 1804.61,1462.26 1808.58,1462.26 1812.56,1462.26 1816.53,1462.26 1820.51,1462.26 \n",
       "  1824.48,1462.26 1828.46,1462.26 1832.43,1462.26 1836.4,1462.26 1840.38,1462.26 1844.35,1462.26 1848.33,1462.26 1852.3,1462.26 1856.28,1462.26 1860.25,1462.26 \n",
       "  1864.22,1462.26 1868.2,1462.26 1872.17,1462.26 1876.15,1462.26 1880.12,1462.26 1884.09,1462.26 1888.07,1462.26 1892.04,1462.26 1896.02,1462.26 1899.99,1462.26 \n",
       "  1903.97,1462.26 1907.94,1462.26 1911.91,1462.26 1915.89,1462.26 1919.86,1462.26 1923.84,1462.26 1927.81,1462.26 1931.79,1462.26 1935.76,1462.26 1939.73,1462.26 \n",
       "  1943.71,1462.26 1947.68,1462.26 1951.66,1462.26 1955.63,1462.26 1959.61,1462.26 1963.58,1462.26 1967.55,1462.26 1971.53,1462.26 1975.5,1462.26 1979.48,1462.26 \n",
       "  1983.45,1462.26 1987.42,1462.26 1991.4,1462.26 1995.37,1462.26 1999.35,1462.26 2003.32,1462.26 2007.3,1462.26 2011.27,1462.26 2015.24,1462.26 2019.22,1462.26 \n",
       "  2023.19,1462.26 2027.17,1462.26 2031.14,1462.26 2035.12,1462.26 2039.09,1462.26 2043.06,1462.26 2047.04,1462.26 2051.01,1462.26 2054.99,1462.26 2058.96,1462.26 \n",
       "  2062.93,1462.26 2066.91,1462.26 2070.88,1462.26 2074.86,1462.26 2078.83,1462.26 2082.81,1462.26 2086.78,1462.26 2090.75,1462.26 2094.73,1462.26 2098.7,1462.26 \n",
       "  2102.68,1462.26 2106.65,1462.26 2110.63,1462.26 2114.6,1462.26 2118.57,1462.26 2122.55,1462.26 2126.52,1462.26 2130.5,1462.26 2134.47,1462.26 2138.45,1462.26 \n",
       "  2142.42,1462.26 2146.39,1462.26 2150.37,1462.26 2154.34,1462.26 2158.32,1462.26 2162.29,1462.26 2166.26,1462.26 2170.24,1462.26 2174.21,1462.26 2178.19,1462.26 \n",
       "  2182.16,1462.26 2186.14,1462.26 2190.11,1462.26 2194.08,1462.26 2198.06,1462.26 2202.03,1462.26 2206.01,1462.26 2209.98,1462.26 2213.96,1462.26 2217.93,1462.26 \n",
       "  2221.9,1462.26 2225.88,1462.26 2229.85,1462.26 2233.83,1462.26 2237.8,1462.26 2241.78,1462.26 2245.75,1462.26 2249.72,1462.26 2253.7,1462.26 2257.67,1462.26 \n",
       "  2261.65,1462.26 \n",
       "  \"/>\n",
       "<polygon clip-path=\"url(#clip1501)\" points=\"\n",
       "1958.43,251.724 2249.26,251.724 2249.26,130.764 1958.43,130.764 \n",
       "  \" fill=\"#ffffff\" fill-opacity=\"1\"/>\n",
       "<polyline clip-path=\"url(#clip1501)\" style=\"stroke:#000000; stroke-width:4; stroke-opacity:1; fill:none\" points=\"\n",
       "  1958.43,251.724 2249.26,251.724 2249.26,130.764 1958.43,130.764 1958.43,251.724 \n",
       "  \"/>\n",
       "<polyline clip-path=\"url(#clip1501)\" style=\"stroke:#009af9; stroke-width:4; stroke-opacity:1; fill:none\" points=\"\n",
       "  1982.43,191.244 2126.43,191.244 \n",
       "  \"/>\n",
       "<g clip-path=\"url(#clip1501)\">\n",
       "<text style=\"fill:#000000; fill-opacity:1; font-family:Arial,Helvetica Neue,Helvetica,sans-serif; font-size:48px; text-anchor:start;\" transform=\"rotate(0, 2150.43, 208.744)\" x=\"2150.43\" y=\"208.744\">y1</text>\n",
       "</g>\n",
       "</svg>\n"
      ]
     },
     "execution_count": 337,
     "metadata": {},
     "output_type": "execute_result"
    }
   ],
   "source": [
    "y = (x->x[1]).(vlst);\n",
    "x = 1:length(y);\n",
    "\n",
    "plot(x,y)"
   ]
  },
  {
   "cell_type": "markdown",
   "metadata": {},
   "source": [
    "Pick up the best data."
   ]
  },
  {
   "cell_type": "code",
   "execution_count": 338,
   "metadata": {},
   "outputs": [
    {
     "data": {
      "text/plain": [
       "10×120 Array{Int64,2}:\n",
       " 1  0  7  7  7  9  9  12  12  13  13  …  0  0  0  0  0  0  0  0  0  0  0  0\n",
       " 0  1  7  7  7  0  0   9   9  12  12     0  0  0  0  0  0  0  0  0  0  0  0\n",
       " 0  0  1  0  0  0  7   7   7   9   9     0  0  0  0  0  0  0  0  0  0  0  0\n",
       " 0  0  0  1  0  0  7   7   7   0   0     0  0  0  0  0  0  0  0  0  0  0  0\n",
       " 0  0  0  0  1  0  7   7   7   0   0     0  0  0  0  0  0  0  0  0  0  0  0\n",
       " 0  0  0  0  0  1  0   0   0   7   7  …  0  0  0  0  0  0  0  0  0  0  0  0\n",
       " 0  0  0  0  0  0  1   0   0   7   7     0  0  0  0  0  0  0  0  0  0  0  0\n",
       " 0  0  0  0  0  0  0   1   0   0   0     0  0  0  0  0  0  0  0  0  0  0  0\n",
       " 0  0  0  0  0  0  0   0   1   0   0     0  0  0  0  0  0  0  0  0  0  0  0\n",
       " 0  0  0  0  0  0  0   0   0   1   0     0  0  0  0  0  0  0  0  0  0  0  0"
      ]
     },
     "execution_count": 338,
     "metadata": {},
     "output_type": "execute_result"
    }
   ],
   "source": [
    "v = ProcGA.penalty.(ppl)\n",
    "idm = findmin(v)[2]\n",
    "bestgen = ppl[idm]"
   ]
  },
  {
   "cell_type": "code",
   "execution_count": 339,
   "metadata": {},
   "outputs": [
    {
     "data": {
      "text/plain": [
       "31"
      ]
     },
     "execution_count": 339,
     "metadata": {},
     "output_type": "execute_result"
    }
   ],
   "source": [
    "ProcGA.penalty(bestgen)"
   ]
  },
  {
   "cell_type": "code",
   "execution_count": 340,
   "metadata": {},
   "outputs": [
    {
     "data": {
      "text/plain": [
       "0"
      ]
     },
     "execution_count": 340,
     "metadata": {},
     "output_type": "execute_result"
    }
   ],
   "source": [
    "ProcGA.dupenalty(bestgen)"
   ]
  },
  {
   "cell_type": "code",
   "execution_count": 341,
   "metadata": {},
   "outputs": [
    {
     "data": {
      "text/plain": [
       "31"
      ]
     },
     "execution_count": 341,
     "metadata": {},
     "output_type": "execute_result"
    }
   ],
   "source": [
    "ProcGA.validlength(bestgen)"
   ]
  },
  {
   "cell_type": "code",
   "execution_count": 342,
   "metadata": {},
   "outputs": [
    {
     "data": {
      "text/plain": [
       "10×31 Array{Int64,2}:\n",
       " 1  0  7  7  7  9  9  12  12  13  13  …   0   0   0   0   0   0   0   0   0\n",
       " 0  1  7  7  7  0  0   9   9  12  12      0   0   0   0   0   0   0   0   0\n",
       " 0  0  1  0  0  0  7   7   7   9   9      0   0   0   0   0   0   0   0   0\n",
       " 0  0  0  1  0  0  7   7   7   0   0      0   0   0   0   0   0   0   0   0\n",
       " 0  0  0  0  1  0  7   7   7   0   0      0   0   0   0   0   0   0   0   0\n",
       " 0  0  0  0  0  1  0   0   0   7   7  …  14   0   0   0   0   0   0   0   0\n",
       " 0  0  0  0  0  0  1   0   0   7   7     13  14  14   0   0   0   0   0   0\n",
       " 0  0  0  0  0  0  0   1   0   0   0     12  13  13  14  14   0   0   0   0\n",
       " 0  0  0  0  0  0  0   0   1   0   0      9  12  12  13  13  14  14   0   0\n",
       " 0  0  0  0  0  0  0   0   0   1   0      0   9   9  12  12  13  13  14  14"
      ]
     },
     "execution_count": 342,
     "metadata": {},
     "output_type": "execute_result"
    }
   ],
   "source": [
    "ProcGA.clipjob(bestgen)"
   ]
  },
  {
   "cell_type": "markdown",
   "metadata": {},
   "source": [
    "Sort it by first appearance of process."
   ]
  },
  {
   "cell_type": "code",
   "execution_count": 343,
   "metadata": {},
   "outputs": [],
   "source": [
    "idx = zeros(Int,10)\n",
    "for i in 1:10\n",
    "    idx[i] = findfirst(x->(x>0),bestgen[i,:])\n",
    "end"
   ]
  },
  {
   "cell_type": "code",
   "execution_count": 344,
   "metadata": {},
   "outputs": [
    {
     "data": {
      "text/plain": [
       "10-element Array{Int64,1}:\n",
       "  1\n",
       "  2\n",
       "  3\n",
       "  4\n",
       "  5\n",
       "  6\n",
       "  7\n",
       "  8\n",
       "  9\n",
       " 10"
      ]
     },
     "execution_count": 344,
     "metadata": {},
     "output_type": "execute_result"
    }
   ],
   "source": [
    "id2 = sort(collect(1:10), by = x->idx[x])"
   ]
  },
  {
   "cell_type": "code",
   "execution_count": 345,
   "metadata": {},
   "outputs": [
    {
     "data": {
      "text/plain": [
       "10×120 Array{Int64,2}:\n",
       " 1  0  7  7  7  9  9  12  12  13  13  …  0  0  0  0  0  0  0  0  0  0  0  0\n",
       " 0  1  7  7  7  0  0   9   9  12  12     0  0  0  0  0  0  0  0  0  0  0  0\n",
       " 0  0  1  0  0  0  7   7   7   9   9     0  0  0  0  0  0  0  0  0  0  0  0\n",
       " 0  0  0  1  0  0  7   7   7   0   0     0  0  0  0  0  0  0  0  0  0  0  0\n",
       " 0  0  0  0  1  0  7   7   7   0   0     0  0  0  0  0  0  0  0  0  0  0  0\n",
       " 0  0  0  0  0  1  0   0   0   7   7  …  0  0  0  0  0  0  0  0  0  0  0  0\n",
       " 0  0  0  0  0  0  1   0   0   7   7     0  0  0  0  0  0  0  0  0  0  0  0\n",
       " 0  0  0  0  0  0  0   1   0   0   0     0  0  0  0  0  0  0  0  0  0  0  0\n",
       " 0  0  0  0  0  0  0   0   1   0   0     0  0  0  0  0  0  0  0  0  0  0  0\n",
       " 0  0  0  0  0  0  0   0   0   1   0     0  0  0  0  0  0  0  0  0  0  0  0"
      ]
     },
     "execution_count": 345,
     "metadata": {},
     "output_type": "execute_result"
    }
   ],
   "source": [
    "bestgensort = similar(bestgen)\n",
    "for i in 1:size(bestgen)[1]\n",
    "    bestgensort[i,:] = bestgen[id2[i],:]\n",
    "end\n",
    "bestgensort"
   ]
  },
  {
   "cell_type": "code",
   "execution_count": 347,
   "metadata": {},
   "outputs": [],
   "source": [
    "# save best process table to file.\n",
    "# do not clip it so that it can be used again\n",
    "writedlm(\"bestprc.csv\",bestgensort, ',')"
   ]
  },
  {
   "cell_type": "markdown",
   "metadata": {},
   "source": [
    "## Conclusion"
   ]
  },
  {
   "cell_type": "markdown",
   "metadata": {},
   "source": [
    "For given 10 same data with proctalbe below, the best combination is \"bestgen\" here.\n",
    "\n",
    "Its length is 33.\n",
    "Taking time unit as 1 hour and assuming job time as 7 hours/day, it needs almost 5 days to finish these materials."
   ]
  },
  {
   "cell_type": "code",
   "execution_count": 140,
   "metadata": {},
   "outputs": [
    {
     "data": {
      "text/plain": [
       "1×14 LinearAlgebra.Transpose{Int64,Array{Int64,1}}:\n",
       " 1  0  0  0  0  0  3  0  2  0  0  2  2  2"
      ]
     },
     "execution_count": 140,
     "metadata": {},
     "output_type": "execute_result"
    }
   ],
   "source": [
    "transpose(ProcGA.proctable[1,:])"
   ]
  },
  {
   "cell_type": "code",
   "execution_count": 141,
   "metadata": {},
   "outputs": [
    {
     "data": {
      "text/plain": [
       "10×33 Array{Int64,2}:\n",
       " 1  7  7  7  0  0  0  0  0   9   9   0  …   0   0   0   0   0   0   0   0   0\n",
       " 0  1  0  0  7  7  7  0  0   0   0   0      0   0   0  14  14   0   0   0   0\n",
       " 0  0  1  0  7  7  7  9  9  12  12  13      0   0   0   0   0   0   0   0   0\n",
       " 0  0  0  1  0  0  0  7  7   7   0   9     14   0   0   0   0   0   0   0   0\n",
       " 0  0  0  0  1  0  0  0  0   0   7   7      0  13  13   0   0  14  14   0   0\n",
       " 0  0  0  0  0  1  0  7  7   7   0   0  …  13  14  14   0   0   0   0   0   0\n",
       " 0  0  0  0  0  0  1  7  7   7   0   0     14   0   0   0   0   0   0   0   0\n",
       " 0  0  0  0  0  0  0  1  0   0   7   7      0   0   0  13  13   0   0  14  14\n",
       " 0  0  0  0  0  0  0  0  1   0   7   7      0   0   0   0   0   0   0   0   0\n",
       " 0  0  0  0  0  0  0  0  0   1   0   0     12  13  13   0   0  14  14   0   0"
      ]
     },
     "execution_count": 141,
     "metadata": {},
     "output_type": "execute_result"
    }
   ],
   "source": [
    "ProcGA.clipjob(bestgen)"
   ]
  },
  {
   "cell_type": "markdown",
   "metadata": {},
   "source": [
    "## check functions"
   ]
  },
  {
   "cell_type": "code",
   "execution_count": 301,
   "metadata": {},
   "outputs": [
    {
     "data": {
      "text/plain": [
       "mydupenalty (generic function with 1 method)"
      ]
     },
     "execution_count": 301,
     "metadata": {},
     "output_type": "execute_result"
    }
   ],
   "source": [
    "function mydupenalty(jtbl)\n",
    "    p = 0\n",
    "    for i in 1:ProcGA.validlength(jtbl)\n",
    "        col = jtbl[:,i]\n",
    "        cc = col[@. col > 0]\n",
    "        cc = cc[@. ~ProcGA.isgroupable(cc)]\n",
    "        cs = Set(cc)\n",
    "        c = (length(cc) - length(cs))\n",
    "        p += c\n",
    "        if c > 0\n",
    "            println(\"col: $i => $cc\")\n",
    "        end\n",
    "    end\n",
    "    p\n",
    "end"
   ]
  },
  {
   "cell_type": "code",
   "execution_count": 302,
   "metadata": {},
   "outputs": [
    {
     "name": "stdout",
     "output_type": "stream",
     "text": [
      "col: 19 => [13, 9, 12, 9]\n"
     ]
    },
    {
     "data": {
      "text/plain": [
       "1"
      ]
     },
     "execution_count": 302,
     "metadata": {},
     "output_type": "execute_result"
    }
   ],
   "source": [
    "mydupenalty(gbs)"
   ]
  },
  {
   "cell_type": "code",
   "execution_count": 303,
   "metadata": {},
   "outputs": [
    {
     "data": {
      "text/plain": [
       "10-element Array{Int64,1}:\n",
       "  0\n",
       "  0\n",
       " 13\n",
       "  9\n",
       " 12\n",
       "  0\n",
       "  9\n",
       "  0\n",
       "  0\n",
       "  0"
      ]
     },
     "execution_count": 303,
     "metadata": {},
     "output_type": "execute_result"
    }
   ],
   "source": [
    "gbs[:,19]"
   ]
  },
  {
   "cell_type": "code",
   "execution_count": 300,
   "metadata": {},
   "outputs": [
    {
     "data": {
      "text/plain": [
       "3-element Array{Int64,1}:\n",
       "  9\n",
       " 12\n",
       "  1"
      ]
     },
     "execution_count": 300,
     "metadata": {},
     "output_type": "execute_result"
    }
   ],
   "source": [
    "col = gbs[:,10]\n",
    "c = col[col .> 0 ]\n",
    "c[@. ~ProcGA.isgroupable(c)]"
   ]
  },
  {
   "cell_type": "code",
   "execution_count": null,
   "metadata": {},
   "outputs": [],
   "source": []
  }
 ],
 "metadata": {
  "kernelspec": {
   "display_name": "Julia 1.0.2",
   "language": "julia",
   "name": "julia-1.0"
  },
  "language_info": {
   "file_extension": ".jl",
   "mimetype": "application/julia",
   "name": "julia",
   "version": "1.0.2"
  },
  "toc": {
   "base_numbering": 1,
   "nav_menu": {},
   "number_sections": true,
   "sideBar": true,
   "skip_h1_title": true,
   "title_cell": "Table of Contents",
   "title_sidebar": "Contents",
   "toc_cell": false,
   "toc_position": {},
   "toc_section_display": true,
   "toc_window_display": false
  }
 },
 "nbformat": 4,
 "nbformat_minor": 2
}
