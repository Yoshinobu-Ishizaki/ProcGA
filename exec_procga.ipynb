{
 "cells": [
  {
   "cell_type": "markdown",
   "metadata": {},
   "source": [
    "## top"
   ]
  },
  {
   "cell_type": "markdown",
   "metadata": {},
   "source": [
    "Execute ProcGA for actual data"
   ]
  },
  {
   "cell_type": "code",
   "execution_count": 1,
   "metadata": {},
   "outputs": [],
   "source": [
    "using DelimitedFiles"
   ]
  },
  {
   "cell_type": "code",
   "execution_count": 58,
   "metadata": {},
   "outputs": [
    {
     "name": "stderr",
     "output_type": "stream",
     "text": [
      "WARNING: replacing module ProcGA.\n"
     ]
    },
    {
     "data": {
      "text/plain": [
       "Main.ProcGA"
      ]
     },
     "execution_count": 58,
     "metadata": {},
     "output_type": "execute_result"
    }
   ],
   "source": [
    "include(\"src/ProcGA.jl\")"
   ]
  },
  {
   "cell_type": "markdown",
   "metadata": {},
   "source": [
    "Read definition of process."
   ]
  },
  {
   "cell_type": "code",
   "execution_count": 3,
   "metadata": {
    "scrolled": true
   },
   "outputs": [
    {
     "data": {
      "text/plain": [
       "3×14 Array{Any,2}:\n",
       " \"m1\"   50  1  3  0  1  0  3  2  0  0  2  1  0\n",
       " \"m2\"   50  1  0  0  0  0  3  0  2  0  0  1  2\n",
       " \"m3\"  100  1  3  0  1  0  3  1  0  1  0  0  0"
      ]
     },
     "execution_count": 3,
     "metadata": {},
     "output_type": "execute_result"
    }
   ],
   "source": [
    "prc0 = readdlm(\"test/simple_proc.csv\", ',')"
   ]
  },
  {
   "cell_type": "markdown",
   "metadata": {},
   "source": [
    "Process time information begins from column 3."
   ]
  },
  {
   "cell_type": "code",
   "execution_count": 4,
   "metadata": {},
   "outputs": [
    {
     "data": {
      "text/plain": [
       "3×12 Array{Any,2}:\n",
       " 1  3  0  1  0  3  2  0  0  2  1  0\n",
       " 1  0  0  0  0  3  0  2  0  0  1  2\n",
       " 1  3  0  1  0  3  1  0  1  0  0  0"
      ]
     },
     "execution_count": 4,
     "metadata": {},
     "output_type": "execute_result"
    }
   ],
   "source": [
    "ptb = prc0[:,3:end]"
   ]
  },
  {
   "cell_type": "code",
   "execution_count": 5,
   "metadata": {},
   "outputs": [
    {
     "data": {
      "text/plain": [
       "3×2 Array{Any,2}:\n",
       " \"m1\"   50\n",
       " \"m2\"   50\n",
       " \"m3\"  100"
      ]
     },
     "execution_count": 5,
     "metadata": {},
     "output_type": "execute_result"
    }
   ],
   "source": [
    "mtb = prc0[:,1:2]"
   ]
  },
  {
   "cell_type": "code",
   "execution_count": 6,
   "metadata": {},
   "outputs": [
    {
     "data": {
      "text/plain": [
       "1-element Array{Dict{Symbol,Any},1}:\n",
       " Dict(:id=>[2, 6],:cnt=>150)"
      ]
     },
     "execution_count": 6,
     "metadata": {},
     "output_type": "execute_result"
    }
   ],
   "source": [
    "gtb = [Dict(:id =>[2,6], :cnt => 150)]"
   ]
  },
  {
   "cell_type": "markdown",
   "metadata": {},
   "source": [
    "This is each meaning of process."
   ]
  },
  {
   "cell_type": "code",
   "execution_count": 7,
   "metadata": {},
   "outputs": [
    {
     "data": {
      "text/plain": [
       "12-element Array{String,1}:\n",
       " \"pipe_cut\"       \n",
       " \"prebend-anneal\" \n",
       " \"icing\"          \n",
       " \"rotation-bend\"  \n",
       " \"press-bend\"     \n",
       " \"precalib-anneal\"\n",
       " \"h-calib\"        \n",
       " \"v-calib\"        \n",
       " \"destress\"       \n",
       " \"buff1\"          \n",
       " \"MC\"             \n",
       " \"buff2\"          "
      ]
     },
     "execution_count": 7,
     "metadata": {},
     "output_type": "execute_result"
    }
   ],
   "source": [
    "proclist = [\"pipe_cut\",\"prebend-anneal\",\"icing\",\"rotation-bend\",\"press-bend\",\"precalib-anneal\",\"h-calib\",\"v-calib\",\n",
    "    \"destress\",\"buff1\",\"MC\",\"buff2\"]"
   ]
  },
  {
   "cell_type": "code",
   "execution_count": 59,
   "metadata": {},
   "outputs": [
    {
     "data": {
      "text/plain": [
       "true"
      ]
     },
     "execution_count": 59,
     "metadata": {},
     "output_type": "execute_result"
    }
   ],
   "source": [
    "# set basic tables as parameter this must be called once\n",
    "ProcGA.settable(ptb,gtb, mtb)"
   ]
  },
  {
   "cell_type": "code",
   "execution_count": 31,
   "metadata": {
    "scrolled": true
   },
   "outputs": [
    {
     "data": {
      "text/plain": [
       "1-element Array{Dict{Symbol,Any},1}:\n",
       " Dict(:id=>[2, 6],:cnt=>150)"
      ]
     },
     "execution_count": 31,
     "metadata": {},
     "output_type": "execute_result"
    }
   ],
   "source": [
    "ProcGA.grouptable"
   ]
  },
  {
   "cell_type": "code",
   "execution_count": 32,
   "metadata": {},
   "outputs": [
    {
     "data": {
      "text/plain": [
       "3×12 Array{Any,2}:\n",
       " 1  3  0  1  0  3  2  0  0  2  1  0\n",
       " 1  0  0  0  0  3  0  2  0  0  1  2\n",
       " 1  3  0  1  0  3  1  0  1  0  0  0"
      ]
     },
     "execution_count": 32,
     "metadata": {},
     "output_type": "execute_result"
    }
   ],
   "source": [
    "ProcGA.proctable"
   ]
  },
  {
   "cell_type": "code",
   "execution_count": 33,
   "metadata": {},
   "outputs": [
    {
     "data": {
      "text/plain": [
       "3×2 Array{Any,2}:\n",
       " \"m1\"   50\n",
       " \"m2\"   50\n",
       " \"m3\"  100"
      ]
     },
     "execution_count": 33,
     "metadata": {},
     "output_type": "execute_result"
    }
   ],
   "source": [
    "ProcGA.mattable"
   ]
  },
  {
   "cell_type": "code",
   "execution_count": 40,
   "metadata": {},
   "outputs": [
    {
     "data": {
      "text/plain": [
       "true"
      ]
     },
     "execution_count": 40,
     "metadata": {},
     "output_type": "execute_result"
    }
   ],
   "source": [
    "ProcGA.isgroupable(6)"
   ]
  },
  {
   "cell_type": "markdown",
   "metadata": {},
   "source": [
    "Make a first generation."
   ]
  },
  {
   "cell_type": "code",
   "execution_count": 17,
   "metadata": {},
   "outputs": [
    {
     "data": {
      "text/plain": [
       "3×32 Array{Int64,2}:\n",
       " 1  2  2  2  4  6   6   6   7  7  10  …  0  0  0  0  0  0  0  0  0  0  0  0\n",
       " 1  6  6  6  8  8  11  12  12  0   0     0  0  0  0  0  0  0  0  0  0  0  0\n",
       " 1  2  2  2  4  6   6   6   7  9   0     0  0  0  0  0  0  0  0  0  0  0  0"
      ]
     },
     "execution_count": 17,
     "metadata": {},
     "output_type": "execute_result"
    }
   ],
   "source": [
    "jt = ProcGA.jobtablebase()"
   ]
  },
  {
   "cell_type": "code",
   "execution_count": 18,
   "metadata": {},
   "outputs": [
    {
     "data": {
      "text/plain": [
       "3×32 Array{Int64,2}:\n",
       " 1  2  2  2  4  6  6   6   7   7  10  …  0  0  0  0  0  0  0  0  0  0  0  0\n",
       " 0  1  6  6  6  8  8  11  12  12   0     0  0  0  0  0  0  0  0  0  0  0  0\n",
       " 0  0  1  2  2  2  0   4   6   6   6     0  0  0  0  0  0  0  0  0  0  0  0"
      ]
     },
     "execution_count": 18,
     "metadata": {},
     "output_type": "execute_result"
    }
   ],
   "source": [
    "ProcGA.validatejob!(jt)"
   ]
  },
  {
   "cell_type": "code",
   "execution_count": 19,
   "metadata": {},
   "outputs": [
    {
     "data": {
      "text/plain": [
       "16"
      ]
     },
     "execution_count": 19,
     "metadata": {},
     "output_type": "execute_result"
    }
   ],
   "source": [
    "ProcGA.validlength(jt)"
   ]
  },
  {
   "cell_type": "code",
   "execution_count": 64,
   "metadata": {},
   "outputs": [],
   "source": [
    "gen1 = ProcGA.initpopulation(200);"
   ]
  },
  {
   "cell_type": "code",
   "execution_count": 65,
   "metadata": {},
   "outputs": [
    {
     "data": {
      "text/plain": [
       "3×32 Array{Int64,2}:\n",
       " 1  2  2  2  4  6  6   6   7   7  10  …  0  0  0  0  0  0  0  0  0  0  0  0\n",
       " 0  1  6  6  6  8  8  11  12  12   0     0  0  0  0  0  0  0  0  0  0  0  0\n",
       " 0  0  1  2  2  2  0   4   6   6   6     0  0  0  0  0  0  0  0  0  0  0  0"
      ]
     },
     "execution_count": 65,
     "metadata": {},
     "output_type": "execute_result"
    }
   ],
   "source": [
    "gen1[1]"
   ]
  },
  {
   "cell_type": "code",
   "execution_count": 66,
   "metadata": {},
   "outputs": [],
   "source": [
    "# shrink them all and sort \n",
    "ProcGA.sortpopulation!(gen1);"
   ]
  },
  {
   "cell_type": "code",
   "execution_count": 67,
   "metadata": {},
   "outputs": [
    {
     "data": {
      "text/plain": [
       "200"
      ]
     },
     "execution_count": 67,
     "metadata": {},
     "output_type": "execute_result"
    }
   ],
   "source": [
    "length(gen1)"
   ]
  },
  {
   "cell_type": "code",
   "execution_count": 68,
   "metadata": {},
   "outputs": [],
   "source": [
    "gen2 = ProcGA.survive!(gen1);"
   ]
  },
  {
   "cell_type": "code",
   "execution_count": 69,
   "metadata": {},
   "outputs": [
    {
     "data": {
      "text/plain": [
       "159"
      ]
     },
     "execution_count": 69,
     "metadata": {},
     "output_type": "execute_result"
    }
   ],
   "source": [
    "length(gen2)"
   ]
  },
  {
   "cell_type": "code",
   "execution_count": 70,
   "metadata": {},
   "outputs": [],
   "source": [
    "ProcGA.fillgeneration!(gen2,100);"
   ]
  },
  {
   "cell_type": "code",
   "execution_count": 71,
   "metadata": {},
   "outputs": [
    {
     "data": {
      "text/plain": [
       "158"
      ]
     },
     "execution_count": 71,
     "metadata": {},
     "output_type": "execute_result"
    }
   ],
   "source": [
    "length(gen2)"
   ]
  },
  {
   "cell_type": "code",
   "execution_count": 72,
   "metadata": {},
   "outputs": [
    {
     "name": "stdout",
     "output_type": "stream",
     "text": [
      "i:10 => (13, 14.0, 17)\n",
      "i:20 => (13, 14.0, 16)\n",
      "i:30 => (13, 13.0, 16)\n",
      "i:40 => (13, 13.0, 15)\n",
      "i:50 => (13, 13.0, 13)\n",
      "i:60 => (13, 13.0, 13)\n",
      "i:70 => (13, 13.0, 13)\n",
      "i:80 => (13, 13.0, 13)\n",
      "i:90 => (13, 13.0, 16)\n",
      "i:100 => (13, 13.0, 13)\n"
     ]
    }
   ],
   "source": [
    "ProcGA.evolution!(gen1,100);"
   ]
  },
  {
   "cell_type": "code",
   "execution_count": 73,
   "metadata": {},
   "outputs": [
    {
     "data": {
      "text/plain": [
       "3×32 Array{Int64,2}:\n",
       " 1  2  2  2  4  6  6  6  7   7  10  10  …  0  0  0  0  0  0  0  0  0  0  0  0\n",
       " 0  1  6  6  6  0  8  8  0  11  12  12     0  0  0  0  0  0  0  0  0  0  0  0\n",
       " 0  0  1  2  2  2  4  6  6   6   7   0     0  0  0  0  0  0  0  0  0  0  0  0"
      ]
     },
     "execution_count": 73,
     "metadata": {},
     "output_type": "execute_result"
    }
   ],
   "source": [
    "gen1[1]"
   ]
  },
  {
   "cell_type": "code",
   "execution_count": 74,
   "metadata": {},
   "outputs": [
    {
     "data": {
      "text/plain": [
       "3×32 Array{Int64,2}:\n",
       " 1  2  2  2  4  6  6  6  7   7  10  10  …  0  0  0  0  0  0  0  0  0  0  0  0\n",
       " 0  1  6  6  6  0  8  8  0  11  12  12     0  0  0  0  0  0  0  0  0  0  0  0\n",
       " 0  0  1  2  2  2  4  6  6   6   7   0     0  0  0  0  0  0  0  0  0  0  0  0"
      ]
     },
     "execution_count": 74,
     "metadata": {},
     "output_type": "execute_result"
    }
   ],
   "source": [
    "gen1[2]"
   ]
  },
  {
   "cell_type": "code",
   "execution_count": 75,
   "metadata": {},
   "outputs": [
    {
     "data": {
      "text/plain": [
       "true"
      ]
     },
     "execution_count": 75,
     "metadata": {},
     "output_type": "execute_result"
    }
   ],
   "source": [
    "gen1[2] == gen1[1]"
   ]
  },
  {
   "cell_type": "code",
   "execution_count": 76,
   "metadata": {},
   "outputs": [
    {
     "data": {
      "text/plain": [
       "3×13 Array{Int64,2}:\n",
       " 1  2  2  2  4  6  6  6  7   7  10  10  11\n",
       " 0  1  6  6  6  0  8  8  0  11  12  12   0\n",
       " 0  0  1  2  2  2  4  6  6   6   7   0   9"
      ]
     },
     "execution_count": 76,
     "metadata": {},
     "output_type": "execute_result"
    }
   ],
   "source": [
    "ProcGA.clipjob(gen1[1])"
   ]
  },
  {
   "cell_type": "code",
   "execution_count": 78,
   "metadata": {},
   "outputs": [
    {
     "data": {
      "text/plain": [
       "true"
      ]
     },
     "execution_count": 78,
     "metadata": {},
     "output_type": "execute_result"
    }
   ],
   "source": [
    "ProcGA.checkvalidity(gen1[1])"
   ]
  },
  {
   "cell_type": "code",
   "execution_count": null,
   "metadata": {},
   "outputs": [],
   "source": []
  }
 ],
 "metadata": {
  "kernelspec": {
   "display_name": "Julia 1.0.1",
   "language": "julia",
   "name": "julia-1.0"
  },
  "language_info": {
   "file_extension": ".jl",
   "mimetype": "application/julia",
   "name": "julia",
   "version": "1.0.1"
  },
  "toc": {
   "base_numbering": 1,
   "nav_menu": {},
   "number_sections": true,
   "sideBar": true,
   "skip_h1_title": true,
   "title_cell": "Table of Contents",
   "title_sidebar": "Contents",
   "toc_cell": false,
   "toc_position": {},
   "toc_section_display": true,
   "toc_window_display": true
  }
 },
 "nbformat": 4,
 "nbformat_minor": 2
}
